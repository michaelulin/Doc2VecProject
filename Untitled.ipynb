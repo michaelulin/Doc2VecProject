{
 "cells": [
  {
   "cell_type": "code",
   "execution_count": 7,
   "metadata": {
    "collapsed": true
   },
   "outputs": [],
   "source": [
    "from xgoogle.search import GoogleSearch, SearchError"
   ]
  },
  {
   "cell_type": "code",
   "execution_count": 22,
   "metadata": {
    "collapsed": false
   },
   "outputs": [],
   "source": [
    "import pickle\n",
    "import urllib2\n",
    "from bs4 import BeautifulSoup\n",
    "import re"
   ]
  },
  {
   "cell_type": "code",
   "execution_count": 56,
   "metadata": {
    "collapsed": false
   },
   "outputs": [],
   "source": [
    "try:\n",
    "    gs = GoogleSearch(\"data site:www.kaggle.com/jobs/\")\n",
    "    gs.results_per_page = 500\n",
    "    results2 = []\n",
    "    while True:\n",
    "        tmp = gs.get_results()\n",
    "        if not tmp: # no more results were found\n",
    "            break\n",
    "        results2.extend(tmp)\n",
    "    # ... do something with all the results ...\n",
    "except SearchError, e:\n",
    "    print \"Search failed: %s\" % e"
   ]
  },
  {
   "cell_type": "code",
   "execution_count": 57,
   "metadata": {
    "collapsed": false
   },
   "outputs": [
    {
     "data": {
      "text/plain": [
       "89"
      ]
     },
     "execution_count": 57,
     "metadata": {},
     "output_type": "execute_result"
    }
   ],
   "source": [
    "len(results2)"
   ]
  },
  {
   "cell_type": "code",
   "execution_count": 18,
   "metadata": {
    "collapsed": false
   },
   "outputs": [],
   "source": [
    "pickle.dump(results, open( \"results.p\", \"wb\" ) )"
   ]
  },
  {
   "cell_type": "code",
   "execution_count": 25,
   "metadata": {
    "collapsed": false
   },
   "outputs": [
    {
     "data": {
      "text/plain": [
       "u'https://www.kaggle.com/jobs/14786/mckinsey-company-data-scientist-full-time-consulting-role-chicago-dallas'"
      ]
     },
     "execution_count": 25,
     "metadata": {},
     "output_type": "execute_result"
    }
   ],
   "source": [
    "results[0].url"
   ]
  },
  {
   "cell_type": "code",
   "execution_count": 19,
   "metadata": {
    "collapsed": true
   },
   "outputs": [],
   "source": [
    "# From http://stackoverflow.com/questions/5331266/python-easiest-way-to-scrape-text-from-list-of-urls-using-beautifulsoup"
   ]
  },
  {
   "cell_type": "code",
   "execution_count": 42,
   "metadata": {
    "collapsed": true
   },
   "outputs": [],
   "source": [
    "# Data retreived 11/11/2015"
   ]
  },
  {
   "cell_type": "code",
   "execution_count": 33,
   "metadata": {
    "collapsed": false,
    "scrolled": true
   },
   "outputs": [],
   "source": [
    "Newlines = re.compile(r'[\\r\\n]\\s+')\n",
    "\n",
    "def getPageText(url):\n",
    "    # given a url, get page content\n",
    "    data = urllib2.urlopen(url).read()\n",
    "    # parse as html structured document\n",
    "    bs = BeautifulSoup(data)\n",
    "    # kill javascript content\n",
    "    for s in bs.findAll('script'):\n",
    "        s.replaceWith('')\n",
    "    # find body and extract text\n",
    "    txt = bs.find('body').getText('\\n')\n",
    "    # remove multiple linebreaks and whitespace\n",
    "    return Newlines.sub('\\n', txt)"
   ]
  },
  {
   "cell_type": "code",
   "execution_count": 30,
   "metadata": {
    "collapsed": false,
    "scrolled": true
   },
   "outputs": [
    {
     "data": {
      "text/plain": [
       "u'\\nHost\\nCompetitions\\nScripts\\nJobs\\nCommunity \\u25be\\nUser Rankings\\nForum\\nBlog\\nWiki\\nSign up\\nLogin\\nLog in\\nwith \\u2014\\nRemember me?\\nForgot your \\nUsername\\n/ \\nPassword\\n?\\nThis job post is no longer listed on the jobs board, but is still directly accessible.\\n\\xab Jobs Board\\nData Scientist, full time consulting role\\nMcKinsey & Company\\nChicago, Dallas, Atlanta, or Minneapolis\\nPosted \\n4 months ago\\nMcKinsey & Company\\n\\xa0is seeking innovative and visionary Data Scientists to help expand our Operations Analytics capabilities and to build new ones.\\nResponsibilities:\\nThe role of the Data Scientist / Analytics Expert has three broad sets of responsibilities:\\nOperations Analytics\\nApply and advise on state-of-the-art advanced analytic and quantitative tools, modeling techniques, and data mining procedures to derive business insights, solve complex business problems and improve decisions\\nReview, support and advise on the day-to-day analytics requirements of clients\\u2019 key operational processes while continually improving the impact of these processes\\nContinually explore innovative analytical techniques, processes, tools, etc. to better serve clients and to be a thought leader in the industry\\nClient Service Support and Development \\nWork directly with consulting teams in conducting deep analytics on client and external data\\nPlay a lead role in team problem solving through findings and insights from analysis\\nCreate value for Clients by understanding their needs and translating them into the required and desired analytical services\\nOversee analytics process and data integration between Clients and McKinsey\\nKnowledge transfer and practice development\\nLead and support development of knowledge for the analytic group as well as greater understanding of analytics and its impact in the consulting population.\\nAbout McKinsey:\\nMcKinsey & Company is a global management consulting firm. We are a trusted advisor working with 90 of the world\\u2019s top 100 corporations and 90 governments as well as leading non-profit foundations.\\nOur knowledge as well as our scale \\u2013 approximately 20,000 people in more than 100 cities in 60+ countries \\u2013 enable our teams to address and solve challenging problems no one else can. Our people are as diverse as our clients with MBAs, PhDs, MDs, engineers and scientists (as well as dozens of other backgrounds) working in more than 180 areas of expertise and 20+ industries. The scope of our work enables our people to \\u2018make their own McKinsey\\u2019 and follow their strengths, interests and passions. McKinsey is a springboard to exceptional careers both within the firm and after - 28,000+ alumni remain part of the McKinsey network and a resource to our people. From day one you will be supported by mentors and peers as well as by significant training \\u2013 we invest more than $100 million in annual learning and development \\u2013 to build your capabilities and leadership skills.\\nAbout the Practice:\\nAs a member of McKinsey\\u2019s world-class Operations Practice you will be responsible for blending strategic thinking with hands-on implementation, advising on developing and defining operational strategies to help our clients around the world solve their most critical problems. By applying advanced analytics to address challenges across all areas of operations, we help our clients gain a significant, sustained improvement in performance. We work with clients to identify where to focus, convert data and models into actionable insights, and develop institutional skills and structures to sustain impact. We use advanced analytics not only to improve the design of physical systems but also to address management infrastructures and employees\\u2019 attitudes and behaviors so that clients are able to lead change independently.\\nTo learn more about the practice, please visit:\\xa0\\nMcKinsey Advanced Data & Analytics\\xa0\\nRequirements\\nMinimum Qualifications\\nMS in Computer Science, Engineering, Applied Math, Quantitative social sciences or related field\\n3 to 5 years of experience in distributed computing, data mining, machine learning, and statistics related work\\nProgramming experience with Python, C/C++, and/or Java\\nHigh-value personal qualities - critical thinking and problem solving skills, ability to influence, work in teams, resourceful, responsible, tenacious, independent, self-confident, high-energy, etc.\\nWillingness to travel up to 80% (Monday-Thursday)\\nPreferred qualifications\\nPHD Computer Science, Applied Mathematics/Science, Engineering, Statistics, Quantitative Social Science or related field\\nExperience developing or designing large software systems\\nApply Now\\n\\xa9 2015 Kaggle Inc                \\nAbout\\nOur Team\\nCareers\\nTerms\\nPrivacy\\nContact/Support\\n'"
      ]
     },
     "execution_count": 30,
     "metadata": {},
     "output_type": "execute_result"
    }
   ],
   "source": [
    "txt = getPageText(results[0].url)"
   ]
  },
  {
   "cell_type": "code",
   "execution_count": 31,
   "metadata": {
    "collapsed": true
   },
   "outputs": [],
   "source": [
    "urls = [i.url for i in results]"
   ]
  },
  {
   "cell_type": "code",
   "execution_count": 40,
   "metadata": {
    "collapsed": false
   },
   "outputs": [],
   "source": [
    "count = 1\n",
    "txt = []\n",
    "for i in urls:\n",
    "    try:\n",
    "        txt.append(getPageText(i))\n",
    "    except:\n",
    "        pass\n",
    "    count += 1"
   ]
  },
  {
   "cell_type": "code",
   "execution_count": 44,
   "metadata": {
    "collapsed": true
   },
   "outputs": [],
   "source": [
    "pickle.dump(txt, open( \"job_txt.p\", \"wb\" ) )"
   ]
  },
  {
   "cell_type": "code",
   "execution_count": 46,
   "metadata": {
    "collapsed": false
   },
   "outputs": [
    {
     "data": {
      "text/plain": [
       "u'\\nHost\\nCompetitions\\nScripts\\nJobs\\nCommunity \\u25be\\nUser Rankings\\nForum\\nBlog\\nWiki\\nSign up\\nLogin\\nLog in\\nwith \\u2014\\nRemember me?\\nForgot your \\nUsername\\n/ \\nPassword\\n?\\nThis job post is no longer listed on the jobs board, but is still directly accessible.\\n\\xab Jobs Board\\nVP, Data Science and Analysis\\nBlackRock\\nNew York City\\nPosted \\n7 months ago\\nVice President, Data Science and Analysis\\nNew York\\nBlackRock\\n\\xa0is the world\\u2019s largest asset management firm and a premier provider of global investment management, risk management and advisory services to institutional, intermediary and individual investors around the world. BlackRock offers a range of solutions from rigorous fundamental and quantitative active management approaches aimed at maximizing outperformance to highly efficient indexing strategies designed to gain broad exposure to the world\\u2019s capital markets. Our clients can access our investment solutions through a variety of product structures, including individual and institutional separate accounts, mutual funds and other pooled investment vehicles, and the industry-leading iShares\\xae ETFs.\\nBusiness Unit Overview\\nThe Technology & Operations - Aladdin Portfolio Services group (APS) is a centralized data group of more than 1,000 professionals dedicated to ensuring that all information required for the investment management process including positions, security data, pricing, risk, cash, net asset value (NAV), performance and compliance are delivered through the Aladdin Green Package\\xae suite of tools consistently, accurately and on a timely basis.\\nJob Purpose/Background\\nThis role will be part of the Production Engineering team. Our mandate is to understand APS business processes and then identify, develop and roll out improvements to them via a combination of automation and process re-engineering. Team members are located in New York, Wilmington, Edinburgh, Singapore and Gurgaon India.\\nWe are creating a new initiative within the Production Engineering team to incorporate data science techniques into the solutions that we offer and are looking for an experienced data scientist to help us ramp up this initiative.\\nDevelopment Value\\nCandidate will have the opportunity to learn the ins and outs of a wide array of business functions at BlackRock, which may include risk and returns analysis, trade processing and accounting, security and portfolio valuation, and more\\nCandidate will be exposed to many aspects of BlackRock\\u2019s technical architecture and is expected to be a significant contributor to its advancement, once up to speed\\nCandidate will have the ability to work in a challenging and demanding environment that will push them to think outside the box in order to solve numerous complex issues\\nKey Responsibilities\\nApply advanced statistical/econometric modeling tools to develop robust predictive models\\nWork with databases and other internal data platforms to support various strategic analytics initiatives\\nGenerate and discover innovative signals to improve business processes and work with business partners to implement the solutions\\nClean and process structured, semi-structured and unstructured data\\xa0\\nCandidate must familiarize themselves with business processes supporting BlackRock\\u2019s and clients\\u2019 investment, risk management, and middle- and back-office functions, as well as the technologies supporting those processes\\nServe as subject matter expert and escalation point for advanced technical issues and questions\\nQualifications\\nA proven track record in manipulating and analyzing complex, high-volume, high-dimensionality data from structured and unstructured data sources; strong SQL skill is a must\\n4-10+ years of previous data science work experience and a Bachelor\\u2019s or Master\\u2019s degree in quantitative fields such as statistics, economics, engineering, mathematics\\nExpert knowledge of statistical analysis tools/languages such as Python, R or Matlab\\nExperience working with distributed computing tools a plus (Map/Reduce, Hadoop, Hive, etc)\\xa0\\nProgramming experience in Perl, Java, C++ and web development experience on writing server side scripts (PHP, JSP, Perl) and front end development ( HTML, CSS, Javascript UI)\\nKnowledge of common data structures and algorithms\\nInterest in financial analytics and their application in the investment and risk management process\\nTo apply, email:\\xa0\\nclewis@blackrock.com\\n\\xa9 2015 Kaggle Inc                \\nAbout\\nOur Team\\nCareers\\nTerms\\nPrivacy\\nContact/Support\\n'"
      ]
     },
     "execution_count": 46,
     "metadata": {},
     "output_type": "execute_result"
    }
   ],
   "source": [
    "txt[1]"
   ]
  },
  {
   "cell_type": "code",
   "execution_count": null,
   "metadata": {
    "collapsed": true
   },
   "outputs": [],
   "source": []
  }
 ],
 "metadata": {
  "kernelspec": {
   "display_name": "Python 2",
   "language": "python",
   "name": "python2"
  },
  "language_info": {
   "codemirror_mode": {
    "name": "ipython",
    "version": 2
   },
   "file_extension": ".py",
   "mimetype": "text/x-python",
   "name": "python",
   "nbconvert_exporter": "python",
   "pygments_lexer": "ipython2",
   "version": "2.7.10"
  }
 },
 "nbformat": 4,
 "nbformat_minor": 0
}
