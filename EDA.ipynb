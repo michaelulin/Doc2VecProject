{
 "cells": [
  {
   "cell_type": "code",
   "execution_count": 1,
   "metadata": {
    "collapsed": true
   },
   "outputs": [],
   "source": [
    "import pickle\n",
    "import pandas as pd\n",
    "import re"
   ]
  },
  {
   "cell_type": "code",
   "execution_count": 2,
   "metadata": {
    "collapsed": true
   },
   "outputs": [],
   "source": [
    "from sklearn.feature_extraction.text import CountVectorizer\n",
    "from sklearn.cross_validation import train_test_split\n",
    "from sklearn.metrics import classification_report \n",
    "from sklearn.decomposition import NMF,LatentDirichletAllocation\n",
    "import matplotlib.pyplot as plt\n",
    "import numpy as np\n",
    "%matplotlib inline"
   ]
  },
  {
   "cell_type": "code",
   "execution_count": 3,
   "metadata": {
    "collapsed": false
   },
   "outputs": [],
   "source": [
    "us = pickle.load(open(\"wikivoyage_text_US.p\",\"rb\"))"
   ]
  },
  {
   "cell_type": "code",
   "execution_count": 4,
   "metadata": {
    "collapsed": false
   },
   "outputs": [],
   "source": [
    "df = pd.DataFrame.from_dict(us,orient='index')"
   ]
  },
  {
   "cell_type": "code",
   "execution_count": 5,
   "metadata": {
    "collapsed": false
   },
   "outputs": [],
   "source": [
    "df = df.reset_index()"
   ]
  },
  {
   "cell_type": "code",
   "execution_count": 6,
   "metadata": {
    "collapsed": false
   },
   "outputs": [],
   "source": [
    "df = df.rename(columns=({ 'index' : 'Name'}))"
   ]
  },
  {
   "cell_type": "code",
   "execution_count": 7,
   "metadata": {
    "collapsed": false
   },
   "outputs": [
    {
     "data": {
      "text/html": [
       "<div>\n",
       "<table border=\"1\" class=\"dataframe\">\n",
       "  <thead>\n",
       "    <tr style=\"text-align: right;\">\n",
       "      <th></th>\n",
       "      <th>Name</th>\n",
       "      <th>text</th>\n",
       "      <th>type</th>\n",
       "      <th>loc</th>\n",
       "    </tr>\n",
       "  </thead>\n",
       "  <tbody>\n",
       "    <tr>\n",
       "      <th>0</th>\n",
       "      <td>AbercrombiePAGE</td>\n",
       "      <td>{{pagebanner|Abercrombie WikiVoyage Banner ND....</td>\n",
       "      <td>page</td>\n",
       "      <td>//tools.wmflabs.org/wikivoyage/w/poimap2.php?l...</td>\n",
       "    </tr>\n",
       "    <tr>\n",
       "      <th>1</th>\n",
       "      <td>Aberdeen (Maryland)PAGE</td>\n",
       "      <td>{{pagebanner|Aberdeen MD WikiVoyage Banner.jpg...</td>\n",
       "      <td>page</td>\n",
       "      <td>//tools.wmflabs.org/wikivoyage/w/poimap2.php?l...</td>\n",
       "    </tr>\n",
       "    <tr>\n",
       "      <th>2</th>\n",
       "      <td>Aberdeen (South Dakota)PAGE</td>\n",
       "      <td>{{pagebanner|Pagebanner default.jpg|pgname=Abe...</td>\n",
       "      <td>page</td>\n",
       "      <td>//tools.wmflabs.org/wikivoyage/w/poimap2.php?l...</td>\n",
       "    </tr>\n",
       "    <tr>\n",
       "      <th>3</th>\n",
       "      <td>Aberdeen (Washington)PAGE</td>\n",
       "      <td>{{Pagebanner|pgname=Aberdeen |Wikivoyage page ...</td>\n",
       "      <td>page</td>\n",
       "      <td>//tools.wmflabs.org/wikivoyage/w/poimap2.php?l...</td>\n",
       "    </tr>\n",
       "    <tr>\n",
       "      <th>4</th>\n",
       "      <td>AbernathyPAGE</td>\n",
       "      <td>{{pagebanner|Abernathy Texas Wikivoyage Banner...</td>\n",
       "      <td>page</td>\n",
       "      <td>//tools.wmflabs.org/wikivoyage/w/poimap2.php?l...</td>\n",
       "    </tr>\n",
       "  </tbody>\n",
       "</table>\n",
       "</div>"
      ],
      "text/plain": [
       "                          Name  \\\n",
       "0              AbercrombiePAGE   \n",
       "1      Aberdeen (Maryland)PAGE   \n",
       "2  Aberdeen (South Dakota)PAGE   \n",
       "3    Aberdeen (Washington)PAGE   \n",
       "4                AbernathyPAGE   \n",
       "\n",
       "                                                text  type  \\\n",
       "0  {{pagebanner|Abercrombie WikiVoyage Banner ND....  page   \n",
       "1  {{pagebanner|Aberdeen MD WikiVoyage Banner.jpg...  page   \n",
       "2  {{pagebanner|Pagebanner default.jpg|pgname=Abe...  page   \n",
       "3  {{Pagebanner|pgname=Aberdeen |Wikivoyage page ...  page   \n",
       "4  {{pagebanner|Abernathy Texas Wikivoyage Banner...  page   \n",
       "\n",
       "                                                 loc  \n",
       "0  //tools.wmflabs.org/wikivoyage/w/poimap2.php?l...  \n",
       "1  //tools.wmflabs.org/wikivoyage/w/poimap2.php?l...  \n",
       "2  //tools.wmflabs.org/wikivoyage/w/poimap2.php?l...  \n",
       "3  //tools.wmflabs.org/wikivoyage/w/poimap2.php?l...  \n",
       "4  //tools.wmflabs.org/wikivoyage/w/poimap2.php?l...  "
      ]
     },
     "execution_count": 7,
     "metadata": {},
     "output_type": "execute_result"
    }
   ],
   "source": [
    "df.head()"
   ]
  },
  {
   "cell_type": "code",
   "execution_count": 8,
   "metadata": {
    "collapsed": true
   },
   "outputs": [],
   "source": [
    "def unwiki(wiki):\n",
    "        \"\"\"\n",
    "       Remove wiki markup from the text.\n",
    "       \"\"\"\n",
    "        wiki = re.sub(r'(?i)\\{\\{IPA(\\-[^\\|\\{\\}]+)*?\\|([^\\|\\{\\}]+)(\\|[^\\{\\}]+)*?\\}\\}', lambda m: m.group(2), wiki)\n",
    "        wiki = re.sub(r'(?i)\\{\\{Lang(\\-[^\\|\\{\\}]+)*?\\|([^\\|\\{\\}]+)(\\|[^\\{\\}]+)*?\\}\\}', lambda m: m.group(2), wiki)\n",
    "        wiki = re.sub(r'\\{\\{[^\\{\\}]+\\}\\}', '', wiki)\n",
    "        wiki = re.sub(r'(?m)\\{\\{[^\\{\\}]+\\}\\}', '', wiki)\n",
    "        wiki = re.sub(r'(?m)\\{\\|[^\\{\\}]*?\\|\\}', '', wiki)\n",
    "        wiki = re.sub(r'(?i)\\[\\[Category:[^\\[\\]]*?\\]\\]', '', wiki)\n",
    "        wiki = re.sub(r'(?i)\\[\\[Image:[^\\[\\]]*?\\]\\]', '', wiki)\n",
    "        wiki = re.sub(r'(?i)\\[\\[File:[^\\[\\]]*?\\]\\]', '', wiki)\n",
    "        wiki = re.sub(r'\\[\\[[^\\[\\]]*?\\|([^\\[\\]]*?)\\]\\]', lambda m: m.group(1), wiki)\n",
    "        wiki = re.sub(r'\\[\\[([^\\[\\]]+?)\\]\\]', lambda m: m.group(1), wiki)\n",
    "        wiki = re.sub(r'\\[\\[([^\\[\\]]+?)\\]\\]', '', wiki)\n",
    "        wiki = re.sub(r'(?i)File:[^\\[\\]]*?', '', wiki)\n",
    "        wiki = re.sub(r'\\[[^\\[\\]]*? ([^\\[\\]]*?)\\]', lambda m: m.group(1), wiki)\n",
    "        wiki = re.sub(r\"''+\", '', wiki)\n",
    "        wiki = re.sub(r'(?m)^\\*$', '', wiki)\n",
    "       \n",
    "        return wiki"
   ]
  },
  {
   "cell_type": "code",
   "execution_count": 9,
   "metadata": {
    "collapsed": true
   },
   "outputs": [],
   "source": [
    "def unhtml(html):\n",
    "        \"\"\"\n",
    "       Remove HTML from the text.\n",
    "       \"\"\"\n",
    "        html = re.sub(r'(?i)&nbsp;', ' ', html)\n",
    "        html = re.sub(r'(?i)<br[ \\\\]*?>', '\\n', html)\n",
    "        html = re.sub(r'(?m)<!--.*?--\\s*>', '', html)\n",
    "        html = re.sub(r'(?i)<ref[^>]*>[^>]*<\\/ ?ref>', '', html)\n",
    "        html = re.sub(r'(?m)<.*?>', '', html)\n",
    "        html = re.sub(r'(?i)&amp;', '&', html)\n",
    "       \n",
    "        return html"
   ]
  },
  {
   "cell_type": "code",
   "execution_count": 249,
   "metadata": {
    "collapsed": true
   },
   "outputs": [],
   "source": [
    "def f(x):\n",
    "    return unhtml(unwiki(x))"
   ]
  },
  {
   "cell_type": "code",
   "execution_count": 250,
   "metadata": {
    "collapsed": false
   },
   "outputs": [],
   "source": [
    "df['text'] = df['text'].apply(f)"
   ]
  },
  {
   "cell_type": "code",
   "execution_count": 12,
   "metadata": {
    "collapsed": false
   },
   "outputs": [],
   "source": [
    "vect = CountVectorizer(stop_words=\"english\", max_features = 5000)"
   ]
  },
  {
   "cell_type": "code",
   "execution_count": 13,
   "metadata": {
    "collapsed": true
   },
   "outputs": [],
   "source": [
    "features = df['text']"
   ]
  },
  {
   "cell_type": "code",
   "execution_count": 14,
   "metadata": {
    "collapsed": true
   },
   "outputs": [],
   "source": [
    "x_features = vect.fit_transform(features)"
   ]
  },
  {
   "cell_type": "code",
   "execution_count": 15,
   "metadata": {
    "collapsed": true
   },
   "outputs": [],
   "source": [
    "nmf = NMF(n_components=20, random_state=1, alpha=0, l1_ratio=0)\n",
    "W = nmf.fit_transform(x_features)\n",
    "H = nmf.components_"
   ]
  },
  {
   "cell_type": "code",
   "execution_count": 16,
   "metadata": {
    "collapsed": true
   },
   "outputs": [],
   "source": [
    "vector_features = vect.get_feature_names()"
   ]
  },
  {
   "cell_type": "code",
   "execution_count": 17,
   "metadata": {
    "collapsed": false,
    "scrolled": true
   },
   "outputs": [
    {
     "name": "stdout",
     "output_type": "stream",
     "text": [
      "Topic #0:\n",
      "seattle downtown washington area lake city south portland center north airport international sound local pacific university northwest puget oregon district way car hill service alaska free bus hour especially place away capitol tacoma public union coffee areas columbia terminal available train offer options sea transit hours states channel restaurants flights\n",
      "Topic #1:\n",
      "park national miles glacier area trails located visitor available entrance water camping center mile summer road day visitors valley hiking yosemite areas backcountry east year parks feet permits species trail winter fees mountain include station lake wilderness open lodging 000 canyon campground wildlife 15 fee yellowstone forest hwy food including\n",
      "Topic #2:\n",
      "new york city manhattan jersey brooklyn subway bus long queens train island airport hudson midtown world trains staten station river major buses service park ride east route museum bronx borough newark bridge terminal street times home day state 50 express good central art minutes available county stations parking international pay\n",
      "Topic #3:\n",
      "buffalo city niagara south erie new district downtown elmwood york local park located street falls avenue main canal delaware seneca history metro river area lake historic north university nfta village center place olmsted century amherst american fm allentown transportation airport visitors community years old town college places time harbor number\n",
      "Topic #4:\n",
      "disney world walt park resort kingdom parks magic resorts service epcot mdash theme dining springs day hotel guests attractions time orlando just restaurants available ll center rides near studios disneyland ride want like hollywood property animal hotels kids room ticket food don days use 407 make need children area night\n",
      "Topic #5:\n",
      "san francisco bay city area california street mission diego bart golden gate oakland muni north jose bridge district valley streets wharf caltrain day car beach just market transit large home hill park fisherman center public chinese card famous coast pacific best use time ocean museum near trains peninsula haight world\n",
      "Topic #6:\n",
      "county lake state route ohio miles fishing north boat west trails cleveland area electric south camping east river sites campsites trail hunting region water basketball showers cottages picnic volleyball camp lakes erie hiking launch non toilets valley golf courts swimming tables playground areas flush pet forest northeast horseshoe lodge ramps\n",
      "Topic #7:\n",
      "http www town com located airport north route road street miles car main restaurant area great service downtown drive local food open center eat small regional bar drink pa org place available buy offers new highway mall sleep exit wikipedia house south shopping day college hours rd restaurants inn free\n",
      "Topic #8:\n",
      "mdash site preserves american home war national park historic set civil battle new sites including fort contains washington blm near president york parks city spectacular major revolution area rock disneyland world scenic century old george noted america famed famous 19th built house colonial islands native desert united british island mountains\n",
      "Topic #9:\n",
      "los angeles san california downtown santa county valley diego bus airport hollywood freeway north area la station traffic service long metro rail east lax car orange beach central line major coast southern monica south runs transit town cities pacific highway train west air amtrak day fe el freeways metrolink region\n",
      "Topic #10:\n",
      "chicago city north loop south park near cta train major west blues illinois downtown world line like university lake far american home day hare place best hours lincoln time just african great history station neighborhoods bike run milwaukee known town long suburbs trains summer field michigan shore bars indiana good\n",
      "Topic #11:\n",
      "trail road canyon km mi river way trip rio west big mountains desert grande turn bend south route water rock junction drive near round village head ll good backcountry scenic east springs views just roads santa mdash area trails north hike park day end visitor mountain basin hiking short entrance\n",
      "Topic #12:\n",
      "island islands harbor hawaii ferry beach long water bay day beaches shore boat way hawaiian great sea available point sites sound people mainland accessible popular time local honolulu car staten rhode small end puget summer place like night fishing peninsula good big best home providence areas ocean open national isle\n",
      "Topic #13:\n",
      "michigan lansing downtown detroit located east city center university river area state park grand home campus largest museum historic offers great major world near ohio cleveland town service restaurant large lake capital library best ann arbor gardens ave airport art bar garden bus restaurants college cities lakes metropolitan small number\n",
      "Topic #14:\n",
      "beach florida miami south north fort coast area daytona airport beaches ocean international lauderdale county road orlando atlantic car city west palm pensacola port state located restaurants highway bay blvd fishing cape shore 95 drive popular tampa gulf areas known shopping world bus avenue sea offers diego hotels volusia long\n",
      "Topic #15:\n",
      "boston line station south new massachusetts north bus rail airport service england mbta train route lines street red green way stop commuter edu time amtrak cape http free www college trains parking logan transit stops bay square public major harvard cod blue university cambridge driving orange accessible stations fare car\n",
      "Topic #16:\n",
      "state national north new mexico region colorado west states areas mountains area south cities oregon mountain home town united near southern country valley american known major high texas interstate river largest america towns highway eastern western monument winter small northern large border ski virginia summer regional portland arizona people scenic\n",
      "Topic #17:\n",
      "st area louis downtown river ave restaurants center neighborhood square main home just north washington end central south fort historic bridge hill missouri west bars known saint rd new food good illinois lucie local music shopping university runs buildings port shops great art walk market town stores best union mid\n",
      "Topic #18:\n",
      "city philadelphia center station bus downtown airport area located local washington service home university free east south charlotte day major just museum west street car district line public near end baltimore restaurants time atlanta minutes american national mall way cities including streets great popular north pittsburgh hour large metro largest\n",
      "Topic #19:\n",
      "street west avenue east south north park district bus main streets neighborhood metro black downtown broadway village delaware rock neighborhoods old lower parking line grant fillmore delavan elmwood exit bailey near just corner buses square beginning route place allentown rail shops restaurants business station runs manhattan amherst today upper hill\n"
     ]
    }
   ],
   "source": [
    "def print_top_words(model, feature_names, n_top_words):\n",
    "    for topic_idx, topic in enumerate(model.components_):\n",
    "        print \"Topic #%d:\" % topic_idx\n",
    "        print \" \".join([feature_names[i] for i in topic.argsort()[:-n_top_words - 1:-1]])\n",
    "          \n",
    "print_top_words(nmf, vector_features, 50)"
   ]
  },
  {
   "cell_type": "code",
   "execution_count": 18,
   "metadata": {
    "collapsed": false,
    "scrolled": true
   },
   "outputs": [
    {
     "name": "stdout",
     "output_type": "stream",
     "text": [
      "TOPIC: # 0\n",
      "SeattlePAGE\n",
      "Washington (state)PAGE\n",
      "Pacific NorthwestPAGE\n",
      "Puget SoundPAGE\n",
      "Seattle-Tacoma International AirportPAGE\n",
      "Portland (Oregon)PAGE\n",
      "OregonPAGE\n",
      "Kitsap PeninsulaPAGE\n",
      "TacomaPAGE\n",
      "Seattle/SouthPAGE\n",
      "TOPIC: # 1\n",
      "Glacier National ParkPAGE\n",
      "Denali National ParkPAGE\n",
      "Yosemite National ParkPAGE\n",
      "Big Bend National ParkPAGE\n",
      "Rocky Mountain National ParkPAGE\n",
      "Zion National ParkPAGE\n",
      "Yellowstone National ParkPAGE\n",
      "Olympic National ParkPAGE\n",
      "Ohio State ParksPAGE\n",
      "Biscayne National ParkPAGE\n",
      "TOPIC: # 2\n",
      "New York CityPAGE\n",
      "New York (state)PAGE\n",
      "ManhattanPAGE\n",
      "New JerseyPAGE\n",
      "New EnglandPAGE\n",
      "New OrleansPAGE\n",
      "BrooklynPAGE\n",
      "Mid-Hudson and CatskillsPAGE\n",
      "Metro New YorkPAGE\n",
      "New MexicoPAGE\n",
      "TOPIC: # 3\n",
      "BuffaloPAGE\n",
      "Buffalo/South BuffaloPAGE\n",
      "Buffalo/North BuffaloPAGE\n",
      "Buffalo/DowntownPAGE\n",
      "Buffalo/East SidePAGE\n",
      "Buffalo/West SidePAGE\n",
      "Buffalo/Elmwood VillagePAGE\n",
      "Buffalo/Allentown and the Delaware DistrictPAGE\n",
      "Buffalo National RiverPAGE\n",
      "ClarencePAGE\n",
      "TOPIC: # 4\n",
      "Walt Disney WorldPAGE\n",
      "Walt Disney World/EpcotPAGE\n",
      "Walt Disney World/Disney SpringsPAGE\n",
      "DisneylandPAGE\n",
      "Walt Disney World/Magic KingdomPAGE\n",
      "Walt Disney World/Animal KingdomPAGE\n",
      "Walt Disney World/Hollywood StudiosPAGE\n",
      "OrlandoPAGE\n",
      "CelebrationPAGE\n",
      "Disney Cruise LinePAGE\n",
      "TOPIC: # 5\n",
      "San FranciscoPAGE\n",
      "San DiegoPAGE\n",
      "Bay Area (California)PAGE\n",
      "CaliforniaPAGE\n",
      "San LeandroPAGE\n",
      "San Jose (California)PAGE\n",
      "San Diego CountyPAGE\n",
      "Peninsula (Bay Area)PAGE\n",
      "Berkeley (California)PAGE\n",
      "San Luis ObispoPAGE\n",
      "TOPIC: # 6\n",
      "Ohio State ParksPAGE\n",
      "Northeast OhioPAGE\n",
      "Southeast OhioPAGE\n",
      "Sullivan County (New York)PAGE\n",
      "Mid-OhioPAGE\n",
      "Southwest OhioPAGE\n",
      "Mid-Hudson and CatskillsPAGE\n",
      "ClevelandPAGE\n",
      "Delaware County (New York)PAGE\n",
      "Northwest OhioPAGE\n",
      "TOPIC: # 7\n",
      "ChattanoogaPAGE\n",
      "Oxford (Mississippi)PAGE\n",
      "ExtonPAGE\n",
      "SpartanburgPAGE\n",
      "ProvidencePAGE\n",
      "Shrewsbury (Pennsylvania)PAGE\n",
      "LouisvillePAGE\n",
      "Cape CodPAGE\n",
      "East HavenPAGE\n",
      "Reading (Pennsylvania)PAGE\n",
      "TOPIC: # 8\n",
      "United States National ParksPAGE\n",
      "DisneylandPAGE\n",
      "Big Bend National ParkPAGE\n",
      "Takoma ParkPAGE\n",
      "Finger LakesPAGE\n",
      "Mid-AtlanticPAGE\n",
      "San Francisco/Golden GatePAGE\n",
      "Early United States historyPAGE\n",
      "Rochester (New York)PAGE\n",
      "Rochester and SuburbsPAGE\n",
      "TOPIC: # 9\n",
      "Los AngelesPAGE\n",
      "CaliforniaPAGE\n",
      "San DiegoPAGE\n",
      "Los Angeles/DowntownPAGE\n",
      "Southern CaliforniaPAGE\n",
      "Santa Fe (New Mexico)PAGE\n",
      "Los AlamosPAGE\n",
      "Antelope ValleyPAGE\n",
      "DisneylandPAGE\n",
      "Ventura CountyPAGE\n",
      "TOPIC: # 10\n",
      "ChicagoPAGE\n",
      "ChicagolandPAGE\n",
      "Chicago/LoopPAGE\n",
      "IllinoisPAGE\n",
      "MilwaukeePAGE\n",
      "Chicago/Far West SidePAGE\n",
      "Chicago/Hyde ParkPAGE\n",
      "Midwest (United States of America)PAGE\n",
      "Baseball in the United StatesPAGE\n",
      "O'Hare International AirportPAGE\n",
      "TOPIC: # 11\n",
      "Big Bend National ParkPAGE\n",
      "Bandelier National MonumentPAGE\n",
      "Grand CanyonPAGE\n",
      "Black Canyon of the Gunnison National ParkPAGE\n",
      "Buffalo National RiverPAGE\n",
      "Santa Fe (New Mexico)PAGE\n",
      "Isle Royale National ParkPAGE\n",
      "Zion National ParkPAGE\n",
      "White Mountains (California)PAGE\n",
      "North Central New MexicoPAGE\n",
      "TOPIC: # 12\n",
      "HawaiiPAGE\n",
      "Isle Royale National ParkPAGE\n",
      "Staten IslandPAGE\n",
      "Long IslandPAGE\n",
      "New York CityPAGE\n",
      "Big IslandPAGE\n",
      "Channel Islands National ParkPAGE\n",
      "Boston Harbor IslandsPAGE\n",
      "KauaiPAGE\n",
      "Fire Island National SeashorePAGE\n",
      "TOPIC: # 13\n",
      "Lansing (Michigan)PAGE\n",
      "DetroitPAGE\n",
      "East LansingPAGE\n",
      "MichiganPAGE\n",
      "ClevelandPAGE\n",
      "Buffalo/East SidePAGE\n",
      "OhioPAGE\n",
      "Touring prestigious and notable universities in the U.S.PAGE\n",
      "Metro DetroitPAGE\n",
      "MilwaukeePAGE\n",
      "TOPIC: # 14\n",
      "MiamiPAGE\n",
      "Daytona BeachPAGE\n",
      "FloridaPAGE\n",
      "Fort LauderdalePAGE\n",
      "Miami Beach/South BeachPAGE\n",
      "Miami BeachPAGE\n",
      "OahuPAGE\n",
      "Volusia CountyPAGE\n",
      "Jersey ShorePAGE\n",
      "Long BeachPAGE\n",
      "TOPIC: # 15\n",
      "BostonPAGE\n",
      "MassachusettsPAGE\n",
      "Cape CodPAGE\n",
      "Cambridge (Massachusetts)PAGE\n",
      "Washington, D.C.PAGE\n",
      "Rail travel in the United StatesPAGE\n",
      "New EnglandPAGE\n",
      "Boston/DowntownPAGE\n",
      "BrooklinePAGE\n",
      "SomervillePAGE\n",
      "TOPIC: # 16\n",
      "New MexicoPAGE\n",
      "OregonPAGE\n",
      "ColoradoPAGE\n",
      "West VirginiaPAGE\n",
      "North CarolinaPAGE\n",
      "ArizonaPAGE\n",
      "TexasPAGE\n",
      "Washington (state)PAGE\n",
      "WyomingPAGE\n",
      "IdahoPAGE\n",
      "TOPIC: # 17\n",
      "St. LouisPAGE\n",
      "San Francisco/Civic Center-TenderloinPAGE\n",
      "Port St. LuciePAGE\n",
      "San Francisco/Golden GatePAGE\n",
      "Washington, D.C./ShawPAGE\n",
      "Saint Petersburg (Florida)PAGE\n",
      "MissouriPAGE\n",
      "East St. LouisPAGE\n",
      "IndianapolisPAGE\n",
      "U.S. Virgin IslandsPAGE\n",
      "TOPIC: # 18\n",
      "Washington, D.C.PAGE\n",
      "PhiladelphiaPAGE\n",
      "CharlottePAGE\n",
      "Salt Lake CityPAGE\n",
      "New York CityPAGE\n",
      "San FranciscoPAGE\n",
      "Los AngelesPAGE\n",
      "AtlantaPAGE\n",
      "PittsburghPAGE\n",
      "BaltimorePAGE\n",
      "TOPIC: # 19\n",
      "Buffalo/West SidePAGE\n",
      "Buffalo/East SidePAGE\n",
      "Buffalo/South BuffaloPAGE\n",
      "Buffalo/North BuffaloPAGE\n",
      "Buffalo/Allentown and the Delaware DistrictPAGE\n",
      "New York CityPAGE\n",
      "ManhattanPAGE\n",
      "Buffalo/Elmwood VillagePAGE\n",
      "Buffalo/DowntownPAGE\n",
      "San FranciscoPAGE\n"
     ]
    }
   ],
   "source": [
    "for topic in range(W.shape[1]):\n",
    "    #max_t = np.argmax(W[:,topic])\n",
    "    print \"TOPIC: #\",topic\n",
    "    #print features[max_t][0:150]\n",
    "    \n",
    "    for t in range(10):\n",
    "        n = int(-1-t)\n",
    "        max_2t = W[:,topic].argsort()[n]\n",
    "        print df['Name'][max_2t]"
   ]
  },
  {
   "cell_type": "code",
   "execution_count": 19,
   "metadata": {
    "collapsed": false
   },
   "outputs": [
    {
     "data": {
      "text/plain": [
       "[u'http://mit.edu/']"
      ]
     },
     "execution_count": 19,
     "metadata": {},
     "output_type": "execute_result"
    }
   ],
   "source": [
    "list(df[df['Name']=='Touring prestigious and notable universities in the U.S.PAGE']['loc'])"
   ]
  },
  {
   "cell_type": "code",
   "execution_count": 251,
   "metadata": {
    "collapsed": false
   },
   "outputs": [],
   "source": [
    "pages = df[df['type'] == 'page']"
   ]
  },
  {
   "cell_type": "code",
   "execution_count": 252,
   "metadata": {
    "collapsed": true
   },
   "outputs": [],
   "source": [
    "def f(x):\n",
    "    return re.sub('PAGE', '', x)"
   ]
  },
  {
   "cell_type": "code",
   "execution_count": 253,
   "metadata": {
    "collapsed": false
   },
   "outputs": [
    {
     "name": "stderr",
     "output_type": "stream",
     "text": [
      "/anaconda/lib/python2.7/site-packages/ipykernel/__main__.py:1: SettingWithCopyWarning: \n",
      "A value is trying to be set on a copy of a slice from a DataFrame.\n",
      "Try using .loc[row_indexer,col_indexer] = value instead\n",
      "\n",
      "See the the caveats in the documentation: http://pandas.pydata.org/pandas-docs/stable/indexing.html#indexing-view-versus-copy\n",
      "  if __name__ == '__main__':\n"
     ]
    }
   ],
   "source": [
    "pages['Name'] = pages['Name'].apply(f)"
   ]
  },
  {
   "cell_type": "code",
   "execution_count": 38,
   "metadata": {
    "collapsed": false
   },
   "outputs": [
    {
     "data": {
      "text/plain": [
       "40"
      ]
     },
     "execution_count": 38,
     "metadata": {},
     "output_type": "execute_result"
    }
   ],
   "source": [
    "len(\"//tools.wmflabs.org/wikivoyage/w/poimap2\")"
   ]
  },
  {
   "cell_type": "code",
   "execution_count": 42,
   "metadata": {
    "collapsed": false
   },
   "outputs": [
    {
     "data": {
      "text/html": [
       "<div>\n",
       "<table border=\"1\" class=\"dataframe\">\n",
       "  <thead>\n",
       "    <tr style=\"text-align: right;\">\n",
       "      <th></th>\n",
       "      <th>Name</th>\n",
       "      <th>text</th>\n",
       "      <th>type</th>\n",
       "      <th>loc</th>\n",
       "    </tr>\n",
       "  </thead>\n",
       "  <tbody>\n",
       "    <tr>\n",
       "      <th>0</th>\n",
       "      <td>Abercrombie</td>\n",
       "      <td>\\nAbercrombie is a small township in the Red R...</td>\n",
       "      <td>page</td>\n",
       "      <td>//tools.wmflabs.org/wikivoyage/w/poimap2.php?l...</td>\n",
       "    </tr>\n",
       "    <tr>\n",
       "      <th>1</th>\n",
       "      <td>Aberdeen (Maryland)</td>\n",
       "      <td>\\nAberdeen is in Maryland.\\n\\n==Understand==\\n...</td>\n",
       "      <td>page</td>\n",
       "      <td>//tools.wmflabs.org/wikivoyage/w/poimap2.php?l...</td>\n",
       "    </tr>\n",
       "    <tr>\n",
       "      <th>2</th>\n",
       "      <td>Aberdeen (South Dakota)</td>\n",
       "      <td>\\nAberdeen is a city in South Dakota.  It is h...</td>\n",
       "      <td>page</td>\n",
       "      <td>//tools.wmflabs.org/wikivoyage/w/poimap2.php?l...</td>\n",
       "    </tr>\n",
       "    <tr>\n",
       "      <th>3</th>\n",
       "      <td>Aberdeen (Washington)</td>\n",
       "      <td>\\n\\nAberdeen is a city in the Olympic Peninsul...</td>\n",
       "      <td>page</td>\n",
       "      <td>//tools.wmflabs.org/wikivoyage/w/poimap2.php?l...</td>\n",
       "    </tr>\n",
       "    <tr>\n",
       "      <th>4</th>\n",
       "      <td>Abernathy</td>\n",
       "      <td>\\nAbernathy is a city in the Llano Estacado re...</td>\n",
       "      <td>page</td>\n",
       "      <td>//tools.wmflabs.org/wikivoyage/w/poimap2.php?l...</td>\n",
       "    </tr>\n",
       "  </tbody>\n",
       "</table>\n",
       "</div>"
      ],
      "text/plain": [
       "                      Name                                               text  \\\n",
       "0              Abercrombie  \\nAbercrombie is a small township in the Red R...   \n",
       "1      Aberdeen (Maryland)  \\nAberdeen is in Maryland.\\n\\n==Understand==\\n...   \n",
       "2  Aberdeen (South Dakota)  \\nAberdeen is a city in South Dakota.  It is h...   \n",
       "3    Aberdeen (Washington)  \\n\\nAberdeen is a city in the Olympic Peninsul...   \n",
       "4                Abernathy  \\nAbernathy is a city in the Llano Estacado re...   \n",
       "\n",
       "   type                                                loc  \n",
       "0  page  //tools.wmflabs.org/wikivoyage/w/poimap2.php?l...  \n",
       "1  page  //tools.wmflabs.org/wikivoyage/w/poimap2.php?l...  \n",
       "2  page  //tools.wmflabs.org/wikivoyage/w/poimap2.php?l...  \n",
       "3  page  //tools.wmflabs.org/wikivoyage/w/poimap2.php?l...  \n",
       "4  page  //tools.wmflabs.org/wikivoyage/w/poimap2.php?l...  "
      ]
     },
     "execution_count": 42,
     "metadata": {},
     "output_type": "execute_result"
    }
   ],
   "source": [
    "pages.head()"
   ]
  },
  {
   "cell_type": "code",
   "execution_count": 254,
   "metadata": {
    "collapsed": false
   },
   "outputs": [],
   "source": [
    "pages = pages[pages['loc'].str.contains(\"//tools.wmflabs.org/wikivoyage/w/poimap2\")==True]"
   ]
  },
  {
   "cell_type": "code",
   "execution_count": 66,
   "metadata": {
    "collapsed": true
   },
   "outputs": [],
   "source": [
    "from nltk.corpus import stopwords"
   ]
  },
  {
   "cell_type": "code",
   "execution_count": 75,
   "metadata": {
    "collapsed": false
   },
   "outputs": [],
   "source": [
    "StopWords = stopwords.words('english')"
   ]
  },
  {
   "cell_type": "code",
   "execution_count": 91,
   "metadata": {
    "collapsed": false
   },
   "outputs": [],
   "source": [
    "StopPlaces = list(pages['Name'])"
   ]
  },
  {
   "cell_type": "code",
   "execution_count": 94,
   "metadata": {
    "collapsed": false
   },
   "outputs": [],
   "source": [
    "StopPlaces = map(lambda x: re.sub(\"\\(|\\)\", '',x), StopPlaces)"
   ]
  },
  {
   "cell_type": "code",
   "execution_count": 101,
   "metadata": {
    "collapsed": false
   },
   "outputs": [],
   "source": [
    "StopPlaces = map(lambda x: x.lower().split(), StopPlaces)"
   ]
  },
  {
   "cell_type": "code",
   "execution_count": 103,
   "metadata": {
    "collapsed": false
   },
   "outputs": [],
   "source": [
    "StopPlaces = [item for sublist in StopPlaces for item in sublist]"
   ]
  },
  {
   "cell_type": "code",
   "execution_count": 105,
   "metadata": {
    "collapsed": false
   },
   "outputs": [],
   "source": [
    "StopWords = StopPlaces + StopWords"
   ]
  },
  {
   "cell_type": "code",
   "execution_count": 106,
   "metadata": {
    "collapsed": true
   },
   "outputs": [],
   "source": [
    "StopWords = list(set(StopWords))"
   ]
  },
  {
   "cell_type": "code",
   "execution_count": 142,
   "metadata": {
    "collapsed": true
   },
   "outputs": [],
   "source": [
    "vect = CountVectorizer(stop_words=StopWords)"
   ]
  },
  {
   "cell_type": "code",
   "execution_count": 143,
   "metadata": {
    "collapsed": false
   },
   "outputs": [],
   "source": [
    "features = pages['text'].apply(lambda x: x.lower())"
   ]
  },
  {
   "cell_type": "code",
   "execution_count": 144,
   "metadata": {
    "collapsed": true
   },
   "outputs": [],
   "source": [
    "x_features = vect.fit_transform(features)"
   ]
  },
  {
   "cell_type": "code",
   "execution_count": 145,
   "metadata": {
    "collapsed": true
   },
   "outputs": [],
   "source": [
    "nmf = NMF(n_components=20, random_state=1, alpha=0, l1_ratio=0)\n",
    "W = nmf.fit_transform(x_features)\n",
    "H = nmf.components_"
   ]
  },
  {
   "cell_type": "code",
   "execution_count": 146,
   "metadata": {
    "collapsed": true
   },
   "outputs": [],
   "source": [
    "vector_features = vect.get_feature_names()"
   ]
  },
  {
   "cell_type": "code",
   "execution_count": 147,
   "metadata": {
    "collapsed": false,
    "scrolled": true
   },
   "outputs": [
    {
     "name": "stdout",
     "output_type": "stream",
     "text": [
      "Topic #0:\n",
      "one near also many well good cta best line time every like although see train bike museum public even neighborhoods blues still take free around along re major streets get several african bars minutes known find neighborhood summer museums go ll music metrorail first restaurants jazz stop food hours clubs\n",
      "Topic #1:\n",
      "mdash preserves set civil usfs sites including former first contains near blm president spectacular major well revolution century noted several along famous one famed system commemorates 19th built many native largest british numerous ancient situated years dating visitor ride areas based around birthplace carved preserved wwii protects landscape surrounding life\n",
      "Topic #2:\n",
      "first well local via though also downtown years century still around streets one located community nfta visitors time grant among public today industrial bike re events transportation much olmsted best system whose fm however st like want bus class grain irish see number despite service places beginning largest abbott urban\n",
      "Topic #3:\n",
      "downtown bus also around streets transit one many restaurants hour service major freeway free along local well public art rail runs car light number traffic campus shops arts neighborhoods largest buses bars system get bike drive mid hours see near museum music routes shopping hotels large good fare parking several\n",
      "Topic #4:\n",
      "mi km road also trip mdash one turn chisos take along near backcountry drive ll get see route well good views panther entrance even visitor tx trails although hike 118 sure hiking us re make easy leads vehicle another marked 10 like find least first heads sites required unpaved moderate\n",
      "Topic #5:\n",
      "get around go see eat next drink wikipedia buy regional dmoz localities connect understand car united_states north_america commons category small highway us drive interstate plane safe stay nearby community population best fishing train away restaurants minutes local boat people walk places closest nearest walking seat camping stop runs good shops\n",
      "Topic #6:\n",
      "also many subway bus midtown one get every buses ride trains take art museum avenue see go well metrocard 50 train st find good local parking times around free available often neighborhoods pay especially path major expensive however people pages use minutes express including stations tickets like famous food locations\n",
      "Topic #7:\n",
      "st ave neighborhood many restaurants one along around rd food bus mid also see bars well buildings shopping art music find section stores walk local known 14th tenderloin lines broad residents safe best galleries good shops includes hotels part due several dining civic plaza stop streets called av arts night\n",
      "Topic #8:\n",
      "http www com org open available local free 423 html 800 service year edu 508 us saturday phone asp public children golf fishing club hospital sunday rd 30 12 restaurant 10 bike hours festival music events features 610 401 avenue htm taxi 662 information drive inn index food regional 317\n",
      "Topic #9:\n",
      "many also areas one major local well popular around people car large known even often like largest several see along however offer find us much especially towns including small part found travel best common near usually across throughout visit time tourist highway interstate destinations beaches although still famous border weather\n",
      "Topic #10:\n",
      "located also restaurant offers many food museum restaurants one shopping small best known family pizza largest ave stores large features enjoy popular near inn shops well local art including school variety shop beautiful campus service golf festival children store italian ice summer pike community rd breakfast sports provides includes library\n",
      "Topic #11:\n",
      "road highway drive one around many bike along small mile bus car get summer open restaurants shuttle contact ski mid several see good towns trails shopping back plaza much railroad beaches 245 places golf known sr take access go pond first budget nearby driving 203 via 25 within visitors make\n",
      "Topic #12:\n",
      "avenue neighborhood along bus streets hertel broadway restaurants line neighborhoods parkside also areas rail beginning shops parking downtown parkway olmsted near one nfta runs ave bars meadow part campus residential community proceeds well houses many transit kenmore like located still crime adjacent budget architecture buses ending shopping urban pizza blocks\n",
      "Topic #13:\n",
      "available trails camping one visitor summer hiking areas accessible mile sites year feet visitors within campground entrance first backcountry located along per campgrounds permits fees species see 15 fishing open service time fee required lodging 10 000 near hike access must use including stay also get ranger temperatures campsites weather\n",
      "Topic #14:\n",
      "one resorts get epcot also service re theme dining hotel guests time attractions restaurants ll available mdash even rides go find many want though take like ride animal hotels property kids near around food room ticket need night days children make fun 407 use fastpass boardwalk check restaurant see times\n",
      "Topic #15:\n",
      "take exit right left turn us onto get follow car hwy go waikiki also highway 95 ave rd one continue popular going rt 10 hour coming walk train nj visit small towards trails beaches see shops re best available toward light signs shopping find many around merge walking local rent\n",
      "Topic #16:\n",
      "route along interstate runs exit near major service routes bus also connects ny 508 17 train get 30 across turnpike 66 25 via access towns 90 part traffic right rd catskill continues 80 amtrak thruway commercial small 28 minutes goes travel summer located regional take provides 100 next 44 35\n",
      "Topic #17:\n",
      "pa 15 570 11 parking available located hours drive open service saturday 717 pm 743 store local 10 rte free rtes also minutes small car along 5pm building sunday first pike routes served 374 shopping monday hummels pottery restaurant 50 17876 route commons offers hour daily rental supplies interstate eat\n",
      "Topic #18:\n",
      "line rail service bus lines one also train stop mbta transit commuter major stops runs many along time traffic re edu stations trains amtrak system public around even although get fare use free take several first streets regional accessible served driving much freeway chinatown back shopping subway however less generally\n",
      "Topic #19:\n",
      "bus terminal service car airlines parking minutes located shuttle taxi free terminals rental flights train hours one buses hotels available hour take hotel 10 strip transportation transit via passengers level services lot security however around operates lax ride large time public every system well traffic per amtrak get 30 50\n"
     ]
    }
   ],
   "source": [
    "print_top_words(nmf, vector_features, 50)"
   ]
  },
  {
   "cell_type": "code",
   "execution_count": 148,
   "metadata": {
    "collapsed": false,
    "scrolled": true
   },
   "outputs": [
    {
     "name": "stdout",
     "output_type": "stream",
     "text": [
      "TOPIC: # 0\n",
      "Chicago\n",
      "Washington, D.C.\n",
      "San Francisco\n",
      "Minneapolis\n",
      "New Orleans\n",
      "Charlotte\n",
      "Santa Fe (New Mexico)\n",
      "Milwaukee\n",
      "Manhattan\n",
      "Pittsburgh\n",
      "TOPIC: # 1\n",
      "United States National Parks\n",
      "Disneyland\n",
      "Takoma Park\n",
      "Big Bend National Park\n",
      "Finger Lakes\n",
      "Walt Disney World\n",
      "Rochester and Suburbs\n",
      "Montana\n",
      "Rochester (New York)\n",
      "Early United States history\n",
      "TOPIC: # 2\n",
      "Buffalo\n",
      "Buffalo/South Buffalo\n",
      "Buffalo/West Side\n",
      "Buffalo/East Side\n",
      "Buffalo/Downtown\n",
      "Buffalo/Allentown and the Delaware District\n",
      "Rochester (New York)\n",
      "Buffalo/Elmwood Village\n",
      "Buffalo/North Buffalo\n",
      "Charlotte\n",
      "TOPIC: # 3\n",
      "Seattle\n",
      "Los Angeles\n",
      "Buffalo/Downtown\n",
      "Detroit\n",
      "Los Angeles/Downtown\n",
      "Portland (Oregon)\n",
      "Lansing (Michigan)\n",
      "Milwaukee\n",
      "Boston/Downtown\n",
      "Indianapolis\n",
      "TOPIC: # 4\n",
      "Big Bend National Park\n",
      "Grand Canyon\n",
      "Clarkston (Michigan)\n",
      "Bandelier National Monument\n",
      "Cahokia Mounds State Historic Site\n",
      "Four Corners\n",
      "Glacier National Park\n",
      "Holland (Pennsylvania)\n",
      "Lake Wales\n",
      "Canyonlands National Park\n",
      "TOPIC: # 5\n",
      "Saint Thomas\n",
      "Vinalhaven\n",
      "Sonoma Valley\n",
      "Jefferson (Maine)\n",
      "San Antonio\n",
      "Port St. Lucie\n",
      "Kauai\n",
      "Dallas\n",
      "El Verano\n",
      "Alaska\n",
      "TOPIC: # 6\n",
      "New York City\n",
      "Manhattan\n",
      "Philadelphia\n",
      "San Francisco\n",
      "Brooklyn\n",
      "Atlanta\n",
      "Seattle\n",
      "Boston\n",
      "Baltimore\n",
      "Queens\n",
      "TOPIC: # 7\n",
      "St. Louis\n",
      "San Francisco/Civic Center-Tenderloin\n",
      "Port St. Lucie\n",
      "Washington, D.C./Shaw\n",
      "San Francisco/Golden Gate\n",
      "Saint Petersburg (Florida)\n",
      "Philadelphia\n",
      "St. Augustine\n",
      "U.S. Virgin Islands\n",
      "Missouri\n",
      "TOPIC: # 8\n",
      "Chattanooga\n",
      "Exton\n",
      "Providence\n",
      "Louisville\n",
      "Oxford (Mississippi)\n",
      "Spartanburg\n",
      "Marquette (Michigan)\n",
      "Indianapolis\n",
      "Dothan\n",
      "Allentown\n",
      "TOPIC: # 9\n",
      "Hawaii\n",
      "Florida\n",
      "New Mexico\n",
      "Alaska\n",
      "San Francisco\n",
      "Oregon\n",
      "Washington (state)\n",
      "Los Angeles\n",
      "New England\n",
      "San Diego\n",
      "TOPIC: # 10\n",
      "Lansing (Michigan)\n",
      "Kennett Square\n",
      "East Lansing\n",
      "Reading (Pennsylvania)\n",
      "Spartanburg\n",
      "East Haven\n",
      "Philadelphia\n",
      "Chattanooga\n",
      "Ohio\n",
      "Mechanicsburg\n",
      "TOPIC: # 11\n",
      "Santa Fe (New Mexico)\n",
      "Clarence\n",
      "Denali National Park\n",
      "Yosemite National Park\n",
      "Madison (Connecticut)\n",
      "Eastham\n",
      "Buffalo/South Buffalo\n",
      "Plymouth (Massachusetts)\n",
      "Leelanau Peninsula\n",
      "Alaska\n",
      "TOPIC: # 12\n",
      "Buffalo/North Buffalo\n",
      "Buffalo/East Side\n",
      "Buffalo/West Side\n",
      "Buffalo/Elmwood Village\n",
      "Buffalo/Allentown and the Delaware District\n",
      "Buffalo/South Buffalo\n",
      "Brooklyn\n",
      "Minneapolis/South\n",
      "Minneapolis/Southeast\n",
      "Minneapolis/Southwest\n",
      "TOPIC: # 13\n",
      "Buffalo National River\n",
      "Isle Royale National Park\n",
      "Yosemite National Park\n",
      "Glacier National Park\n",
      "Apalachicola National Forest\n",
      "Bandelier National Monument\n",
      "Valles Caldera National Preserve\n",
      "Yellowstone National Park\n",
      "Denali National Park\n",
      "Zion National Park\n",
      "TOPIC: # 14\n",
      "Walt Disney World\n",
      "Walt Disney World/Epcot\n",
      "Walt Disney World/Magic Kingdom\n",
      "Disneyland\n",
      "Walt Disney World/Disney Springs\n",
      "Walt Disney World/Animal Kingdom\n",
      "Walt Disney World/Hollywood Studios\n",
      "Universal Orlando\n",
      "Las Vegas\n",
      "Saint Thomas\n",
      "TOPIC: # 15\n",
      "Honolulu\n",
      "Glacier National Park\n",
      "Mount Rainier National Park\n",
      "Providence/College Hill\n",
      "Plymouth (Massachusetts)\n",
      "Shrewsbury (Pennsylvania)\n",
      "San Juan Islands\n",
      "Cahokia Mounds State Historic Site\n",
      "Washington, D.C./Anacostia\n",
      "Clearfield (Pennsylvania)\n",
      "TOPIC: # 16\n",
      "Exton\n",
      "Mid-Hudson and Catskills\n",
      "Somers\n",
      "Catskills\n",
      "Pennsburg\n",
      "Sullivan County (New York)\n",
      "Eastham\n",
      "Rochester and Suburbs\n",
      "Sturbridge\n",
      "Cape Cod\n",
      "TOPIC: # 17\n",
      "Selinsgrove\n",
      "Shamokin Dam\n",
      "Shrewsbury (Pennsylvania)\n",
      "Kennett Square\n",
      "West Grove\n",
      "Mechanicsburg\n",
      "Ithaca (New York)\n",
      "Buffalo National River\n",
      "Morgantown\n",
      "Exton\n",
      "TOPIC: # 18\n",
      "Boston\n",
      "Philadelphia\n",
      "Los Angeles\n",
      "New York City\n",
      "Los Angeles/Downtown\n",
      "Brookline\n",
      "Cambridge (Massachusetts)\n",
      "Somerville\n",
      "Mid-Hudson and Catskills\n",
      "Chicago/Far Northwest Side\n",
      "TOPIC: # 19\n",
      "Washington, D.C.\n",
      "Los Angeles International Airport\n",
      "New York City\n",
      "Las Vegas\n",
      "O'Hare International Airport\n",
      "John F. Kennedy International Airport\n",
      "Orlando International Airport\n",
      "Seattle-Tacoma International Airport\n",
      "Orlando\n",
      "Los Angeles\n"
     ]
    }
   ],
   "source": [
    "for topic in range(W.shape[1]):\n",
    "    #max_t = np.argmax(W[:,topic])\n",
    "    print \"TOPIC: #\",topic\n",
    "    #print features[max_t][0:150]\n",
    "    \n",
    "    for t in range(10):\n",
    "        n = int(-1-t)\n",
    "        max_2t = W[:,topic].argsort()[n]\n",
    "        print list(pages['Name'])[max_2t]"
   ]
  },
  {
   "cell_type": "code",
   "execution_count": 149,
   "metadata": {
    "collapsed": true
   },
   "outputs": [],
   "source": [
    "from sklearn.feature_extraction.text import TfidfVectorizer, CountVectorizer\n",
    "from sklearn.decomposition import NMF, LatentDirichletAllocation"
   ]
  },
  {
   "cell_type": "code",
   "execution_count": 150,
   "metadata": {
    "collapsed": true
   },
   "outputs": [],
   "source": [
    "### TF-IDF Vectorizer"
   ]
  },
  {
   "cell_type": "code",
   "execution_count": 166,
   "metadata": {
    "collapsed": false
   },
   "outputs": [],
   "source": [
    "StopWords = StopWords + map(lambda x: x.split(\"/\"), StopWords)"
   ]
  },
  {
   "cell_type": "code",
   "execution_count": 168,
   "metadata": {
    "collapsed": true
   },
   "outputs": [],
   "source": [
    "StopWords = [item for sublist in StopWords for item in sublist]"
   ]
  },
  {
   "cell_type": "code",
   "execution_count": 185,
   "metadata": {
    "collapsed": true
   },
   "outputs": [],
   "source": [
    "TFIDFvect = TfidfVectorizer(stop_words=StopWords)"
   ]
  },
  {
   "cell_type": "code",
   "execution_count": 186,
   "metadata": {
    "collapsed": true
   },
   "outputs": [],
   "source": [
    "x_features = TFIDFvect.fit_transform(features)"
   ]
  },
  {
   "cell_type": "code",
   "execution_count": 178,
   "metadata": {
    "collapsed": true
   },
   "outputs": [],
   "source": [
    "nmf = NMF(n_components=20, random_state=1, alpha=0, l1_ratio=0)\n",
    "W = nmf.fit_transform(x_features)\n",
    "H = nmf.components_"
   ]
  },
  {
   "cell_type": "code",
   "execution_count": 190,
   "metadata": {
    "collapsed": true
   },
   "outputs": [],
   "source": [
    "vector_features = TFIDFvect.get_feature_names()"
   ]
  },
  {
   "cell_type": "code",
   "execution_count": 180,
   "metadata": {
    "collapsed": false,
    "scrolled": true
   },
   "outputs": [
    {
     "name": "stdout",
     "output_type": "stream",
     "text": [
      "Topic #0:\n",
      "get localities dmoz regional buy around wikipedia go next drink see eat carpet known plateau suburb 99 car hotels ski plane german located halfway 83 border allowing pronounced barrier nonstop municipal closest famous camping nicknamed part opposite valleys traveler metroplex cope strand considered 101 referred snowmobiling usa best antiques boating\n",
      "Topic #1:\n",
      "many one also areas well even much time however large known like largest people major re popular often find part several mdash especially local although still along summer best good first towns make visitors usually common including though found years travel generally visit number ll restaurants places tourist driving attractions\n",
      "Topic #2:\n",
      "destinations safe stay talk get understand itineraries regions around go next drink eat see wikipedia counties seat following mdash part adjacent tier extends largest towns sr _florida includes dade across considered meadow parts police areas goes populated section department portion consists extreme mainly challenge coal townships leon crime jones family\n",
      "Topic #3:\n",
      "category commons _massachusetts regional dmoz localities 495 mbta 95 moderate hall climate northwestern commuter tier approximately plateau faces chief 26 served 90 plane antique strand affluent charming berkshire festivals oasis excellent camping called carpet ma 000 phone inn headquarters shops featured hat splurge includes listed nonstop next tip census catering\n",
      "Topic #4:\n",
      "north_america united_states localities dmoz regional connect get buy wikipedia next north_carolina go drink eat see new_jersey around _massachusetts inn northwestern strand new_york highways nine 2000 location moderate 69 motel seat ouachita berkshire tavern lies nearby golf 39 91 metra 12 statue fax society cemetery plane hub confederate hunt antiques henry\n",
      "Topic #5:\n",
      "highway 101 along population road runs 29 car 61 drive 49 121 37 understand regional 89 dmoz localities 30 census wineries 12 access visitors intersection 99 via mining nearby people passes approximately ca towards 281 also 50 10 80 hwy named 35 restaurants mn several allowing 108 60 707 byway\n",
      "Topic #6:\n",
      "http www com org html 508 edu mbta asp 800 htm phone gov index rd information aspx fishing php 610 visit net amtrak 978 authority 419 hospital 614 317 free open one fax 28 learn first community 888 ave breakfast golf boat year 65 617 casino avenue counties 413 annual\n",
      "Topic #7:\n",
      "route 66 508 road along runs routes also 40 99 30 93 44 access goes 6a 28 _massachusetts connects border amish minutes pond 495 towns begins nearby pa 50 mbta via car turnpike passes ends bos major hour 91 berkshire sr 25 ma follow traffic 95 stores 195 intersection heads\n",
      "Topic #8:\n",
      "st ave rd martin 14th av 6th 7th campus broad 59th byway going streets first mo suburb largest 5th blocks 315 episcopal seat 825 casino stopping buildings 44 around sts broadway 502 get lines 330 music 574 tel dr easy building 36 british 8th johns claude 300 local francis nonstop\n",
      "Topic #9:\n",
      "us 40 83 304 84 64 hwy car 52 runs connects 60 41 31 highways 287 border 70 population 20 85 via 30 50 12 380 nc seat 87 90 281 66 goes nd 10 71 people 59 hour fishing take served 79 65 feet 77 82 26 29 385\n",
      "Topic #10:\n",
      "270 812 digit telephone code local numbers seven call number omitting landline dialed digits indicated signage consist dial display requires phone plus leading 2014 established businesses ky 364 second original still 10 onto entire 65 sales february alcohol overlay september many codes parkway wet festival complex bed pkwy 68 62\n",
      "Topic #11:\n",
      "bus service transit train line amtrak buses rail car stop stops runs greyhound lines transportation routes provides commuter trains fare operates system public served terminal express daily ride taxi also mbta serves bart available free authority stations transfer shuttle every 00 monday via nj campus take limited connects 50 hour\n",
      "Topic #12:\n",
      "avenue neighborhood ave line along neighborhoods streets runs restaurants residential bars blvd budget broadway subway parking lines shops community splurge blocks rail also shopping walk though art buildings one section urban freeway still streetcar well upscale find night stores many coffee campus nightlife african cta stop routes major music stops\n",
      "Topic #13:\n",
      "service minutes airlines flights plane major car drive airports budget splurge away taxi available rental closest hour offers hours cars terminal 30 offer 914 845 train ski direct shuttle stewart laguardia ny 2100 fares 1180 road 564 995 minute alternative 45 nonstop 240 livery cabs congestion regular nearby commercial 15\n",
      "Topic #14:\n",
      "camping fees backcountry permits trails lodging hiking landscape climate flora fauna visitor entrance available campground fishing sites road feet species stay campgrounds fee mile year per summer within safe temperatures visitors campsites open hike allowed located boat areas ranger permit picnic required 10 use birds access 000 climbing vehicle season\n",
      "Topic #15:\n",
      "interstate located 40 80 35 car border exit along 90 suburb sr 95 km 93 64 via 94 highways 75 15 81 10 access approximately part exits largest accessible 20 freeway 76 plane 44 turnpike 66 57 counties population seat 77 runs known major wi passes 69 nearest served travels\n",
      "Topic #16:\n",
      "connect get understand buy drink wikipedia eat see next go around seat suburb unincorporated heartland northwestern budget community largest hamlet part barrier border suburban census plateau hamlets train hare pop distillery metroplex splurge includes places name highways second called population 2010 sits confused situated lodging nearest municipal incorporated homes usa\n",
      "Topic #17:\n",
      "small community seat population people along car located iditarod 000 drive towns residents named fishing railroad census nearest farming walk lies public boat 25 name amish nearby one 94 foot border founded built incorporated school enough away plateau originally around settlement surrounded across hwy reservoir beautiful outside shops known 23\n",
      "Topic #18:\n",
      "exit take road turn right onto left follow 95 rd rt car hwy continue drive get towards toward coming ave merge parkway reach signs 10 turnpike ramp 75 go 90 taking 80 straight freeway parking 15 mi one 89 travel traffic blvd light approximately mt 20 minutes ny bike md\n",
      "Topic #19:\n",
      "located restaurant food also restaurants pizza many inn offers shops shopping local shop store golf best stores family festival one well open music good dining breakfast variety cafe ice enjoy drive features italian art school coffee cream fishing live popular seafood lunch places club outdoor course menu friendly beautiful summer\n"
     ]
    }
   ],
   "source": [
    "print_top_words(nmf, vector_features, 50)"
   ]
  },
  {
   "cell_type": "code",
   "execution_count": 181,
   "metadata": {
    "collapsed": false,
    "scrolled": true
   },
   "outputs": [
    {
     "name": "stdout",
     "output_type": "stream",
     "text": [
      "TOPIC: # 0\n",
      "Midwest City\n",
      "North Highlands\n",
      "Willows\n",
      "Santa Nella\n",
      "Pinole\n",
      "Boulder Creek\n",
      "Sayre (Oklahoma)\n",
      "Greers Ferry\n",
      "Blue Lake\n",
      "Grove (Oklahoma)\n",
      "TOPIC: # 1\n",
      "New Mexico\n",
      "South (United States of America)\n",
      "Idaho\n",
      "Texas\n",
      "Oregon\n",
      "Alaska\n",
      "New England\n",
      "Hawaii\n",
      "San Diego\n",
      "Michigan\n",
      "TOPIC: # 2\n",
      "Lucas County\n",
      "Putnam County (Ohio)\n",
      "Miami County (Ohio)\n",
      "Shelby County (Ohio)\n",
      "Gallia County (Ohio)\n",
      "Pickaway County\n",
      "Union County (Ohio)\n",
      "Clinton County (Ohio)\n",
      "Guernsey County (Ohio)\n",
      "Muskingum County\n",
      "TOPIC: # 3\n",
      "Tukwila\n",
      "Mount Kisco\n",
      "Petersburg (Virginia)\n",
      "Brentwood (Maryland)\n",
      "Chelan\n",
      "Chehalis\n",
      "Holualoa\n",
      "Nanuet\n",
      "Bordentown\n",
      "Penn Yan\n",
      "TOPIC: # 4\n",
      "Dover (Ohio)\n",
      "Sparta (Kentucky)\n",
      "Horn Lake\n",
      "Huntington (Indiana)\n",
      "Three Oaks\n",
      "Richfield (Ohio)\n",
      "Clinton (Mississippi)\n",
      "Paintsville\n",
      "Phenix City\n",
      "Lamar (Missouri)\n",
      "TOPIC: # 5\n",
      "Willow Creek\n",
      "Oakville (California)\n",
      "Milton-Freewater\n",
      "Tuolumne County\n",
      "Hastings (Minnesota)\n",
      "Hurricane (Utah)\n",
      "Calistoga\n",
      "Tok\n",
      "El Verano\n",
      "Columbia Falls\n",
      "TOPIC: # 6\n",
      "Scotland Neck\n",
      "Middlefield (Ohio)\n",
      "Cabarrus County\n",
      "Safety Harbor\n",
      "Kalamazoo\n",
      "Woodstown\n",
      "Dothan\n",
      "Exton\n",
      "Flat Rock\n",
      "Clearwater\n",
      "TOPIC: # 7\n",
      "Nevada (Ohio)\n",
      "Tillamook\n",
      "Chowchilla\n",
      "Pennsburg\n",
      "Kapolei\n",
      "Canaan\n",
      "Lorain\n",
      "Hollister (California)\n",
      "Lubec\n",
      "Groom\n",
      "TOPIC: # 8\n",
      "St. Francisville\n",
      "St. James\n",
      "St. George (South Carolina)\n",
      "St. Martinville\n",
      "East St. Louis\n",
      "St. Louis\n",
      "Port St. Joe\n",
      "Manhattan/Upper West Side\n",
      "St. Clair County (Michigan)\n",
      "Ferguson\n",
      "TOPIC: # 9\n",
      "Tonopah\n",
      "Fort Sumner\n",
      "Brownfield\n",
      "San Luis (Arizona)\n",
      "Peru (Indiana)\n",
      "Abilene\n",
      "Bluemont\n",
      "Reidsville (North Carolina)\n",
      "Wellington (Texas)\n",
      "Oakley (Kansas)\n",
      "TOPIC: # 10\n",
      "Morgantown (Kentucky)\n",
      "Auburn (Kentucky)\n",
      "Greenville (Kentucky)\n",
      "Aurora (Kentucky)\n",
      "Georgetown (Floyd County, Indiana)\n",
      "Scottsburg\n",
      "Floyds Knobs\n",
      "Greensburg (Indiana)\n",
      "Hopkinsville\n",
      "Hodgenville\n",
      "TOPIC: # 11\n",
      "Hutchinson (Kansas)\n",
      "Longmont\n",
      "Winchester (Massachusetts)\n",
      "Leesburg\n",
      "King of Prussia\n",
      "Lawrence (Kansas)\n",
      "Manteno\n",
      "Merced\n",
      "Garden City (Kansas)\n",
      "Momence\n",
      "TOPIC: # 12\n",
      "Brooklyn\n",
      "Seattle/Queen Anne-South Lake Union\n",
      "Minneapolis/South\n",
      "San Diego/Mid-City\n",
      "Buffalo/Elmwood Village\n",
      "Manhattan/Upper East Side\n",
      "Minneapolis/Southeast\n",
      "Brooklyn/Greenwood and New Utrecht\n",
      "Buffalo/Allentown and the Delaware District\n",
      "Pittsburgh/Strip District-Lawrenceville\n",
      "TOPIC: # 13\n",
      "Elmsford\n",
      "Yorktown Heights\n",
      "Pleasantville (New York)\n",
      "Bedford (New York)\n",
      "Hastings-on-Hudson\n",
      "Peekskill\n",
      "Chappaqua\n",
      "Irvington\n",
      "Cortlandt\n",
      "Amenia (New York)\n",
      "TOPIC: # 14\n",
      "Curecanti National Recreation Area\n",
      "Cumberland Gap National Historical Park\n",
      "Cumberland Island National Seashore\n",
      "New River Gorge National River\n",
      "Mustang Island State Park\n",
      "Everglades National Park\n",
      "Sugarloaf Ridge State Park\n",
      "Land Between the Lakes National Recreation Area\n",
      "Bliss State Park\n",
      "Pinnacles National Park\n",
      "TOPIC: # 15\n",
      "Albert Lea\n",
      "Hooksett\n",
      "Marshall (Michigan)\n",
      "Mayflower (Arkansas)\n",
      "Columbus (Minnesota)\n",
      "Redlands\n",
      "Hillsboro (Texas)\n",
      "Oklahoma City/Adventure District\n",
      "Brandon (Florida)\n",
      "Mount Vernon (Illinois)\n",
      "TOPIC: # 16\n",
      "Weedsport\n",
      "Amelia (Ohio)\n",
      "Spring Valley (Wisconsin)\n",
      "Northgate\n",
      "Fairfield (New Jersey)\n",
      "Mililani\n",
      "Wauwatosa\n",
      "Selby (South Dakota)\n",
      "North Tonawanda\n",
      "Lowell (Michigan)\n",
      "TOPIC: # 17\n",
      "Waynesville (North Carolina)\n",
      "Republic\n",
      "Newport (Washington)\n",
      "Isleton\n",
      "El Morro\n",
      "Dyer\n",
      "Johnson Creek\n",
      "Norway (Maine)\n",
      "Fife (Washington)\n",
      "Woodside\n",
      "TOPIC: # 18\n",
      "Woodstock (Vermont)\n",
      "Swedesboro\n",
      "Schaumburg\n",
      "Nevada City\n",
      "Midway (Kentucky)\n",
      "Blue Ash\n",
      "Dinuba\n",
      "Murfreesboro\n",
      "Mt. Angel\n",
      "East Haddam\n",
      "TOPIC: # 19\n",
      "Reading (Pennsylvania)\n",
      "Chincoteague\n",
      "Milton (Massachusetts)\n",
      "Elizabeth City\n",
      "Manteo\n",
      "Sea Isle City\n",
      "Doylestown\n",
      "Memphis\n",
      "Lewes (Delaware)\n",
      "Windsor (Connecticut)\n"
     ]
    }
   ],
   "source": [
    "for topic in range(W.shape[1]):\n",
    "    #max_t = np.argmax(W[:,topic])\n",
    "    print \"TOPIC: #\",topic\n",
    "    #print features[max_t][0:150]\n",
    "    \n",
    "    for t in range(10):\n",
    "        n = int(-1-t)\n",
    "        max_2t = W[:,topic].argsort()[n]\n",
    "        print list(pages['Name'])[max_2t]"
   ]
  },
  {
   "cell_type": "markdown",
   "metadata": {},
   "source": [
    "### LDA"
   ]
  },
  {
   "cell_type": "code",
   "execution_count": 187,
   "metadata": {
    "collapsed": true
   },
   "outputs": [],
   "source": [
    "lda = LatentDirichletAllocation(n_topics=20, random_state=1)\n",
    "W = lda.fit_transform(x_features)\n",
    "H = lda.components_"
   ]
  },
  {
   "cell_type": "code",
   "execution_count": 191,
   "metadata": {
    "collapsed": false,
    "scrolled": true
   },
   "outputs": [
    {
     "name": "stdout",
     "output_type": "stream",
     "text": [
      "Topic #0:\n",
      "abiquiú 7181 crafmanship tscycles indianhillsinn kyoo sakakawea get watford highway 34 85 category around randsburg localities regional go next buy dmoz see commons people wikipedia connect 165 us 395 one eat drink elevation sloulin bisects german vehicle redcliff camping feet car ct fees 20 permits population fauna located kayakers backcountry\n",
      "Topic #1:\n",
      "allen_park unm alverthorpe mdjwagner 6432 vcr aladdinwymotel swedenborgian daysinn horsham forerunners ookaa revivalist gpage2 vcn cehejde superlative athen luminarias balloonists checkin albuquerqueans luminaria rojo biopark glowdeos rebuked isotopes immature suffix 5141 unser 12345 deprecating kkob alburquerque blower insides smother burque natillas menaul autobuses symptom inflate wholesome get windward 3542 festivals\n",
      "Topic #2:\n",
      "1344 boreasinn 8069 98631 boreas long_beach quorum 0454 abita_springs rosiestavern 22067 lenawee hadrian steiner 4458 6979 ione 20680 montevina 0945 95669 renwood 12225 monteverde 6942 watertower kaboomtown emperor get 209 drytown 5882 connect understand belt 6307 around buy dart wikipedia fence next go see 267 eat drink hour making 245\n",
      "Topic #3:\n",
      "mattar fiften bobs novoselic cosmopolis krist hellhole glittering stadium panther eleven get connect 19 grays understand scout around see go buy eat seclusion wikipedia drink next quinault new_jersey unspoiled forests 80 connections wild exits float stream several guides 160 route north_america united_states irish canoe crosses going stop preserved 25 course\n",
      "Topic #4:\n",
      "estacado trsp gnf isu gif loging dolor leasire i575 foxmap 3825 88n shillmap 58736 karlsruhe spggoose wtailmap pheasmap balfour cyride gymnastic 2925 stange nd us get exit take 20 coordinates longitude 610 go latitude hy hwy people hrs 27 turn 84 right population 97 dmoz regional localities car wife 35\n",
      "Topic #5:\n",
      "moorage tides launch boat facility gangway boating operated minus potable available feet moor coin slips foot accessible season pump transient floats elevated minimum fuel thru overlooks tide unit weeks marine ramps level ground facilities case making quaint 80 located hwy september boats owned throughout 10 easily comes around get 2371\n",
      "Topic #6:\n",
      "boudin étouffée francophones acadians acadiens cajuns tasso cutlets mamou prejeans cracklins cajun arnaudville randol united_states northernly north_america cracklin get louisiane crole cadiens 7a dmoz rinds regional localities 195 crawfish new_jersey buy turnpike drink around wikipedia amusement go next eat specialty see antique seat homes buildings accessible shops shopping well exit\n",
      "Topic #7:\n",
      "dougherty fark frustrated midlands meeting ndash get greenleaf amway macy marketing connect united_states north_america regional localities friends dmoz emphasizing multi oftentimes 284 buy giant wikipedia see eat next go drink around visited moderately saying level reflect mention chain headquarters citizens boat 92 understand doesn actually follow minute category fun difficult\n",
      "Topic #8:\n",
      "uta greylock yup i15 1064 newgate puffers 01033 9720 3736 0225 lookpark railtrail 0431 moan valleytransporter myōhōji seemoshuttle 2829 seemo leverett hadleyonline nipponzan childish peacepagoda easing 7788 sugarplum kuskokwim 1078 4587 engen 84092 1433 3882 ik get fwy buy next around localities go wikipedia drink see dmoz eat regional connect\n",
      "Topic #9:\n",
      "schoodic tarentum clairton alohans wadlow tileflat quatama 206th lightrail grabhorn rorks 10701 stlouis raviolli 62002 9950 gentelin stlouisregional 9860 7001 2531 champagnelimos warrants visotors ooeanside 3406 mistrust suburb get category commons connect fantastic localities mt 618 dmoz monongahela lambert regional buy around go drink see eat ikea next wikipedia iii\n",
      "Topic #10:\n",
      "ayer tejano _tennessee apd ranchman cotile marksville boils airbnb 615 5737 boardering seven get blvd highway category cnw_nw commons localities seacliff dmoz regional digit watercolor 281 us buy drink see eat go next wikipedia around telephone united_states postcards north_america line limo alabaster crawfish kincaid sahara numbers mbta 49 carpet local\n",
      "Topic #11:\n",
      "whiteface fernandina keeseville north_pole wptz get connect zeebie understand around go drink next see buy eat adirondack biathlete sarta snarls cloudsplitter orda popular north_america saranaclake biathlon tip lake_placid united_states olympiads tirrell wikipedia border walked npt act includes regional route localities dmoz typically name tourist least anywhere eradicated option students large\n",
      "Topic #12:\n",
      "gananoque bylin populaton kcs dougherty get next localities dmoz regional bluegill around buy wikipedia go drink eat see 12 markleeville 81 hwy pike small ny _wisconsin 2305 tour category borders commons amish people 176 24 persons 206 away 102 population tri intercity connect airports hours woodfords interstate transit development 85\n",
      "Topic #13:\n",
      "montour clatsop albert_lea hobsonville sandlake stainslaus goonies nehalem neskowin hebo netarts linkin chesebro lindero hoobastank sensations poage greenup 8193 yuns juniata expeditiion flavel refresh get boyd connect buy dmoz localities regional go united_states youse north_america interstate around drink wikipedia next see eat understand nearest nolan 35 exit 1812 123 commons\n",
      "Topic #14:\n",
      "get located route also car around highway one bus many see go us take service road next st small along eat drink buy regional http wikipedia interstate www drive localities dmoz exit well restaurants local understand major com train connect runs known line available several minutes best avenue offers commons\n",
      "Topic #15:\n",
      "angelica rushford soncy 4105 tdw 10801 lawmen homes honorable beetles get profession connect understand see offers chapman still go next drink wikipedia katella distinguish eat nixon around buy vantage kowloons technically number aplenty ferries geographically flourished library named produced 40 360 advance presidential approximately turns ways arrival freeways degree cheeses\n",
      "Topic #16:\n",
      "42n 72w 6128 aoo conrail absorption 814 936 296 coordinates pennsylvanian longitude railroad latitude 944 ln 96 220 46 altitude harborcreek 29 eventual goods reached feet wok wong johnstown blair population curve 376 small viewed get people car amtrak thickly dulles decline pa 99 76 train eat board localities turnpike\n",
      "Topic #17:\n",
      "unalaska tafuna pahngo aiga manu fa pekov zass aleutians aleut crucifix fono fah asamoa faleolo kava fagatogo samoans matais apia amatai fitiuta fagatele matai aigas auckland maota pango moh palau micronesia tylenol vatia depressant aga talofa apw fagasa utilised acetaminophen feh alu utulei nadi hierarchies communally constitutionally fatu methysticum unobtrusive\n",
      "Topic #18:\n",
      "south_dakota pine_ridge gvsu 059 63n 59w storlie minervas ramkota jafax pew 3118 3305 boonslick 3124 arrowrock 2263 bledsoe 3442 hodgepodge arrow_rock reigon 3432 lot2 3167 historicize 837 coordinates souhegan longitude latitude hot_springs get understand destinations meetinghouse safe around go see next drink 660 stay eat renamed wikipedia highway 97 48\n",
      "Topic #19:\n",
      "get buy drink next wikipedia around go eat see localities dmoz connect regional north_america united_states understand category commons destinations safe small stay seat located suburb _massachusetts north_carolina _arkansas new_jersey northwestern st interstate us border carpet unincorporated south_carolina community new_hampshire heartland part west_virginia 40 along nine metroplex fullpagename 376 35 64\n"
     ]
    }
   ],
   "source": [
    "print_top_words(lda,vector_features, 50)"
   ]
  },
  {
   "cell_type": "code",
   "execution_count": 192,
   "metadata": {
    "collapsed": false,
    "scrolled": true
   },
   "outputs": [
    {
     "name": "stdout",
     "output_type": "stream",
     "text": [
      "TOPIC: # 0\n",
      "Albia\n",
      "Abiquiu\n",
      "Chicago\n",
      "Big Bend National Park\n",
      "United States National Parks\n",
      "Buffalo\n",
      "Buffalo/East Side\n",
      "New York City\n",
      "Boston\n",
      "Buffalo/South Buffalo\n",
      "TOPIC: # 1\n",
      "Abington Township\n",
      "Allen Park\n",
      "Aladdin\n",
      "Albuquerque\n",
      "Chicago\n",
      "Big Bend National Park\n",
      "United States National Parks\n",
      "Buffalo\n",
      "Buffalo/East Side\n",
      "New York City\n",
      "TOPIC: # 2\n",
      "Long Beach (Washington)\n",
      "Amador County\n",
      "Abita Springs\n",
      "Adrian (Michigan)\n",
      "Addison\n",
      "Adirondacks\n",
      "Long Beach (New York)\n",
      "Chicago\n",
      "Big Bend National Park\n",
      "United States National Parks\n",
      "TOPIC: # 3\n",
      "Aberdeen (Washington)\n",
      "Allamuchy\n",
      "Buffalo/East Side\n",
      "Chicago\n",
      "Big Bend National Park\n",
      "United States National Parks\n",
      "Buffalo\n",
      "New York City\n",
      "Boston\n",
      "Buffalo/South Buffalo\n",
      "TOPIC: # 4\n",
      "Anamoose\n",
      "Andrews (North Carolina)\n",
      "Plainview (Texas)\n",
      "Lamesa\n",
      "Abernathy\n",
      "Post\n",
      "Arvilla\n",
      "Ames\n",
      "Bloomington-Normal\n",
      "Snyder (Texas)\n",
      "TOPIC: # 5\n",
      "Chicago\n",
      "Big Bend National Park\n",
      "United States National Parks\n",
      "Buffalo\n",
      "Buffalo/East Side\n",
      "New York City\n",
      "Boston\n",
      "Buffalo/South Buffalo\n",
      "Buffalo/North Buffalo\n",
      "Walt Disney World\n",
      "TOPIC: # 6\n",
      "Chicago\n",
      "Big Bend National Park\n",
      "United States National Parks\n",
      "Buffalo\n",
      "Buffalo/East Side\n",
      "New York City\n",
      "Boston\n",
      "Buffalo/South Buffalo\n",
      "Buffalo/North Buffalo\n",
      "Walt Disney World\n",
      "TOPIC: # 7\n",
      "Albany (Georgia)\n",
      "American Fork\n",
      "Adams (North Dakota)\n",
      "Athens (Georgia)\n",
      "Chicago\n",
      "Big Bend National Park\n",
      "United States National Parks\n",
      "Buffalo\n",
      "Buffalo/East Side\n",
      "New York City\n",
      "TOPIC: # 8\n",
      "Amherst (Massachusetts)\n",
      "Adams (Massachusetts)\n",
      "Ogden\n",
      "Springville\n",
      "Alta (Utah)\n",
      "Aniak\n",
      "Anaconda\n",
      "Provo\n",
      "Sandy\n",
      "West Valley City\n",
      "TOPIC: # 9\n",
      "Alton (Illinois)\n",
      "Aloha\n",
      "Winter Harbor\n",
      "Allegheny County\n",
      "Hancock County (Maine)\n",
      "Acadia National Park\n",
      "Chicago\n",
      "Big Bend National Park\n",
      "United States National Parks\n",
      "Buffalo\n",
      "TOPIC: # 10\n",
      "Alice (Texas)\n",
      "Alexandria (Louisiana)\n",
      "Alhambra (California)\n",
      "Harvard (Massachusetts)\n",
      "Harvard (Illinois)\n",
      "Acton (Massachusetts)\n",
      "Greeneville\n",
      "Antioch (Tennessee)\n",
      "Apalachicola National Forest\n",
      "Chicago\n",
      "TOPIC: # 11\n",
      "North Pole (New York)\n",
      "Amelia Island\n",
      "Wilmington (New York)\n",
      "Lake Placid\n",
      "Adirondacks\n",
      "Lake George\n",
      "Chicago\n",
      "Big Bend National Park\n",
      "United States National Parks\n",
      "Buffalo\n",
      "TOPIC: # 12\n",
      "Alexandria Bay\n",
      "Adams (North Dakota)\n",
      "Altoona (Wisconsin)\n",
      "Alpine (Texas)\n",
      "Clayton (New York)\n",
      "Chicago\n",
      "Big Bend National Park\n",
      "United States National Parks\n",
      "Buffalo\n",
      "Buffalo/East Side\n",
      "TOPIC: # 13\n",
      "Northern Oregon Coast\n",
      "Agoura Hills\n",
      "Danville (Pennsylvania)\n",
      "Astoria\n",
      "Albert Lea\n",
      "Ashland (Kentucky)\n",
      "Alleghenies and Susquehanna Valley\n",
      "Arnold\n",
      "Oregon Coast\n",
      "Chicago\n",
      "TOPIC: # 14\n",
      "Buffalo\n",
      "Chicago\n",
      "Washington, D.C.\n",
      "Seattle\n",
      "San Francisco\n",
      "New York City\n",
      "Los Angeles\n",
      "New Mexico\n",
      "Manhattan\n",
      "Colorado\n",
      "TOPIC: # 15\n",
      "Allegany County (New York)\n",
      "Amarillo\n",
      "Saugus\n",
      "Chicago\n",
      "Big Bend National Park\n",
      "United States National Parks\n",
      "Buffalo\n",
      "Buffalo/East Side\n",
      "New York City\n",
      "Boston\n",
      "TOPIC: # 16\n",
      "Altoona (Pennsylvania)\n",
      "Abercrombie\n",
      "Decatur (Illinois)\n",
      "Chicago\n",
      "Big Bend National Park\n",
      "United States National Parks\n",
      "Buffalo\n",
      "Buffalo/East Side\n",
      "New York City\n",
      "Boston\n",
      "TOPIC: # 17\n",
      "American Samoa\n",
      "Pago Pago\n",
      "Aleutian Islands\n",
      "Dutch Harbor-Unalaska\n",
      "Anchorage\n",
      "Alaska\n",
      "United States National Parks\n",
      "New Orleans\n",
      "Colorado\n",
      "Buffalo/North Buffalo\n",
      "TOPIC: # 18\n",
      "Pine Ridge\n",
      "Allendale\n",
      "Arrow Rock\n",
      "Alsen\n",
      "Aberdeen (South Dakota)\n",
      "Ipswich (South Dakota)\n",
      "Hot Springs (South Dakota)\n",
      "Rosebud\n",
      "Ambrose (North Dakota)\n",
      "Norfolk (Nebraska)\n",
      "TOPIC: # 19\n",
      "Carrollton (Georgia)\n",
      "Cameron (Arizona)\n",
      "Jackson (Minnesota)\n",
      "Clarion (Pennsylvania)\n",
      "Hancock (Maryland)\n",
      "Belmont (Massachusetts)\n",
      "Millbury\n",
      "Wallingford (Connecticut)\n",
      "Willmar\n",
      "Lynnfield\n"
     ]
    }
   ],
   "source": [
    "for topic in range(W.shape[1]):\n",
    "    #max_t = np.argmax(W[:,topic])\n",
    "    print \"TOPIC: #\",topic\n",
    "    #print features[max_t][0:150]\n",
    "    \n",
    "    for t in range(10):\n",
    "        n = int(-1-t)\n",
    "        max_2t = W[:,topic].argsort()[n]\n",
    "        print list(pages['Name'])[max_2t]"
   ]
  },
  {
   "cell_type": "code",
   "execution_count": 261,
   "metadata": {
    "collapsed": false
   },
   "outputs": [
    {
     "data": {
      "text/html": [
       "<div>\n",
       "<table border=\"1\" class=\"dataframe\">\n",
       "  <thead>\n",
       "    <tr style=\"text-align: right;\">\n",
       "      <th></th>\n",
       "      <th>Name</th>\n",
       "      <th>text</th>\n",
       "      <th>type</th>\n",
       "      <th>loc</th>\n",
       "    </tr>\n",
       "  </thead>\n",
       "  <tbody>\n",
       "    <tr>\n",
       "      <th>801</th>\n",
       "      <td>Buffalo/East Side</td>\n",
       "      <td>\\n\\nIf you're a visitor in Buffalo and you ask...</td>\n",
       "      <td>page</td>\n",
       "      <td>//tools.wmflabs.org/wikivoyage/w/poimap2.php?l...</td>\n",
       "    </tr>\n",
       "  </tbody>\n",
       "</table>\n",
       "</div>"
      ],
      "text/plain": [
       "                  Name                                               text  \\\n",
       "801  Buffalo/East Side  \\n\\nIf you're a visitor in Buffalo and you ask...   \n",
       "\n",
       "     type                                                loc  \n",
       "801  page  //tools.wmflabs.org/wikivoyage/w/poimap2.php?l...  "
      ]
     },
     "execution_count": 261,
     "metadata": {},
     "output_type": "execute_result"
    }
   ],
   "source": [
    "pages[pages['Name'] == 'Buffalo/East Side']"
   ]
  },
  {
   "cell_type": "code",
   "execution_count": 263,
   "metadata": {
    "collapsed": false,
    "scrolled": true
   },
   "outputs": [
    {
     "name": "stdout",
     "output_type": "stream",
     "text": [
      "72853\n"
     ]
    }
   ],
   "source": [
    "print len(pages['text'].ix[801])"
   ]
  },
  {
   "cell_type": "code",
   "execution_count": 235,
   "metadata": {
    "collapsed": true
   },
   "outputs": [],
   "source": [
    "def f(x):\n",
    "    x = re.sub(r'WikiPedia:([\\s\\S]*)','', x)\n",
    "    x = re.sub(r'Dmoz:([\\s\\S]*)','', x)\n",
    "    x = re.sub(r'\\[([\\s\\S]*)\\]','', x)\n",
    "    x = re.sub(r'[0-9]','', x)\n",
    "    x = re.sub(r'\\=\\=([\\S ]*)\\=\\=', '', x)\n",
    "    return x"
   ]
  },
  {
   "cell_type": "code",
   "execution_count": 236,
   "metadata": {
    "collapsed": true
   },
   "outputs": [],
   "source": [
    "pages['text'] = pages['text'].apply(f)"
   ]
  },
  {
   "cell_type": "code",
   "execution_count": 275,
   "metadata": {
    "collapsed": true
   },
   "outputs": [],
   "source": [
    "pages['len'] = map(lambda x: len(x), pages['text'])"
   ]
  },
  {
   "cell_type": "code",
   "execution_count": 281,
   "metadata": {
    "collapsed": false
   },
   "outputs": [],
   "source": [
    "pages2 = pages[pages['len']> 1000]"
   ]
  },
  {
   "cell_type": "code",
   "execution_count": 287,
   "metadata": {
    "collapsed": false
   },
   "outputs": [
    {
     "name": "stdout",
     "output_type": "stream",
     "text": [
      "\n",
      "\n",
      "Aberdeen is a city in the Olympic Peninsula region of Washington. The city is the economic center of Grays Harbor County, bordering the cities of Hoquiam and Cosmopolis. The population was 16,461 according to the 2000 census.\n",
      "\n",
      "==Understand==\n",
      "\n",
      "Aberdeen is called the \"Gateway to the Olympic Peninsula,\" because of its proximity to the southern end of the peninsula and to Olympic National Park. In recent history Aberdeen has become more famous as being the \"Birthplace of Grunge,\" and the hometown of Nirvana members Kurt Cobain and Krist Novoselic. A sign welcoming visitors to Aberdeen proclaims \"Come As You Are\" as a tribute to the band. Although it's hard to imagine today, at one point Aberdeen was a notorious Western outpost at the turn of the 20th century, with a number of saloons, brothels, and gambling halls in and around the town. Because of the wild atmosphere associated with these establishments, Aberdeen was nicknamed \"The Hellhole of the Pacific.\"\n",
      "\n",
      "==Get in==\n",
      "\n",
      "The nearest major airport is Seattle-Tacoma International Airport (), which is about 80 miles away. While it's possible to get to Aberdeen via a number of different bus routes, your best bet is to rent a car, especially if you are using Aberdeen as a jumping point into Olympic National Park as public transportation inside the park is extremely limited. From Seattle, Interstate 5 provides access to Olympia, where you can take State Route 8 to U.S. Route 12 west into the city.\n",
      "\n",
      "==Get around==\n",
      "\n",
      "\n",
      "* Grays Harbor Transit provides bus services in and around Aberdeen, with connections to Hoquiam, Ocean Shores, Quinault (with connections to Forks and Port Angeles), and Olympia (with connections to Tacoma and Seattle).\n",
      "\n",
      "==See==\n",
      "\n",
      "Aberdeen is well known for its lovely harbor, spread glittering and gray along the west edge of town, where the bay bobs with sailboats and speed cruisers.\n",
      "\n",
      "* \n",
      "\n",
      "* \n",
      "\n",
      "\n",
      "\n",
      "==Do==\n",
      "\n",
      "\n",
      "\n",
      "\n",
      "\n",
      "\n",
      "\n",
      "\n",
      "\n",
      "\n",
      "==Buy==\n",
      "\n",
      "* \n",
      "\n",
      "* \n",
      "* \n",
      "* Cannabis 21, 1000 E. Wishkah.  Recreational marijuana retail store.\n",
      "\n",
      "==Eat==\n",
      "\n",
      "\n",
      "\n",
      "\n",
      "\n",
      "\n",
      "\n",
      "* \n",
      "\n",
      "* \n",
      "\n",
      "* \n",
      "\n",
      "* \n",
      "\n",
      "\n",
      "==Drink==\n",
      "\n",
      "\n",
      "\n",
      "* \n",
      "\n",
      "==Sleep==\n",
      "\n",
      "* \n",
      "\n",
      "* \n",
      "\n",
      "* \n",
      "\n",
      "==Go next==\n",
      "\n",
      "Aberdeen has been referred to as the 'Gateway to the Olympic Peninsula' and is a great stop off before venturing into this impressive range. The Olympic Peninsula is home to some of the few temperate rain forests in the world, including the Hoh, Queets, and Quinault. The Olympic mountain range sits in the center of the Olympic Peninsula. This range is the second largest in Washington State. Its highest peak is Mt. Olympus.\n",
      "\n",
      "* Hoquiam - sharing a border with Aberdeen, Hoquiam maintains its own identity but shares a history in the lumber industry.\n",
      "* Westport - located fiften miles west of Aberdeen, Westport is situated on a peninsula on the south side of the entrance to Grays Harbor from the Pacific Ocean and is home to Washington's tallest lighthouse.\n",
      "\n",
      "\n",
      "\n",
      "\n",
      "\n",
      "\n",
      "\n",
      "WikiPedia:Aberdeen, Washington\n",
      "Dmoz:Regional/North America/United States/Washington/Localities/A/Aberdeen/\n",
      "Commons:Category:Aberdeen, Washington\n"
     ]
    }
   ],
   "source": [
    "print pages2.ix[3].text"
   ]
  },
  {
   "cell_type": "code",
   "execution_count": 242,
   "metadata": {
    "collapsed": true
   },
   "outputs": [],
   "source": [
    "features = pages2['text'].apply(lambda x: x.lower())\n",
    "TFIDFvect = TfidfVectorizer(stop_words=StopWords)\n",
    "x_features = TFIDFvect.fit_transform(features)"
   ]
  },
  {
   "cell_type": "code",
   "execution_count": 246,
   "metadata": {
    "collapsed": true
   },
   "outputs": [],
   "source": [
    "nmf = NMF(n_components=10, random_state=1, alpha=0, l1_ratio=0)\n",
    "W = nmf.fit_transform(x_features)\n",
    "H = nmf.components_"
   ]
  },
  {
   "cell_type": "code",
   "execution_count": 247,
   "metadata": {
    "collapsed": false
   },
   "outputs": [
    {
     "name": "stdout",
     "output_type": "stream",
     "text": [
      "Topic #0:\n",
      "many one also well restaurants around road local get areas summer food popular drive best see known good along large several year visitors time find people available trails shops fishing open take like offers including visit much first re go part hiking places within even largest car stores often restaurant\n",
      "Topic #1:\n",
      "small community population people seat plateau along outside nearest car iditarod residents farming towns outskirts drive heritage next nine nm border nearby railroad northwestern walk reservoir sometimes away public festival accommodations minutes nice around fishing lies mecklenburg approximately named berkshires closest get settlement covered hotels founded garrett across foot tomales\n",
      "Topic #2:\n",
      "wikipedia seat suburb northwestern name part nine largest metroplex unincorporated hare commons second municipal rd mdash category homes garrett appalachians core suburban wabash triad phone roslindale outlet known railroad northeasternmost founded seven census notably tier designated rapides outlets bedroom digit fly umm sr formerly referred md telephone also ga covering\n",
      "Topic #3:\n",
      "route exit take road follow turn onto right left minutes rt along get go drive runs turnpike routes access rd also sr goes continue towards pa away hour hours border approximately via traffic becomes straight parkway travel intersection car pond ends bos ramp berkshire taking connects mile nj reached passes\n",
      "Topic #4:\n",
      "us seat highways runs connects hwy take population car via minutes hour goes sr border served intersection people hours nearest directly halfway estacado northwestern local connected confluence regional code nc right drive closest airlines va commercial winston service fishing accessible ga toward continue seven digit trans founded across part oh\n",
      "Topic #5:\n",
      "st th ave neighborhood avenue rd suburb seat streets along av nd restaurant neighborhoods inn martin blocks broadway regional buildings lines stopping campus section african art ne restaurants shops walk coffee first convention century casino building episcopal going cafe nonstop bars largest tel broad music sts italian byway night subway\n",
      "Topic #6:\n",
      "interstate highways exit suburb km travels turnpike access exits via directly sr part connected nearest splits commuter passes provides major sits within freeway opposite largest accessed commons car winston greyhound ikea serve toll metroplex interchange serving ny intersect municipal neighboring terminus nearby category thruway served towns attractions outlets services appalachian\n",
      "Topic #7:\n",
      "highway population exit take along road approximately car people runs census drive towards passes via access km elevation mn allowing hwy feet nearby municipal go nearest coteaus intersection ca get named visitors hours travel sh terminates mining commercial byway follow mile wineries also reach highways accessible couple away minutes railroad\n",
      "Topic #8:\n",
      "located border along seat community northwestern unincorporated sr pa known restaurant pike approximately offers outside inn halfway accessible entrance minutes largest intersection pizza wi closest best served hwy lodging shopping ski km restaurants food ca mcdonalds serves within interchange cafe wv septa hotels breakfast surrounding also freeway fields family production\n",
      "Topic #9:\n",
      "bus service line transit avenue amtrak train runs major rail buses th stop car also minutes stops terminal airlines ave taxi lines routes served flights take transportation trains system around provides pm via airports hour commuter along one available express greyhound neighborhood offers hours streets regional shuttle closest get public\n"
     ]
    }
   ],
   "source": [
    "vector_features = TFIDFvect.get_feature_names()\n",
    "\n",
    "print_top_words(nmf, vector_features, 50)"
   ]
  },
  {
   "cell_type": "code",
   "execution_count": 248,
   "metadata": {
    "collapsed": false,
    "scrolled": false
   },
   "outputs": [
    {
     "name": "stdout",
     "output_type": "stream",
     "text": [
      "TOPIC: # 0\n",
      "Colorado\n",
      "Walt Disney World\n",
      "San Diego\n",
      "New Mexico\n",
      "Alaska\n",
      "Santa Fe (New Mexico)\n",
      "Rochester (New York)\n",
      "New Orleans\n",
      "Seattle\n",
      "Buffalo\n",
      "TOPIC: # 1\n",
      "Maxwell (Nebraska)\n",
      "Gustine\n",
      "Rome (New York)\n",
      "Eagle (Colorado)\n",
      "Wellfleet (Nebraska)\n",
      "Woodside\n",
      "Stanton (North Dakota)\n",
      "Pioneer\n",
      "Chatsworth (Georgia)\n",
      "Tuscumbia\n",
      "TOPIC: # 2\n",
      "Bradley Beach\n",
      "Highland County\n",
      "Hanover (Virginia)\n",
      "Marshall (Texas)\n",
      "Cahokia (Illinois)\n",
      "Cabarrus County\n",
      "Dallas/West Dallas\n",
      "Riverview\n",
      "Belmar\n",
      "Fort Wright\n",
      "TOPIC: # 3\n",
      "Kingsburg\n",
      "Lancaster (Massachusetts)\n",
      "Chowchilla\n",
      "Warrensburg\n",
      "Ashland (Massachusetts)\n",
      "Lorain\n",
      "Nevada (Ohio)\n",
      "Snyder County\n",
      "East Haddam\n",
      "Woodstock (Vermont)\n",
      "TOPIC: # 4\n",
      "Tonopah\n",
      "Bridgeport (Texas)\n",
      "Belmont (New Hampshire)\n",
      "Redstone\n",
      "Wellington (Texas)\n",
      "Wheeler\n",
      "Ozark (Arkansas)\n",
      "Clarksville (Arkansas)\n",
      "Mountainburg\n",
      "Russellville (Arkansas)\n",
      "TOPIC: # 5\n",
      "St. James\n",
      "Imperial (Missouri)\n",
      "Gray Summit\n",
      "Luling (Louisiana)\n",
      "Sullivan\n",
      "Kelso (Washington)\n",
      "St. Francisville\n",
      "St. George (South Carolina)\n",
      "St. Joseph\n",
      "Ferguson\n",
      "TOPIC: # 6\n",
      "Lincoln Park (Michigan)\n",
      "Mount Vernon (Illinois)\n",
      "Albert Lea\n",
      "Marshall (Michigan)\n",
      "Mayflower (Arkansas)\n",
      "Brandon (Florida)\n",
      "Hooksett\n",
      "Coldwater\n",
      "Spanish Fork\n",
      "Richfield (Utah)\n",
      "TOPIC: # 7\n",
      "Boonville (California)\n",
      "Corsicana\n",
      "Oakville (California)\n",
      "Worthington (Minnesota)\n",
      "Grafton (Wisconsin)\n",
      "Hastings (Minnesota)\n",
      "Columbia Falls\n",
      "Bowdon\n",
      "Staples\n",
      "Spanish Fork\n",
      "TOPIC: # 8\n",
      "Port Orford\n",
      "Goodyear\n",
      "Orland (Maine)\n",
      "Chelsea (Massachusetts)\n",
      "Occidental\n",
      "Wentworth (New Hampshire)\n",
      "Winslow (Arkansas)\n",
      "Long Hill (New Jersey)\n",
      "Cloverdale (California)\n",
      "Huntsville (Texas)\n",
      "TOPIC: # 9\n",
      "Palmdale\n",
      "Los Angeles/Downtown\n",
      "Bayonne (New Jersey)\n",
      "Newark Liberty International Airport\n",
      "Indio\n",
      "Hutchinson (Kansas)\n",
      "Merced\n",
      "Manteno\n",
      "Riverside\n",
      "New York City\n"
     ]
    }
   ],
   "source": [
    "for topic in range(W.shape[1]):\n",
    "    #max_t = np.argmax(W[:,topic])\n",
    "    print \"TOPIC: #\",topic\n",
    "    #print features[max_t][0:150]\n",
    "    \n",
    "    for t in range(10):\n",
    "        n = int(-1-t)\n",
    "        max_2t = W[:,topic].argsort()[n]\n",
    "        print list(pages['Name'])[max_2t]"
   ]
  },
  {
   "cell_type": "markdown",
   "metadata": {},
   "source": [
    "## TODO"
   ]
  },
  {
   "cell_type": "code",
   "execution_count": 60,
   "metadata": {
    "collapsed": true
   },
   "outputs": [],
   "source": [
    "## Consider breaking text into sections (e.g. DO, EAT, etc.)"
   ]
  },
  {
   "cell_type": "code",
   "execution_count": null,
   "metadata": {
    "collapsed": true
   },
   "outputs": [],
   "source": []
  }
 ],
 "metadata": {
  "kernelspec": {
   "display_name": "Python 2",
   "language": "python",
   "name": "python2"
  },
  "language_info": {
   "codemirror_mode": {
    "name": "ipython",
    "version": 2
   },
   "file_extension": ".py",
   "mimetype": "text/x-python",
   "name": "python",
   "nbconvert_exporter": "python",
   "pygments_lexer": "ipython2",
   "version": "2.7.10"
  }
 },
 "nbformat": 4,
 "nbformat_minor": 0
}
