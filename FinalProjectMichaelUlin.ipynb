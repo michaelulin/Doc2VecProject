{
 "cells": [
  {
   "cell_type": "markdown",
   "metadata": {},
   "source": [
    "## Doc2Vec On The WikiVoyage Corpus"
   ]
  },
  {
   "cell_type": "markdown",
   "metadata": {},
   "source": [
    "What is it?\n",
    "\n",
    "\n",
    "Goals\n",
    "\n",
    "\n",
    "Results"
   ]
  },
  {
   "cell_type": "markdown",
   "metadata": {},
   "source": [
    "### Word2Vec/Doc2Vec Model"
   ]
  },
  {
   "cell_type": "markdown",
   "metadata": {},
   "source": [
    "#### Neural Networks"
   ]
  },
  {
   "cell_type": "markdown",
   "metadata": {},
   "source": [
    "#### Word2Vec"
   ]
  },
  {
   "cell_type": "markdown",
   "metadata": {},
   "source": [
    "#### Doc2Vec / Paragraph Vectors"
   ]
  },
  {
   "cell_type": "markdown",
   "metadata": {},
   "source": [
    "### EDA and Preprocessing"
   ]
  },
  {
   "cell_type": "markdown",
   "metadata": {},
   "source": [
    "### Model Construction & Validation"
   ]
  },
  {
   "cell_type": "markdown",
   "metadata": {},
   "source": [
    "### Potential Next Steps"
   ]
  },
  {
   "cell_type": "markdown",
   "metadata": {},
   "source": [
    "### Key Takeaways"
   ]
  },
  {
   "cell_type": "markdown",
   "metadata": {},
   "source": [
    "1. Iteratively tranverse tree structures\n",
    "2. Word2Vec can be used outside of NLP\n",
    "3. "
   ]
  },
  {
   "cell_type": "markdown",
   "metadata": {},
   "source": [
    "### Useful Resources"
   ]
  },
  {
   "cell_type": "markdown",
   "metadata": {},
   "source": [
    "#### Word2Vec/Doc2Vec\n",
    "\n",
    "- StitchFix: A word is worth a thousand vectors\n",
    "    - Video https://www.youtube.com/watch?v=vkfXBGnDplQ\n",
    "    - Blog Post http://multithreaded.stitchfix.com/blog/2015/03/11/word-is-worth-a-thousand-vectors/\n",
    "    \n",
    "- TensorFlow: Vector representations of words https://www.tensorflow.org/versions/master/tutorials/word2vec/index.html\n",
    "- Doc2Vec tutorial using Gensim https://medium.com/@klintcho/doc2vec-tutorial-using-gensim-ab3ac03d3a1#.j9zfhhg8i\n",
    "- Deeplearning4j: Word2Vec Tutorial http://deeplearning4j.org/word2vec.html\n",
    "- Rare Technologies: Doc2Vec tutorial http://rare-technologies.com/doc2vec-tutorial/\n",
    "- Distributed Representations of Sentences and Documents http://nbviewer.ipython.org/github/fbkarsdorp/doc2vec/blob/master/doc2vec.ipynb\n",
    "- Word2Vec Parameter Learning Explained http://www-personal.umich.edu/~ronxin/pdf/w2vexp.pdf\n",
    "\n",
    "\n",
    "#### Neural Networks\n",
    "- Neural Networks Demystified \n",
    "    - Video https://www.youtube.com/watch?v=bxe2T-V8XRs\n",
    "    - Github https://github.com/stephencwelch/Neural-Networks-Demystified\n",
    "- Intro to Neural Networks https://www.youtube.com/watch?v=DG5-UyRBQD4"
   ]
  },
  {
   "cell_type": "code",
   "execution_count": null,
   "metadata": {
    "collapsed": true
   },
   "outputs": [],
   "source": []
  }
 ],
 "metadata": {
  "kernelspec": {
   "display_name": "Python 2",
   "language": "python",
   "name": "python2"
  },
  "language_info": {
   "codemirror_mode": {
    "name": "ipython",
    "version": 2
   },
   "file_extension": ".py",
   "mimetype": "text/x-python",
   "name": "python",
   "nbconvert_exporter": "python",
   "pygments_lexer": "ipython2",
   "version": "2.7.11"
  }
 },
 "nbformat": 4,
 "nbformat_minor": 0
}
