{
 "cells": [
  {
   "cell_type": "code",
   "execution_count": 1,
   "metadata": {
    "collapsed": true
   },
   "outputs": [],
   "source": [
    "import pickle\n",
    "import pandas as pd\n",
    "import re"
   ]
  },
  {
   "cell_type": "code",
   "execution_count": 191,
   "metadata": {
    "collapsed": false
   },
   "outputs": [],
   "source": [
    "import pickle\n",
    "import pandas as pd\n",
    "import re\n",
    "from gensim.models.doc2vec import LabeledSentence\n",
    "import gensim\n",
    "\n",
    "features = pickle.load(open(\"features.p\",\"rb\"))\n",
    "labels_list = pickle.load(open(\"labels_list.p\",\"rb\"))"
   ]
  },
  {
   "cell_type": "code",
   "execution_count": 195,
   "metadata": {
    "collapsed": true
   },
   "outputs": [],
   "source": [
    "features = [[y for y in x if y not in StopWords and len(y) >2 and 'wiki' not in y] for x in features[0:10]]"
   ]
  },
  {
   "cell_type": "code",
   "execution_count": null,
   "metadata": {
    "collapsed": true
   },
   "outputs": [],
   "source": []
  },
  {
   "cell_type": "code",
   "execution_count": 196,
   "metadata": {
    "collapsed": false
   },
   "outputs": [
    {
     "data": {
      "text/plain": [
       "[[u'small',\n",
       "  u'population',\n",
       "  u'people',\n",
       "  u'coordinates',\n",
       "  u'latitude',\n",
       "  u'longitude',\n",
       "  u'altitude',\n",
       "  u'feet',\n",
       "  u'car'],\n",
       " [],\n",
       " [u'regional',\n",
       "  u'features',\n",
       "  u'several',\n",
       "  u'flights',\n",
       "  u'operated',\n",
       "  u'lines',\n",
       "  u'daily',\n",
       "  u'flights',\n",
       "  u'connect',\n",
       "  u'public',\n",
       "  u'transportation',\n",
       "  u'available',\n",
       "  u'transportation',\n",
       "  u'relies',\n",
       "  u'cars',\n",
       "  u'rental',\n",
       "  u'vehicles',\n",
       "  u'best',\n",
       "  u'means',\n",
       "  u'travel',\n",
       "  u'cab',\n",
       "  u'system',\n",
       "  u'somewhat',\n",
       "  u'sketchy',\n",
       "  u'storybook',\n",
       "  u'landwylie',\n",
       "  u'parkthe',\n",
       "  u'best',\n",
       "  u'restaurants',\n",
       "  u'include',\n",
       "  u'minervas',\n",
       "  u'located',\n",
       "  u'ramkota',\n",
       "  u'best',\n",
       "  u'maverick',\n",
       "  u'steak',\n",
       "  u'flame',\n",
       "  u'located'],\n",
       " [u'economic',\n",
       "  u'grays',\n",
       "  u'bordering',\n",
       "  u'cosmopolis',\n",
       "  u'population',\n",
       "  u'according',\n",
       "  u'census',\n",
       "  u'called',\n",
       "  u'proximity',\n",
       "  u'recent',\n",
       "  u'become',\n",
       "  u'famous',\n",
       "  u'birthplace',\n",
       "  u'grunge',\n",
       "  u'hometown',\n",
       "  u'nirvana',\n",
       "  u'members',\n",
       "  u'kurt',\n",
       "  u'cobain',\n",
       "  u'krist',\n",
       "  u'novoselic',\n",
       "  u'sign',\n",
       "  u'welcoming',\n",
       "  u'visitors',\n",
       "  u'proclaims',\n",
       "  u'come',\n",
       "  u'tribute',\n",
       "  u'band',\n",
       "  u'although',\n",
       "  u'hard',\n",
       "  u'imagine',\n",
       "  u'today',\n",
       "  u'one',\n",
       "  u'notorious',\n",
       "  u'outpost',\n",
       "  u'turn',\n",
       "  u'century',\n",
       "  u'number',\n",
       "  u'saloons',\n",
       "  u'brothels',\n",
       "  u'gambling',\n",
       "  u'halls',\n",
       "  u'around',\n",
       "  u'wild',\n",
       "  u'atmosphere',\n",
       "  u'associated',\n",
       "  u'establishments',\n",
       "  u'nicknamed',\n",
       "  u'hellhole',\n",
       "  u'nearest',\n",
       "  u'major',\n",
       "  u'away',\n",
       "  u'possible',\n",
       "  u'get',\n",
       "  u'via',\n",
       "  u'number',\n",
       "  u'different',\n",
       "  u'bus',\n",
       "  u'routes',\n",
       "  u'best',\n",
       "  u'bet',\n",
       "  u'rent',\n",
       "  u'car',\n",
       "  u'especially',\n",
       "  u'using',\n",
       "  u'jumping',\n",
       "  u'public',\n",
       "  u'transportation',\n",
       "  u'inside',\n",
       "  u'extremely',\n",
       "  u'limited',\n",
       "  u'interstate',\n",
       "  u'provides',\n",
       "  u'access',\n",
       "  u'take',\n",
       "  u'route',\n",
       "  u'route',\n",
       "  u'grays',\n",
       "  u'transit',\n",
       "  u'provides',\n",
       "  u'bus',\n",
       "  u'services',\n",
       "  u'around',\n",
       "  u'connections',\n",
       "  u'quinault',\n",
       "  u'connections',\n",
       "  u'connections',\n",
       "  u'well',\n",
       "  u'known',\n",
       "  u'lovely',\n",
       "  u'spread',\n",
       "  u'glittering',\n",
       "  u'along',\n",
       "  u'bobs',\n",
       "  u'sailboats',\n",
       "  u'speed',\n",
       "  u'cruisers',\n",
       "  u'cannabis',\n",
       "  u'wishkah',\n",
       "  u'recreational',\n",
       "  u'marijuana',\n",
       "  u'retail',\n",
       "  u'store',\n",
       "  u'referred',\n",
       "  u'stop',\n",
       "  u'venturing',\n",
       "  u'impressive',\n",
       "  u'temperate',\n",
       "  u'rain',\n",
       "  u'forests',\n",
       "  u'including',\n",
       "  u'hoh',\n",
       "  u'queets',\n",
       "  u'quinault',\n",
       "  u'sits',\n",
       "  u'second',\n",
       "  u'largest',\n",
       "  u'highest',\n",
       "  u'olympus',\n",
       "  u'sharing',\n",
       "  u'border',\n",
       "  u'maintains',\n",
       "  u'identity',\n",
       "  u'shares',\n",
       "  u'lumber',\n",
       "  u'industry',\n",
       "  u'located',\n",
       "  u'fiften',\n",
       "  u'situated',\n",
       "  u'entrance',\n",
       "  u'grays',\n",
       "  u'tallest',\n",
       "  u'lighthouse'],\n",
       " [u'estacado'],\n",
       " [u'regional',\n",
       "  u'hwy',\n",
       "  u'provides',\n",
       "  u'service',\n",
       "  u'take',\n",
       "  u'towards',\n",
       "  u'ends',\n",
       "  u'continue',\n",
       "  u'towards',\n",
       "  u'time',\n",
       "  u'hrs',\n",
       "  u'depending',\n",
       "  u'traffic',\n",
       "  u'start',\n",
       "  u'take',\n",
       "  u'time',\n",
       "  u'hrs',\n",
       "  u'take',\n",
       "  u'mirdges',\n",
       "  u'continue',\n",
       "  u'brakes',\n",
       "  u'continue',\n",
       "  u'time',\n",
       "  u'hrs',\n",
       "  u'take',\n",
       "  u'use',\n",
       "  u'exit',\n",
       "  u'take',\n",
       "  u'take',\n",
       "  u'take',\n",
       "  u'time',\n",
       "  u'hrs',\n",
       "  u'depending',\n",
       "  u'traffic',\n",
       "  u'phantom',\n",
       "  u'popular',\n",
       "  u'sport',\n",
       "  u'fishing',\n",
       "  u'commons',\n",
       "  u'category'],\n",
       " [u'named',\n",
       "  u'one',\n",
       "  u'best',\n",
       "  u'communities',\n",
       "  u'live',\n",
       "  u'according',\n",
       "  u'money',\n",
       "  u'magazine',\n",
       "  u'outside',\n",
       "  u'one',\n",
       "  u'oldest',\n",
       "  u'communities',\n",
       "  u'dating',\n",
       "  u'incorporated',\n",
       "  u'oldest',\n",
       "  u'transportation',\n",
       "  u'routes',\n",
       "  u'industries',\n",
       "  u'churches',\n",
       "  u'many',\n",
       "  u'older',\n",
       "  u'transportation',\n",
       "  u'centers',\n",
       "  u'forerunners',\n",
       "  u'modern',\n",
       "  u'today',\n",
       "  u'highly',\n",
       "  u'desirable',\n",
       "  u'residential',\n",
       "  u'contains',\n",
       "  u'major',\n",
       "  u'shopping',\n",
       "  u'several',\n",
       "  u'small',\n",
       "  u'businesses',\n",
       "  u'largest',\n",
       "  u'employers',\n",
       "  u'easy',\n",
       "  u'access',\n",
       "  u'destinations',\n",
       "  u'sesame',\n",
       "  u'premium',\n",
       "  u'outlets',\n",
       "  u'visit',\n",
       "  u'thirty',\n",
       "  u'minute',\n",
       "  u'drive',\n",
       "  u'trains',\n",
       "  u'septa',\n",
       "  u'regional',\n",
       "  u'rail',\n",
       "  u'easy',\n",
       "  u'access',\n",
       "  u'many',\n",
       "  u'train',\n",
       "  u'stations',\n",
       "  u'throughout',\n",
       "  u'buses',\n",
       "  u'travel',\n",
       "  u'around',\n",
       "  u'well',\n",
       "  u'reach',\n",
       "  u'car',\n",
       "  u'route',\n",
       "  u'turnpike',\n",
       "  u'exiting',\n",
       "  u'bryn',\n",
       "  u'athen',\n",
       "  u'episcopal',\n",
       "  u'seat',\n",
       "  u'general',\n",
       "  u'jerusalem',\n",
       "  u'swedenborgian',\n",
       "  u'renowned',\n",
       "  u'stained',\n",
       "  u'glass',\n",
       "  u'collection',\n",
       "  u'unusual',\n",
       "  u'architecture',\n",
       "  u'built',\n",
       "  u'century',\n",
       "  u'following',\n",
       "  u'gothic',\n",
       "  u'revivalist',\n",
       "  u'emergence',\n",
       "  u'alverthorpe',\n",
       "  u'equipped',\n",
       "  u'golf',\n",
       "  u'course',\n",
       "  u'mini',\n",
       "  u'golf',\n",
       "  u'course',\n",
       "  u'children',\n",
       "  u'pool',\n",
       "  u'playground',\n",
       "  u'fishing',\n",
       "  u'outdoor',\n",
       "  u'picnic',\n",
       "  u'areas',\n",
       "  u'bike',\n",
       "  u'trails',\n",
       "  u'alverthorpe',\n",
       "  u'perfect',\n",
       "  u'take',\n",
       "  u'family',\n",
       "  u'outdoor',\n",
       "  u'fun',\n",
       "  u'former',\n",
       "  u'location',\n",
       "  u'located',\n",
       "  u'established',\n",
       "  u'suburban',\n",
       "  u'setting',\n",
       "  u'features',\n",
       "  u'upscale',\n",
       "  u'shops',\n",
       "  u'banana',\n",
       "  u'coach',\n",
       "  u'lucky',\n",
       "  u'brand',\n",
       "  u'jeans',\n",
       "  u'sephora',\n",
       "  u'along',\n",
       "  u'bloomingdale',\n",
       "  u'macy',\n",
       "  u'sears',\n",
       "  u'kitchen',\n",
       "  u'turnpike',\n",
       "  u'kitchen',\n",
       "  u'open',\n",
       "  u'breakfast',\n",
       "  u'lunch',\n",
       "  u'dinner',\n",
       "  u'late',\n",
       "  u'night',\n",
       "  u'drinks',\n",
       "  u'huge',\n",
       "  u'menu',\n",
       "  u'includes',\n",
       "  u'everything',\n",
       "  u'appetizers',\n",
       "  u'sandwiches',\n",
       "  u'salads',\n",
       "  u'pizza',\n",
       "  u'full',\n",
       "  u'course',\n",
       "  u'dinners',\n",
       "  u'meat',\n",
       "  u'kitchen',\n",
       "  u'provides',\n",
       "  u'wholesome',\n",
       "  u'delicious',\n",
       "  u'meal',\n",
       "  u'satisfy',\n",
       "  u'appetite',\n",
       "  u'meal',\n",
       "  u'kitchen',\n",
       "  u'also',\n",
       "  u'features',\n",
       "  u'brand',\n",
       "  u'lounge',\n",
       "  u'live',\n",
       "  u'entertainment',\n",
       "  u'every',\n",
       "  u'weekend',\n",
       "  u'offer',\n",
       "  u'newly',\n",
       "  u'renovated',\n",
       "  u'private',\n",
       "  u'banquet',\n",
       "  u'room',\n",
       "  u'accommodate',\n",
       "  u'people',\n",
       "  u'parties',\n",
       "  u'meetings',\n",
       "  u'ookaa',\n",
       "  u'authentic',\n",
       "  u'hibachi',\n",
       "  u'style',\n",
       "  u'japanese',\n",
       "  u'cooking',\n",
       "  u'sure',\n",
       "  u'ask',\n",
       "  u'cheesecake',\n",
       "  u'factory',\n",
       "  u'lunch',\n",
       "  u'dinner',\n",
       "  u'specials',\n",
       "  u'stefano',\n",
       "  u'ristorante',\n",
       "  u'italiano',\n",
       "  u'pike',\n",
       "  u'byob',\n",
       "  u'authentic',\n",
       "  u'italian',\n",
       "  u'food',\n",
       "  u'owned',\n",
       "  u'operated',\n",
       "  u'generations',\n",
       "  u'terra',\n",
       "  u'family',\n",
       "  u'years',\n",
       "  u'experience',\n",
       "  u'preserving',\n",
       "  u'time',\n",
       "  u'honored',\n",
       "  u'tradition',\n",
       "  u'preparing',\n",
       "  u'superlative',\n",
       "  u'food',\n",
       "  u'freshest',\n",
       "  u'finest',\n",
       "  u'ingredients',\n",
       "  u'sprinkles',\n",
       "  u'line',\n",
       "  u'mom',\n",
       "  u'pop',\n",
       "  u'ice',\n",
       "  u'cream',\n",
       "  u'parlor',\n",
       "  u'serves',\n",
       "  u'homemade',\n",
       "  u'ice',\n",
       "  u'cream',\n",
       "  u'days',\n",
       "  u'inn',\n",
       "  u'nearby',\n",
       "  u'horsham',\n",
       "  u'tel'],\n",
       " [u'kyoo',\n",
       "  u'usa',\n",
       "  u'despite',\n",
       "  u'small',\n",
       "  u'population',\n",
       "  u'interesting',\n",
       "  u'attractive',\n",
       "  u'scenery',\n",
       "  u'conference',\n",
       "  u'living',\n",
       "  u'proper',\n",
       "  u'one',\n",
       "  u'visit',\n",
       "  u'famous',\n",
       "  u'painter',\n",
       "  u'keefe',\n",
       "  u'highway',\n",
       "  u'road',\n",
       "  u'generally',\n",
       "  u'passable',\n",
       "  u'even',\n",
       "  u'storms',\n",
       "  u'unlike',\n",
       "  u'highways',\n",
       "  u'stays',\n",
       "  u'however',\n",
       "  u'messy',\n",
       "  u'check',\n",
       "  u'conditions',\n",
       "  u'approaching',\n",
       "  u'nearest',\n",
       "  u'major',\n",
       "  u'regional',\n",
       "  u'transit',\n",
       "  u'buses',\n",
       "  u'provide',\n",
       "  u'free',\n",
       "  u'bus',\n",
       "  u'service',\n",
       "  u'weekdays',\n",
       "  u'espa',\n",
       "  u'ola',\n",
       "  u'connect',\n",
       "  u'routes',\n",
       "  u'communities',\n",
       "  u'much',\n",
       "  u'get',\n",
       "  u'around',\n",
       "  u'outlying',\n",
       "  u'attractions',\n",
       "  u'good',\n",
       "  u'road',\n",
       "  u'heading',\n",
       "  u'see',\n",
       "  u'next',\n",
       "  u'clearance',\n",
       "  u'vehicle',\n",
       "  u'good',\n",
       "  u'idea',\n",
       "  u'going',\n",
       "  u'get',\n",
       "  u'highway',\n",
       "  u'much',\n",
       "  u'scenery',\n",
       "  u'commonly',\n",
       "  u'associated',\n",
       "  u'keeffe',\n",
       "  u'work',\n",
       "  u'seen',\n",
       "  u'well',\n",
       "  u'highway',\n",
       "  u'continue',\n",
       "  u'past',\n",
       "  u'echo',\n",
       "  u'amphitheater',\n",
       "  u'easy',\n",
       "  u'leads',\n",
       "  u'eponymous',\n",
       "  u'geological',\n",
       "  u'feature',\n",
       "  u'sports',\n",
       "  u'available',\n",
       "  u'nearby',\n",
       "  u'one',\n",
       "  u'number',\n",
       "  u'small',\n",
       "  u'artificial',\n",
       "  u'built',\n",
       "  u'primarily',\n",
       "  u'control',\n",
       "  u'flooding',\n",
       "  u'along',\n",
       "  u'picnics',\n",
       "  u'rustic',\n",
       "  u'camping',\n",
       "  u'possible',\n",
       "  u'generally',\n",
       "  u'held',\n",
       "  u'offer',\n",
       "  u'best',\n",
       "  u'fishing',\n",
       "  u'hiking',\n",
       "  u'trails',\n",
       "  u'around',\n",
       "  u'reachable',\n",
       "  u'experience',\n",
       "  u'hiking',\n",
       "  u'try',\n",
       "  u'route',\n",
       "  u'suggested',\n",
       "  u'next',\n",
       "  u'camping',\n",
       "  u'possible',\n",
       "  u'also',\n",
       "  u'echo',\n",
       "  u'amphitheater',\n",
       "  u'campground',\n",
       "  u'pretty',\n",
       "  u'seen',\n",
       "  u'good',\n",
       "  u'advantage',\n",
       "  u'either',\n",
       "  u'better',\n",
       "  u'along',\n",
       "  u'trailheads',\n",
       "  u'leading',\n",
       "  u'reachable',\n",
       "  u'highway',\n",
       "  u'warnings',\n",
       "  u'first',\n",
       "  u'many',\n",
       "  u'rough',\n",
       "  u'enough',\n",
       "  u'require',\n",
       "  u'clearance',\n",
       "  u'vehicles',\n",
       "  u'summer',\n",
       "  u'wheel',\n",
       "  u'drive',\n",
       "  u'nearly',\n",
       "  u'essential',\n",
       "  u'owing',\n",
       "  u'muddy',\n",
       "  u'spots',\n",
       "  u'second',\n",
       "  u'problems',\n",
       "  u'vandalism',\n",
       "  u'vehicles',\n",
       "  u'parked'],\n",
       " [u'part',\n",
       "  u'pontchartrain',\n",
       "  u'hour',\n",
       "  u'hour',\n",
       "  u'hour',\n",
       "  u'minutes',\n",
       "  u'access',\n",
       "  u'almost',\n",
       "  u'exclusively',\n",
       "  u'private',\n",
       "  u'vehicle',\n",
       "  u'take',\n",
       "  u'rosie',\n",
       "  u'tavern',\n",
       "  u'hwy',\n",
       "  u'right',\n",
       "  u'pavilion',\n",
       "  u'tel',\n",
       "  u'minutes',\n",
       "  u'drive',\n",
       "  u'hours',\n",
       "  u'along'],\n",
       " [u'encompasses',\n",
       "  u'lie',\n",
       "  u'haut',\n",
       "  u'schoodic',\n",
       "  u'one',\n",
       "  u'smaller',\n",
       "  u'yet',\n",
       "  u'attracts',\n",
       "  u'nearly',\n",
       "  u'million',\n",
       "  u'visitors',\n",
       "  u'per',\n",
       "  u'year',\n",
       "  u'important',\n",
       "  u'visit',\n",
       "  u'explore',\n",
       "  u'wonderful',\n",
       "  u'follow',\n",
       "  u'basic',\n",
       "  u'guidelines',\n",
       "  u'order',\n",
       "  u'keep',\n",
       "  u'clean',\n",
       "  u'undisturbed',\n",
       "  u'possible',\n",
       "  u'please',\n",
       "  u'review',\n",
       "  u'leave',\n",
       "  u'trace',\n",
       "  u'principles',\n",
       "  u'planning',\n",
       "  u'trip',\n",
       "  u'remember',\n",
       "  u'vacation',\n",
       "  u'help',\n",
       "  u'keep',\n",
       "  u'originally',\n",
       "  u'designated',\n",
       "  u'sieur',\n",
       "  u'monts',\n",
       "  u'presidential',\n",
       "  u'proclamation',\n",
       "  u'renamed',\n",
       "  u'enacted',\n",
       "  u'name',\n",
       "  u'change',\n",
       "  u'name',\n",
       "  u'use',\n",
       "  u'first',\n",
       "  u'established',\n",
       "  u'october',\n",
       "  u'along',\n",
       "  u'adjacent',\n",
       "  u'lands',\n",
       "  u'ravaged',\n",
       "  u'quick',\n",
       "  u'look',\n",
       "  u'topographical',\n",
       "  u'map',\n",
       "  u'indicate',\n",
       "  u'powerful',\n",
       "  u'lasting',\n",
       "  u'effects',\n",
       "  u'last',\n",
       "  u'ice',\n",
       "  u'age',\n",
       "  u'current',\n",
       "  u'landscape',\n",
       "  u'last',\n",
       "  u'receded',\n",
       "  u'years',\n",
       "  u'ago',\n",
       "  u'left',\n",
       "  u'behind',\n",
       "  u'elongated',\n",
       "  u'see',\n",
       "  u'today',\n",
       "  u'moving',\n",
       "  u'ice',\n",
       "  u'also',\n",
       "  u'culprit',\n",
       "  u'behind',\n",
       "  u'summits',\n",
       "  u'hilltops',\n",
       "  u'scraping',\n",
       "  u'vegetation',\n",
       "  u'leaving',\n",
       "  u'beautiful',\n",
       "  u'underneath',\n",
       "  u'bird',\n",
       "  u'species',\n",
       "  u'identified',\n",
       "  u'including',\n",
       "  u'eagles',\n",
       "  u'peregrine',\n",
       "  u'falcons',\n",
       "  u'jays',\n",
       "  u'finches',\n",
       "  u'chickadees',\n",
       "  u'bird',\n",
       "  u'mammal',\n",
       "  u'species',\n",
       "  u'include',\n",
       "  u'squirrels',\n",
       "  u'foxes',\n",
       "  u'rabbits',\n",
       "  u'porcupines',\n",
       "  u'bats',\n",
       "  u'species',\n",
       "  u'include',\n",
       "  u'garter',\n",
       "  u'snakes',\n",
       "  u'bullfrog',\n",
       "  u'bellied',\n",
       "  u'salamander',\n",
       "  u'weather',\n",
       "  u'largely',\n",
       "  u'product',\n",
       "  u'latitude',\n",
       "  u'marine',\n",
       "  u'influences',\n",
       "  u'daily',\n",
       "  u'annual',\n",
       "  u'basis',\n",
       "  u'temperatures',\n",
       "  u'moderate',\n",
       "  u'climate',\n",
       "  u'ranked',\n",
       "  u'second',\n",
       "  u'annual',\n",
       "  u'precipitation',\n",
       "  u'moisture',\n",
       "  u'occurs',\n",
       "  u'every',\n",
       "  u'form',\n",
       "  u'ice',\n",
       "  u'storms',\n",
       "  u'regular',\n",
       "  u'rain',\n",
       "  u'frequent',\n",
       "  u'every',\n",
       "  u'month',\n",
       "  u'fog',\n",
       "  u'common',\n",
       "  u'june',\n",
       "  u'july',\n",
       "  u'august',\n",
       "  u'foggy',\n",
       "  u'temperatures',\n",
       "  u'ranging',\n",
       "  u'degrees',\n",
       "  u'wear',\n",
       "  u'light',\n",
       "  u'colored',\n",
       "  u'clothing',\n",
       "  u'sleeve',\n",
       "  u'shirts',\n",
       "  u'pants',\n",
       "  u'protection',\n",
       "  u'annual',\n",
       "  u'rainfall',\n",
       "  u'inches',\n",
       "  u'summer',\n",
       "  u'daytime',\n",
       "  u'temperatures',\n",
       "  u'degrees',\n",
       "  u'evenings',\n",
       "  u'cooler',\n",
       "  u'dressing',\n",
       "  u'layers',\n",
       "  u'advisable',\n",
       "  u'boating',\n",
       "  u'hiking',\n",
       "  u'activities',\n",
       "  u'temperatures',\n",
       "  u'degrees',\n",
       "  u'temperatures',\n",
       "  u'degrees',\n",
       "  u'temperatures',\n",
       "  u'low',\n",
       "  u'freezing',\n",
       "  u'night',\n",
       "  u'come',\n",
       "  u'prepared',\n",
       "  u'types',\n",
       "  u'weather',\n",
       "  u'fog',\n",
       "  u'downpours',\n",
       "  u'flurries',\n",
       "  u'foliage',\n",
       "  u'often',\n",
       "  u'first',\n",
       "  u'couple',\n",
       "  u'weeks',\n",
       "  u'october',\n",
       "  u'weather',\n",
       "  u'conditions',\n",
       "  u'summer',\n",
       "  u'drought',\n",
       "  u'alter',\n",
       "  u'time',\n",
       "  u'leaves',\n",
       "  u'due',\n",
       "  u'location',\n",
       "  u'weather',\n",
       "  u'conditions',\n",
       "  u'change',\n",
       "  u'rapidly',\n",
       "  u'temperatures',\n",
       "  u'vary',\n",
       "  u'zero',\n",
       "  u'averages',\n",
       "  u'inches',\n",
       "  u'annually',\n",
       "  u'latest',\n",
       "  u'weather',\n",
       "  u'information',\n",
       "  u'call',\n",
       "  u'local',\n",
       "  u'weather',\n",
       "  u'phone',\n",
       "  u'line',\n",
       "  u'call',\n",
       "  u'located',\n",
       "  u'along',\n",
       "  u'rugged',\n",
       "  u'downeast',\n",
       "  u'located',\n",
       "  u'accessible',\n",
       "  u'vehicle',\n",
       "  u'approximately',\n",
       "  u'six',\n",
       "  u'hours',\n",
       "  u'take',\n",
       "  u'route',\n",
       "  u'alternate',\n",
       "  u'route',\n",
       "  u'continue',\n",
       "  u'take',\n",
       "  u'route',\n",
       "  u'take',\n",
       "  u'route',\n",
       "  u'car',\n",
       "  u'schoodic',\n",
       "  u'section',\n",
       "  u'follow',\n",
       "  u'hour',\n",
       "  u'hours',\n",
       "  u'hours',\n",
       "  u'hours',\n",
       "  u'hours',\n",
       "  u'hours',\n",
       "  u'montreal',\n",
       "  u'quebec',\n",
       "  u'hours',\n",
       "  u'nova',\n",
       "  u'hoursdirect',\n",
       "  u'flights',\n",
       "  u'located',\n",
       "  u'airlines',\n",
       "  u'serve',\n",
       "  u'one',\n",
       "  u'hour',\n",
       "  u'car',\n",
       "  u'rentals',\n",
       "  u'available',\n",
       "  u'airports',\n",
       "  u'longer',\n",
       "  u'service',\n",
       "  u'nova',\n",
       "  u'vehicle',\n",
       "  u'entrance',\n",
       "  u'permit',\n",
       "  u'jun',\n",
       "  u'oct',\n",
       "  u'jun',\n",
       "  u'oct',\n",
       "  u'oct',\n",
       "  u'free',\n",
       "  u'oct',\n",
       "  u'apr',\n",
       "  u'however',\n",
       "  u'parts',\n",
       "  u'closed',\n",
       "  u'due',\n",
       "  u'individual',\n",
       "  u'pedestrian',\n",
       "  u'motorcycle',\n",
       "  u'bicycle',\n",
       "  u'children',\n",
       "  u'free',\n",
       "  u'annual',\n",
       "  u'commercial',\n",
       "  u'capacity',\n",
       "  u'visitor',\n",
       "  u'entrance',\n",
       "  u'commercial',\n",
       "  u'capacity',\n",
       "  u'entrance',\n",
       "  u'commercial',\n",
       "  u'mini',\n",
       "  u'bus',\n",
       "  u'capacity',\n",
       "  u'entrance',\n",
       "  u'commercial',\n",
       "  u'tour',\n",
       "  u'bus',\n",
       "  u'capacity',\n",
       "  u'entrancethere',\n",
       "  u'longer',\n",
       "  u'service',\n",
       "  u'nova',\n",
       "  u'cat',\n",
       "  u'longer',\n",
       "  u'service',\n",
       "  u'free',\n",
       "  u'explorer',\n",
       "  u'bus',\n",
       "  u'system',\n",
       "  u'phone',\n",
       "  u'take',\n",
       "  u'stopping',\n",
       "  u'interest',\n",
       "  u'bicycle',\n",
       "  u'racks',\n",
       "  u'bus',\n",
       "  u'like',\n",
       "  u'combine',\n",
       "  u'transport',\n",
       "  u'methods',\n",
       "  u'explore',\n",
       "  u'explorer',\n",
       "  u'buses',\n",
       "  u'propane',\n",
       "  u'powered',\n",
       "  u'extensive',\n",
       "  u'network',\n",
       "  u'carriage',\n",
       "  u'throughout',\n",
       "  u'closed',\n",
       "  u'automobiles',\n",
       "  u'excellent',\n",
       "  u'places',\n",
       "  u'ride',\n",
       "  u'bicycle',\n",
       "  u'carriage',\n",
       "  u'mostly',\n",
       "  u'paved',\n",
       "  u'crushed',\n",
       "  u'therefore',\n",
       "  u'best',\n",
       "  u'navigated',\n",
       "  u'hybrid',\n",
       "  u'bicycle',\n",
       "  u'another',\n",
       "  u'option',\n",
       "  u'cyclists',\n",
       "  u'mile',\n",
       "  u'road',\n",
       "  u'encircles',\n",
       "  u'much',\n",
       "  u'portion',\n",
       "  u'road',\n",
       "  u'open',\n",
       "  u'automobiles',\n",
       "  u'one',\n",
       "  u'lane',\n",
       "  u'road',\n",
       "  u'much',\n",
       "  u'length',\n",
       "  u'cyclists',\n",
       "  u'happy',\n",
       "  u'note',\n",
       "  u'road',\n",
       "  u'appears',\n",
       "  u'recently',\n",
       "  u'paved',\n",
       "  u'august',\n",
       "  u'making',\n",
       "  u'smooth',\n",
       "  u'ride',\n",
       "  u'bikes',\n",
       "  u'rented',\n",
       "  u'birdwatch',\n",
       "  u'many',\n",
       "  u'species',\n",
       "  u'calling',\n",
       "  u'eagles',\n",
       "  u'peregrine',\n",
       "  u'falcons',\n",
       "  u'herons',\n",
       "  u'cranes',\n",
       "  u'ducks',\n",
       "  u'geese',\n",
       "  u'chickadees',\n",
       "  u'woodpeckers',\n",
       "  u'orioles',\n",
       "  u'jays',\n",
       "  u'seen',\n",
       "  u'name',\n",
       "  u'common',\n",
       "  u'extensive',\n",
       "  u'checklist',\n",
       "  u'info',\n",
       "  u'birdwatching',\n",
       "  u'opportunities',\n",
       "  u'see',\n",
       "  u'nps',\n",
       "  u'birdwatching',\n",
       "  u'see',\n",
       "  u'regulations',\n",
       "  u'species',\n",
       "  u'etc',\n",
       "  u'fishing',\n",
       "  u'open',\n",
       "  u'fishing',\n",
       "  u'freshwater',\n",
       "  u'ponds',\n",
       "  u'requires',\n",
       "  u'fishing',\n",
       "  u'license',\n",
       "  u'licenses',\n",
       "  u'required',\n",
       "  u'residents',\n",
       "  u'non',\n",
       "  u'residents',\n",
       "  u'purchased',\n",
       "  u'offices',\n",
       "  u'local',\n",
       "  u'shops',\n",
       "  u'best',\n",
       "  u'hiking',\n",
       "  u'walking',\n",
       "  u'trails',\n",
       "  u'one',\n",
       "  u'best',\n",
       "  u'ways',\n",
       "  u'experience',\n",
       "  u'immerse',\n",
       "  u'flora',\n",
       "  u'fauna',\n",
       "  u'number',\n",
       "  u'different',\n",
       "  u'hikes',\n",
       "  u'various',\n",
       "  u'environment',\n",
       "  u'length',\n",
       "  u'difficulty',\n",
       "  u'trails',\n",
       "  u'stunning',\n",
       "  u'views',\n",
       "  u'accessible',\n",
       "  u'lines',\n",
       "  u'steep',\n",
       "  u'precipices',\n",
       "  u'etc',\n",
       "  u'last',\n",
       "  u'years',\n",
       "  u'ago',\n",
       "  u'carved',\n",
       "  u'incredible',\n",
       "  u'beautiful',\n",
       "  u'terrain',\n",
       "  u'leaving',\n",
       "  u'behind',\n",
       "  u'cleanest',\n",
       "  u'ponds',\n",
       "  u'kayaking',\n",
       "  u'boat',\n",
       "  u'rental',\n",
       "  u'services',\n",
       "  u'offered',\n",
       "  u'numerous',\n",
       "  u'establishments',\n",
       "  u'allow',\n",
       "  u'access',\n",
       "  u'destinations',\n",
       "  u'ponds',\n",
       "  u'used',\n",
       "  u'drinking',\n",
       "  u'check',\n",
       "  u'office',\n",
       "  u'list',\n",
       "  u'approved',\n",
       "  u'swimming',\n",
       "  u'locations',\n",
       "  u'hotels',\n",
       "  u'located',\n",
       "  u'within',\n",
       "  u'borders',\n",
       "  u'nearby',\n",
       "  u'numerous',\n",
       "  u'options',\n",
       "  u'campgrounds',\n",
       "  u'officially',\n",
       "  u'backcountry',\n",
       "  u'camping',\n",
       "  u'permitted',\n",
       "  u'strongly',\n",
       "  u'discouraged',\n",
       "  u'due',\n",
       "  u'fragile',\n",
       "  u'ecosystem',\n",
       "  u'unsafe',\n",
       "  u'venture',\n",
       "  u'onto',\n",
       "  u'without',\n",
       "  u'necessary',\n",
       "  u'equipment',\n",
       "  u'experience',\n",
       "  u'true',\n",
       "  u'kayaking',\n",
       "  u'canoeing',\n",
       "  u'sailing',\n",
       "  u'kind',\n",
       "  u'boating',\n",
       "  u'hypothermia',\n",
       "  u'set',\n",
       "  u'amount',\n",
       "  u'time',\n",
       "  u'dense',\n",
       "  u'fog',\n",
       "  u'often',\n",
       "  u'rolls',\n",
       "  u'quickly',\n",
       "  u'well',\n",
       "  u'occasional',\n",
       "  u'determined',\n",
       "  u'would',\n",
       "  u'foolish',\n",
       "  u'could',\n",
       "  u'result',\n",
       "  u'serious',\n",
       "  u'fines',\n",
       "  u'guard',\n",
       "  u'marine',\n",
       "  u'patrol',\n",
       "  u'officer',\n",
       "  u'without',\n",
       "  u'every',\n",
       "  u'single',\n",
       "  u'passenger',\n",
       "  u'wearing',\n",
       "  u'pfd',\n",
       "  u'compass',\n",
       "  u'knowing',\n",
       "  u'use',\n",
       "  u'understanding',\n",
       "  u'navigate',\n",
       "  u'safely',\n",
       "  u'around',\n",
       "  u'boats',\n",
       "  u'hazardsthere',\n",
       "  u'numerous',\n",
       "  u'companies',\n",
       "  u'elsewhere',\n",
       "  u'offer',\n",
       "  u'guided',\n",
       "  u'kayak',\n",
       "  u'sailing',\n",
       "  u'power',\n",
       "  u'boat',\n",
       "  u'parkcommons',\n",
       "  u'category']]"
      ]
     },
     "execution_count": 196,
     "metadata": {},
     "output_type": "execute_result"
    }
   ],
   "source": [
    "features"
   ]
  },
  {
   "cell_type": "code",
   "execution_count": 2,
   "metadata": {
    "collapsed": true
   },
   "outputs": [],
   "source": [
    "from sklearn.feature_extraction.text import CountVectorizer\n",
    "from sklearn.cross_validation import train_test_split\n",
    "from sklearn.metrics import classification_report \n",
    "from sklearn.decomposition import NMF,LatentDirichletAllocation\n",
    "import matplotlib.pyplot as plt\n",
    "import numpy as np\n",
    "%matplotlib inline"
   ]
  },
  {
   "cell_type": "code",
   "execution_count": 188,
   "metadata": {
    "collapsed": true
   },
   "outputs": [],
   "source": [
    "us = pickle.load(open(\"wikivoyage_text_US.p\",\"rb\"))\n",
    "canada = pickle.load(open(\"wikivoyage_text_Canada.p\",\"rb\"))\n",
    "europe = pickle.load(open(\"wikivoyage_text_Europe.p\",\"rb\"))\n",
    "mexico = pickle.load(open(\"wikivoyage_text_Mexico.p\",\"rb\"))\n",
    "\n",
    "df = pd.DataFrame.from_dict(us,orient='index')\n",
    "df['region'] = 'us'\n",
    "df = df.reset_index()\n",
    "df = df.rename(columns=({ 'index' : 'Name'}))\n",
    "\n",
    "dfsets = [canada,europe,mexico]\n",
    "dfset_names = ['canada','europe','mexico']\n",
    "\n",
    "for dataset in range(0,3):\n",
    "\n",
    "    df1 = pd.DataFrame.from_dict(dfsets[dataset],orient='index')\n",
    "    df1['region'] = dfset_names[dataset]\n",
    "    df1 = df1.reset_index()\n",
    "    df1 = df1.rename(columns=({ 'index' : 'Name'}))\n",
    "    df = df.append(df1,ignore_index=True)"
   ]
  },
  {
   "cell_type": "code",
   "execution_count": 189,
   "metadata": {
    "collapsed": false
   },
   "outputs": [
    {
     "data": {
      "text/html": [
       "<div>\n",
       "<table border=\"1\" class=\"dataframe\">\n",
       "  <thead>\n",
       "    <tr style=\"text-align: right;\">\n",
       "      <th></th>\n",
       "      <th>Name</th>\n",
       "      <th>text</th>\n",
       "      <th>type</th>\n",
       "      <th>loc</th>\n",
       "      <th>region</th>\n",
       "    </tr>\n",
       "  </thead>\n",
       "  <tbody>\n",
       "    <tr>\n",
       "      <th>0</th>\n",
       "      <td>AbercrombiePAGE</td>\n",
       "      <td>{{pagebanner|Abercrombie WikiVoyage Banner ND....</td>\n",
       "      <td>page</td>\n",
       "      <td>//tools.wmflabs.org/wikivoyage/w/poimap2.php?l...</td>\n",
       "      <td>us</td>\n",
       "    </tr>\n",
       "    <tr>\n",
       "      <th>1</th>\n",
       "      <td>Aberdeen (Maryland)PAGE</td>\n",
       "      <td>{{pagebanner|Aberdeen MD WikiVoyage Banner.jpg...</td>\n",
       "      <td>page</td>\n",
       "      <td>//tools.wmflabs.org/wikivoyage/w/poimap2.php?l...</td>\n",
       "      <td>us</td>\n",
       "    </tr>\n",
       "    <tr>\n",
       "      <th>2</th>\n",
       "      <td>Aberdeen (South Dakota)PAGE</td>\n",
       "      <td>{{pagebanner|Pagebanner default.jpg|pgname=Abe...</td>\n",
       "      <td>page</td>\n",
       "      <td>//tools.wmflabs.org/wikivoyage/w/poimap2.php?l...</td>\n",
       "      <td>us</td>\n",
       "    </tr>\n",
       "    <tr>\n",
       "      <th>3</th>\n",
       "      <td>Aberdeen (Washington)PAGE</td>\n",
       "      <td>{{Pagebanner|pgname=Aberdeen |Wikivoyage page ...</td>\n",
       "      <td>page</td>\n",
       "      <td>//tools.wmflabs.org/wikivoyage/w/poimap2.php?l...</td>\n",
       "      <td>us</td>\n",
       "    </tr>\n",
       "    <tr>\n",
       "      <th>4</th>\n",
       "      <td>AbernathyPAGE</td>\n",
       "      <td>{{pagebanner|Abernathy Texas Wikivoyage Banner...</td>\n",
       "      <td>page</td>\n",
       "      <td>//tools.wmflabs.org/wikivoyage/w/poimap2.php?l...</td>\n",
       "      <td>us</td>\n",
       "    </tr>\n",
       "    <tr>\n",
       "      <th>5</th>\n",
       "      <td>AbilenePAGE</td>\n",
       "      <td>{{pagebanner|Pagebanner default.jpg}}\\n[[File:...</td>\n",
       "      <td>page</td>\n",
       "      <td>//tools.wmflabs.org/wikivoyage/w/poimap2.php?l...</td>\n",
       "      <td>us</td>\n",
       "    </tr>\n",
       "    <tr>\n",
       "      <th>6</th>\n",
       "      <td>Abington TownshipPAGE</td>\n",
       "      <td>{{pagebanner|Pagebanner default.jpg}}\\n[[Image...</td>\n",
       "      <td>page</td>\n",
       "      <td>//tools.wmflabs.org/wikivoyage/w/poimap2.php?l...</td>\n",
       "      <td>us</td>\n",
       "    </tr>\n",
       "    <tr>\n",
       "      <th>7</th>\n",
       "      <td>AbiquiuPAGE</td>\n",
       "      <td>{{pagebanner|Abiquiu pedernal banner.jpg}}\\n[[...</td>\n",
       "      <td>page</td>\n",
       "      <td>//tools.wmflabs.org/wikivoyage/w/poimap2.php?l...</td>\n",
       "      <td>us</td>\n",
       "    </tr>\n",
       "    <tr>\n",
       "      <th>8</th>\n",
       "      <td>Abita SpringsPAGE</td>\n",
       "      <td>{{pagebanner|Abita Springs Wikivoyage Banner.j...</td>\n",
       "      <td>page</td>\n",
       "      <td>//tools.wmflabs.org/wikivoyage/w/poimap2.php?l...</td>\n",
       "      <td>us</td>\n",
       "    </tr>\n",
       "    <tr>\n",
       "      <th>9</th>\n",
       "      <td>Acadia National ParkPAGE</td>\n",
       "      <td>{{pagebanner|Acadia_National_Park_WV_banner.jp...</td>\n",
       "      <td>page</td>\n",
       "      <td>//tools.wmflabs.org/wikivoyage/w/poimap2.php?l...</td>\n",
       "      <td>us</td>\n",
       "    </tr>\n",
       "    <tr>\n",
       "      <th>10</th>\n",
       "      <td>AcadianaPAGE</td>\n",
       "      <td>{{pagebanner|Terrebonne Parish banner alligato...</td>\n",
       "      <td>page</td>\n",
       "      <td>//tools.wmflabs.org/wikivoyage/w/poimap2.php?l...</td>\n",
       "      <td>us</td>\n",
       "    </tr>\n",
       "    <tr>\n",
       "      <th>11</th>\n",
       "      <td>AccomacPAGE</td>\n",
       "      <td>{{pagebanner|Pagebanner default.jpg}}\\n'''Acco...</td>\n",
       "      <td>page</td>\n",
       "      <td>//tools.wmflabs.org/wikivoyage/w/poimap2.php?l...</td>\n",
       "      <td>us</td>\n",
       "    </tr>\n",
       "    <tr>\n",
       "      <th>12</th>\n",
       "      <td>Acton (Massachusetts)PAGE</td>\n",
       "      <td>{{pagebanner|Pagebanner default.jpg|pgname=Act...</td>\n",
       "      <td>page</td>\n",
       "      <td>//tools.wmflabs.org/wikivoyage/w/poimap2.php?l...</td>\n",
       "      <td>us</td>\n",
       "    </tr>\n",
       "    <tr>\n",
       "      <th>13</th>\n",
       "      <td>AcushnetPAGE</td>\n",
       "      <td>{{pagebanner|Pagebanner default.jpg}}\\n'''Acus...</td>\n",
       "      <td>page</td>\n",
       "      <td>//tools.wmflabs.org/wikivoyage/w/poimap2.php?l...</td>\n",
       "      <td>us</td>\n",
       "    </tr>\n",
       "    <tr>\n",
       "      <th>14</th>\n",
       "      <td>Ada (Michigan)PAGE</td>\n",
       "      <td>{{pagebanner|Pagebanner default.jpg|pgname=Ada...</td>\n",
       "      <td>page</td>\n",
       "      <td>//tools.wmflabs.org/wikivoyage/w/poimap2.php?l...</td>\n",
       "      <td>us</td>\n",
       "    </tr>\n",
       "    <tr>\n",
       "      <th>15</th>\n",
       "      <td>Ada (Ohio)PAGE</td>\n",
       "      <td>{{pagebanner|Ada Ohio Wikivoyage Banner.jpg|pg...</td>\n",
       "      <td>page</td>\n",
       "      <td>//tools.wmflabs.org/wikivoyage/w/poimap2.php?l...</td>\n",
       "      <td>us</td>\n",
       "    </tr>\n",
       "    <tr>\n",
       "      <th>16</th>\n",
       "      <td>Ada (Oklahoma)PAGE</td>\n",
       "      <td>{{pagebanner|Pagebanner default.jpg|pgname=Ada...</td>\n",
       "      <td>page</td>\n",
       "      <td>//tools.wmflabs.org/wikivoyage/w/poimap2.php?l...</td>\n",
       "      <td>us</td>\n",
       "    </tr>\n",
       "    <tr>\n",
       "      <th>17</th>\n",
       "      <td>AdairvillePAGE</td>\n",
       "      <td>{{pagebanner|Pagebanner default.jpg}}\\n'''Adai...</td>\n",
       "      <td>page</td>\n",
       "      <td>//tools.wmflabs.org/wikivoyage/w/poimap2.php?l...</td>\n",
       "      <td>us</td>\n",
       "    </tr>\n",
       "    <tr>\n",
       "      <th>18</th>\n",
       "      <td>Adams (Massachusetts)PAGE</td>\n",
       "      <td>{{pagebanner|Adams Mass Wikivoyage Banner.jpg|...</td>\n",
       "      <td>page</td>\n",
       "      <td>//tools.wmflabs.org/wikivoyage/w/poimap2.php?l...</td>\n",
       "      <td>us</td>\n",
       "    </tr>\n",
       "    <tr>\n",
       "      <th>19</th>\n",
       "      <td>Adams (North Dakota)PAGE</td>\n",
       "      <td>{{pagebanner|Pagebanner default.jpg|pgname=Ada...</td>\n",
       "      <td>page</td>\n",
       "      <td>//tools.wmflabs.org/wikivoyage/w/poimap2.php?l...</td>\n",
       "      <td>us</td>\n",
       "    </tr>\n",
       "    <tr>\n",
       "      <th>20</th>\n",
       "      <td>Adams County (Illinois)PAGE</td>\n",
       "      <td>{{pagebanner|Adams County Illinois WikiVoyage ...</td>\n",
       "      <td>page</td>\n",
       "      <td>//tools.wmflabs.org/wikivoyage/w/poimap2.php?l...</td>\n",
       "      <td>us</td>\n",
       "    </tr>\n",
       "    <tr>\n",
       "      <th>21</th>\n",
       "      <td>AddisonPAGE</td>\n",
       "      <td>{{pagebanner|Addison (Texas) banner Cavanaugh ...</td>\n",
       "      <td>page</td>\n",
       "      <td>//tools.wmflabs.org/wikivoyage/w/poimap2.php?l...</td>\n",
       "      <td>us</td>\n",
       "    </tr>\n",
       "    <tr>\n",
       "      <th>22</th>\n",
       "      <td>AdelantoPAGE</td>\n",
       "      <td>{{pagebanner|Pagebanner default.jpg}}\\n'''Adel...</td>\n",
       "      <td>page</td>\n",
       "      <td>//tools.wmflabs.org/wikivoyage/w/poimap2.php?l...</td>\n",
       "      <td>us</td>\n",
       "    </tr>\n",
       "    <tr>\n",
       "      <th>23</th>\n",
       "      <td>AdirondacksPAGE</td>\n",
       "      <td>{{pagebanner|Adirondacks printemps 2008 banner...</td>\n",
       "      <td>page</td>\n",
       "      <td>//tools.wmflabs.org/wikivoyage/w/poimap2.php?l...</td>\n",
       "      <td>us</td>\n",
       "    </tr>\n",
       "    <tr>\n",
       "      <th>24</th>\n",
       "      <td>Adrian (Michigan)PAGE</td>\n",
       "      <td>{{pagebanner|Adrian MI WikiVoyage banner.jpg|c...</td>\n",
       "      <td>page</td>\n",
       "      <td>//tools.wmflabs.org/wikivoyage/w/poimap2.php?l...</td>\n",
       "      <td>us</td>\n",
       "    </tr>\n",
       "    <tr>\n",
       "      <th>25</th>\n",
       "      <td>Adrian (Texas)PAGE</td>\n",
       "      <td>{{pagebanner|pgname=Adrian}}\\n'''Adrian''' is ...</td>\n",
       "      <td>page</td>\n",
       "      <td>//tools.wmflabs.org/wikivoyage/w/poimap2.php?l...</td>\n",
       "      <td>us</td>\n",
       "    </tr>\n",
       "    <tr>\n",
       "      <th>26</th>\n",
       "      <td>AftonPAGE</td>\n",
       "      <td>{{pagebanner|Pagebanner default.jpg}}\\nAfton i...</td>\n",
       "      <td>page</td>\n",
       "      <td>//tools.wmflabs.org/wikivoyage/w/poimap2.php?l...</td>\n",
       "      <td>us</td>\n",
       "    </tr>\n",
       "    <tr>\n",
       "      <th>27</th>\n",
       "      <td>AgawamPAGE</td>\n",
       "      <td>{{pagebanner|Agawam Wikivoyage banner.jpg}}\\n'...</td>\n",
       "      <td>page</td>\n",
       "      <td>//tools.wmflabs.org/wikivoyage/w/poimap2.php?l...</td>\n",
       "      <td>us</td>\n",
       "    </tr>\n",
       "    <tr>\n",
       "      <th>28</th>\n",
       "      <td>Agoura HillsPAGE</td>\n",
       "      <td>{{pagebanner|Agoura Hills banner.jpg}}\\n'''[ht...</td>\n",
       "      <td>page</td>\n",
       "      <td>//tools.wmflabs.org/wikivoyage/w/poimap2.php?l...</td>\n",
       "      <td>us</td>\n",
       "    </tr>\n",
       "    <tr>\n",
       "      <th>29</th>\n",
       "      <td>Agua Fria National MonumentPAGE</td>\n",
       "      <td>{{pagebanner|Agua Fria NM banner.jpg}}\\n\\n'''[...</td>\n",
       "      <td>page</td>\n",
       "      <td>//tools.wmflabs.org/wikivoyage/w/poimap2.php?l...</td>\n",
       "      <td>us</td>\n",
       "    </tr>\n",
       "    <tr>\n",
       "      <th>...</th>\n",
       "      <td>...</td>\n",
       "      <td>...</td>\n",
       "      <td>...</td>\n",
       "      <td>...</td>\n",
       "      <td>...</td>\n",
       "    </tr>\n",
       "    <tr>\n",
       "      <th>16122</th>\n",
       "      <td>Todos SantosPAGE</td>\n",
       "      <td>{{pagebanner|Pagebanner default.jpg}}\\n'''Todo...</td>\n",
       "      <td>page</td>\n",
       "      <td>//tools.wmflabs.org/wikivoyage/w/poimap2.php?l...</td>\n",
       "      <td>mexico</td>\n",
       "    </tr>\n",
       "    <tr>\n",
       "      <th>16123</th>\n",
       "      <td>TolucaPAGE</td>\n",
       "      <td>{{pagebanner|Pagebanner default.jpg}}\\n{{other...</td>\n",
       "      <td>page</td>\n",
       "      <td>//tools.wmflabs.org/wikivoyage/w/poimap2.php?l...</td>\n",
       "      <td>mexico</td>\n",
       "    </tr>\n",
       "    <tr>\n",
       "      <th>16124</th>\n",
       "      <td>TonináPAGE</td>\n",
       "      <td>{{pagebanner|Pagebanner default.jpg}}\\n'''Toni...</td>\n",
       "      <td>page</td>\n",
       "      <td>//tools.wmflabs.org/wikivoyage/w/poimap2.php?l...</td>\n",
       "      <td>mexico</td>\n",
       "    </tr>\n",
       "    <tr>\n",
       "      <th>16125</th>\n",
       "      <td>TorreónPAGE</td>\n",
       "      <td>{{pagebanner|PlazadeArmasTorreon.jpg}}\\n\\n'''T...</td>\n",
       "      <td>page</td>\n",
       "      <td>//tools.wmflabs.org/wikivoyage/w/poimap2.php?l...</td>\n",
       "      <td>mexico</td>\n",
       "    </tr>\n",
       "    <tr>\n",
       "      <th>16126</th>\n",
       "      <td>TronconesPAGE</td>\n",
       "      <td>{{pagebanner|Pagebanner default.jpg}}\\n'''Tron...</td>\n",
       "      <td>page</td>\n",
       "      <td>//tools.wmflabs.org/wikivoyage/w/poimap2.php?l...</td>\n",
       "      <td>mexico</td>\n",
       "    </tr>\n",
       "    <tr>\n",
       "      <th>16127</th>\n",
       "      <td>Tula de AllendePAGE</td>\n",
       "      <td>{{pagebanner|Pagebanner default.jpg}}\\n'''Tula...</td>\n",
       "      <td>page</td>\n",
       "      <td>//tools.wmflabs.org/wikivoyage/w/poimap2.php?l...</td>\n",
       "      <td>mexico</td>\n",
       "    </tr>\n",
       "    <tr>\n",
       "      <th>16128</th>\n",
       "      <td>TulancingoPAGE</td>\n",
       "      <td>{{pagebanner|Pagebanner default.jpg}}\\n[[Image...</td>\n",
       "      <td>page</td>\n",
       "      <td>//tools.wmflabs.org/wikivoyage/w/poimap2.php?l...</td>\n",
       "      <td>mexico</td>\n",
       "    </tr>\n",
       "    <tr>\n",
       "      <th>16129</th>\n",
       "      <td>TulumPAGE</td>\n",
       "      <td>{{Pagebanner|Tulum-banner.jpg}}\\n'''Tulum''' i...</td>\n",
       "      <td>page</td>\n",
       "      <td>//tools.wmflabs.org/wikivoyage/w/poimap2.php?l...</td>\n",
       "      <td>mexico</td>\n",
       "    </tr>\n",
       "    <tr>\n",
       "      <th>16130</th>\n",
       "      <td>Tuxtla GutiérrezPAGE</td>\n",
       "      <td>{{pagebanner|Tuxtla-Gutiérrez-Banner.jpg}}\\n''...</td>\n",
       "      <td>page</td>\n",
       "      <td>//tools.wmflabs.org/wikivoyage/w/poimap2.php?l...</td>\n",
       "      <td>mexico</td>\n",
       "    </tr>\n",
       "    <tr>\n",
       "      <th>16131</th>\n",
       "      <td>TzintsuntzanPAGE</td>\n",
       "      <td>{{pagebanner|Pagebanner default.jpg}}\\n'''Tzin...</td>\n",
       "      <td>page</td>\n",
       "      <td>//tools.wmflabs.org/wikivoyage/w/poimap2.php?l...</td>\n",
       "      <td>mexico</td>\n",
       "    </tr>\n",
       "    <tr>\n",
       "      <th>16132</th>\n",
       "      <td>UruapanPAGE</td>\n",
       "      <td>{{pagebanner|Pagebanner default.jpg}}\\n'''Urua...</td>\n",
       "      <td>page</td>\n",
       "      <td>//tools.wmflabs.org/wikivoyage/w/poimap2.php?l...</td>\n",
       "      <td>mexico</td>\n",
       "    </tr>\n",
       "    <tr>\n",
       "      <th>16133</th>\n",
       "      <td>UxmalPAGE</td>\n",
       "      <td>{{pagebanner|Pagebanner default.jpg|unesco=yes...</td>\n",
       "      <td>page</td>\n",
       "      <td>//tools.wmflabs.org/wikivoyage/w/poimap2.php?l...</td>\n",
       "      <td>mexico</td>\n",
       "    </tr>\n",
       "    <tr>\n",
       "      <th>16134</th>\n",
       "      <td>Valladolid (Mexico)PAGE</td>\n",
       "      <td>{{pagebanner|Pagebanner default.jpg|pgname=Val...</td>\n",
       "      <td>page</td>\n",
       "      <td>//tools.wmflabs.org/wikivoyage/w/poimap2.php?l...</td>\n",
       "      <td>mexico</td>\n",
       "    </tr>\n",
       "    <tr>\n",
       "      <th>16135</th>\n",
       "      <td>Valle de BravoPAGE</td>\n",
       "      <td>{{pagebanner|Pagebanner default.jpg}}\\n'''Vall...</td>\n",
       "      <td>page</td>\n",
       "      <td>//tools.wmflabs.org/wikivoyage/w/poimap2.php?l...</td>\n",
       "      <td>mexico</td>\n",
       "    </tr>\n",
       "    <tr>\n",
       "      <th>16136</th>\n",
       "      <td>Valle de GuadalupePAGE</td>\n",
       "      <td>{{pagebanner|Pagebanner default.jpg}}\\n'''Vall...</td>\n",
       "      <td>page</td>\n",
       "      <td>//tools.wmflabs.org/wikivoyage/w/poimap2.php?l...</td>\n",
       "      <td>mexico</td>\n",
       "    </tr>\n",
       "    <tr>\n",
       "      <th>16137</th>\n",
       "      <td>Veracruz (state)PAGE</td>\n",
       "      <td>{{pagebanner|WV banner Veracruz state Tancoco....</td>\n",
       "      <td>page</td>\n",
       "      <td>//tools.wmflabs.org/wikivoyage/w/poimap2.php?l...</td>\n",
       "      <td>mexico</td>\n",
       "    </tr>\n",
       "    <tr>\n",
       "      <th>16138</th>\n",
       "      <td>VeracruzPAGE</td>\n",
       "      <td>{{pagebanner|Pagebanner default.jpg}}\\n'''Vera...</td>\n",
       "      <td>page</td>\n",
       "      <td>//tools.wmflabs.org/wikivoyage/w/poimap2.php?l...</td>\n",
       "      <td>mexico</td>\n",
       "    </tr>\n",
       "    <tr>\n",
       "      <th>16139</th>\n",
       "      <td>VillahermosaPAGE</td>\n",
       "      <td>{{pagebanner|Villahermosa_banner.jpg}}\\n'''Vil...</td>\n",
       "      <td>page</td>\n",
       "      <td>//tools.wmflabs.org/wikivoyage/w/poimap2.php?l...</td>\n",
       "      <td>mexico</td>\n",
       "    </tr>\n",
       "    <tr>\n",
       "      <th>16140</th>\n",
       "      <td>XalapaPAGE</td>\n",
       "      <td>{{pagebanner|Pagebanner default.jpg}}\\n'''Xala...</td>\n",
       "      <td>page</td>\n",
       "      <td>//tools.wmflabs.org/wikivoyage/w/poimap2.php?l...</td>\n",
       "      <td>mexico</td>\n",
       "    </tr>\n",
       "    <tr>\n",
       "      <th>16141</th>\n",
       "      <td>XcalakPAGE</td>\n",
       "      <td>{{pagebanner|Pagebanner default.jpg}}\\n'''Xcal...</td>\n",
       "      <td>page</td>\n",
       "      <td>//tools.wmflabs.org/wikivoyage/w/poimap2.php?l...</td>\n",
       "      <td>mexico</td>\n",
       "    </tr>\n",
       "    <tr>\n",
       "      <th>16142</th>\n",
       "      <td>XpujilPAGE</td>\n",
       "      <td>{{pagebanner|Pagebanner default.jpg}}\\n'''Xpuj...</td>\n",
       "      <td>page</td>\n",
       "      <td>//tools.wmflabs.org/wikivoyage/w/poimap2.php?l...</td>\n",
       "      <td>mexico</td>\n",
       "    </tr>\n",
       "    <tr>\n",
       "      <th>16143</th>\n",
       "      <td>Yucatán PeninsulaPAGE</td>\n",
       "      <td>{{Pagebanner|Yucatán Peninsula banner Temple o...</td>\n",
       "      <td>page</td>\n",
       "      <td>//tools.wmflabs.org/wikivoyage/w/poimap2.php?l...</td>\n",
       "      <td>mexico</td>\n",
       "    </tr>\n",
       "    <tr>\n",
       "      <th>16144</th>\n",
       "      <td>YucatánPAGE</td>\n",
       "      <td>{{pagebanner|WV banner Yucatan Chichen Itza.jp...</td>\n",
       "      <td>page</td>\n",
       "      <td>//tools.wmflabs.org/wikivoyage/w/poimap2.php?l...</td>\n",
       "      <td>mexico</td>\n",
       "    </tr>\n",
       "    <tr>\n",
       "      <th>16145</th>\n",
       "      <td>Zacatecas (state)PAGE</td>\n",
       "      <td>{{pagebanner|Pagebanner default.jpg|pgname=Zac...</td>\n",
       "      <td>page</td>\n",
       "      <td>//tools.wmflabs.org/wikivoyage/w/poimap2.php?l...</td>\n",
       "      <td>mexico</td>\n",
       "    </tr>\n",
       "    <tr>\n",
       "      <th>16146</th>\n",
       "      <td>ZacatecasPAGE</td>\n",
       "      <td>{{pagebanner|Pagebanner default.jpg|unesco=yes...</td>\n",
       "      <td>page</td>\n",
       "      <td>//tools.wmflabs.org/wikivoyage/w/poimap2.php?l...</td>\n",
       "      <td>mexico</td>\n",
       "    </tr>\n",
       "    <tr>\n",
       "      <th>16147</th>\n",
       "      <td>Zamora de HidalgoPAGE</td>\n",
       "      <td>{{pagebanner|Pagebanner default.jpg}}\\n'''Zamo...</td>\n",
       "      <td>page</td>\n",
       "      <td>//tools.wmflabs.org/wikivoyage/w/poimap2.php?l...</td>\n",
       "      <td>mexico</td>\n",
       "    </tr>\n",
       "    <tr>\n",
       "      <th>16148</th>\n",
       "      <td>ZihuatanejoPAGE</td>\n",
       "      <td>{{Pagebanner|Lumpytrout page banner wikivoyage...</td>\n",
       "      <td>page</td>\n",
       "      <td>//tools.wmflabs.org/wikivoyage/w/poimap2.php?l...</td>\n",
       "      <td>mexico</td>\n",
       "    </tr>\n",
       "    <tr>\n",
       "      <th>16149</th>\n",
       "      <td>ZipolitePAGE</td>\n",
       "      <td>{{pagebanner|Pagebanner default.jpg}}\\n\\n'''Zi...</td>\n",
       "      <td>page</td>\n",
       "      <td>//tools.wmflabs.org/wikivoyage/w/poimap2.php?l...</td>\n",
       "      <td>mexico</td>\n",
       "    </tr>\n",
       "    <tr>\n",
       "      <th>16150</th>\n",
       "      <td>ZirahuenPAGE</td>\n",
       "      <td>{{pagebanner|Pagebanner default.jpg}}\\n'''Zira...</td>\n",
       "      <td>page</td>\n",
       "      <td>//tools.wmflabs.org/wikivoyage/w/poimap2.php?l...</td>\n",
       "      <td>mexico</td>\n",
       "    </tr>\n",
       "    <tr>\n",
       "      <th>16151</th>\n",
       "      <td>ÁlamosPAGE</td>\n",
       "      <td>{{pagebanner|Pagebanner default.jpg}}\\n[[Image...</td>\n",
       "      <td>page</td>\n",
       "      <td>//tools.wmflabs.org/wikivoyage/w/poimap2.php?l...</td>\n",
       "      <td>mexico</td>\n",
       "    </tr>\n",
       "  </tbody>\n",
       "</table>\n",
       "<p>16152 rows × 5 columns</p>\n",
       "</div>"
      ],
      "text/plain": [
       "                                  Name  \\\n",
       "0                      AbercrombiePAGE   \n",
       "1              Aberdeen (Maryland)PAGE   \n",
       "2          Aberdeen (South Dakota)PAGE   \n",
       "3            Aberdeen (Washington)PAGE   \n",
       "4                        AbernathyPAGE   \n",
       "5                          AbilenePAGE   \n",
       "6                Abington TownshipPAGE   \n",
       "7                          AbiquiuPAGE   \n",
       "8                    Abita SpringsPAGE   \n",
       "9             Acadia National ParkPAGE   \n",
       "10                        AcadianaPAGE   \n",
       "11                         AccomacPAGE   \n",
       "12           Acton (Massachusetts)PAGE   \n",
       "13                        AcushnetPAGE   \n",
       "14                  Ada (Michigan)PAGE   \n",
       "15                      Ada (Ohio)PAGE   \n",
       "16                  Ada (Oklahoma)PAGE   \n",
       "17                      AdairvillePAGE   \n",
       "18           Adams (Massachusetts)PAGE   \n",
       "19            Adams (North Dakota)PAGE   \n",
       "20         Adams County (Illinois)PAGE   \n",
       "21                         AddisonPAGE   \n",
       "22                        AdelantoPAGE   \n",
       "23                     AdirondacksPAGE   \n",
       "24               Adrian (Michigan)PAGE   \n",
       "25                  Adrian (Texas)PAGE   \n",
       "26                           AftonPAGE   \n",
       "27                          AgawamPAGE   \n",
       "28                    Agoura HillsPAGE   \n",
       "29     Agua Fria National MonumentPAGE   \n",
       "...                                ...   \n",
       "16122                 Todos SantosPAGE   \n",
       "16123                       TolucaPAGE   \n",
       "16124                       TonináPAGE   \n",
       "16125                      TorreónPAGE   \n",
       "16126                    TronconesPAGE   \n",
       "16127              Tula de AllendePAGE   \n",
       "16128                   TulancingoPAGE   \n",
       "16129                        TulumPAGE   \n",
       "16130             Tuxtla GutiérrezPAGE   \n",
       "16131                 TzintsuntzanPAGE   \n",
       "16132                      UruapanPAGE   \n",
       "16133                        UxmalPAGE   \n",
       "16134          Valladolid (Mexico)PAGE   \n",
       "16135               Valle de BravoPAGE   \n",
       "16136           Valle de GuadalupePAGE   \n",
       "16137             Veracruz (state)PAGE   \n",
       "16138                     VeracruzPAGE   \n",
       "16139                 VillahermosaPAGE   \n",
       "16140                       XalapaPAGE   \n",
       "16141                       XcalakPAGE   \n",
       "16142                       XpujilPAGE   \n",
       "16143            Yucatán PeninsulaPAGE   \n",
       "16144                      YucatánPAGE   \n",
       "16145            Zacatecas (state)PAGE   \n",
       "16146                    ZacatecasPAGE   \n",
       "16147            Zamora de HidalgoPAGE   \n",
       "16148                  ZihuatanejoPAGE   \n",
       "16149                     ZipolitePAGE   \n",
       "16150                     ZirahuenPAGE   \n",
       "16151                       ÁlamosPAGE   \n",
       "\n",
       "                                                    text  type  \\\n",
       "0      {{pagebanner|Abercrombie WikiVoyage Banner ND....  page   \n",
       "1      {{pagebanner|Aberdeen MD WikiVoyage Banner.jpg...  page   \n",
       "2      {{pagebanner|Pagebanner default.jpg|pgname=Abe...  page   \n",
       "3      {{Pagebanner|pgname=Aberdeen |Wikivoyage page ...  page   \n",
       "4      {{pagebanner|Abernathy Texas Wikivoyage Banner...  page   \n",
       "5      {{pagebanner|Pagebanner default.jpg}}\\n[[File:...  page   \n",
       "6      {{pagebanner|Pagebanner default.jpg}}\\n[[Image...  page   \n",
       "7      {{pagebanner|Abiquiu pedernal banner.jpg}}\\n[[...  page   \n",
       "8      {{pagebanner|Abita Springs Wikivoyage Banner.j...  page   \n",
       "9      {{pagebanner|Acadia_National_Park_WV_banner.jp...  page   \n",
       "10     {{pagebanner|Terrebonne Parish banner alligato...  page   \n",
       "11     {{pagebanner|Pagebanner default.jpg}}\\n'''Acco...  page   \n",
       "12     {{pagebanner|Pagebanner default.jpg|pgname=Act...  page   \n",
       "13     {{pagebanner|Pagebanner default.jpg}}\\n'''Acus...  page   \n",
       "14     {{pagebanner|Pagebanner default.jpg|pgname=Ada...  page   \n",
       "15     {{pagebanner|Ada Ohio Wikivoyage Banner.jpg|pg...  page   \n",
       "16     {{pagebanner|Pagebanner default.jpg|pgname=Ada...  page   \n",
       "17     {{pagebanner|Pagebanner default.jpg}}\\n'''Adai...  page   \n",
       "18     {{pagebanner|Adams Mass Wikivoyage Banner.jpg|...  page   \n",
       "19     {{pagebanner|Pagebanner default.jpg|pgname=Ada...  page   \n",
       "20     {{pagebanner|Adams County Illinois WikiVoyage ...  page   \n",
       "21     {{pagebanner|Addison (Texas) banner Cavanaugh ...  page   \n",
       "22     {{pagebanner|Pagebanner default.jpg}}\\n'''Adel...  page   \n",
       "23     {{pagebanner|Adirondacks printemps 2008 banner...  page   \n",
       "24     {{pagebanner|Adrian MI WikiVoyage banner.jpg|c...  page   \n",
       "25     {{pagebanner|pgname=Adrian}}\\n'''Adrian''' is ...  page   \n",
       "26     {{pagebanner|Pagebanner default.jpg}}\\nAfton i...  page   \n",
       "27     {{pagebanner|Agawam Wikivoyage banner.jpg}}\\n'...  page   \n",
       "28     {{pagebanner|Agoura Hills banner.jpg}}\\n'''[ht...  page   \n",
       "29     {{pagebanner|Agua Fria NM banner.jpg}}\\n\\n'''[...  page   \n",
       "...                                                  ...   ...   \n",
       "16122  {{pagebanner|Pagebanner default.jpg}}\\n'''Todo...  page   \n",
       "16123  {{pagebanner|Pagebanner default.jpg}}\\n{{other...  page   \n",
       "16124  {{pagebanner|Pagebanner default.jpg}}\\n'''Toni...  page   \n",
       "16125  {{pagebanner|PlazadeArmasTorreon.jpg}}\\n\\n'''T...  page   \n",
       "16126  {{pagebanner|Pagebanner default.jpg}}\\n'''Tron...  page   \n",
       "16127  {{pagebanner|Pagebanner default.jpg}}\\n'''Tula...  page   \n",
       "16128  {{pagebanner|Pagebanner default.jpg}}\\n[[Image...  page   \n",
       "16129  {{Pagebanner|Tulum-banner.jpg}}\\n'''Tulum''' i...  page   \n",
       "16130  {{pagebanner|Tuxtla-Gutiérrez-Banner.jpg}}\\n''...  page   \n",
       "16131  {{pagebanner|Pagebanner default.jpg}}\\n'''Tzin...  page   \n",
       "16132  {{pagebanner|Pagebanner default.jpg}}\\n'''Urua...  page   \n",
       "16133  {{pagebanner|Pagebanner default.jpg|unesco=yes...  page   \n",
       "16134  {{pagebanner|Pagebanner default.jpg|pgname=Val...  page   \n",
       "16135  {{pagebanner|Pagebanner default.jpg}}\\n'''Vall...  page   \n",
       "16136  {{pagebanner|Pagebanner default.jpg}}\\n'''Vall...  page   \n",
       "16137  {{pagebanner|WV banner Veracruz state Tancoco....  page   \n",
       "16138  {{pagebanner|Pagebanner default.jpg}}\\n'''Vera...  page   \n",
       "16139  {{pagebanner|Villahermosa_banner.jpg}}\\n'''Vil...  page   \n",
       "16140  {{pagebanner|Pagebanner default.jpg}}\\n'''Xala...  page   \n",
       "16141  {{pagebanner|Pagebanner default.jpg}}\\n'''Xcal...  page   \n",
       "16142  {{pagebanner|Pagebanner default.jpg}}\\n'''Xpuj...  page   \n",
       "16143  {{Pagebanner|Yucatán Peninsula banner Temple o...  page   \n",
       "16144  {{pagebanner|WV banner Yucatan Chichen Itza.jp...  page   \n",
       "16145  {{pagebanner|Pagebanner default.jpg|pgname=Zac...  page   \n",
       "16146  {{pagebanner|Pagebanner default.jpg|unesco=yes...  page   \n",
       "16147  {{pagebanner|Pagebanner default.jpg}}\\n'''Zamo...  page   \n",
       "16148  {{Pagebanner|Lumpytrout page banner wikivoyage...  page   \n",
       "16149  {{pagebanner|Pagebanner default.jpg}}\\n\\n'''Zi...  page   \n",
       "16150  {{pagebanner|Pagebanner default.jpg}}\\n'''Zira...  page   \n",
       "16151  {{pagebanner|Pagebanner default.jpg}}\\n[[Image...  page   \n",
       "\n",
       "                                                     loc  region  \n",
       "0      //tools.wmflabs.org/wikivoyage/w/poimap2.php?l...      us  \n",
       "1      //tools.wmflabs.org/wikivoyage/w/poimap2.php?l...      us  \n",
       "2      //tools.wmflabs.org/wikivoyage/w/poimap2.php?l...      us  \n",
       "3      //tools.wmflabs.org/wikivoyage/w/poimap2.php?l...      us  \n",
       "4      //tools.wmflabs.org/wikivoyage/w/poimap2.php?l...      us  \n",
       "5      //tools.wmflabs.org/wikivoyage/w/poimap2.php?l...      us  \n",
       "6      //tools.wmflabs.org/wikivoyage/w/poimap2.php?l...      us  \n",
       "7      //tools.wmflabs.org/wikivoyage/w/poimap2.php?l...      us  \n",
       "8      //tools.wmflabs.org/wikivoyage/w/poimap2.php?l...      us  \n",
       "9      //tools.wmflabs.org/wikivoyage/w/poimap2.php?l...      us  \n",
       "10     //tools.wmflabs.org/wikivoyage/w/poimap2.php?l...      us  \n",
       "11     //tools.wmflabs.org/wikivoyage/w/poimap2.php?l...      us  \n",
       "12     //tools.wmflabs.org/wikivoyage/w/poimap2.php?l...      us  \n",
       "13     //tools.wmflabs.org/wikivoyage/w/poimap2.php?l...      us  \n",
       "14     //tools.wmflabs.org/wikivoyage/w/poimap2.php?l...      us  \n",
       "15     //tools.wmflabs.org/wikivoyage/w/poimap2.php?l...      us  \n",
       "16     //tools.wmflabs.org/wikivoyage/w/poimap2.php?l...      us  \n",
       "17     //tools.wmflabs.org/wikivoyage/w/poimap2.php?l...      us  \n",
       "18     //tools.wmflabs.org/wikivoyage/w/poimap2.php?l...      us  \n",
       "19     //tools.wmflabs.org/wikivoyage/w/poimap2.php?l...      us  \n",
       "20     //tools.wmflabs.org/wikivoyage/w/poimap2.php?l...      us  \n",
       "21     //tools.wmflabs.org/wikivoyage/w/poimap2.php?l...      us  \n",
       "22     //tools.wmflabs.org/wikivoyage/w/poimap2.php?l...      us  \n",
       "23     //tools.wmflabs.org/wikivoyage/w/poimap2.php?l...      us  \n",
       "24     //tools.wmflabs.org/wikivoyage/w/poimap2.php?l...      us  \n",
       "25     //tools.wmflabs.org/wikivoyage/w/poimap2.php?l...      us  \n",
       "26     //tools.wmflabs.org/wikivoyage/w/poimap2.php?l...      us  \n",
       "27     //tools.wmflabs.org/wikivoyage/w/poimap2.php?l...      us  \n",
       "28     //tools.wmflabs.org/wikivoyage/w/poimap2.php?l...      us  \n",
       "29     //tools.wmflabs.org/wikivoyage/w/poimap2.php?l...      us  \n",
       "...                                                  ...     ...  \n",
       "16122  //tools.wmflabs.org/wikivoyage/w/poimap2.php?l...  mexico  \n",
       "16123  //tools.wmflabs.org/wikivoyage/w/poimap2.php?l...  mexico  \n",
       "16124  //tools.wmflabs.org/wikivoyage/w/poimap2.php?l...  mexico  \n",
       "16125  //tools.wmflabs.org/wikivoyage/w/poimap2.php?l...  mexico  \n",
       "16126  //tools.wmflabs.org/wikivoyage/w/poimap2.php?l...  mexico  \n",
       "16127  //tools.wmflabs.org/wikivoyage/w/poimap2.php?l...  mexico  \n",
       "16128  //tools.wmflabs.org/wikivoyage/w/poimap2.php?l...  mexico  \n",
       "16129  //tools.wmflabs.org/wikivoyage/w/poimap2.php?l...  mexico  \n",
       "16130  //tools.wmflabs.org/wikivoyage/w/poimap2.php?l...  mexico  \n",
       "16131  //tools.wmflabs.org/wikivoyage/w/poimap2.php?l...  mexico  \n",
       "16132  //tools.wmflabs.org/wikivoyage/w/poimap2.php?l...  mexico  \n",
       "16133  //tools.wmflabs.org/wikivoyage/w/poimap2.php?l...  mexico  \n",
       "16134  //tools.wmflabs.org/wikivoyage/w/poimap2.php?l...  mexico  \n",
       "16135  //tools.wmflabs.org/wikivoyage/w/poimap2.php?l...  mexico  \n",
       "16136  //tools.wmflabs.org/wikivoyage/w/poimap2.php?l...  mexico  \n",
       "16137  //tools.wmflabs.org/wikivoyage/w/poimap2.php?l...  mexico  \n",
       "16138  //tools.wmflabs.org/wikivoyage/w/poimap2.php?l...  mexico  \n",
       "16139  //tools.wmflabs.org/wikivoyage/w/poimap2.php?l...  mexico  \n",
       "16140  //tools.wmflabs.org/wikivoyage/w/poimap2.php?l...  mexico  \n",
       "16141  //tools.wmflabs.org/wikivoyage/w/poimap2.php?l...  mexico  \n",
       "16142  //tools.wmflabs.org/wikivoyage/w/poimap2.php?l...  mexico  \n",
       "16143  //tools.wmflabs.org/wikivoyage/w/poimap2.php?l...  mexico  \n",
       "16144  //tools.wmflabs.org/wikivoyage/w/poimap2.php?l...  mexico  \n",
       "16145  //tools.wmflabs.org/wikivoyage/w/poimap2.php?l...  mexico  \n",
       "16146  //tools.wmflabs.org/wikivoyage/w/poimap2.php?l...  mexico  \n",
       "16147  //tools.wmflabs.org/wikivoyage/w/poimap2.php?l...  mexico  \n",
       "16148  //tools.wmflabs.org/wikivoyage/w/poimap2.php?l...  mexico  \n",
       "16149  //tools.wmflabs.org/wikivoyage/w/poimap2.php?l...  mexico  \n",
       "16150  //tools.wmflabs.org/wikivoyage/w/poimap2.php?l...  mexico  \n",
       "16151  //tools.wmflabs.org/wikivoyage/w/poimap2.php?l...  mexico  \n",
       "\n",
       "[16152 rows x 5 columns]"
      ]
     },
     "execution_count": 189,
     "metadata": {},
     "output_type": "execute_result"
    }
   ],
   "source": [
    "df"
   ]
  },
  {
   "cell_type": "code",
   "execution_count": 3,
   "metadata": {
    "collapsed": true
   },
   "outputs": [],
   "source": [
    "us = pickle.load(open(\"wikivoyage_text_US.p\",\"rb\"))"
   ]
  },
  {
   "cell_type": "code",
   "execution_count": 4,
   "metadata": {
    "collapsed": true
   },
   "outputs": [],
   "source": [
    "df = pd.DataFrame.from_dict(us,orient='index')"
   ]
  },
  {
   "cell_type": "code",
   "execution_count": 181,
   "metadata": {
    "collapsed": true
   },
   "outputs": [],
   "source": [
    "a = 1"
   ]
  },
  {
   "cell_type": "code",
   "execution_count": 182,
   "metadata": {
    "collapsed": false
   },
   "outputs": [
    {
     "data": {
      "text/plain": [
       "'1'"
      ]
     },
     "execution_count": 182,
     "metadata": {},
     "output_type": "execute_result"
    }
   ],
   "source": [
    "str(a)"
   ]
  },
  {
   "cell_type": "code",
   "execution_count": 5,
   "metadata": {
    "collapsed": false
   },
   "outputs": [
    {
     "data": {
      "text/html": [
       "<div>\n",
       "<table border=\"1\" class=\"dataframe\">\n",
       "  <thead>\n",
       "    <tr style=\"text-align: right;\">\n",
       "      <th></th>\n",
       "      <th>Name</th>\n",
       "      <th>text</th>\n",
       "      <th>type</th>\n",
       "      <th>loc</th>\n",
       "    </tr>\n",
       "  </thead>\n",
       "  <tbody>\n",
       "    <tr>\n",
       "      <th>0</th>\n",
       "      <td>AbercrombiePAGE</td>\n",
       "      <td>{{pagebanner|Abercrombie WikiVoyage Banner ND....</td>\n",
       "      <td>page</td>\n",
       "      <td>//tools.wmflabs.org/wikivoyage/w/poimap2.php?l...</td>\n",
       "    </tr>\n",
       "    <tr>\n",
       "      <th>1</th>\n",
       "      <td>Aberdeen (Maryland)PAGE</td>\n",
       "      <td>{{pagebanner|Aberdeen MD WikiVoyage Banner.jpg...</td>\n",
       "      <td>page</td>\n",
       "      <td>//tools.wmflabs.org/wikivoyage/w/poimap2.php?l...</td>\n",
       "    </tr>\n",
       "    <tr>\n",
       "      <th>2</th>\n",
       "      <td>Aberdeen (South Dakota)PAGE</td>\n",
       "      <td>{{pagebanner|Pagebanner default.jpg|pgname=Abe...</td>\n",
       "      <td>page</td>\n",
       "      <td>//tools.wmflabs.org/wikivoyage/w/poimap2.php?l...</td>\n",
       "    </tr>\n",
       "    <tr>\n",
       "      <th>3</th>\n",
       "      <td>Aberdeen (Washington)PAGE</td>\n",
       "      <td>{{Pagebanner|pgname=Aberdeen |Wikivoyage page ...</td>\n",
       "      <td>page</td>\n",
       "      <td>//tools.wmflabs.org/wikivoyage/w/poimap2.php?l...</td>\n",
       "    </tr>\n",
       "    <tr>\n",
       "      <th>4</th>\n",
       "      <td>AbernathyPAGE</td>\n",
       "      <td>{{pagebanner|Abernathy Texas Wikivoyage Banner...</td>\n",
       "      <td>page</td>\n",
       "      <td>//tools.wmflabs.org/wikivoyage/w/poimap2.php?l...</td>\n",
       "    </tr>\n",
       "  </tbody>\n",
       "</table>\n",
       "</div>"
      ],
      "text/plain": [
       "                          Name  \\\n",
       "0              AbercrombiePAGE   \n",
       "1      Aberdeen (Maryland)PAGE   \n",
       "2  Aberdeen (South Dakota)PAGE   \n",
       "3    Aberdeen (Washington)PAGE   \n",
       "4                AbernathyPAGE   \n",
       "\n",
       "                                                text  type  \\\n",
       "0  {{pagebanner|Abercrombie WikiVoyage Banner ND....  page   \n",
       "1  {{pagebanner|Aberdeen MD WikiVoyage Banner.jpg...  page   \n",
       "2  {{pagebanner|Pagebanner default.jpg|pgname=Abe...  page   \n",
       "3  {{Pagebanner|pgname=Aberdeen |Wikivoyage page ...  page   \n",
       "4  {{pagebanner|Abernathy Texas Wikivoyage Banner...  page   \n",
       "\n",
       "                                                 loc  \n",
       "0  //tools.wmflabs.org/wikivoyage/w/poimap2.php?l...  \n",
       "1  //tools.wmflabs.org/wikivoyage/w/poimap2.php?l...  \n",
       "2  //tools.wmflabs.org/wikivoyage/w/poimap2.php?l...  \n",
       "3  //tools.wmflabs.org/wikivoyage/w/poimap2.php?l...  \n",
       "4  //tools.wmflabs.org/wikivoyage/w/poimap2.php?l...  "
      ]
     },
     "execution_count": 5,
     "metadata": {},
     "output_type": "execute_result"
    }
   ],
   "source": [
    "df = df.reset_index()\n",
    "\n",
    "df = df.rename(columns=({ 'index' : 'Name'}))\n",
    "\n",
    "df.head()\n"
   ]
  },
  {
   "cell_type": "code",
   "execution_count": 6,
   "metadata": {
    "collapsed": true
   },
   "outputs": [],
   "source": [
    "def unwiki(wiki):\n",
    "        \"\"\"\n",
    "       Remove wiki markup from the text.\n",
    "       \"\"\"\n",
    "        wiki = re.sub(r'(?i)\\{\\{IPA(\\-[^\\|\\{\\}]+)*?\\|([^\\|\\{\\}]+)(\\|[^\\{\\}]+)*?\\}\\}', lambda m: m.group(2), wiki)\n",
    "        wiki = re.sub(r'(?i)\\{\\{Lang(\\-[^\\|\\{\\}]+)*?\\|([^\\|\\{\\}]+)(\\|[^\\{\\}]+)*?\\}\\}', lambda m: m.group(2), wiki)\n",
    "        wiki = re.sub(r'\\{\\{[^\\{\\}]+\\}\\}', '', wiki)\n",
    "        wiki = re.sub(r'(?m)\\{\\{[^\\{\\}]+\\}\\}', '', wiki)\n",
    "        wiki = re.sub(r'(?m)\\{\\|[^\\{\\}]*?\\|\\}', '', wiki)\n",
    "        wiki = re.sub(r'(?i)\\[\\[Category:[^\\[\\]]*?\\]\\]', '', wiki)\n",
    "        wiki = re.sub(r'(?i)\\[\\[Image:[^\\[\\]]*?\\]\\]', '', wiki)\n",
    "        wiki = re.sub(r'(?i)\\[\\[File:[^\\[\\]]*?\\]\\]', '', wiki)\n",
    "        wiki = re.sub(r'\\[\\[[^\\[\\]]*?\\|([^\\[\\]]*?)\\]\\]', lambda m: m.group(1), wiki)\n",
    "        wiki = re.sub(r'\\[\\[([^\\[\\]]+?)\\]\\]', lambda m: m.group(1), wiki)\n",
    "        wiki = re.sub(r'\\[\\[([^\\[\\]]+?)\\]\\]', '', wiki)\n",
    "        wiki = re.sub(r'(?i)File:[^\\[\\]]*?', '', wiki)\n",
    "        wiki = re.sub(r'\\[[^\\[\\]]*? ([^\\[\\]]*?)\\]', lambda m: m.group(1), wiki)\n",
    "        wiki = re.sub(r\"''+\", '', wiki)\n",
    "        wiki = re.sub(r'(?m)^\\*$', '', wiki)\n",
    "       \n",
    "        return wiki\n",
    "\n",
    "def unhtml(html):\n",
    "        \"\"\"\n",
    "       Remove HTML from the text.\n",
    "       \"\"\"\n",
    "        html = re.sub(r'(?i)&nbsp;', ' ', html)\n",
    "        html = re.sub(r'(?i)<br[ \\\\]*?>', '\\n', html)\n",
    "        html = re.sub(r'(?m)<!--.*?--\\s*>', '', html)\n",
    "        html = re.sub(r'(?i)<ref[^>]*>[^>]*<\\/ ?ref>', '', html)\n",
    "        html = re.sub(r'(?m)<.*?>', '', html)\n",
    "        html = re.sub(r'(?i)&amp;', '&', html)\n",
    "       \n",
    "        return html\n",
    "\n",
    "def f(x):\n",
    "    return unhtml(unwiki(x))"
   ]
  },
  {
   "cell_type": "code",
   "execution_count": 7,
   "metadata": {
    "collapsed": true
   },
   "outputs": [],
   "source": [
    "df['text'] = df['text'].apply(f)"
   ]
  },
  {
   "cell_type": "code",
   "execution_count": 8,
   "metadata": {
    "collapsed": true
   },
   "outputs": [],
   "source": [
    "pages = df[df['type'] == 'page']"
   ]
  },
  {
   "cell_type": "code",
   "execution_count": 9,
   "metadata": {
    "collapsed": true
   },
   "outputs": [],
   "source": [
    "def f(x):\n",
    "    return re.sub('PAGE', '', x)"
   ]
  },
  {
   "cell_type": "code",
   "execution_count": 10,
   "metadata": {
    "collapsed": false
   },
   "outputs": [
    {
     "name": "stderr",
     "output_type": "stream",
     "text": [
      "/anaconda/lib/python2.7/site-packages/ipykernel/__main__.py:1: SettingWithCopyWarning: \n",
      "A value is trying to be set on a copy of a slice from a DataFrame.\n",
      "Try using .loc[row_indexer,col_indexer] = value instead\n",
      "\n",
      "See the the caveats in the documentation: http://pandas.pydata.org/pandas-docs/stable/indexing.html#indexing-view-versus-copy\n",
      "  if __name__ == '__main__':\n"
     ]
    }
   ],
   "source": [
    "pages['Name'] = pages['Name'].apply(f)"
   ]
  },
  {
   "cell_type": "code",
   "execution_count": 11,
   "metadata": {
    "collapsed": true
   },
   "outputs": [],
   "source": [
    "pages = pages[pages['loc'].str.contains(\"//tools.wmflabs.org/wikivoyage/w/poimap2\")==True]"
   ]
  },
  {
   "cell_type": "code",
   "execution_count": 12,
   "metadata": {
    "collapsed": true
   },
   "outputs": [],
   "source": [
    "from nltk.corpus import stopwords\n",
    "\n",
    "\n",
    "# In[19]:\n",
    "\n",
    "StopWords = stopwords.words('english')"
   ]
  },
  {
   "cell_type": "code",
   "execution_count": 13,
   "metadata": {
    "collapsed": true
   },
   "outputs": [],
   "source": [
    "StopPlaces = list(pages['Name'])\n",
    "\n",
    "\n",
    "# In[21]:\n",
    "\n",
    "StopPlaces = map(lambda x: re.sub(\"\\(|\\)\", '',x), StopPlaces)\n",
    "\n",
    "\n",
    "# In[22]:\n",
    "\n",
    "StopPlaces = map(lambda x: x.lower().split(), StopPlaces)\n",
    "\n",
    "\n",
    "# In[23]:\n",
    "\n",
    "StopPlaces = [item for sublist in StopPlaces for item in sublist]\n",
    "\n",
    "StopPlaces = [re.findall(r'(?<=\\/).*',i)[0] if \"/\" in i else i for i in StopPlaces]\n",
    "# In[24]:\n",
    "\n",
    "StopWords = StopPlaces + StopWords\n",
    "\n",
    "\n",
    "# In[25]:\n",
    "\n",
    "StopWords = list(set(StopWords))"
   ]
  },
  {
   "cell_type": "code",
   "execution_count": 14,
   "metadata": {
    "collapsed": true
   },
   "outputs": [],
   "source": [
    "def f(x):\n",
    "    x = re.sub(r'WikiPedia:([\\s\\S]*)','', x)\n",
    "    x = re.sub(r'Dmoz:([\\s\\S]*)','', x)\n",
    "    x = re.sub(r'\\[([\\s\\S]*)\\]','', x)\n",
    "    x = re.sub(r'[0-9]','', x)\n",
    "    #x = re.sub(r'\\=\\=Get in\\=\\=([\\s\\S]*)(?=\\=\\=Get around\\=\\=)','',x)\n",
    "    #x = re.sub(r'\\=\\=Get around\\=\\=([\\s\\S]*)(?=\\=\\=See\\=\\=)','',x)\n",
    "    #x = re.sub(r'\\=\\=Respect\\=\\=([\\s\\S]*)(?=\\=\\=Go next\\=\\=)','',x)\n",
    "    #x = re.sub(r'\\=\\=Stay safe\\=\\=([\\s\\S]*)(?=\\=\\=Go next\\=\\=)','',x)\n",
    "    x = re.sub(r'\\=\\=([\\S ]*)\\=\\=', '', x)\n",
    "    x = re.sub(r'\\=\\=Go next\\=\\=([\\s\\S]*)','', x)\n",
    "    return x"
   ]
  },
  {
   "cell_type": "code",
   "execution_count": 15,
   "metadata": {
    "collapsed": true
   },
   "outputs": [],
   "source": [
    "pages['regex_text'] = pages['text'].apply(f)"
   ]
  },
  {
   "cell_type": "code",
   "execution_count": 115,
   "metadata": {
    "collapsed": true
   },
   "outputs": [],
   "source": [
    "pages2 = pages"
   ]
  },
  {
   "cell_type": "code",
   "execution_count": 116,
   "metadata": {
    "collapsed": false
   },
   "outputs": [],
   "source": [
    "pages4 = pages2"
   ]
  },
  {
   "cell_type": "code",
   "execution_count": 18,
   "metadata": {
    "collapsed": false
   },
   "outputs": [
    {
     "name": "stderr",
     "output_type": "stream",
     "text": [
      "//anaconda/lib/python2.7/site-packages/pandas/core/strings.py:207: UserWarning: This pattern has match groups. To actually get the groups, use str.extract.\n",
      "  \" groups, use str.extract.\", UserWarning)\n",
      "/anaconda/lib/python2.7/site-packages/ipykernel/__main__.py:8: SettingWithCopyWarning: \n",
      "A value is trying to be set on a copy of a slice from a DataFrame.\n",
      "Try using .loc[row_indexer,col_indexer] = value instead\n",
      "\n",
      "See the the caveats in the documentation: http://pandas.pydata.org/pandas-docs/stable/indexing.html#indexing-view-versus-copy\n"
     ]
    }
   ],
   "source": [
    "for name in pages4[\"Name\"]:\n",
    "    \n",
    "    name2 = name + \"/\"\n",
    "    df = pages4[pages4[\"Name\"].str.contains(name2) == True]\n",
    "    \n",
    "    if len(df) > 0:\n",
    "        for i in df[\"regex_text\"]:\n",
    "            pages2[pages2[\"Name\"] == name][\"regex_text\"] = pages2[pages2[\"Name\"] == name][\"regex_text\"] + i\n",
    "            \n",
    "    pages2 = pages2.drop(df.index)"
   ]
  },
  {
   "cell_type": "code",
   "execution_count": 117,
   "metadata": {
    "collapsed": true
   },
   "outputs": [],
   "source": [
    "pages2['len'] = map(lambda x: len(x), pages2['regex_text'])"
   ]
  },
  {
   "cell_type": "code",
   "execution_count": 118,
   "metadata": {
    "collapsed": true
   },
   "outputs": [],
   "source": [
    "pages2 = pages2[pages2['len']> 1000]"
   ]
  },
  {
   "cell_type": "code",
   "execution_count": 119,
   "metadata": {
    "collapsed": true
   },
   "outputs": [],
   "source": [
    "from gensim.models.doc2vec import LabeledSentence"
   ]
  },
  {
   "cell_type": "code",
   "execution_count": 120,
   "metadata": {
    "collapsed": true
   },
   "outputs": [],
   "source": [
    "class LabeledLineSentence(object):\n",
    "    def __init__(self, doc_list, labels_list):\n",
    "        self.labels_list = labels_list\n",
    "        self.doc_list = doc_list\n",
    "    def __iter__(self):\n",
    "        for idx, doc in enumerate(self.doc_list):\n",
    "            yield LabeledSentence(words=doc,tags=[self.labels_list[idx]])"
   ]
  },
  {
   "cell_type": "code",
   "execution_count": 121,
   "metadata": {
    "collapsed": true
   },
   "outputs": [],
   "source": [
    "pages3 = pages2.reset_index()"
   ]
  },
  {
   "cell_type": "code",
   "execution_count": 122,
   "metadata": {
    "collapsed": true
   },
   "outputs": [],
   "source": [
    "pages3 = pages3.ix[np.array([i for i,j in enumerate(list(pages2[\"Name\"])) if \"Airport\" not in j])]"
   ]
  },
  {
   "cell_type": "code",
   "execution_count": 123,
   "metadata": {
    "collapsed": true
   },
   "outputs": [],
   "source": [
    "features = list(pages3['regex_text'].apply(lambda x: \"\".join(x.lower().splitlines())))"
   ]
  },
  {
   "cell_type": "code",
   "execution_count": 124,
   "metadata": {
    "collapsed": true
   },
   "outputs": [],
   "source": [
    "from nltk.tokenize import RegexpTokenizer"
   ]
  },
  {
   "cell_type": "code",
   "execution_count": 125,
   "metadata": {
    "collapsed": true
   },
   "outputs": [],
   "source": [
    "tokenizer = RegexpTokenizer(r'\\w+')"
   ]
  },
  {
   "cell_type": "code",
   "execution_count": 126,
   "metadata": {
    "collapsed": true
   },
   "outputs": [],
   "source": [
    "features = [tokenizer.tokenize(x) for x in features]"
   ]
  },
  {
   "cell_type": "code",
   "execution_count": 29,
   "metadata": {
    "collapsed": false
   },
   "outputs": [],
   "source": [
    "features = [[y for y in x if y not in StopWords] for x in features]"
   ]
  },
  {
   "cell_type": "code",
   "execution_count": 127,
   "metadata": {
    "collapsed": true
   },
   "outputs": [],
   "source": [
    "labels_list = list(pages3['Name'])"
   ]
  },
  {
   "cell_type": "code",
   "execution_count": 128,
   "metadata": {
    "collapsed": false
   },
   "outputs": [],
   "source": [
    "it = LabeledLineSentence(features, labels_list)"
   ]
  },
  {
   "cell_type": "code",
   "execution_count": 129,
   "metadata": {
    "collapsed": true
   },
   "outputs": [],
   "source": [
    "import gensim"
   ]
  },
  {
   "cell_type": "code",
   "execution_count": 130,
   "metadata": {
    "collapsed": false
   },
   "outputs": [],
   "source": [
    "model = gensim.models.Doc2Vec(size=200, window=10,\n",
    "                              min_count=5, workers=11,alpha=0.025, min_alpha=0.025,negative=20,\n",
    "                             dm=1) # use fixed learning rate"
   ]
  },
  {
   "cell_type": "code",
   "execution_count": 131,
   "metadata": {
    "collapsed": true
   },
   "outputs": [],
   "source": [
    "model.build_vocab(it)"
   ]
  },
  {
   "cell_type": "code",
   "execution_count": 132,
   "metadata": {
    "collapsed": false
   },
   "outputs": [],
   "source": [
    "for epoch in range(10):\n",
    "    model.train(it)\n",
    "    model.alpha -= 0.002 # decrease the learning rate\n",
    "    model.min_alpha = model.alpha # fix the learning rate, no deca\n",
    "    model.train(it)"
   ]
  },
  {
   "cell_type": "code",
   "execution_count": 133,
   "metadata": {
    "collapsed": true
   },
   "outputs": [],
   "source": [
    "model.save(\"doc2vec_dm_places_sep.model\")"
   ]
  },
  {
   "cell_type": "code",
   "execution_count": 144,
   "metadata": {
    "collapsed": false
   },
   "outputs": [
    {
     "ename": "TypeError",
     "evalue": "'Vocab' object is not iterable",
     "output_type": "error",
     "traceback": [
      "\u001b[0;31m---------------------------------------------------------------------------\u001b[0m",
      "\u001b[0;31mTypeError\u001b[0m                                 Traceback (most recent call last)",
      "\u001b[0;32m<ipython-input-144-39df1aa2b19b>\u001b[0m in \u001b[0;36m<module>\u001b[0;34m()\u001b[0m\n\u001b[0;32m----> 1\u001b[0;31m \u001b[0mmodel\u001b[0m\u001b[0;34m.\u001b[0m\u001b[0mdocvecs\u001b[0m\u001b[0;34m.\u001b[0m\u001b[0mmost_similar\u001b[0m\u001b[0;34m(\u001b[0m\u001b[0mmodel\u001b[0m\u001b[0;34m.\u001b[0m\u001b[0mvocab\u001b[0m\u001b[0;34m[\u001b[0m\u001b[0;34m'skiing'\u001b[0m\u001b[0;34m]\u001b[0m\u001b[0;34m)\u001b[0m\u001b[0;34m\u001b[0m\u001b[0m\n\u001b[0m",
      "\u001b[0;32m//anaconda/lib/python2.7/site-packages/gensim/models/doc2vec.pyc\u001b[0m in \u001b[0;36mmost_similar\u001b[0;34m(self, positive, negative, topn, clip_start, clip_end)\u001b[0m\n\u001b[1;32m    422\u001b[0m         positive = [\n\u001b[1;32m    423\u001b[0m             \u001b[0;34m(\u001b[0m\u001b[0mdoc\u001b[0m\u001b[0;34m,\u001b[0m \u001b[0;36m1.0\u001b[0m\u001b[0;34m)\u001b[0m \u001b[0;32mif\u001b[0m \u001b[0misinstance\u001b[0m\u001b[0;34m(\u001b[0m\u001b[0mdoc\u001b[0m\u001b[0;34m,\u001b[0m \u001b[0mstring_types\u001b[0m \u001b[0;34m+\u001b[0m \u001b[0;34m(\u001b[0m\u001b[0mndarray\u001b[0m\u001b[0;34m,\u001b[0m\u001b[0;34m)\u001b[0m \u001b[0;34m+\u001b[0m \u001b[0minteger_types\u001b[0m\u001b[0;34m)\u001b[0m\u001b[0;34m\u001b[0m\u001b[0m\n\u001b[0;32m--> 424\u001b[0;31m             \u001b[0;32melse\u001b[0m \u001b[0mdoc\u001b[0m \u001b[0;32mfor\u001b[0m \u001b[0mdoc\u001b[0m \u001b[0;32min\u001b[0m \u001b[0mpositive\u001b[0m\u001b[0;34m\u001b[0m\u001b[0m\n\u001b[0m\u001b[1;32m    425\u001b[0m         ]\n\u001b[1;32m    426\u001b[0m         negative = [\n",
      "\u001b[0;31mTypeError\u001b[0m: 'Vocab' object is not iterable"
     ]
    }
   ],
   "source": [
    "model.docvecs.most_similar()"
   ]
  },
  {
   "cell_type": "code",
   "execution_count": 36,
   "metadata": {
    "collapsed": false
   },
   "outputs": [
    {
     "ename": "TypeError",
     "evalue": "'NoneType' object has no attribute '__getitem__'",
     "output_type": "error",
     "traceback": [
      "\u001b[0;31m---------------------------------------------------------------------------\u001b[0m",
      "\u001b[0;31mTypeError\u001b[0m                                 Traceback (most recent call last)",
      "\u001b[0;32m<ipython-input-36-f22df6bb8ab8>\u001b[0m in \u001b[0;36m<module>\u001b[0;34m()\u001b[0m\n\u001b[0;32m----> 1\u001b[0;31m \u001b[0mmodel\u001b[0m\u001b[0;34m.\u001b[0m\u001b[0mmost_similar\u001b[0m\u001b[0;34m(\u001b[0m\u001b[0mmodel\u001b[0m\u001b[0;34m.\u001b[0m\u001b[0msyn0norm\u001b[0m\u001b[0;34m[\u001b[0m\u001b[0mmodel\u001b[0m\u001b[0;34m.\u001b[0m\u001b[0mvocab\u001b[0m\u001b[0;34m[\u001b[0m\u001b[0;34m'skiing'\u001b[0m\u001b[0;34m]\u001b[0m\u001b[0;34m.\u001b[0m\u001b[0mindex\u001b[0m\u001b[0;34m]\u001b[0m\u001b[0;34m)\u001b[0m\u001b[0;34m\u001b[0m\u001b[0m\n\u001b[0m",
      "\u001b[0;31mTypeError\u001b[0m: 'NoneType' object has no attribute '__getitem__'"
     ]
    }
   ],
   "source": [
    "model.most_similar(model.syn0norm[model.vocab['skiing'].index])"
   ]
  },
  {
   "cell_type": "code",
   "execution_count": 69,
   "metadata": {
    "collapsed": false
   },
   "outputs": [
    {
     "ename": "TypeError",
     "evalue": "'numpy.float32' object is not iterable",
     "output_type": "error",
     "traceback": [
      "\u001b[0;31m---------------------------------------------------------------------------\u001b[0m",
      "\u001b[0;31mTypeError\u001b[0m                                 Traceback (most recent call last)",
      "\u001b[0;32m<ipython-input-69-b5f94436a1d9>\u001b[0m in \u001b[0;36m<module>\u001b[0;34m()\u001b[0m\n\u001b[0;32m----> 1\u001b[0;31m \u001b[0mmodel\u001b[0m\u001b[0;34m.\u001b[0m\u001b[0mdocvecs\u001b[0m\u001b[0;34m.\u001b[0m\u001b[0mmost_similar\u001b[0m\u001b[0;34m(\u001b[0m\u001b[0mmodel\u001b[0m\u001b[0;34m.\u001b[0m\u001b[0msyn0norm\u001b[0m\u001b[0;34m[\u001b[0m\u001b[0mmodel\u001b[0m\u001b[0;34m.\u001b[0m\u001b[0mvocab\u001b[0m\u001b[0;34m[\u001b[0m\u001b[0;34m'skiing'\u001b[0m\u001b[0;34m]\u001b[0m\u001b[0;34m.\u001b[0m\u001b[0mindex\u001b[0m\u001b[0;34m]\u001b[0m\u001b[0;34m)\u001b[0m\u001b[0;34m\u001b[0m\u001b[0m\n\u001b[0m",
      "\u001b[0;32m//anaconda/lib/python2.7/site-packages/gensim/models/doc2vec.pyc\u001b[0m in \u001b[0;36mmost_similar\u001b[0;34m(self, positive, negative, topn, clip_start, clip_end)\u001b[0m\n\u001b[1;32m    431\u001b[0m         \u001b[0;31m# compute the weighted average of all docs\u001b[0m\u001b[0;34m\u001b[0m\u001b[0;34m\u001b[0m\u001b[0m\n\u001b[1;32m    432\u001b[0m         \u001b[0mall_docs\u001b[0m\u001b[0;34m,\u001b[0m \u001b[0mmean\u001b[0m \u001b[0;34m=\u001b[0m \u001b[0mset\u001b[0m\u001b[0;34m(\u001b[0m\u001b[0;34m)\u001b[0m\u001b[0;34m,\u001b[0m \u001b[0;34m[\u001b[0m\u001b[0;34m]\u001b[0m\u001b[0;34m\u001b[0m\u001b[0m\n\u001b[0;32m--> 433\u001b[0;31m         \u001b[0;32mfor\u001b[0m \u001b[0mdoc\u001b[0m\u001b[0;34m,\u001b[0m \u001b[0mweight\u001b[0m \u001b[0;32min\u001b[0m \u001b[0mpositive\u001b[0m \u001b[0;34m+\u001b[0m \u001b[0mnegative\u001b[0m\u001b[0;34m:\u001b[0m\u001b[0;34m\u001b[0m\u001b[0m\n\u001b[0m\u001b[1;32m    434\u001b[0m             \u001b[0;32mif\u001b[0m \u001b[0misinstance\u001b[0m\u001b[0;34m(\u001b[0m\u001b[0mdoc\u001b[0m\u001b[0;34m,\u001b[0m \u001b[0mndarray\u001b[0m\u001b[0;34m)\u001b[0m\u001b[0;34m:\u001b[0m\u001b[0;34m\u001b[0m\u001b[0m\n\u001b[1;32m    435\u001b[0m                 \u001b[0mmean\u001b[0m\u001b[0;34m.\u001b[0m\u001b[0mappend\u001b[0m\u001b[0;34m(\u001b[0m\u001b[0mweight\u001b[0m \u001b[0;34m*\u001b[0m \u001b[0mdoc\u001b[0m\u001b[0;34m)\u001b[0m\u001b[0;34m\u001b[0m\u001b[0m\n",
      "\u001b[0;31mTypeError\u001b[0m: 'numpy.float32' object is not iterable"
     ]
    }
   ],
   "source": [
    "model.docvecs.most_similar(model.syn0norm[model.vocab['skiing'].index])"
   ]
  },
  {
   "cell_type": "code",
   "execution_count": 37,
   "metadata": {
    "collapsed": false
   },
   "outputs": [
    {
     "data": {
      "text/plain": [
       "8390"
      ]
     },
     "execution_count": 37,
     "metadata": {},
     "output_type": "execute_result"
    }
   ],
   "source": [
    "model.vocab['skiing'].index"
   ]
  },
  {
   "cell_type": "code",
   "execution_count": 62,
   "metadata": {
    "collapsed": false
   },
   "outputs": [
    {
     "data": {
      "text/plain": [
       "array([-0.06245807, -0.01415789,  0.00260839, -0.08011691,  0.01349254,\n",
       "       -0.02795338, -0.06820396, -0.08473887, -0.04719996,  0.0415777 ,\n",
       "        0.01524689, -0.03672023, -0.01999385,  0.07882671,  0.08457068,\n",
       "        0.00673092,  0.05078225, -0.09355281, -0.06450774, -0.00306488,\n",
       "        0.02049748, -0.10971595, -0.0164858 , -0.10860176,  0.11950722,\n",
       "        0.01033655, -0.07752786,  0.06293855,  0.05771945,  0.04158242,\n",
       "        0.00928638,  0.05731043,  0.0215348 , -0.06709696,  0.05062351,\n",
       "       -0.01140026, -0.07648042, -0.03413121, -0.00977167,  0.04571512,\n",
       "        0.01914752, -0.00922657,  0.0396229 , -0.05123307, -0.09696598,\n",
       "        0.04464613, -0.05312309, -0.13987021,  0.04102162, -0.09300322,\n",
       "       -0.03338017, -0.00024413,  0.08327062, -0.0751948 ,  0.00154893,\n",
       "        0.00863051,  0.01798194, -0.09478285,  0.06934574,  0.01267201,\n",
       "        0.04465583, -0.08891953, -0.00165403, -0.0597673 ,  0.04408976,\n",
       "       -0.03822423, -0.05616942,  0.05873096, -0.07526834, -0.07406792,\n",
       "        0.02528696, -0.0491237 , -0.04438336,  0.05460009, -0.00729416,\n",
       "       -0.02516035, -0.02169515,  0.01559237, -0.01255357,  0.06420534,\n",
       "        0.03075619,  0.11045548,  0.08653334,  0.03020306, -0.02404103,\n",
       "        0.06519977, -0.02862156,  0.01956917,  0.03511518, -0.00542324,\n",
       "       -0.04082771,  0.0099477 , -0.0814281 , -0.00188409,  0.0490697 ,\n",
       "       -0.00375191, -0.09194092,  0.06401029, -0.08261778,  0.02340093,\n",
       "        0.09140201,  0.06666349, -0.0345124 , -0.20833965, -0.03367611,\n",
       "       -0.08562722, -0.02241311, -0.0546814 ,  0.07282735, -0.06285149,\n",
       "        0.00657667,  0.0219413 ,  0.01658108,  0.14313653, -0.06644871,\n",
       "       -0.03079124,  0.05801074, -0.05617511, -0.00986348, -0.02413136,\n",
       "       -0.0660717 , -0.01882965, -0.05199211, -0.00996346, -0.05012452,\n",
       "       -0.02527162,  0.0610682 , -0.06197001, -0.02396199, -0.02293097,\n",
       "       -0.03121656, -0.04935934,  0.01877026,  0.16121472, -0.04198877,\n",
       "        0.01550247, -0.02255968, -0.0183771 ,  0.1148537 ,  0.04506792,\n",
       "       -0.01054672,  0.05397955, -0.03036102, -0.01204804, -0.05892296,\n",
       "       -0.05427143,  0.01672021, -0.08226471,  0.05492735, -0.09550355,\n",
       "        0.0171955 , -0.09670457,  0.04464867, -0.07063428, -0.03949152,\n",
       "        0.03495285, -0.06898576,  0.0021149 ,  0.01997582, -0.01139082,\n",
       "       -0.01826009, -0.02312641,  0.01414141, -0.01114482, -0.1176801 ,\n",
       "       -0.0085564 , -0.06374288, -0.08993287, -0.07514079,  0.0509645 ,\n",
       "       -0.02104655,  0.03355019,  0.04675293,  0.04176265, -0.03662104,\n",
       "       -0.15836062,  0.06691208,  0.09298454, -0.05194677, -0.0085618 ,\n",
       "        0.04518308,  0.03113372, -0.02080479,  0.00985989,  0.06317512,\n",
       "        0.04565027, -0.00294413,  0.0304004 , -0.18308152,  0.02803027,\n",
       "       -0.00987067,  0.01961081,  0.03808972,  0.0584922 , -0.02364046,\n",
       "        0.03870264,  0.12911002, -0.06470959,  0.06578256,  0.00343855,\n",
       "        0.00899651, -0.02380357, -0.00390694, -0.16207474,  0.00793283,\n",
       "        0.06645244, -0.01105813,  0.03652606,  0.04946786,  0.01121351,\n",
       "        0.05615351,  0.02800693,  0.0985463 ,  0.02498195, -0.00374169,\n",
       "       -0.13732623, -0.04810671,  0.00322927,  0.07444812,  0.0648443 ,\n",
       "        0.00467012, -0.00099855, -0.0011033 ,  0.02651206,  0.02196437,\n",
       "        0.00421599, -0.05857156, -0.02932814, -0.03162646, -0.04024792,\n",
       "        0.02611142, -0.07472966,  0.0392606 ,  0.01983919, -0.04302736,\n",
       "        0.0941663 , -0.01909685,  0.02022092, -0.00975287,  0.07363447,\n",
       "       -0.0424452 , -0.03198973, -0.00628728,  0.02983798, -0.00283787,\n",
       "        0.10355181,  0.00175116,  0.06076357,  0.07329379,  0.03782021,\n",
       "        0.0380398 , -0.01751367,  0.06637019,  0.00647282, -0.10024157,\n",
       "       -0.05772967, -0.02647179, -0.09697291,  0.09564925, -0.01665451,\n",
       "       -0.06170586, -0.0490157 ,  0.12653697,  0.04945586,  0.03020067,\n",
       "       -0.05156385,  0.00172664,  0.05858763,  0.11227835, -0.02120267,\n",
       "       -0.04468137, -0.00734836, -0.02176692, -0.05448886, -0.01878399,\n",
       "        0.07412226, -0.01780083, -0.06366633,  0.04527509, -0.08478773,\n",
       "       -0.07555152,  0.00833415,  0.0628884 ,  0.01412116, -0.05846795,\n",
       "       -0.02206045, -0.0143818 ,  0.05009243,  0.01508742, -0.02670863,\n",
       "        0.0177168 ,  0.02270407, -0.03804193,  0.05910492,  0.00435261,\n",
       "        0.0109572 ,  0.00662215, -0.10265853, -0.07639043, -0.0228356 ], dtype=float32)"
      ]
     },
     "execution_count": 62,
     "metadata": {},
     "output_type": "execute_result"
    }
   ],
   "source": [
    "model.syn0norm[model.vocab['skiing'].index]"
   ]
  },
  {
   "cell_type": "code",
   "execution_count": 543,
   "metadata": {
    "collapsed": false
   },
   "outputs": [],
   "source": [
    "xfeatures = np.array(model.docvecs.doctag_syn0norm)"
   ]
  },
  {
   "cell_type": "code",
   "execution_count": 544,
   "metadata": {
    "collapsed": true
   },
   "outputs": [],
   "source": [
    "import sklearn"
   ]
  },
  {
   "cell_type": "code",
   "execution_count": 545,
   "metadata": {
    "collapsed": true
   },
   "outputs": [],
   "source": [
    "scaler = sklearn.preprocessing.StandardScaler(with_mean=False)"
   ]
  },
  {
   "cell_type": "code",
   "execution_count": 546,
   "metadata": {
    "collapsed": false
   },
   "outputs": [],
   "source": [
    "xfeatures = model.docvecs.doctag_syn0.astype(np.float)"
   ]
  },
  {
   "cell_type": "code",
   "execution_count": 547,
   "metadata": {
    "collapsed": false
   },
   "outputs": [
    {
     "data": {
      "text/plain": [
       "array([[ 0.00618221,  0.14849949, -0.21436004, ...,  0.05242248,\n",
       "        -0.29331636, -0.07001676],\n",
       "       [-0.08529968,  0.04382144, -0.12490274, ...,  0.14418064,\n",
       "        -0.01959139, -0.04958922],\n",
       "       [-0.01886769,  0.03903722,  0.19335651, ...,  0.00457531,\n",
       "        -0.05352483, -0.06246015],\n",
       "       ..., \n",
       "       [ 0.05247582, -0.07905624,  0.02315853, ..., -0.09176812,\n",
       "         0.00245069, -0.11172249],\n",
       "       [-0.09852564,  0.03295929, -0.19023257, ...,  0.06347469,\n",
       "        -0.02566116,  0.04252853],\n",
       "       [ 0.0968906 , -0.3269906 , -0.21318677, ...,  0.04024683,\n",
       "        -0.20773768,  0.02693229]])"
      ]
     },
     "execution_count": 547,
     "metadata": {},
     "output_type": "execute_result"
    }
   ],
   "source": [
    "model.docvecs.doctag_syn0.astype(np.float)"
   ]
  },
  {
   "cell_type": "code",
   "execution_count": 127,
   "metadata": {
    "collapsed": false
   },
   "outputs": [],
   "source": [
    "import hdbscan\n",
    "\n",
    "clusterer = hdbscan.HDBSCAN(min_cluster_size=10,metric='cosine')\n",
    "cluster_labels = clusterer.fit_predict(model.docvecs.doctag_syn0.astype(np.float))"
   ]
  },
  {
   "cell_type": "code",
   "execution_count": 549,
   "metadata": {
    "collapsed": true
   },
   "outputs": [],
   "source": [
    "md = DBSCAN(eps=1)"
   ]
  },
  {
   "cell_type": "code",
   "execution_count": 550,
   "metadata": {
    "collapsed": false
   },
   "outputs": [
    {
     "data": {
      "text/plain": [
       "DBSCAN(algorithm='auto', eps=1, leaf_size=30, metric='euclidean',\n",
       "    min_samples=5, p=None, random_state=None)"
      ]
     },
     "execution_count": 550,
     "metadata": {},
     "output_type": "execute_result"
    }
   ],
   "source": [
    "md.fit(model.docvecs.doctag_syn0.astype(np.float))"
   ]
  },
  {
   "cell_type": "code",
   "execution_count": 379,
   "metadata": {
    "collapsed": false
   },
   "outputs": [
    {
     "data": {
      "text/plain": [
       "array([0, 0, 0, ..., 0, 0, 0])"
      ]
     },
     "execution_count": 379,
     "metadata": {},
     "output_type": "execute_result"
    }
   ],
   "source": [
    "md.labels_"
   ]
  },
  {
   "cell_type": "code",
   "execution_count": 80,
   "metadata": {
    "collapsed": true
   },
   "outputs": [],
   "source": [
    "from collections import Counter"
   ]
  },
  {
   "cell_type": "code",
   "execution_count": 128,
   "metadata": {
    "collapsed": false,
    "scrolled": false
   },
   "outputs": [
    {
     "data": {
      "text/plain": [
       "Counter({-1: 2659, 0: 28, 1: 25, 2: 18, 3: 34, 4: 28})"
      ]
     },
     "execution_count": 128,
     "metadata": {},
     "output_type": "execute_result"
    }
   ],
   "source": [
    "Counter(cluster_labels)"
   ]
  },
  {
   "cell_type": "code",
   "execution_count": 84,
   "metadata": {
    "collapsed": true
   },
   "outputs": [],
   "source": [
    "import sklearn"
   ]
  },
  {
   "cell_type": "code",
   "execution_count": 129,
   "metadata": {
    "collapsed": false
   },
   "outputs": [],
   "source": [
    "pca = sklearn.decomposition.RandomizedPCA()"
   ]
  },
  {
   "cell_type": "code",
   "execution_count": 130,
   "metadata": {
    "collapsed": false
   },
   "outputs": [],
   "source": [
    "pca_x = pca.fit_transform(model.docvecs.doctag_syn0.astype(np.float))"
   ]
  },
  {
   "cell_type": "code",
   "execution_count": 131,
   "metadata": {
    "collapsed": false
   },
   "outputs": [
    {
     "data": {
      "text/plain": [
       "array([ 0.5262375 ,  0.46992238,  0.41535437,  0.40188575,  0.35447076,\n",
       "        0.34057881,  0.31949515,  0.31634743,  0.30805046,  0.29567861])"
      ]
     },
     "execution_count": 131,
     "metadata": {},
     "output_type": "execute_result"
    }
   ],
   "source": [
    "pca.explained_variance_[0:10]"
   ]
  },
  {
   "cell_type": "code",
   "execution_count": 132,
   "metadata": {
    "collapsed": false
   },
   "outputs": [
    {
     "data": {
      "text/plain": [
       "<matplotlib.collections.PathCollection at 0x1208663d0>"
      ]
     },
     "execution_count": 132,
     "metadata": {},
     "output_type": "execute_result"
    },
    {
     "data": {
      "image/png": "[encoded data removed]",
      "text/plain": [
       "<matplotlib.figure.Figure at 0x12af3f050>"
      ]
     },
     "metadata": {},
     "output_type": "display_data"
    }
   ],
   "source": [
    "plt.scatter(pca_x[:,0],pca_x[:,1])"
   ]
  },
  {
   "cell_type": "code",
   "execution_count": 304,
   "metadata": {
    "collapsed": true
   },
   "outputs": [],
   "source": [
    "import time"
   ]
  },
  {
   "cell_type": "code",
   "execution_count": 306,
   "metadata": {
    "collapsed": true
   },
   "outputs": [],
   "source": [
    "from sklearn.cluster import KMeans"
   ]
  },
  {
   "cell_type": "code",
   "execution_count": 333,
   "metadata": {
    "collapsed": true
   },
   "outputs": [],
   "source": [
    "from sklearn import mixture"
   ]
  },
  {
   "cell_type": "code",
   "execution_count": 337,
   "metadata": {
    "collapsed": false,
    "scrolled": true
   },
   "outputs": [
    {
     "name": "stdout",
     "output_type": "stream",
     "text": [
      "Running K means\n",
      "Time taken for K Means clustering:  4.00965094566 seconds.\n",
      "\n",
      "Cluster 0\n",
      "[u'Ozark National Scenic Riverways', u'Ross County', u'Chesapeake and Ohio Canal National Historical Park', u'Clayton (New Mexico)', u'Sun Lakes-Dry Falls State Park', u'Big South Fork National Recreation Area', u'Canaveral National Seashore', u'Gustavus', u'Fire Island National Seashore', u'Delaware Water Gap National Recreation Area', u'Cuyahoga Valley National Park', u'Cahokia Mounds State Historic Site', u'Glen Canyon National Recreation Area', u'Apalachicola National Forest', u'Mammoth Spring (Arkansas)', u'Land Between the Lakes National Recreation Area', u'Ocala National Forest', u'Big Bend (California)', u'Boundary Waters', u'Kentucky Dam Village State Resort Park', u'Cumberland Gap National Historical Park', u'Cape Cod National Seashore', u'Brown County State Park', u'Cooke City', u'Little Missouri National Grasslands', u'Lake County (Florida)', u'City of Rocks National Reserve', u'Mountain View (Missouri)', u'Tahquamenon Falls', u'Okefenokee National Wildlife Refuge', u'Chillicothe (Ohio)', u'Biscayne National Park', u'Poudre Park', u'Frostproof', u'Bushkill Falls', u'Blue Spring', u'Isle Royale National Park', u'Olympic National Park', u'Yuba Lake State Park', u'South Dakota', u'Bear Butte State Park', u'Glacier National Park', u'Kenai Fjords National Park', u'Yellowstone Country', u'Natural Bridge State Park', u'El Portal', u'Mammoth Cave National Park', u'Highlands (Maine)', u'Oconee National Forest', u'Delaware County (New York)', u'Osceola National Forest', u'White Mountain National Forest', u'Glacier Bay National Park', u'Charlestown State Park', u'Everglades National Park', u'Yosemite West', u'Juneau', u'Flaming Gorge National Recreation Area', u'Lake Alfred', u'Catoctin Mountain Park', u'Lake Barkley', u'Gulf Islands National Seashore', u'Dundee (Florida)', u'Lake Wales', u'Seminole County (Florida)', u'Devils Fork State Park', u'Itasca State Park', u'Opal Creek', u'Buffalo National River', u'Pine Barrens', u'Kentucky', u'Lincoln Boyhood National Memorial', u'Smith Rock State Park', u'Manteca', u'Cachuma Lake Recreation Area', u'Deadhorse', u'Southeastern Alaska', u'Green Ridge State Forest', u'Lorain County', u'Crystal River', u'Shades State Park', u'Turkey Run State Park', u'Green Mountains', u'Waldo Lake', u'Horicon Marsh', u'Sleeping Bear Dunes National Lakeshore', u'Virgin Islands National Park', u'Arctic Alaska', u'Daniel Boone National Forest', u'Gateway National Recreation Area', u'Salton Sea', u'Clifty Falls State Park', u'Ohiopyle', u'Big Sur', u'North Cascades National Park', u'Letchworth State Park', u'Carter Caves State Resort Park', u'Mark Twain National Forest', u'Cumberland Falls State Resort Park', u'Emerald Bay State Park', u'Ketchikan', u'Indiana Dunes National Lakeshore', u'Oregon Dunes National Recreation Area', u'Burnet', u'Boston Harbor Islands', u'Palatka', u'DeLeon Springs']\n",
      "\n",
      "Cluster 1\n",
      "[u'Cambria (California)', u'Upland', u'San Gabriel Valley', u'Calistoga', u'McKittrick', u'Pasadena', u'Salinas', u'Blackstone', u'Brownsville (Texas)', u'Channel Islands (California)', u'Emeryville', u'Santa Clarita Valley', u'Monterey County', u'Buellton', u'Mesa', u'El Segundo', u'Paso Robles', u'Los Altos', u'Bakersfield', u'Contra Costa County', u'Cupertino', u'Fullerton', u'Lompoc', u'Anaheim', u'Wasco', u'Temecula', u'Southern California', u'Walnut Creek', u'Fresno', u'Malibu', u'North Coast (California)', u'Mission Viejo', u'Sonoma County', u'Leavenworth (Washington)', u'Topanga', u'Palo Alto', u'Murphys', u'Apple Valley (California)', u'Santa Barbara', u'Sonoma Valley', u'Guadalupe (California)', u'San Rafael', u'Costa Mesa', u'Humboldt County', u'Baker (California)', u'Sausalito', u'Mojave Desert', u'Port Angeles', u'Valdez', u'Maricopa', u'Arcata', u'Midland (Texas)', u'Scotts Valley', u'Santa Maria (California)', u'Mountain View (California)', u'Oceano', u'South Texas Plains', u'Daly City', u'Vista', u'Buttonwillow', u'Santa Ynez', u'Kern County', u'Orinda', u'Long Beach', u'Santa Rosa (California)', u'Madera', u'Central Coast (California)', u'Antelope Valley', u'Imperial County', u'San Diego County', u'San Fernando Valley', u'Jerome (Arizona)', u'Simi Valley', u'Pacific Grove', u'Mojave', u'Gold Country', u'Alameda', u'Fremont', u'Santa Monica', u'Davis (California)', u'Panama City (Florida)', u'Walla Walla', u'South San Francisco', u'Santa Cruz County', u'Barstow', u'Bay Area (California)', u'Carmel (California)', u'Ukiah', u'Ojai', u'Montecito', u'Carpinteria', u'Norfolk (Virginia)', u'Solvang', u'Ventura', u'McClellan', u'Santa Barbara County', u'Kings County', u'North Bay (Bay Area)', u'Sierra Vista', u'San Diego', u'Concord (California)', u'Primm', u'El Centro', u'Las Vegas (New Mexico)', u'Friday Harbor', u'Yuma', u'Belen', u'Mendocino County', u'Jenner', u'Avila Beach', u'Monroe (North Carolina)', u'California', u'Petaluma', u'Lakehead', u'Palmdale', u'Rachel', u'Healdsburg', u'Mill Valley', u'Aloha', u'Inland Empire', u'Palm Desert', u'San Luis Obispo', u'Fairfield (California)', u'San Jose (California)', u'Medford (New Jersey)', u'Myrtle Point', u'Newport Beach', u'Monterey Bay', u'Goleta', u'Nogales (Arizona)', u'Ventura County', u'Willits', u'Studio City', u'Carlsbad (California)', u'Pismo Beach', u'Martinez (California)', u'Taft', u'Monterey Park', u'Capitola', u'Fresno County', u'San Mateo', u'Amboy', u'Pescadero', u'Livermore', u'Stockton (California)', u'Presidio', u'Redondo Beach', u'San Luis Obispo County', u'Thousand Oaks', u'Ridgecrest', u'Camden (Maine)', u'Port Hueneme', u'Hayward', u'Garberville', u'Kishwaukee Valley', u'Peninsula (Bay Area)', u'Beverly Hills', u'Bernalillo', u'Moss Landing', u'San Leandro', u'Los Angeles', u'Playa del Rey', u'Riverside County', u'La Mirada', u'Berkeley (California)', u'Union City (California)', u'El Verano', u'Rohnert Park', u'North Hollywood', u'South Bay', u'Inglewood', u'San Benito County', u'Newark (California)', u'Tehachapi', u'Hanksville', u'Scottsdale (Arizona)', u'South Valley', u'Odessa (Texas)', u'San Francisco', u'Agoura Hills', u'Soledad', u'South Padre Island', u'Independence (California)', u'California Wine Country', u'Huntington Beach', u'Monterey (California)', u'McFarland', u'Sonoma', u'Seaside (California)', u'Morro Bay']\n",
      "\n",
      "Cluster 2\n",
      "[u'North Carolina Coastal Plain', u'Lopez Island', u'Monmouth County', u'Kauai', u'Brookhaven (town, New York)', u'Jersey Shore', u'Rio Grande Valley', u'Seaside Heights', u'Pinellas County', u'Naples (Florida)', u'Brenton Point State Park', u'Seabrook Island', u'Irvine', u'Sunset Beach', u'Matunuck', u'Bald Head Island', u'Palos Verdes', u'Assateague Island', u'Delray Beach', u'Jensen Beach', u'Mackinaw City', u'Catawba Island', u'Kennebunk', u'Ocean City (New Jersey)', u'Oahu', u'Brunswick (Maine)', u'Galveston', u'Corpus Christi', u'South Bay (Los Angeles County)', u'Saint John (Virgin Islands)', u'North Fork', u'Florida Panhandle', u'Scituate (Massachusetts)', u'Point Pleasant (New Jersey)', u'Pentwater', u'Lummi Island', u'Cape Cod', u'Harkers Island', u'Molokai', u'Key Biscayne', u'Lakeside (Ohio)', u'New Bedford', u'Coronado', u'Stuart', u'Watch Hill', u'North Shore (Oahu)', u'Gosnold', u'Woods Hole', u'Cedar Key', u'Mount Desert Island', u'Marina del Rey', u'Kapalua', u'Little Gasparilla Island', u'Kennebunkport', u'Daytona Beach Shores', u'New Smyrna Beach', u'Brookings-Harbor', u'Sandy Hook', u'Door County (Wisconsin)', u'Lincoln City', u'Apalachicola', u'Anacortes', u'Ortley Beach', u'Oregon Coast', u'Laguna Beach', u'Marathon (Florida)', u'Wildwood (New Jersey)', u'Gold Beach', u'Jamestown (Rhode Island)', u'Hingham', u'Daytona Beach', u'Honolulu', u'Winter Harbor', u'Wickford', u'Sandwich (Massachusetts)', u'Maine', u'Ocean Springs', u'Makawao', u'Sarasota', u'Kitty Hawk', u'Orlando', u'West Palm Beach', u'Cape May', u'North Kingstown', u'Sandusky', u'Eastham', u'Truro (Massachusetts)', u'Ocean City (Maryland)', u'Southwest Florida', u'Navarre Beach', u'West Tisbury', u'Northport (New York)', u'Waianae', u'Point Reyes National Seashore', u'Manasquan', u'Bourne', u'Palm Coast', u'Port St. Lucie', u'Miami Beach', u'Saint Croix', u'Chincoteague', u'Pawleys Island', u'New England', u'Swansboro', u'Big Pine Key', u'Bethany Beach', u'Key West', u'Emerald Isle', u'Westerly', u'U.S. Virgin Islands', u'Paia', u'Milton (Florida)', u'Destin', u'Marblehead (Massachusetts)', u'Depoe Bay', u\"Martha's Vineyard\", u'Orcas', u'Montauk', u'The Hamptons', u'Central Florida', u'Florida Keys', u'Fort Lauderdale', u'Narragansett', u'Plymouth (Massachusetts)', u'St. Augustine', u'Avalon', u'Wellfleet', u'Bay Shore', u'Bristol (Rhode Island)', u'Brevard County', u'Virginia Beach', u'Ormond Beach', u'South Haven', u'Newport (Rhode Island)', u'Red Wing', u'Hermosa Beach', u'Santa Cruz (California)', u'Toms River', u'Kailua-Kona', u'Atlantic Beach', u'DeLand', u'Kent Island', u'Sunny Isles Beach', u'Perdido Key', u'Falmouth (Massachusetts)', u'Ventnor (New Jersey)', u'Catalina Island', u'Captiva Island', u'Eastern Shore (Maryland)', u'Sheboygan', u'Amityville', u'Hawaii', u'Portland (Maine)', u'Sanibel Island', u'Hilo', u'Vinalhaven', u'Block Island', u'Warrenton', u'Ottawa County (Ohio)', u'Florence (Oregon)', u'Manistee', u'Hyannis', u'Long Beach (New York)', u'Florida', u'Long Branch (New Jersey)', u'Lake George', u'Cape Coral', u'Huntington (New York)', u'Long Beach Island', u'Fort Pierce', u'Dennis', u'Big Island', u'South Carolina', u'Atlantic City', u'Asbury Park', u'Treasure Coast', u'Boca Raton', u'Hollywood (Florida)', u'Dutch Island', u'Morehead City', u'Plainview (New York)', u'Coos Bay', u'Saint Thomas', u'Walt Disney World', u'Suffolk County (New York)', u'Haiku', u'Barrington (Rhode Island)', u'Oceanside', u'Phippsburg', u'Sea Ranch', u'Old Orchard Beach', u'Oxnard', u'Westhampton Beach', u'Keansburg', u'Nags Head', u'Long Island', u'Westside (Los Angeles County)', u'Stone Harbor', u'Hilton Head Island', u'Pensacola Beach', u'Tarpon Springs', u'Warwick (Rhode Island)', u'Gulf Shores', u'Mackinac Island', u'Panama City Beach', u'Rehoboth Beach', u'Nantucket', u'Myrtle Beach', u'Kiawah Island', u'Anchor Point', u'Homer', u'Gulfport', u'Coral Springs', u'Grants Pass', u'South Kingstown', u'Old Lyme', u'Moclips', u'Charleston (South Carolina)', u'Ocean Shores', u'Outer Banks', u'Islamorada', u'Tisbury', u'Deerfield Beach', u'Kihei', u'Marco Island', u'Quincy (Massachusetts)', u'Yarmouth (Massachusetts)', u'Pacific Beach', u'Grand Isle County', u'Gloucester (Massachusetts)', u'Cantonment', u'Maui', u'Crystal Coast', u'Ponce Inlet', u'Point Roberts', u'Rockaway Beach (Missouri)', u'Marshfield (Massachusetts)', u'Oak Island']\n",
      "\n",
      "Cluster 3\n",
      "[u'Arlington (Virginia)', u'Kensington', u'Boise', u'Duluth (Minnesota)', u'Woodinville', u'Hartford', u'Aurora (Colorado)', u'Montgomery', u'Charlottesville', u'New Brunswick (New Jersey)', u'Albany (New York)', u'East Bay', u'Iowa City', u'Mississippi Delta', u'Dublin (Ohio)', u'Auburn (Alabama)', u'Chicago', u'Grand Rapids', u'Jersey City', u'Alabama', u'Universal City', u'Camden (New Jersey)', u'Bronx', u'North Carolina', u'Palm Springs', u'Clarence', u'Reading (Pennsylvania)', u'Tampa', u'Cleveland', u'Mishawaka', u'Harrisburg', u'Rochester (New York)', u'Gastonia', u'Georgia (state)', u'Connecticut', u'Flint', u'Piedmont (North Carolina)', u'Madison', u'Lafayette (Louisiana)', u'Dallas', u'Cranston', u'Worcester (Massachusetts)', u'Ames', u'Polk City', u'Oxford (Ohio)', u'Tega Cay', u'Springfield (Massachusetts)', u'Weehawken', u'Indiana', u'El Paso', u'Atlanta', u'Quad Cities', u'Syracuse (New York)', u'Ithaca (Michigan)', u'Sunnyvale', u'Cuyahoga County', u'Lake Forest (Illinois)', u'Sacramento', u'Lansing (Michigan)', u'Columbia (South Carolina)', u'Media', u'Wheaton', u'Indiana (Pennsylvania)', u'Mississippi', u'Ludlow (Massachusetts)', u'Michigan', u'Hollywood', u'Falls Church', u'Philadelphia', u'Decatur (Georgia)', u'Oklahoma City', u'Decatur (Illinois)', u'Evergreen Park (Illinois)', u'Austin', u'Kansas', u'Huntsville (Alabama)', u'Iowa', u'Niagara Frontier', u'Washington County (Maryland)', u'Peoria (Illinois)', u'Riverside', u'Lincoln (Nebraska)', u'Upper Peninsula', u'Federal Way', u'Nashville', u'Kansas City', u'Culver City', u'Newark (New Jersey)', u'South Hadley', u'Milwaukee', u'Essex (Vermont)', u'Fredericksburg (Virginia)', u'Staten Island', u'Binghamton', u'Twin Falls', u'Greensboro', u'Beaver Falls (Pennsylvania)', u'Durham (North Carolina)', u'West Warwick', u'Omaha', u'Garland (Texas)', u'New Haven', u'Fox River Valley', u'Minot', u'Greater Boston', u'Coral Gables', u'Manalapan', u'Providence', u'Louisville', u'Cadillac', u'Piedmont (California)', u'Paterson', u'Chattanooga', u'Ashland (Ohio)', u'Illinois', u'Twin Cities', u'Texas', u'Wenatchee', u'Brookline', u'Fort Wayne', u'Takoma Park', u'East Lansing', u'Savannah', u'Newton', u'Fairfax County', u'Dubuque', u'Stillwater (Oklahoma)', u'Tucson', u'Rochester and Suburbs', u'Boston', u'Cambridge (Massachusetts)', u'Santa Clara (California)', u'Saint Cloud (Minnesota)', u'Champaign-Urbana', u'New Orleans', u'Langley (Washington)', u'Montgomery County (Maryland)', u'Research Triangle', u'Bluegrass Region', u'Tulsa', u'Minneapolis', u'White Plains', u'Knoxville', u'Portland (Oregon)', u'New York City', u'Oxford (Mississippi)', u'Guadalupe (Arizona)', u'Independence (Missouri)', u'Holland (Pennsylvania)', u'Raleigh', u'Pikesville', u'Clarksville (Tennessee)', u'Stone Mountain', u'Teaneck', u'Waltham', u'Cincinnati', u'Pittsburgh', u'Massachusetts', u'Sewanee', u'Baton Rouge', u'Kankakee', u'Manchester (New Hampshire)', u'Manhattan', u'Venice (California)', u'Bloomington-Normal', u'Oakland', u'West Hollywood', u'Lexington (Kentucky)', u'Charlotte', u'Seattle', u'Terre Haute', u'Metro New York', u'Wayne County (Ohio)', u'Birmingham (Alabama)', u'Utica', u'Berea (Kentucky)', u'Wheeling', u'Minnesota', u'Queens', u'Westchester (California)', u'Miami', u'Topeka', u'Gary', u'Chino', u'Buffalo', u'Charlton', u'Boroughs', u'Bethesda', u'Troy (Michigan)', u'Parkersburg', u'New York (state)', u'Lafayette (Indiana)', u'Chapel Hill', u'Shawnee', u'Saginaw', u'Bethlehem (Pennsylvania)', u'San Antonio', u'Chittenden County', u'Northern Ohio River Region', u'Frankfort (Kentucky)', u'Wisconsin', u'King County', u'Washington, D.C.', u'Tacoma', u'Washtenaw County', u'Brooklyn', u'Finger Lakes', u'Saint Paul', u'Joplin', u'Chicagoland', u'Somerville', u'Magnolia (Arkansas)', u'Saint Petersburg (Florida)', u'Stamford (Connecticut)', u'Natchitoches', u'Fort Knox', u'Houston', u'Union City (New Jersey)', u'Macon (Georgia)', u'McAllen', u'Eugene', u'Covington (Kentucky)', u'Greenville (Mississippi)', u'Detroit', u'Tempe', u'Royal Oak', u'Jacksonville', u'Baltimore']\n",
      "\n",
      "Cluster 4\n",
      "[u'Badlands National Park', u'Acadia National Park', u'Mount Rushmore National Memorial', u'Antelope Island', u'Snow Canyon State Park', u'Shawnee National Forest', u'Mount Carmel Junction', u'Saguaro National Park', u'Congaree National Park', u'Lava Beds National Monument', u'Devils Postpile National Monument', u'Zion National Park', u'Pipestone National Monument', u'Mount St. Helens', u'Theodore Roosevelt National Park', u'Blue Mounds State Park', u'Guadalupe Mountains National Park', u'Mono Lake', u'Denali National Park', u'Great Sand Dunes National Park', u'Gardiner (Montana)', u'Santa Monica Mountains National Recreation Area', u'Goosenecks State Park', u'Pyramid Lake', u'Big Basin Redwoods State Park', u'Valles Caldera National Preserve', u'Desert Hot Springs', u'Joshua Tree National Park', u'Pipe Spring National Monument', u'Wind Cave National Park', u'Mount Whitney', u'Casa Grande Ruins National Monument', u'Mount Rainier National Park', u'Cedar Breaks National Monument', u'Monument Valley', u'Crater Lake National Park', u'Great Smoky Mountains National Park', u'Santa Fe National Forest', u'Canyonlands National Park', u'Sequoia and Kings Canyon National Parks', u'Jewel Cave National Monument', u'Great Basin National Park', u'Chimney Rock National Historic Site', u'Rocky Mountain National Park', u'Pinnacles National Park', u'Bandelier National Monument', u'Carlsbad Caverns National Park', u'Channel Islands National Park', u'Arches National Park', u'Katmai National Park', u'Grand Teton National Park', u'Timpanogos Cave National Monument', u'Lyndon B. Johnson National Historical Park', u'Necedah', u'Shenandoah National Park', u'Western Utah', u'Bryce Canyon National Park', u'Mojave National Preserve', u'Maple Canyon', u'Craters of the Moon National Monument', u'Four Corners', u'Redwood National Park', u'Big Bend National Park', u'Cedar City', u'White Sands National Monument', u'Dinosaur National Monument', u'Canyon de Chelly National Monument', u'Goblin Valley State Park', u'Death Valley National Park', u'Palo Duro Canyon', u'Carrizo Plain National Monument', u'Grand Staircase-Escalante National Monument', u'Gates of the Arctic National Park', u'Black Canyon of the Gunnison National Park', u'Lassen Volcanic National Park', u'Petrified Forest National Park', u'Organ Pipe Cactus National Monument', u'Chiricahua National Monument', u'Devils Tower National Monument', u'Capitol Reef National Park', u'Black Hills National Forest', u'Anza-Borrego Desert State Park', u'Grand Canyon', u'Mesa Verde National Park', u'Hovenweep National Monument', u'Natural Bridges National Monument', u'Big Cypress National Preserve', u'Yellowstone National Park', u'Scotts Bluff National Monument', u'Coral Pink Sand Dunes State Park', u'Chaco Culture National Historical Park', u'Yosemite National Park', u'Agua Fria National Monument', u'Oregon Caves National Monument', u'El Malpais National Monument', u'Page']\n",
      "\n",
      "Cluster 5\n",
      "[u'Stonewall (Texas)', u'Delaware River Region', u'Stowe', u'Cooperstown', u'St. Louis (Michigan)', u'Barkhamsted', u'Bluemont', u'Bar Harbor', u'Saline (Michigan)', u'Plattsburgh', u'Mountlake Terrace', u'Columbus (Georgia)', u'Gainesville (Georgia)', u'Tunica', u'Libertyville', u'Forest Grove', u'Branson', u'Maplewood (New Jersey)', u'Pampa', u'Minuteman Missile National Historic Site', u'Loveland (Colorado)', u'Metairie', u'Erie County (Ohio)', u'Albia', u'Ohio', u'Fitchburg', u'Greenwood (Indiana)', u'Camp Hill', u'Mountainair', u'Gatlinburg', u'Saratoga Springs', u'Richmond (Kentucky)', u'Cut Bank', u'Monteagle', u'Mercer County (New Jersey)', u'Leominster (Massachusetts)', u'Okeechobee', u'Akron', u'LaPlace', u'Dutchess County', u'Fayetteville (Arkansas)', u'Big Rapids', u'West Hartford', u'Groveland (Massachusetts)', u'East Brunswick', u'Montville (New Jersey)', u'Fond du Lac', u'Irving', u'Palm City', u'Sioux Falls', u'Beaufort (North Carolina)', u'Connellsville', u'Hudson (Ohio)', u'Portsmouth (New Hampshire)', u'Bethel (Alaska)', u'Randolph (New Jersey)', u'Clay (West Virginia)', u'St. Tammany Parish', u'South Suburbs (Illinois)', u'State College', u'Corning (New York)', u'Bayonne (New Jersey)', u'Addison', u'Newport News', u'Montague', u'Fairfax (California)', u'Price (Utah)', u'Mobile', u'Ephraim (Utah)', u'Fort Worth', u'Branford', u'Grand Marais', u'Superior', u'Hamilton County (Ohio)', u'Evanston', u'Waterville (Maine)', u'Pennsville', u'Independence (Kansas)', u'Brenham', u'Owensboro', u'Campbellsville (Kentucky)', u'New Braunfels', u'Hazlettville', u'Bridgeville (Delaware)', u'Walworth County', u'Cinnaminson', u'Alleghenies and Susquehanna Valley', u'Cody', u'Crisfield', u'Hamilton (Massachusetts)', u'DeKalb', u'Stony Brook', u'Polk County (Florida)', u'Mount Vernon (Iowa)', u'Dothan', u'Ogden', u'Winter Park (Florida)', u'Edgeley', u'Benton (Kentucky)', u'McLean (Virginia)', u'Hopkins (Minnesota)', u'Columbus (Mississippi)', u'Harrisonburg', u'Kaunakakai', u'Lewisville', u'North Myrtle Beach', u'Winnemucca', u'Marlinton', u'Canton (Ohio)', u'French Gulch', u'Marblehead (Ohio)', u'Magdalena', u'Hudson County', u'Dodge City', u'Westfield (Indiana)', u'Chula Vista', u'Andover (Massachusetts)', u'Colstrip', u'Bennington', u'Jeffersonville (Indiana)', u'Elkins Park', u'Jackson Township (New Jersey)', u'Clermont County', u'West Bridgewater', u'Newport (Kentucky)', u'Hamden', u'Christiansted', u'Logan (West Virginia)', u'Atlantic County', u'Irvington', u'Hadley', u'Alamogordo', u'Fredericksburg (Texas)', u'Middletown (Ohio)', u'Indiantown', u'Dunmore', u'Jackson (New Hampshire)', u'East St. Louis', u'Bozeman', u'Harker Heights', u'Canaan', u'Potomac', u'Chatham (Massachusetts)', u'Winchester (Tennessee)', u'Fort Kent', u'Prairie du Sac', u'San Angelo', u'Big Timber', u'Eagle River (Alaska)', u'Greenfield (Massachusetts)', u'Gresham', u'Des Moines', u'Roseburg', u'Griffin', u'Newberg', u'College Park (Maryland)', u'Williamsburg', u'Elkins', u'Sumter County (Florida)', u'Danville (California)', u'Claremont (California)', u'Custer', u'Astoria', u'Sturgis', u'Bethany (West Virginia)', u'Missouri', u'Clinton (Connecticut)', u'Sackets Harbor', u'Bensalem', u'Stafford County', u'Montgomery County (Pennsylvania)', u'Fargo', u'Meadowlands', u'Great Barrington', u'Pittsfield', u'Trenton (Maine)', u'Western Finger Lakes', u'Hudson (New York)', u'Nassau County', u'Mount Sinai (New York)', u'Burrillville', u'Cape Canaveral', u'Hackettstown', u'Rural Montgomery County', u'Ravenna (Ohio)', u'Apple Valley (Minnesota)', u'Shaw Island', u'Douglas (Wyoming)', u'Hana', u'Sanford (Florida)', u'Rockland County', u'Norwood', u'Lima (Ohio)', u'Russell (Ohio)', u'Lakewood (California)', u'Rome (Georgia)', u'Seekonk', u'Langhorne', u'Fairbanks North Star Borough', u'Gaithersburg', u'Haddonfield', u'Lewistown (Pennsylvania)', u'Toledo (Ohio)', u\"Prince George's County\", u'Petersburg (Alaska)', u'Chester (Pennsylvania)', u'Sebring', u'Forgotten Coast', u'Fogelsville', u'Roseville (Michigan)', u'Russellville (Kentucky)', u'Put-in-Bay', u'Black Hawk', u'Pocatello', u'Telluride', u'Frostburg', u'Trumansburg (New York)', u'Greenville (South Carolina)', u'Slatington', u'Frankenmuth', u'Stratford (Connecticut)', u'Ocala', u'Hodgenville', u'Illinois Driftless Area', u'Port Townsend', u'Kannapolis', u'Oak Ridge', u'West Jefferson (North Carolina)', u'Black Mountain', u'Bridgewater (New Jersey)', u'Fairfield (Iowa)', u'Lake Arrowhead', u'Winter Park (Colorado)', u'Bowling Green (Ohio)', u'Charlevoix (Michigan)', u'Mount Pleasant (Utah)', u'Davidson', u'Nazareth (Pennsylvania)', u'Wyandotte (Michigan)', u'Rock County', u'Tyler', u'Bettendorf', u'King of Prussia', u'New Bern', u'Punxsutawney', u'New Ulm (Minnesota)', u'East Rutherford', u'Chelsea (Michigan)', u'Kingston (New York)', u'Harstine Island', u'Rexburg', u'Joliet', u'Aberdeen (Washington)', u'Alpharetta', u'Cave City', u'Milford (Connecticut)', u'Ellenville', u'Arcadia Wildlife Management Park', u'Anamoose', u'West Springfield (Massachusetts)', u'Kelleys Island', u'Kapolei', u'Poplar Bluff', u'Jekyll Island', u'Bowie', u'Fairmont (West Virginia)', u'Zanesville', u'Far North Suburbs (Illinois)', u'Escanaba', u'West Virginia', u'Purchase', u'Blythe', u'Piedmont (Georgia)', u'Solomons', u'Glenview', u'New Jersey', u'Maineville (Ohio)', u'Kalispell', u'Cookeville', u'Forks', u'Boulder City', u'Fort Lee', u'Lake County (Indiana)', u'Franklin County (Ohio)', u'Erie', u'Poteau', u'Quincy (Illinois)', u'Orange City-Alton', u'New Roads', u'Angel Fire', u'Hyde Park (New York)', u'Belgrade (Maine)', u'Hagerstown', u'Slidell', u'Manville (New Jersey)', u'Upper Falls (West Virginia)', u'Kalamazoo', u'Lebanon (Ohio)', u'Grand Forks', u'Little Diomede', u'Miami-Dade County', u'Bangor (Pennsylvania)', u'Merrick', u'Geauga County', u'North Shore (Minnesota)', u'Jefferson Parish', u'Prescott', u'Swedesboro', u'Mount Juliet', u'Springfield (Illinois)', u'Lahaina', u'Chautauqua', u'Smith Island', u'St. Michaels', u'Brownsville (Kentucky)', u'Altamonte Springs', u'Salisbury (Connecticut)', u'Moose Lake (Minnesota)', u'Sturbridge', u'Taunton (Massachusetts)', u'Plympton', u'Pawtucket', u'Charleston (West Virginia)', u'Corrales', u'Kingston (Rhode Island)', u'Windsor (New York)', u'Mountains and Lakes Country', u'Ashtabula', u'Malone (New York)', u'Prairies and Lakes', u'Laurel (Delaware)', u'Spearfish', u'Carver', u'Deming', u'Blue Hill (Maine)', u'Cicero (Indiana)', u'South Burlington', u'Idaho Springs', u'Tucumcari', u'Wallace (Idaho)', u'Delaware', u'Pearl', u'Wall (South Dakota)', u'Eau Claire (Wisconsin)', u'Cobden', u'East Haven', u'Winona', u'Asheville', u'Colorado National Monument', u'Amherst (Massachusetts)', u'Hermantown', u'Richwood (West Virginia)', u'Mount Pleasant (Michigan)', u'Bethpage', u'Oregon City', u'Hanover (Massachusetts)', u'Monmouth (Oregon)', u'Brownsville (Vermont)', u'Traverse City', u'Amarillo', u'Dobbs Ferry', u'Charm', u'Lake Buena Vista', u'Madrid (New Mexico)', u'Richmond (Rhode Island)', u'Chocorua', u'Kayenta', u\"O'Neill\", u'Two Rivers', u'Norwalk (Connecticut)', u'Largo (Florida)', u'Black Rock (Connecticut)', u'Port Charlotte', u'Richland', u'Kerhonkson', u'Cumberland (Maryland)', u'Highlands (North Carolina)', u'Calvert City', u'Amana Colonies', u'Berkeley Springs', u'Landisville', u'Princeton (West Virginia)', u'St. Ignace', u'Milan (Ohio)', u'Highland Park (Illinois)', u'Marietta (Ohio)', u'China (Maine)', u'Westfield (Massachusetts)', u'Spokane', u'Enfield (Connecticut)', u'Vienna (Virginia)', u'Alton (Illinois)', u'Geneseo', u'Cocoa Beach', u'Moline', u'Blaine', u'Frankfort (Michigan)', u'Fort Smith', u\"Coeur d'Alene\", u'Little Rock', u'Devils Lake', u'Hapeville', u'Bentonville', u'Pleasanton', u'Key Largo', u'Skagway', u'Idaho Falls', u'Olympia (Washington)', u'Granite City (Illinois)', u'Rawlins', u'Avon (Connecticut)', u'Dead Horse Point State Park', u'Florissant Fossil Beds National Monument', u'Ashaway', u'Katonah', u'Kinderhook', u'Trinity County', u'Stoughton (Wisconsin)', u'Alexandria (Virginia)', u'Moorhead', u'Lakeville (Massachusetts)', u'Alamosa', u'The Woodlands', u'Melbourne (Florida)', u'Belmont County (Ohio)', u'Erie Region', u'Lexington Park', u'Broken Arrow', u'Longview (Washington)', u'Fayetteville (West Virginia)', u'Circle', u'Overland Park', u'Springfield (Missouri)', u'Canandaigua', u'Medora', u'Highland Park (New Jersey)', u'Clarksdale', u'Aurora (Illinois)', u'Columbus', u'White Mountain', u'Dexter (Michigan)', u'Rudolph', u'Erick', u'Skylands', u'Vega (Texas)', u'Chesapeake Bay', u'Owatonna', u'Brandenburg (Kentucky)', u'Altus (Arkansas)', u'Bristol County (Rhode Island)', u'Denton', u'Bloomsburg', u'Lake of the Ozarks', u'Barrow (Alaska)', u'Scranton', u'Tarrytown', u'North Las Vegas', u'Porcupine Mountains', u'Athens (Alabama)', u'Woonsocket', u'London (Ohio)', u'Surfside (Texas)', u'Fishers', u'Chanhassen', u'Afton', u'Sherman (Texas)', u'Sandy Springs', u'Reston (Virginia)', u'Glen Cove', u'Leesburg', u'Little Compton', u'Momence', u'Richmond (Indiana)', u'Mesquite (Nevada)', u'Seward', u'Brookfields', u'Towson', u'Le Claire', u'Alma', u'Weston (West Virginia)', u'Bucyrus (Ohio)', u'Ardmore (Oklahoma)', u'Lancaster County', u'Portsmouth (Rhode Island)', u'Kent (Ohio)', u'Mansfield (Ohio)', u'Driftless Area', u'Ashland (Wisconsin)', u'Asheboro', u'Hot Springs (Arkansas)', u'Chilmark', u'Northtowns', u'Yellow Springs', u'Kemah', u'Jasper (Indiana)', u'Central Delaware', u'Eureka Springs', u'Wakefield (Massachusetts)', u'Annandale (Virginia)', u'Prince William County', u'Les Cheneaux Islands', u'Laurel Highlands', u'Lanesborough', u'Middleton (Massachusetts)', u'Wakefield (Rhode Island)', u'Vincennes', u'Springfield (Virginia)', u'Waterport', u'Washington (North Carolina)', u'Manassas', u'Jackson (Mississippi)', u'Mount Rainier (Maryland)', u'Somerset (Kentucky)', u'Kirkland', u'Henderson', u'Bay City (Texas)', u'Ann Arbor', u'York (Pennsylvania)', u'Capital District', u'Warren (Ohio)', u'Raton', u'Clinton (Washington)', u'Salt Lake City', u'Arrow Rock', u'Moab', u'Laramie', u'Brewster (Massachusetts)', u'Florida Gold Coast', u'Rock Island', u'Cowan', u'Hampton (Virginia)', u'Butler County (Ohio)', u'Cassadaga (Florida)', u'Winter Haven', u'East Rochester', u'Hopkinton (Rhode Island)', u'Limestone (Illinois)', u'Sumter', u'Washington (Illinois)', u'Middletown (Connecticut)', u'Sandusky County', u'Eminence', u'Freedom (Wisconsin)', u'Bismarck', u'Fort Davis', u'Orange Beach', u'Coventry (Rhode Island)', u'Henderson (Kentucky)', u'St. Clair Shores', u'Woodstock (New York)', u'Emmaus', u'West Memphis', u'Augusta (Georgia)', u'West Greenwich', u'Jefferson County (Ohio)', u'Oak Harbor', u'Fort Washington', u'Fayetteville (North Carolina)', u'Clifton (Texas)', u'Oswego', u'Bangor (Maine)', u'Roanoke', u'Cobb Island', u'Charlestown (Rhode Island)', u'Battle Creek (Michigan)', u'Harrison (Arkansas)', u'Ogunquit', u'Ulster County', u'Shickshinny', u'Angle Inlet', u'Murfreesboro', u'Richmond (California)', u'Chesapeake Beach', u'Glen Ellyn', u'Port Aransas', u'Sioux City', u'Burlington (Vermont)', u'El Paso (Illinois)', u'Alpine County', u'Rhode Island', u'Vermilion (Ohio)', u'High Point', u'North Conway', u'Clarksburg (West Virginia)', u'Mitchell (South Dakota)', u'Westport (New York)', u'Marlborough (Massachusetts)', u'Lorton', u'Kenai Peninsula', u'Rancho Cucamonga', u'Northeastern Utah', u'Croton-on-Hudson', u'Warren (Rhode Island)', u'San Bernardino', u'Racine', u'Findlay', u'Natchez', u'Jonesboro (Arkansas)', u'Delafield', u'Garrettsville', u'Saint Marys (Pennsylvania)', u'Haines', u'Kachemak Bay State Park', u'Ramona', u'Clifton Park', u'Wells (Nevada)', u'Beaver Island', u'Skaneateles', u'Holland (Massachusetts)', u'Oysterville', u'Madison (Indiana)', u'Waynesboro', u'Bradenton', u'Cairo (Illinois)', u'Petersham', u'Portage County', u'Swett', u'Huron (Ohio)', u'Dalton (Ohio)', u'Lewiston (New York)', u'Maryland', u'Kaloko-Honokohau National Historical Park', u'Williamstown (Massachusetts)', u'Hammond', u'Butte', u'Kerrville', u'Nashua (New Hampshire)', u'Delaware Valley', u'Middle Bass Island', u'Corydon', u'Cedar Falls', u'Bastrop', u'Middleburg', u'Shelter Island', u'Indianapolis', u'New Philadelphia', u'Valdosta', u'Phillipsburg (New Jersey)', u'Memphis', u'Newington', u'Baxter Springs', u'Marfa', u'Bryan-College Station', u'Leelanau Peninsula', u'Hattiesburg', u'New Hampshire', u'Oak Hill (West Virginia)', u'Severna Park', u'Hershey (Nebraska)', u'Cambridge (Maryland)', u'New London (Connecticut)', u'Newark (New York)', u'St. Louis', u'Tallahassee', u'Bowling Green (Kentucky)', u'Fairfield County (Ohio)', u'Gonzales', u'Fitzgerald', u'Saugatuck', u'Rochester (Indiana)', u'Edgartown', u'Grand Rivers', u'Emerald Coast', u'New Albany', u'Mount Washington (Massachusetts)', u'Moroni (Utah)', u'Spring City', u'Pine City', u'Montpelier', u'Newton (Iowa)', u'North Attleborough', u'Franklin Park', u'North Smithfield', u'Borger', u'Monett', u'Hull (Massachusetts)', u'Fremont (Ohio)', u'Manti', u'San Marcos (Texas)', u'Safety Harbor', u'East Peoria', u'Soap Lake', u'Hillsborough (North Carolina)', u'Manchester (Vermont)', u'Wadsworth', u'Jacksonville (Illinois)', u'Toledo (Oregon)', u'Cold Spring', u'Camdenton', u'La Conner', u'Garner State Park', u'Boardman', u'Stevenson', u'Lexington (Massachusetts)', u'Wichita Falls', u'Colorado Springs', u'Hampden County', u'Gillette', u'Copper Harbor', u'Collinsville (Illinois)', u'Pahrump', u'Burton (Texas)', u'Anderson Island', u'Storm Lake', u'Swartz Creek', u'Lawrence (Kansas)', u'Elizabethtown (Kentucky)', u'White Center', u'Morristown', u'Deerfield Township', u'Harrison (New York)', u'Ocean Grove', u'Beacon', u'Southbridge', u'Lawton (Oklahoma)', u'Sparta (Michigan)', u'Great Swamp National Wildlife Refuge', u'Danvers', u'Incline Village', u'Sutton (West Virginia)', u'Norman (Oklahoma)', u'Gladstone (Oregon)', u'Kenosha County', u\"Hooper's Island\", u'Evansville', u'Summersville', u'Youngstown (New York)', u'Cape Carteret', u'Gallup', u'Greenbelt', u'North Adams', u'Belzoni', u'Newport (North Carolina)', u'War Eagle', u'Corvallis (Oregon)', u'Tiffin', u'Yonkers', u'Georgetown (Texas)', u'Carroll County (Ohio)', u'Jacksonville (North Carolina)', u'Winterset', u'Antelope', u\"Lee's Summit\", u'Northwest Suburbs (Illinois)', u'Doraville', u'Imperial', u'Excelsior', u'Midway (Kentucky)', u'Oakland County', u'Rolla (Missouri)', u'Harpers Ferry', u'Fall River (Massachusetts)', u'Belle Mead', u'Stark County (Ohio)', u'Cumberland (Rhode Island)', u'Chautauqua County', u'Cumberland (Indiana)', u'Anamosa', u'Centreville (Fairfax County)', u'Dearborn', u'Winston-Salem', u'North Shore (Massachusetts)', u'Olney', u'Fort Meade', u'Lake Geneva (Wisconsin)', u'Wilkes-Barre', u'Upcountry South Carolina', u'Russell Cave National Monument', u'Carmel (Indiana)', u'Shell Knob', u'Gilbertsville', u'Mays Landing', u'Amherst (Virginia)', u'Hendersonville (North Carolina)', u'Sterling (Utah)', u'Ottertail', u'Putnam County (New York)', u'Wilton (Connecticut)', u'Willow Grove', u'Shelton (Washington)', u'Dayton', u'Northeast Kingdom', u'Lake Worth', u'Staunton (Virginia)', u'Billings', u'Kissimmee', u'Barnesville (Ohio)', u'Warren County (Ohio)', u'Springdale (Utah)', u'Spencer (Iowa)', u'Newark (Ohio)', u'Portsmouth (Ohio)', u'Shepherdstown', u'Milford-Miami Township', u'Lexington (Ohio)', u'Ashland (Oregon)', u'Bonners Ferry', u'Santaquin', u'Livingston (Montana)', u'Neillsville', u'Central New York', u'Arlington (Texas)']\n",
      "\n",
      "Cluster 6\n",
      "[u'Shirley', u'Murray (Kentucky)', u'Wayland', u'Salem (Massachusetts)', u'Lockport', u'Aleutian Islands', u'North Platte', u'Jamestown (California)', u'Sharpsburg', u'Ellsworth (Maine)', u'Post-war United States', u'Pomeroy', u'Disneyland', u'South Shore (Massachusetts)', u'Buena Park', u'Palmyra (New York)', u'Lubbock', u'Monticello (Illinois)', u'Amherst (New Hampshire)', u'Fairport (New York)', u'Ogdensburg', u'Stroud (Oklahoma)', u'Vandalia (Illinois)', u'Tiverton (Rhode Island)', u'Baldwin City', u'Deadwood', u'Pennsylvania', u'Mechanicsburg', u'Los Gatos', u'Chalmette', u'Richmond', u'Industrialization of the United States', u'Oxford (Pennsylvania)', u'North Country', u'Mid-Hudson and Catskills', u'Pensacola', u'Sleepy Hollow', u'Volusia County', u'Chicken', u'Cedar Point', u'Louisiana', u\"St. Mary's City\", u'Loudoun County (Virginia)', u'Lakeland', u'Ilwaco', u'Wilmington (Massachusetts)', u'McHenry County (Illinois)', u'Adirondacks', u'Ticonderoga', u'South (United States of America)', u'Forney', u'Bartow (Florida)', u'Pelham (New York)', u'Waldo County', u'Clayton (New York)', u'Shaker Heights', u'Saranac Lake', u'Fort Myers', u'Columbia (California)', u'Biloxi', u'Hyder', u'Nauvoo', u'Davenport', u'North Pittsburgh Region', u'Southern Maryland', u'North Pole (New York)', u'Custer Ghost Town', u'Spartanburg', u'Voyageurs National Park', u'Fidalgo Island', u'Childs', u'Colonial Williamsburg', u'Helvetia (West Virginia)', u'Galena (Kansas)', u'Early United States history', u'United States National Parks', u'San Juan Island', u'Darien Lake', u'Merrimack', u'Boring', u'Providence County', u'Bessemer City', u'Shinnston', u'Milledgeville', u'Miami (Oklahoma)', u'Beatty', u'Port Gibson', u'Sumas', u'Point Pleasant (West Virginia)', u'Appalachia', u'American Samoa', u'Oklahoma', u'Port Orange', u'Galena (Illinois)', u'Quanah', u'Busch Gardens Williamsburg', u'Peach Springs', u'Surry', u'Frontier Country', u'Ypsilanti', u'Seacoast (New Hampshire)', u'Easton (Pennsylvania)', u'Woodbury (New Jersey)', u'Sullivan County (New York)', u'Sitka', u'Monahans', u'Crestone', u'Fairview (Utah)', u'Lehigh Valley', u'Vicksburg', u'Sault Sainte Marie (Michigan)', u'Penns Grove', u'Virginia', u'Cornish (New Hampshire)', u'Hotchkiss', u'Massena', u'Lynchburg', u'Crawford County (Ohio)', u'Plentywood', u'Nevada City (Montana)', u'Saint Bernard Parish', u'Troy (New York)', u'Kanab', u'Gettysburg National Military Park', u'Shenandoah Valley', u'Allentown', u'Catskills', u'Hartford (Kentucky)', u'George Rogers Clark National Historical Park', u'Old West', u'Williston (North Dakota)', u'Essex (New York)', u'Oroville (California)', u'Wilmington (North Carolina)', u'Medicine Park', u'Acadiana', u'Tenney', u'Casper', u'Berryville', u'Scottsville (Kentucky)', u'Albany (Oregon)', u'Park City (Utah)', u'Provincetown', u'Green County', u'Crown Point (New York)', u'Lewiston (Idaho)', u'Delta (Colorado)', u'Hell (Michigan)', u'Waco', u'Silicon Valley', u'Arlington (Massachusetts)', u'Bardstown', u'Peabody', u'Welch (West Virginia)', u'Orleans County (New York)', u'Plaquemines Parish', u'Sutherland (Nebraska)', u'Bramwell (West Virginia)', u'New Castle (Delaware)', u'Quonset Point', u'Gloucester Courthouse', u'Franklin (Venango County)']\n",
      "\n",
      "Cluster 7\n",
      "[u'Huntingdon Valley', u'Grand Haven', u'River Vale', u'Woodstock (Connecticut)', u'Scarsdale', u'Wisconsin Dells', u'Framingham', u'Danbury', u'North Brunswick', u'Clarks Summit', u'Quakertown', u'Abington Township', u'Bergen County', u'River Edge', u'Pipestone', u'Pinehurst', u'Hickory', u'East Bridgewater', u'Amador County', u'Lanesboro', u'Conway (Arkansas)', u'Roseville (Minnesota)', u'New Milford', u'Delaware (Ohio)', u'Holland (Michigan)', u'Manteo', u'Rockville', u'Youngstown (Ohio)', u'New Hope', u'Rockville Centre', u'Largo (Maryland)', u'Ashtabula County', u'Lewisburg (West Virginia)', u'Dalton (Georgia)', u'Clarksville (Indiana)', u'Downingtown', u'Claymont', u'Kokomo', u'Foster', u'East Greenwich', u'Wyckoff', u'Camden (Delaware)', u'Ledyard (Connecticut)', u'Menlo Park', u'Big Bear Lake', u'Salisbury (Massachusetts)', u'Hialeah', u'Franklin (Michigan)', u'Naperville', u'Longmeadow', u'Guilford', u'Celebration', u'Yreka', u'Stoughton (Massachusetts)', u'Bluefield (West Virginia)', u'Shrewsbury (Pennsylvania)', u'Elizabeth City', u'Cherry Hill', u'Smithfield (Rhode Island)', u'Chino Hills', u'Havertown', u'Bethany (Connecticut)', u'Old Saybrook', u'White Sulphur Springs', u'Waupaca', u'Sewickley', u'Johnston (Rhode Island)', u'Somerset (Massachusetts)', u'Hoboken', u'Montgomery Township', u'Wilmington (Delaware)', u'Cornwall (Connecticut)', u'Hershey', u'Chestertown (Maryland)', u'Windsor (California)', u'Paducah', u'Milford (Massachusetts)', u'Kenosha', u'Sharon (Massachusetts)', u'Westwood (New Jersey)', u'Elizabeth', u'Keweenaw Peninsula', u'Lewes (Delaware)', u'Rockaway (New Jersey)', u'Newark (Delaware)', u'Dighton (Massachusetts)', u'Nutley', u'West Chester (Pennsylvania)', u'Parsippany', u'Princeton (North Carolina)', u'East Hanover', u'Lehighton', u'Petoskey', u'Norwich (Connecticut)', u'Somers (Connecticut)', u'Windsor (Connecticut)', u'Pound Ridge', u'Washington Crossing Historical Park', u'Yardley', u'Plymouth (Minnesota)', u'McComb', u'Milton (Massachusetts)', u'Arcadia (Michigan)', u'Bloomington (Indiana)', u'Geneva (New York)', u'Chadds Ford', u'Cedarburg', u'Franklin (Kentucky)', u'Edison', u'Madison (Connecticut)', u'Ellijay', u'Murphy', u'St. Charles (Missouri)', u'Paramus', u'Northfield (Minnesota)', u\"Peddler's Village\", u'Houghton-Hancock', u'Westchester County', u'Shamokin Dam', u'Blowing Rock', u'Northwest Ohio', u'Mystic (Connecticut)', u'Reading (Massachusetts)', u'Selinsgrove', u'Harwinton', u'Central Falls (Rhode Island)', u'Clinton (New Jersey)', u'West Grove', u'Fairmont (Minnesota)', u'Athens (Georgia)', u'Short Hills', u'Upper Darby', u'Blue Bell', u'Doylestown', u'Rindge', u'North Andover', u'Magnolia (Delaware)', u'Briarcliff Manor', u'Saugus', u'Princeton', u'Swansea (Massachusetts)', u'Houghton Lake', u'Oshkosh', u'Universal Orlando', u'Bay Harbor', u'Corinth (Mississippi)', u'Gainesville (Florida)', u'Pepin', u'Windsor (Vermont)', u'Norristown', u'Haverford Township', u'Greenwich (Connecticut)', u'Drexel Hill', u'Mansfield (Massachusetts)', u'Nine-County Region', u'Fredonia (New York)', u'Holmes County (Ohio)', u'Manchester (Connecticut)', u'Somerdale', u'Solebury', u'Ashland County (Ohio)', u'Waukegan', u'Kennett Square', u'West Windsor', u'Hockessin', u'Colts Neck', u'Bucks County', u'Factoryville', u'Newtown (Pennsylvania)', u'Georgetown (South Carolina)', u'Hellertown', u'Annapolis', u'Wellsboro', u'Tuscaloosa', u'South Windsor', u'Carbondale (Illinois)', u'Lancaster (Pennsylvania)', u'Rochester Hills', u'Glasgow (Kentucky)', u'Natick', u'Soldotna', u'Torrington (Connecticut)', u'Brevard', u'Brimfield', u'Jim Thorpe', u'Clarkston (Michigan)', u'Northampton (Massachusetts)', u'Orange County (California)', u'Noblesville', u'Metro Detroit', u'Bernardsville', u'Columbia (Missouri)', u'Aladdin', u'Rockford', u'Blacksburg', u'Bethel (Connecticut)', u'Starkville', u'Chantilly (Virginia)', u'Park Ridge (New Jersey)', u'Haworth (New Jersey)', u'Union (Union County)', u'Mount Dora', u'Doylestown (Ohio)', u'Byron (Minnesota)', u'Lake Ozark', u'Ridgewood', u'Napa Valley', u'Summit County (Ohio)', u'Fort Collins', u'Wooster', u'Rocky Hill', u'Athens (Ohio)', u'Somers', u'Ithaca (New York)']\n",
      "\n",
      "Cluster 8\n",
      "[u'La Quinta', u'Burney', u'Big Sky', u'Reno', u'Sandy', u'Western Nevada', u'Arizona', u'Inyo County', u'Las Vegas', u'Golden (Colorado)', u'Beaver Creek', u'Gould', u'Ozarks', u'Palisade', u'Northern Idaho', u'Sunriver (Oregon)', u'Mount Lemmon', u'Aspen', u'Window Rock', u'Cherokee', u'Nikiski', u'Southeast New Mexico', u'Kentucky Bourbon Distilleries Tours', u'Alta (Utah)', u'Magic Mountain', u'Mammoth Lakes', u'Ellicottville', u'Idyllwild', u'Mountain Home (Idaho)', u'Sandpoint', u'Silverton (Colorado)', u'Walker (Minnesota)', u'Torrey', u'Eastern Oregon', u'Navajo Nation', u'Espa\\xf1ola (New Mexico)', u'Rodeo', u'Taos', u'Choctaw Country', u'Paonia', u'Sun Valley (Idaho)', u'Cripple Creek', u'New Mexico', u'McCloud', u'Vernon (New Jersey)', u'Mount Hood', u'Klamath Falls', u'Lake Tahoe', u'Callahan (California)', u'Estes Park', u'Centralia (Pennsylvania)', u'Eastern Finger Lakes', u'Mount Bachelor', u'Wyoming', u'Rangeley', u'Grants', u'St. George (Utah)', u'Sedona', u'Laredo', u'Southeast Arizona', u'Colorado', u'Moscow (Idaho)', u'Idaho', u'Keene (New York)', u\"Colorado's Wine Country\", u'Sonora (California)', u'Northeast New Mexico', u'Mount Washington State Park', u'Pinecrest', u'Fairbanks', u'Buena Vista (Colorado)', u'Mayfield (Utah)', u'Glenwood Springs', u'Anchorage', u'Provo', u'Canyon Country', u'Front Range', u'Los Alamos', u'Arkansas', u'Texas Panhandle', u'Grand Traverse Bay Area', u'Whitefish', u'Farmington (New Mexico)', u\"Utah's Dixie\", u'Coldfoot', u'Flagstaff', u'Alaska', u'Vail', u'Denver', u'Lake Placid', u'Great Plains', u'Black Rock City', u'Mono County', u'Historic High Country', u'Northern Arizona', u'Nebraska', u'Manitou Springs', u'Copper Mountain', u'Loma Linda', u'Jemez Mountains', u'Central New Mexico', u'Joseph', u'Willamette Valley', u'Kennewick', u'Homewood', u'Georgetown (Colorado)', u'Grand Junction', u'Montrose (Colorado)', u'Southcentral Alaska', u'Vancouver (Washington)', u'Santa Fe (New Mexico)', u'Steamboat Springs', u'Tuolumne County', u'Dolores', u'Quincy (California)', u'Etna (California)', u'Rapid City', u'Great Falls (Montana)', u'Oregon', u'Oatman', u'Wiseman', u'Truth or Consequences', u'Southern Oregon', u'Medford (Oregon)', u'Silverton (Oregon)', u'Vermont', u'Jackpot', u'Lake Mead National Recreation Area', u'Nebraska Panhandle', u'Albuquerque', u'Mountain View (Arkansas)', u'Las Cruces', u'Wasatch Range', u'Boulder', u'Colorado City', u'Northwest New Mexico', u'Ironwood', u'Phoenix', u'Mount Baker', u'Bellingham (Washington)', u'Sisters', u'Carson City', u'Cuba (New Mexico)', u'Yakima', u'Logan (Utah)', u'Breckenridge (Colorado)', u'Laughlin', u'Missoula', u'South Lake Tahoe', u'Government Camp', u'Palouse (Washington)', u'Worcester Hills', u'Angeles National Forest', u'Nevada', u'North Central New Mexico', u'Poconos and Endless Mountains', u'Stanley (Idaho)', u'Niagara Falls (New York)', u'Tennessee', u'Chama (New Mexico)', u'Davenport (Florida)', u'Sangre de Cristo Mountains', u'Glennallen', u'Pojoaque', u'Abiquiu', u'Snoqualmie Pass', u'Bend', u'Bishop', u'Keystone (Colorado)', u'Salida (Colorado)', u'Jackman', u'Crawford (Nebraska)', u'Carlsbad (New Mexico)', u'Gunnison (Utah)', u'North Dakota', u'Graham', u'Ely (Nevada)', u'Lone Pine', u'Big Bend Country', u'Snowshoe', u'Keene (New Hampshire)', u'Inland (San Diego County)', u'Socorro', u'Durango (Colorado)', u'Ely (Minnesota)', u'Montana', u'Salem (Oregon)', u'Hood River', u'North Carolina Mountains', u'Wasilla', u'Silver City', u'Utah', u'Jackson (Wyoming)']\n",
      "\n",
      "Cluster 9\n",
      "[u'Whidbey Island', u'Manchester (Washington)', u'Waldron Island', u\"Ebey's Landing National Historical Reserve\", u'Olympic Peninsula', u'Kingston (Washington)', u'Belfair', u'Southworth (Washington)', u'Kitsap Peninsula', u'San Juan Islands', u'Port Orchard', u'Bainbridge Island', u'Poulsbo', u'Silverdale (Washington)', u'Longbranch', u'Fox Island (Washington)', u'Brownsville (Washington)', u'Puget Sound', u'Port Gamble', u'Stuart Island', u'Hansville (Washington)', u'Camano Island', u'Westport (Washington)', u'Olalla (Washington)', u'Indianola (Washington)', u'Gig Harbor', u'Key Center', u'Home (Washington)', u'Seabeck (Washington)', u'Bremerton', u'Sequim', u'Washington (state)', u'Union (Washington)', u'Lakebay', u'Purdy (Washington)']\n"
     ]
    }
   ],
   "source": [
    "start = time.time()\n",
    "doc_vectors = model.docvecs.doctag_syn0\n",
    "num_clusters = 10\n",
    "\n",
    "# Initalize a k-means object and use it to extract centroids\n",
    "print \"Running K means\"\n",
    "g = mixture.GMM(n_components=10)\n",
    "#kmeans_clustering = g()\n",
    "g.fit( doc_vectors )\n",
    "idx = g.predict(doc_vectors)\n",
    "\n",
    "# Get the end time and print how long the process took\n",
    "end = time.time()\n",
    "elapsed = end - start\n",
    "print \"Time taken for K Means clustering: \", elapsed, \"seconds.\"\n",
    "\n",
    "\n",
    "# Create a Word / Index dictionary, mapping each vocabulary word to\n",
    "# a cluster number\n",
    "word_centroid_map = dict(zip( model.docvecs.index2doctag, idx ))\n",
    "\n",
    "# Print the first ten clusters\n",
    "for cluster in xrange(0,10):\n",
    "    #\n",
    "    # Print the cluster number\n",
    "    print \"\\nCluster %d\" % cluster\n",
    "    #\n",
    "    # Find all of the words for that cluster number, and print them out\n",
    "    words = []\n",
    "    for i in xrange(0,len(word_centroid_map.values())):\n",
    "        if( word_centroid_map.values()[i] == cluster ):\n",
    "            words.append(word_centroid_map.keys()[i])\n",
    "    print words"
   ]
  },
  {
   "cell_type": "code",
   "execution_count": 178,
   "metadata": {
    "collapsed": false
   },
   "outputs": [
    {
     "data": {
      "text/plain": [
       "[(u'Walt Disney World/Magic Kingdom', 0.8270789980888367),\n",
       " (u'Walt Disney World/Epcot', 0.7653724551200867),\n",
       " (u'Walt Disney World/Hollywood Studios', 0.758691668510437),\n",
       " (u'Walt Disney World/Disney Springs', 0.737506091594696),\n",
       " (u'Walt Disney World/Animal Kingdom', 0.7323163747787476),\n",
       " (u'Universal Orlando', 0.7302632927894592),\n",
       " (u'Disneyland', 0.694066047668457),\n",
       " (u'Lake Buena Vista', 0.6264363527297974),\n",
       " (u'Magic Mountain', 0.6071265935897827),\n",
       " (u'Celebration', 0.5721485018730164)]"
      ]
     },
     "execution_count": 178,
     "metadata": {},
     "output_type": "execute_result"
    }
   ],
   "source": [
    "model.docvecs.most_similar(positive=['Walt Disney World'])"
   ]
  },
  {
   "cell_type": "code",
   "execution_count": 176,
   "metadata": {
    "collapsed": false
   },
   "outputs": [
    {
     "data": {
      "text/plain": [
       "[(u'gaming', 0.7033554911613464),\n",
       " (u'taj', 0.6655895709991455),\n",
       " (u'harrah', 0.6629875898361206),\n",
       " (u'halls', 0.6541126370429993),\n",
       " (u'patrons', 0.644508957862854),\n",
       " (u'greektown', 0.6431454420089722),\n",
       " (u'capri', 0.6428883671760559),\n",
       " (u'trump', 0.6420159339904785),\n",
       " (u'newer', 0.6408073902130127),\n",
       " (u'cafes', 0.6388021111488342)]"
      ]
     },
     "execution_count": 176,
     "metadata": {},
     "output_type": "execute_result"
    }
   ],
   "source": [
    "model.most_similar_cosmul(['gambling'])"
   ]
  },
  {
   "cell_type": "code",
   "execution_count": 173,
   "metadata": {
    "collapsed": false
   },
   "outputs": [
    {
     "data": {
      "text/plain": [
       "[(u'californiawikipedia', 0.3228406310081482),\n",
       " (u'shoeing', 0.2411327064037323),\n",
       " (u'hunterdon', 0.23772689700126648),\n",
       " (u'loran', 0.2334660142660141),\n",
       " (u'tabor', 0.23184961080551147),\n",
       " (u'havasu', 0.23160845041275024),\n",
       " (u'tulare', 0.2298804521560669),\n",
       " (u'heber', 0.22771143913269043),\n",
       " (u'benito', 0.2250422239303589),\n",
       " (u'stroke', 0.22112725675106049)]"
      ]
     },
     "execution_count": 173,
     "metadata": {},
     "output_type": "execute_result"
    }
   ],
   "source": [
    "model.most_similar([model.docvecs['Salt Lake City']])"
   ]
  },
  {
   "cell_type": "code",
   "execution_count": 177,
   "metadata": {
    "collapsed": false
   },
   "outputs": [
    {
     "data": {
      "text/plain": [
       "[(u'Keystone (Colorado)', 0.33302709460258484),\n",
       " (u'Snowshoe', 0.3025350570678711),\n",
       " (u'Beaver Creek', 0.2992185354232788),\n",
       " (u'Buena Vista (Colorado)', 0.2977113723754883),\n",
       " (u'Breckenridge (Colorado)', 0.27582764625549316),\n",
       " (u'Lake Tahoe', 0.2711047828197479),\n",
       " (u'Tahoe Vista', 0.2663184404373169),\n",
       " (u'Vail', 0.26493021845817566),\n",
       " (u'Steamboat Springs', 0.25336650013923645),\n",
       " (u'Big Sky', 0.2532336413860321)]"
      ]
     },
     "execution_count": 177,
     "metadata": {},
     "output_type": "execute_result"
    }
   ],
   "source": [
    "model.docvecs.most_similar(positive=[model[\"gambling\"],model[\"skiing\"],model[\"casino\"],model[\"snowboard\"]])"
   ]
  },
  {
   "cell_type": "code",
   "execution_count": 196,
   "metadata": {
    "collapsed": false
   },
   "outputs": [],
   "source": [
    "X,y = sklearn.datasets.make_classification()"
   ]
  },
  {
   "cell_type": "code",
   "execution_count": 197,
   "metadata": {
    "collapsed": true
   },
   "outputs": [],
   "source": [
    "kmeans = KMeans(n_clusters=5,random_state=10)"
   ]
  },
  {
   "cell_type": "code",
   "execution_count": 198,
   "metadata": {
    "collapsed": false
   },
   "outputs": [
    {
     "data": {
      "text/plain": [
       "KMeans(copy_x=True, init='k-means++', max_iter=300, n_clusters=5, n_init=10,\n",
       "    n_jobs=1, precompute_distances='auto', random_state=10, tol=0.0001,\n",
       "    verbose=0)"
      ]
     },
     "execution_count": 198,
     "metadata": {},
     "output_type": "execute_result"
    }
   ],
   "source": [
    "kmeans.fit_predict(X)"
   ]
  },
  {
   "cell_type": "code",
   "execution_count": 180,
   "metadata": {
    "collapsed": false,
    "scrolled": true
   },
   "outputs": [],
   "source": [
    "#from __future__ import print_function\n",
    "from sklearn import mixture\n",
    "from sklearn.datasets import make_blobs\n",
    "from sklearn.cluster import KMeans\n",
    "from sklearn.metrics import silhouette_samples, silhouette_score\n",
    "\n",
    "from k_medoids_ import KMedoids\n",
    "\n",
    "import matplotlib.pyplot as plt\n",
    "import matplotlib.cm as cm\n",
    "import numpy as np\n",
    "\n",
    "# Generating the sample data from make_blobs\n",
    "# This particular setting has one distict cluster and 3 clusters placed close\n",
    "# together.\n",
    "\n",
    "range_n_clusters = xrange(2,50)\n",
    "silscores_km = []\n",
    "silscores_gmm = []\n",
    "silscores_kmeans = []\n",
    "\n",
    "for n_clusters in range_n_clusters:\n",
    "    # Create a subplot with 1 row and 2 columns\n",
    "    #fig, (ax1, ax2) = plt.subplots(1, 2)\n",
    "    #fig.set_size_inches(18, 7)\n",
    "\n",
    "    # The 1st subplot is the silhouette plot\n",
    "    # The silhouette coefficient can range from -1, 1 but in this example all\n",
    "    # lie within [-0.1, 1]\n",
    "    #ax1.set_xlim([-0.1, 1])\n",
    "    # The (n_clusters+1)*10 is for inserting blank space between silhouette\n",
    "    # plots of individual clusters, to demarcate them clearly.\n",
    "    #ax1.set_ylim([0, len(model.docvecs.doctag_syn0) + (n_clusters + 1) * 10])\n",
    "    g = mixture.GMM(n_components=n_clusters)\n",
    "    #kmeans_clustering = g()\n",
    "    g.fit( model.docvecs.doctag_syn0 )\n",
    "    idx = g.predict(model.docvecs.doctag_syn0)\n",
    "    # Initialize the clusterer with n_clusters value and a random generator\n",
    "    # seed of 10 for reproducibility.\n",
    "    clusterer = KMedoids(n_clusters=n_clusters, random_state=10,distance_metric='cosine')\n",
    "    cluster_labels = clusterer.fit_predict(model.docvecs.doctag_syn0)\n",
    "    \n",
    "    kmeans = KMeans(n_clusters=n_clusters,random_state=10)\n",
    "    kmeans_labels = kmeans.fit_predict(model.docvecs.doctag_syn0)\n",
    "\n",
    "    # The silhouette_score gives the average value for all the samples.\n",
    "    # This gives a perspective into the density and separation of the formed\n",
    "    # clusters\n",
    "    silhouette_avg = silhouette_score(model.docvecs.doctag_syn0,cluster_labels,metric='cosine')\n",
    "    silscores_km.append(silhouette_avg)\n",
    "    #print(\"K-medoid: For n_clusters =\", n_clusters,\n",
    "    #      \"The average silhouette_score is :\", silhouette_avg)\n",
    "    \n",
    "    silhouette_avg = silhouette_score(model.docvecs.doctag_syn0,idx,metric='cosine')\n",
    "    silscores_gmm.append(silhouette_avg)\n",
    "    #print(\"GMM: For n_clusters =\", n_clusters,\n",
    "    #      \"The average silhouette_score is :\", silhouette_avg) \n",
    "    \n",
    "    silhouette_avg = silhouette_score(model.docvecs.doctag_syn0,kmeans_labels,metric='cosine')\n",
    "    silscores_kmeans.append(silhouette_avg)"
   ]
  },
  {
   "cell_type": "code",
   "execution_count": 213,
   "metadata": {
    "collapsed": true
   },
   "outputs": [],
   "source": [
    "from sklearn.cluster import SpectralClustering, AgglomerativeClustering"
   ]
  },
  {
   "cell_type": "code",
   "execution_count": 285,
   "metadata": {
    "collapsed": false
   },
   "outputs": [],
   "source": [
    "clusterer = hdbscan.HDBSCAN(min_cluster_size=4,metric='cosine')\n",
    "cluster_labels = clusterer.fit_predict(model.docvecs.doctag_syn0.astype(np.float))"
   ]
  },
  {
   "cell_type": "code",
   "execution_count": 246,
   "metadata": {
    "collapsed": true
   },
   "outputs": [],
   "source": [
    "clusterer = hdbscan.HDBSCAN(min_cluster_size=10,metric='cosine')\n",
    "cluster_labels = clusterer.fit_predict(model.docvecs.doctag_syn0.astype(np.float))\n",
    "\n",
    "silhouette_avg = silhouette_score(model.docvecs.doctag_syn0[np.where(cluster_labels != -1)],\n",
    "                 cluster_labels[np.where(cluster_labels != -1)],metric='cosine')\n",
    "silscores_hd.append(silhouette_avg)"
   ]
  },
  {
   "cell_type": "code",
   "execution_count": 247,
   "metadata": {
    "collapsed": false
   },
   "outputs": [
    {
     "data": {
      "text/plain": [
       "-0.041831966"
      ]
     },
     "execution_count": 247,
     "metadata": {},
     "output_type": "execute_result"
    }
   ],
   "source": [
    "silhouette_avg"
   ]
  },
  {
   "cell_type": "code",
   "execution_count": 253,
   "metadata": {
    "collapsed": false
   },
   "outputs": [
    {
     "data": {
      "text/plain": [
       "0.24342662"
      ]
     },
     "execution_count": 253,
     "metadata": {},
     "output_type": "execute_result"
    }
   ],
   "source": [
    "silhouette_score(model.docvecs.doctag_syn0[np.where(cluster_labels != -1)],\n",
    "                 cluster_labels[np.where(cluster_labels != -1)],metric='cosine')"
   ]
  },
  {
   "cell_type": "code",
   "execution_count": 268,
   "metadata": {
    "collapsed": false
   },
   "outputs": [],
   "source": [
    "silscores_hd = []\n",
    "n_clusterslist = []\n",
    "nc = []\n",
    "nn = []\n",
    "\n",
    "for n_clusters in range(2,30):\n",
    "    \n",
    "    clusterer = hdbscan.HDBSCAN(min_cluster_size=n_clusters,metric='cosine')\n",
    "    try:\n",
    "        cluster_labels = clusterer.fit_predict(model.docvecs.doctag_syn0.astype(np.float))\n",
    "\n",
    "        silhouette_avg = silhouette_score(model.docvecs.doctag_syn0[np.where(cluster_labels != -1)],\n",
    "                     cluster_labels[np.where(cluster_labels != -1)[0]],metric='cosine')\n",
    "        silscores_hd.append(silhouette_avg)\n",
    "        \n",
    "        n_clusterslist.append(len(set(cluster_labels)))\n",
    "        nc.append(len(np.where(cluster_labels != -1)[0]))\n",
    "        nn.append(n_clusters)\n",
    "        \n",
    "    except:\n",
    "        continue"
   ]
  },
  {
   "cell_type": "code",
   "execution_count": 269,
   "metadata": {
    "collapsed": false
   },
   "outputs": [
    {
     "data": {
      "text/plain": [
       "[713,\n",
       " 378,\n",
       " 324,\n",
       " 260,\n",
       " 169,\n",
       " 196,\n",
       " 156,\n",
       " 155,\n",
       " 133,\n",
       " 156,\n",
       " 154,\n",
       " 147,\n",
       " 193,\n",
       " 175,\n",
       " 173,\n",
       " 182,\n",
       " 176,\n",
       " 164]"
      ]
     },
     "execution_count": 269,
     "metadata": {},
     "output_type": "execute_result"
    }
   ],
   "source": [
    "nc"
   ]
  },
  {
   "cell_type": "code",
   "execution_count": 270,
   "metadata": {
    "collapsed": false
   },
   "outputs": [
    {
     "data": {
      "text/plain": [
       "[0.11458623,\n",
       " 0.13237238,\n",
       " 0.1291772,\n",
       " 0.12433485,\n",
       " 0.21747296,\n",
       " 0.16030484,\n",
       " 0.21745315,\n",
       " 0.20465462,\n",
       " 0.24342662,\n",
       " 0.17348965,\n",
       " 0.1734436,\n",
       " 0.17899135,\n",
       " 0.10387273,\n",
       " 0.10526799,\n",
       " 0.10675979,\n",
       " 0.10682835,\n",
       " 0.10987315,\n",
       " 0.10950961]"
      ]
     },
     "execution_count": 270,
     "metadata": {},
     "output_type": "execute_result"
    }
   ],
   "source": [
    "silscores_hd"
   ]
  },
  {
   "cell_type": "code",
   "execution_count": 271,
   "metadata": {
    "collapsed": false
   },
   "outputs": [
    {
     "data": {
      "text/plain": [
       "[181, 47, 23, 13, 8, 7, 7, 6, 6, 5, 5, 5, 3, 3, 3, 3, 3, 3]"
      ]
     },
     "execution_count": 271,
     "metadata": {},
     "output_type": "execute_result"
    }
   ],
   "source": [
    "n_clusterslist"
   ]
  },
  {
   "cell_type": "code",
   "execution_count": null,
   "metadata": {
    "collapsed": false
   },
   "outputs": [],
   "source": [
    "plt.plot(range_n_clusters,silscores_gmm,label=\"gmm\")\n",
    "plt.plot(range_n_clusters,silscores_km,label=\"k-medoids\")\n",
    "plt.plot(range_n_clusters,silscores_kmeans,label=\"k-means\")\n",
    "plt.legend()\n",
    "plt.show()"
   ]
  },
  {
   "cell_type": "code",
   "execution_count": 235,
   "metadata": {
    "collapsed": false,
    "scrolled": true
   },
   "outputs": [
    {
     "data": {
      "text/plain": [
       "[0.023833042,\n",
       " 0.021570012,\n",
       " 0.018610388,\n",
       " 0.018423555,\n",
       " 0.018611003,\n",
       " 0.01148102,\n",
       " 0.015700726,\n",
       " 0.017244877,\n",
       " 0.015322072,\n",
       " -0.00052802003]"
      ]
     },
     "execution_count": 235,
     "metadata": {},
     "output_type": "execute_result"
    }
   ],
   "source": [
    "silscores_kmeans[0:10]"
   ]
  },
  {
   "cell_type": "code",
   "execution_count": 226,
   "metadata": {
    "collapsed": false
   },
   "outputs": [
    {
     "ename": "ValueError",
     "evalue": "0.0098976055 is not in list",
     "output_type": "error",
     "traceback": [
      "\u001b[0;31m---------------------------------------------------------------------------\u001b[0m",
      "\u001b[0;31mValueError\u001b[0m                                Traceback (most recent call last)",
      "\u001b[0;32m<ipython-input-226-e05690e00ca0>\u001b[0m in \u001b[0;36m<module>\u001b[0;34m()\u001b[0m\n\u001b[0;32m----> 1\u001b[0;31m \u001b[0msilscores_kmeans\u001b[0m\u001b[0;34m.\u001b[0m\u001b[0mindex\u001b[0m\u001b[0;34m(\u001b[0m\u001b[0;36m0.0098976055\u001b[0m\u001b[0;34m)\u001b[0m\u001b[0;34m\u001b[0m\u001b[0m\n\u001b[0m",
      "\u001b[0;31mValueError\u001b[0m: 0.0098976055 is not in list"
     ]
    }
   ],
   "source": [
    "model.docvecs.index2doctag"
   ]
  },
  {
   "cell_type": "code",
   "execution_count": 239,
   "metadata": {
    "collapsed": false
   },
   "outputs": [
    {
     "data": {
      "text/plain": [
       "6"
      ]
     },
     "execution_count": 239,
     "metadata": {},
     "output_type": "execute_result"
    }
   ],
   "source": [
    "range_n_clusters[4]"
   ]
  },
  {
   "cell_type": "code",
   "execution_count": 178,
   "metadata": {
    "collapsed": true
   },
   "outputs": [],
   "source": [
    "g = mixture.GMM(n_components=28)\n",
    "#kmeans_clustering = g()\n",
    "g.fit( model.docvecs.doctag_syn0 )\n",
    "idx = g.predict(model.docvecs.doctag_syn0)"
   ]
  },
  {
   "cell_type": "code",
   "execution_count": 182,
   "metadata": {
    "collapsed": true
   },
   "outputs": [],
   "source": []
  },
  {
   "cell_type": "code",
   "execution_count": 240,
   "metadata": {
    "collapsed": false,
    "scrolled": false
   },
   "outputs": [
    {
     "name": "stdout",
     "output_type": "stream",
     "text": [
      "Running Kmeans\n",
      "Time taken for K Means clustering:  3.7264611721 seconds.\n",
      "\n",
      "Cluster 0\n",
      "[u'Delaware River Region', u'Pleasant Hill', u'Kensington', u'Plattsburgh', u'Redding', u'Tunica', u'Jersey Shore', u'Arlington (Virginia)', u'Metairie', u'Boise', u'Chula Vista', u'Duluth (Minnesota)', u'Burbank', u'Rio Grande Valley', u'Ohio', u'Fitchburg', u'Las Vegas', u'Golden (Colorado)', u'Pasadena', u'Leominster (Massachusetts)', u'Akron', u'LaPlace', u'Fayetteville (Arkansas)', u'Winooski', u'West Hartford', u'Irving', u'Irvine', u'Hartford', u'Palm City', u'Sioux Falls', u'San Clemente', u'Portsmouth (New Hampshire)', u'Bethel (Alaska)', u'Aurora (Colorado)', u'South Suburbs (Illinois)', u'Montgomery', u'Addison', u'New Brunswick (New Jersey)', u'Foster City', u'Hackensack', u'Palos Verdes', u'Fort Worth', u'Hamilton County (Ohio)', u'Albany (New York)', u'Katonah', u'Emeryville', u'Santa Clarita Valley', u'East Bay', u'Iowa City', u'Brenham', u'Camden County (New Jersey)', u'Mississippi Delta', u'Jensen Beach', u'Ventura County', u'Mesa', u'Disneyland', u'Auburn (Alabama)', u'South Shore (Massachusetts)', u'Chicago', u'Lubbock', u'Fairport (New York)', u'Mount Vernon (Iowa)', u'El Segundo', u'Grand Rapids', u'Dothan', u'Bakersfield', u'Jersey City', u'Ogden', u'Oahu', u'Galveston', u'Universal City', u'Corpus Christi', u'Hopkins (Minnesota)', u'Falls Church', u'Southern California', u'Delaware County (Pennsylvania)', u'Contra Costa County', u'Magic Mountain', u'Lewisville', u'North Myrtle Beach', u'Hudson County', u'Dodge City', u'Jupiter', u'Colorado Springs', u'Clermont County', u'Newport (Kentucky)', u'Bronx', u'Cupertino', u'San Joaquin Valley', u'North Carolina', u'Fullerton', u'Clarence', u'Deadwood', u'Crescent City', u'Reading (Pennsylvania)', u'Pembroke Pines', u'Anaheim', u'East St. Louis', u'Bozeman', u'Tampa', u'Cleveland', u'Temecula', u'Jenks', u'Collinsville (Illinois)', u'Torrance', u'Rochester (New York)', u'San Angelo', u'Des Moines', u'Walker (Minnesota)', u'Lancaster (California)', u'Missouri', u'Williamsburg', u'Georgia (state)', u'Connecticut', u'Piedmont (North Carolina)', u'Menlo Park', u'Corona', u'College Park (Maryland)', u'Walnut Creek', u'Richmond', u'Fresno', u'Stafford County', u'Industrialization of the United States', u'Daytona Beach Shores', u'Sheridan', u'Fargo', u'Pittsfield', u'Nassau County', u'La Ca\\xf1ada Flintridge', u'Madison', u'Lafayette (Louisiana)', u'Apple Valley (Minnesota)', u'Dallas', u'Vancouver (Washington)', u'Worcester (Massachusetts)', u'Ames', u'Lima (Ohio)', u'Lakewood (California)', u'Mission Viejo', u'Artesia (California)', u'Palm Beach (Florida)', u'Pensacola', u'Springfield (Massachusetts)', u'Chicagoland', u'Glendale (Arizona)', u\"Prince George's County\", u'Palo Alto', u'Hapeville', u'Grand Island (Nebraska)', u'Roseville (Michigan)', u'Indiana', u'Louisiana', u'El Paso', u'Moraga', u'Atlanta', u'Quad Cities', u'Pocatello', u'Lakeland', u'Illinois Driftless Area', u'Syracuse (New York)', u'Daytona Beach', u'Oak Ridge', u'Honolulu', u'McHenry County (Illinois)', u'Klamath Falls', u'Sonoma Valley', u'Cuyahoga County', u'Lake Arrowhead', u'Sacramento', u'Thornton', u'Sarasota', u'West Palm Beach', u'San Rafael', u'Costa Mesa', u'Humboldt County', u'Baker (California)', u'Aberdeen (Washington)', u'Mississippi', u'Waco', u'Wilson', u'Clemson', u'South (United States of America)', u'Far North Suburbs (Illinois)', u'New Jersey', u'Port St. Lucie', u'St. George (Utah)', u'Elizabeth', u'Michigan', u'Williamsport', u'Miami Beach', u'Diamond Bar', u'Arcata', u'Weaverville (California)', u'Lake County (Indiana)', u'Midland (Texas)', u'Erie', u'Hollywood', u'Shaker Heights', u'Hagerstown', u'Slidell', u'Kalamazoo', u'Sanford (Florida)', u'Moscow (Idaho)', u'Philadelphia', u'Idaho', u'Milwaukee', u'Decatur (Georgia)', u'Oklahoma City', u'Springfield (Illinois)', u'Silver Spring', u'Austin', u'Kansas', u'Lakewood (Colorado)', u'Iowa', u'Niagara Frontier', u'Prairies and Lakes', u'Daly City', u'South Burlington', u'U.S. Virgin Islands', u'Fairbanks', u'Delaware', u'Benton Harbor-Saint Joseph', u'Riverside', u'Lincoln (Nebraska)', u'Milton (Florida)', u'Hermantown', u'Mount Pleasant (Michigan)', u'Washington, D.C.', u'Bethpage', u'Vallejo', u'Federal Way', u'Orinda', u'Nashville', u'Lake Buena Vista', u'Muskegon', u'Anchorage', u'Kansas City', u'Culver City', u'Newark (New Jersey)', u'South Hadley', u'Richland', u'Mesquite (Nevada)', u'Block Island', u'Longview (Texas)', u\"Martha's Vineyard\", u'Essex (Vermont)', u'Pearl', u'Long Beach', u'Central Florida', u'Florida Keys', u'Spokane', u'Staten Island', u'Antelope Valley', u'Arkansas', u'Fort Lauderdale', u'Binghamton', u\"Coeur d'Alene\", u'San Diego County', u'Twin Falls', u'San Fernando Valley', u'Beaver Falls (Pennsylvania)', u'Durham (North Carolina)', u'Bentonville', u'Olympia (Washington)', u'Simi Valley', u'Omaha', u'Garland (Texas)', u'Trinity County', u'New Haven', u'Alexandria (Virginia)', u'Fox River Valley', u'Moorhead', u'The Woodlands', u'Minot', u'Chandler (Arizona)', u'Post-war United States', u'Erie Region', u'Flagstaff', u'Broken Arrow', u'Santa Monica', u'Avalon (New Jersey)', u'Denver', u'Roseville (California)', u'Davis (California)', u'Coral Gables', u'Camarillo', u'Overland Park', u'Paramus', u'South San Francisco', u'Providence', u'Louisville', u'Columbus', u'Bay Area (California)', u'Syracuse (Indiana)', u'Piedmont (California)', u'Paterson', u'North Las Vegas', u'Chattanooga', u'Kearney (Nebraska)', u'Nebraska', u'Sumas', u'Oak Park', u'Illinois', u'Afton', u'Loma Linda', u'Twin Cities', u'Texas', u'Wenatchee', u'Brookline', u'Fort Wayne', u'Oklahoma', u'Takoma Park', u'Port Orange', u'Savannah', u'Towson', u'Lakewood (Ohio)', u'Fairfax County', u'Alma', u'Norfolk (Virginia)', u'Ardmore (Oklahoma)', u'Tucson', u'Boston', u'Kennewick', u'Tysons Corner', u'DeLand', u'Santa Clara (California)', u'Saint Cloud (Minnesota)', u'Champaign-Urbana', u'Prince William County', u'New Orleans', u'Montgomery County (Maryland)', u'Holbrook (Arizona)', u'Research Triangle', u'Kentucky', u'La Crosse', u'Jackson (Mississippi)', u'Pikesville', u'Bridgeport (Connecticut)', u'Mount Rainier (Maryland)', u'Portland (Maine)', u'San Diego', u'Easton (Pennsylvania)', u'Tulsa', u'Ann Arbor', u'Concord (California)', u'Cedar Rapids', u'Minneapolis', u'Salt Lake City', u'El Centro', u'Morgan Hill', u'Portland (Oregon)', u'Florida Gold Coast', u'New York City', u'Oregon', u'Yuma', u'Oxford (Mississippi)', u'Long Beach (New York)', u'Florida', u'Graham', u'Lehigh Valley', u'Cary', u'Petaluma', u'Rogers (Arkansas)', u'Middletown (Connecticut)', u'Palmdale', u'Bismarck', u'Metro New York', u'Mill Valley', u'West Bend', u'Fort Pierce', u'Augusta (Georgia)', u'Raleigh', u'Virginia', u'Tyler', u'Battle Creek (Michigan)', u'Jackpot', u'Inland Empire', u'Thomasville (North Carolina)', u'North Valley', u'South Carolina', u'Gainesville (Florida)', u'Cincinnati', u'San Jose (California)', u'Middletown (Ohio)', u'Richmond (California)', u'Pittsburgh', u'Glen Ellyn', u'Port Aransas', u'Albuquerque', u'Burlington (Vermont)', u'Massachusetts', u'Lynchburg', u'High Point', u'Atlantic City', u'Rancho Cucamonga', u'San Bernardino', u'Boulder', u'Findlay', u'Newport Beach', u'Treasure Coast', u'Hollywood (Florida)', u'Manchester (New Hampshire)', u'Jonesboro (Arkansas)', u'Pacific Palisades', u'Saint Bernard Parish', u'Phoenix', u'Manhattan', u'McLean (Virginia)', u'Carson City', u'Venice (California)', u'Troy (New York)', u'Studio City', u'Martinez (California)', u'Santa Ana (California)', u'Oakland', u'Yakima', u'West Hollywood', u'Ypsilanti', u'Thousand Oaks', u'Bradenton', u'Walt Disney World', u'Lexington (Kentucky)', u'Suffolk County (New York)', u'Charlotte', u'Seattle', u'Maryland', u'San Mateo', u'Oceanside', u'Hammond', u'Butte', u'Wayne County (Ohio)', u'Indianapolis', u'Valdosta', u'Memphis', u'University City (Missouri)', u'Truckee', u'Worcester Hills', u'New Hampshire', u'Birmingham (Alabama)', u'Alhambra (California)', u'West Central Florida', u'Stockton (California)', u'Berea (Kentucky)', u'Williston (North Dakota)', u'St. Louis', u'Niagara Falls (New York)', u'Long Island', u'Tennessee', u'Davenport (Florida)', u'Oroville (California)', u'Ridgecrest', u'Westchester (California)', u'Miami', u'Topeka', u'Westside (Los Angeles County)', u'Camden (Maine)', u'Pine City', u'Gary', u'Hayward', u'San Marcos (Texas)', u'Chino', u'Buffalo', u'Tarpon Springs', u'Boroughs', u'Bethesda', u'Dickinson', u'Acadiana', u'Knoxville', u'Lexington (Massachusetts)', u'Hampden County', u'New York (state)', u'Baltimore County', u'Orange County (California)', u'Peninsula (Bay Area)', u'Chapel Hill', u'Beverly Hills', u'Lawrence (Kansas)', u'Shawnee', u'Morristown', u'Saginaw', u'King City', u'Bethlehem (Pennsylvania)', u'San Antonio', u'Chittenden County', u'Northern Ohio River Region', u'Lakeview (Oregon)', u'San Leandro', u'Bremerton', u'Wisconsin', u'Gallup', u'Los Angeles', u'Westminster (California)', u'Charleston (South Carolina)', u'La Mirada', u'Tacoma', u'Berkeley (California)', u'Tiffin', u'Washtenaw County', u'Brooklyn', u'Saint Paul', u'Joplin', u'Antelope', u'Somerville', u'Doraville', u'North Hollywood', u'Inglewood', u'Stamford (Connecticut)', u'Oakland County', u'Fall River (Massachusetts)', u'Houston', u'Scottsdale (Arizona)', u'Union City (New Jersey)', u'Chautauqua County', u'South Valley', u'Odessa (Texas)', u'San Francisco', u'North Shore (Massachusetts)', u'Des Plaines', u'Vicksburg', u'McAllen', u'Napa Valley', u'Killeen', u'Kilgore', u'Fort Collins', u'California Wine Country', u'Covington (Kentucky)', u'Huntington Beach', u'Greenville (Mississippi)', u'Dayton', u'Troy (Michigan)', u'Detroit', u'Limestone (Illinois)', u'Milford-Miami Township', u'Ashland (Oregon)', u'Tempe', u'Royal Oak', u'Jacksonville', u'Baltimore', u'Palatka', u'Arlington (Texas)']\n",
      "\n",
      "Cluster 1\n",
      "[u'Badlands National Park', u'Bar Harbor', u'Big Sky', u'Acadia National Park', u'Ozark National Scenic Riverways', u'Kauai', u'Western Nevada', u'Minuteman Missile National Historic Site', u'Arizona', u'Inyo County', u'Chesapeake and Ohio Canal National Historical Park', u'Clayton (New Mexico)', u'Mountainair', u'Mount Rushmore National Memorial', u'South Central Arizona', u'Antelope Island', u'Snow Canyon State Park', u'Brenton Point State Park', u'Sun Lakes-Dry Falls State Park', u'Great Falls (Virginia)', u'Shawnee National Forest', u'Bridgeport (California)', u'Mount Carmel Junction', u'Big South Fork National Recreation Area', u'Ozarks', u'Whidbey Island', u'Northern Idaho', u'Lubec', u'Canaveral National Seashore', u'Price (Utah)', u'Assateague Island', u'Fire Island National Seashore', u'Mount Lemmon', u'Channel Islands (California)', u'Saguaro National Park', u'Congaree National Park', u'Delaware Water Gap National Recreation Area', u'Kenai Fjords National Park', u'Manchester (Washington)', u'Cuyahoga Valley National Park', u'Oracle', u'Cahokia Mounds State Historic Site', u'Lava Beds National Monument', u'Devils Postpile National Monument', u'Zion National Park', u'Nikiski', u'Pipestone National Monument', u'Southeast New Mexico', u'Alta (Utah)', u'Glen Canyon National Recreation Area', u'Theodore Roosevelt National Park', u'Saint John (Virgin Islands)', u'Katmai National Park', u'French Gulch', u'Hollister (California)', u'Mount St. Helens', u'Magdalena', u'Mammoth Spring (Arkansas)', u'Land Between the Lakes National Recreation Area', u'Central Utah', u'Ocala National Forest', u'Big Bend (California)', u'Blue Mounds State Park', u'Waldron Island', u'Warm Springs (Oregon)', u'Pennsylvania', u'Provo Canyon', u\"Ebey's Landing National Historical Reserve\", u'Boundary Waters', u'Guadalupe Mountains National Park', u'Mono Lake', u'Big Timber', u'Custer', u'Kennebunkport', u'Eastern Oregon', u'Navajo Nation', u'Espa\\xf1ola (New Mexico)', u'Cumberland Gap National Historical Park', u'Cape Cod National Seashore', u'Denali National Park', u'Rodeo', u'Brown County State Park', u'Great Sand Dunes National Park', u'Cooke City', u'Douglas (Wyoming)', u'Olympic Peninsula', u'Little Missouri National Grasslands', u'Taos', u'Choctaw Country', u'Kingston (Washington)', u'Gardiner (Montana)', u'Misty Fiords National Monument', u'Rocky Gap State Park', u'Santa Monica Mountains National Recreation Area', u'New Mexico', u'Lake County (Florida)', u'Pacifica', u'City of Rocks National Reserve', u'Mendocino County', u'Mi-Wuk Village', u'Oregon Coast', u'Mountain View (Missouri)', u'Pipe Spring National Monument', u'Big Basin Redwoods State Park', u'Tahquamenon Falls', u'Okefenokee National Wildlife Refuge', u'Biscayne National Park', u'Wyoming', u'Monticello (Utah)', u'Maine', u'Poudre Park', u'Adirondacks', u'Estes Park', u'Bushkill Falls', u'Centralia (Pennsylvania)', u'Blue Spring', u'Desert Hot Springs', u'Belfair', u'Isle Royale National Park', u'Southworth (Washington)', u'Olympic National Park', u'Kitsap Peninsula', u'Mojave Desert', u'Patapsco Valley State Park', u'Mount Bachelor', u'Yuba Lake State Park', u'West Virginia', u'San Juan Islands', u'Point Reyes National Seashore', u'Joshua Tree National Park', u'South Dakota', u'Grants', u'Laredo', u'Bear Butte State Park', u'Glacier National Park', u'Tuolumne County', u'Franklin County (Ohio)', u'Wind Cave National Park', u'Mount Whitney', u'Casa Grande Ruins National Monument', u'New England', u'Toledo (Oregon)', u'Southeast Arizona', u'Mount Rainier National Park', u'Colorado', u'Bainbridge Island', u'Little Diomede', u'Miami-Dade County', u'Stuart Island', u'Cedar Breaks National Monument', u'Poulsbo', u'Yellowstone Country', u'Smith Island', u'Natural Bridge State Park', u'El Portal', u'Monument Valley', u'Mammoth Cave National Park', u'The Forks', u'Cloudcroft', u'Northeast New Mexico', u'Key West', u'Mount Washington State Park', u'Pinecrest', u'Spearfish', u'Highlands (Maine)', u'Deming', u'Idaho Springs', u'Flandrau State Park', u'Buena Vista (Colorado)', u'Asheville', u'Crater Lake National Park', u'Oconee National Forest', u'Great Smoky Mountains National Park', u'Colorado National Monument', u'Delaware County (New York)', u'Coupeville', u'Southern Maryland', u'Osceola National Forest', u'Santa Fe National Forest', u'White Mountain National Forest', u'Canyonlands National Park', u'Canyon Country', u'Fox Island (Washington)', u'Fidalgo Island', u'Sequoia and Kings Canyon National Parks', u'Glacier Bay National Park', u'Charlestown State Park', u'Jewel Cave National Monument', u'Front Range', u'Enfield (Connecticut)', u'Los Alamos', u'United States National Parks', u'Great Basin National Park', u'Brownsville (Washington)', u'Texas Panhandle', u'Goosenecks State Park', u'Everglades National Park', u'Dead Horse Point State Park', u'Florissant Fossil Beds National Monument', u'Yosemite West', u'Puget Sound', u'Alamosa', u'Gold Country', u\"Utah's Dixie\", u'Coldfoot', u'Chimney Rock National Historic Site', u'Brevard County', u'Rocky Mountain National Park', u'Alaska', u'Pinnacles National Park', u'Bandelier National Monument', u'Upper Peninsula', u'Carlsbad Caverns National Park', u'Channel Islands National Park', u'Lake Placid', u'Arches National Park', u'Great Plains', u'Medora', u'Flaming Gorge National Recreation Area', u'Grand Teton National Park', u'White Mountain', u'Catoctin Mountain Park', u'Mount Hood', u'Timpanogos Cave National Monument', u'Black Rock City', u'Purdy (Washington)', u'Pyramid Lake', u'Port Gamble', u'Lyndon B. Johnson National Historical Park', u'Barrow (Alaska)', u'Mono County', u'Historic High Country', u'Northern Arizona', u'Hansville (Washington)', u'Porcupine Mountains', u'Necedah', u'Shenandoah National Park', u'Appalachia', u'Western Utah', u'American Samoa', u'Jemez Mountains', u'Anaktuvuk Pass', u'Gulf Islands National Seashore', u'Bryce Canyon National Park', u'Central New Mexico', u'Brookfields', u'Joseph', u'Kailua-Kona', u'Mojave National Preserve', u'Willamette Valley', u'Georgetown (Colorado)', u'Hot Springs (Arkansas)', u'Wall (South Dakota)', u'Devils Fork State Park', u'Maple Canyon', u'Itasca State Park', u'Opal Creek', u'Craters of the Moon National Monument', u'Buffalo National River', u'Santa Fe (New Mexico)', u'Four Corners', u'Lanesborough', u'Redwood National Park', u'North Bay (Bay Area)', u'Pine Barrens', u'Hawaii', u'Westport (Washington)', u'Lincoln Boyhood National Memorial', u'Big Bend National Park', u'Sullivan County (New York)', u'Sitka', u'Quincy (California)', u'Smith Rock State Park', u'Pictured Rocks National Lakeshore', u'Manteca', u'Olalla (Washington)', u'Moab', u'Laramie', u'Great Falls (Montana)', u'Cachuma Lake Recreation Area', u'Deadhorse', u'Cedar City', u'Oatman', u'White Sands National Monument', u'Wiseman', u'Jenner', u'Butler County (Ohio)', u'Southeastern Alaska', u'California', u'Green Ridge State Forest', u'Southern Oregon', u'Valles Caldera National Preserve', u'Fort Davis', u'Half Moon Bay', u'Vermont', u'Crystal River', u'Gig Harbor', u'Shades State Park', u'Port Orchard', u'Lake Mead National Recreation Area', u'Big Island', u'Turkey Run State Park', u'Nebraska Panhandle', u'Angle Inlet', u'Dinosaur National Monument', u'Green Mountains', u'Arapahoe Basin', u'Kenai Peninsula', u'Wasatch Range', u'Northeastern Utah', u'Waitsfield', u'Russell Cave National Monument', u'Northwest New Mexico', u'Fredonia (Arizona)', u'Nogales (Arizona)', u'Dutch Island', u'Mount Baker', u'Garrettsville', u'Bellingham (Washington)', u'Kachemak Bay State Park', u'Goblin Valley State Park', u'Cuba (New Mexico)', u'Waldo Lake', u'Key Center', u'Coos Bay', u'Gettysburg National Military Park', u'Logan (Utah)', u'Portage County', u'Ashland County (Ohio)', u'Death Valley National Park', u'Catskills', u'Horicon Marsh', u'Kaloko-Honokohau National Historical Park', u'Palo Duro Canyon', u'Sea Ranch', u'Sleeping Bear Dunes National Lakeshore', u'Carrizo Plain National Monument', u'Missoula', u'Virgin Islands National Park', u'Government Camp', u'Palouse (Washington)', u'Angeles National Forest', u'Apalachicola National Forest', u'North Central New Mexico', u'Poconos and Endless Mountains', u'Chickasaw National Recreation Area', u'Grand Staircase-Escalante National Monument', u'Chama (New Mexico)', u'Minnesota', u'Gates of the Arctic National Park', u'Black Canyon of the Gunnison National Park', u'Nevada', u'Lassen Volcanic National Park', u'Arctic Alaska', u'Petrified Forest National Park', u'Sangre de Cristo Mountains', u'Sipsey Wilderness', u'Organ Pipe Cactus National Monument', u'Daniel Boone National Forest', u'Southwest Wyoming', u'Gateway National Recreation Area', u'Grand Coulee', u'Salton Sea', u'Chiricahua National Monument', u'Home (Washington)', u'Abiquiu', u'Devils Tower National Monument', u'Stevenson', u'Clifty Falls State Park', u'Ohiopyle', u'Casper', u'Copper Harbor', u'Dry Tortugas National Park', u'Big Sur', u'Capitol Reef National Park', u'Snoqualmie Pass', u'Park City (Utah)', u'Bishop', u'Black Hills National Forest', u'Anchor Point', u'Anza-Borrego Desert State Park', u'Seabeck (Washington)', u'North Cascades National Park', u'Homer', u'Grand Canyon', u'Great Swamp National Wildlife Refuge', u'Letchworth State Park', u'Mesa Verde National Park', u'Hovenweep National Monument', u'Natural Bridges National Monument', u'Salida (Colorado)', u'Big Cypress National Preserve', u'Jackman', u'North Adams', u'Moclips', u'Carter Caves State Resort Park', u'Carlsbad (New Mexico)', u'Mark Twain National Forest', u'Cumberland Falls State Resort Park', u'Yellowstone National Park', u'Finger Lakes', u'North Dakota', u'Scotts Bluff National Monument', u'South Bay', u'Ely (Nevada)', u'San Benito County', u'Waianae', u'Emerald Bay State Park', u'Lone Pine', u'Big Bend Country', u'Snowshoe', u'Southwest New Mexico', u'Coral Pink Sand Dunes State Park', u'Chaco Culture National Historical Park', u'Washington (state)', u'Inland (San Diego County)', u'Dalhart', u'Ketchikan', u'Yosemite National Park', u'Socorro', u'Indiana Dunes National Lakeshore', u'Soledad', u'Union (Washington)', u'Agua Fria National Monument', u'Oregon Caves National Monument', u'Ely (Minnesota)', u'Montana', u'El Malpais National Monument', u'Lakebay', u'Independence (California)', u'Oregon Dunes National Recreation Area', u'Marin County', u'Billings', u'Wasilla', u'Silver City', u'Boston Harbor Islands', u'Utah', u'Page', u'Livingston (Montana)', u'Jackson (Wyoming)']\n",
      "\n",
      "Cluster 2\n",
      "[u'Wilmington (New York)', u'Ross County', u'Wayland', u'Erie County (Ohio)', u'Salem (Massachusetts)', u'Camp Hill', u'Lockport', u'Richmond (Kentucky)', u'Wauchula', u'Aleutian Islands', u'North Platte', u'Ashland (Kentucky)', u'Jamestown (California)', u'Sharpsburg', u'Pea Ridge', u'Ellsworth (Maine)', u'Ephraim (Utah)', u'Owensboro', u'Campbellsville (Kentucky)', u'Pomeroy', u'Bridgeville (Delaware)', u'Monticello (Illinois)', u'Amherst (New Hampshire)', u'Bisbee', u'Benton (Kentucky)', u'Ogdensburg', u'Stroud (Oklahoma)', u'Vandalia (Illinois)', u'Marlinton', u'Marblehead (Ohio)', u'Tiverton (Rhode Island)', u'Colstrip', u'Jeffersonville (Indiana)', u'Lummi Island', u'Logan (West Virginia)', u'Baldwin City', u'Indiantown', u'Mountain Home (Idaho)', u'Chester (New York)', u'Greenfield (Massachusetts)', u'Chalmette', u'Sumter County (Florida)', u'Astoria', u'Oxford (Pennsylvania)', u'Ravenna (Ohio)', u'Shaw Island', u'Monticello (Kentucky)', u'Tega Cay', u'Chester (Pennsylvania)', u'Thermopolis', u'Volusia County', u'Bellevue (Nebraska)', u'Chicken', u'Russellville (Kentucky)', u'Apple Valley (California)', u'Mashpee', u'Hodgenville', u'Wilmington (Massachusetts)', u'Cuyahoga Falls', u'Wickford', u'West Jefferson (North Carolina)', u'Chillicothe (Ohio)', u'Mount Pleasant (Utah)', u'Frostproof', u'New Harmony', u'Utica', u'Punxsutawney', u'Harstine Island', u'Turkey (Texas)', u'Joliet', u'Cave City', u'Arcadia Wildlife Management Park', u'Anamoose', u'Poplar Bluff', u'Jekyll Island', u'Fairmont (West Virginia)', u'Ticonderoga', u'Zanesville', u'Forney', u'Glenrio', u'Bartow (Florida)', u'Pelham (New York)', u'Murray (Kentucky)', u'Julian', u'Waldo County', u'Clayton (New York)', u'Poteau', u'Minerva', u'Arcola (Illinois)', u'Upper Falls (West Virginia)', u'Saranac Lake', u'Cherry', u'Fort Myers', u'Geauga County', u'Keene (New York)', u'Princeton (North Carolina)', u'Columbia (California)', u'Munster (Indiana)', u'Silverdale (Washington)', u'Biloxi', u'Brownsville (Kentucky)', u'Plympton', u'Charleston (West Virginia)', u'Huntsville (Alabama)', u'Kingston (Rhode Island)', u'Sonora (California)', u'Mountains and Lakes Country', u'Malone (New York)', u'Hyder', u'Carthage (Missouri)', u'Canyon de Chelly National Monument', u'Wallace (Idaho)', u'Saint Matthews', u'Nauvoo', u'Junction City (California)', u'Mayfield (Utah)', u'Amherst (Massachusetts)', u'Oregon City', u'North Pittsburgh Region', u'Amarillo', u'Longbranch', u'Charm', u'Richmond (Rhode Island)', u'Chocorua', u'North Pole (New York)', u'Custer Ghost Town', u'Spartanburg', u'Voyageurs National Park', u'Calvert City', u'Childs', u'Princeton (West Virginia)', u'Milan (Ohio)', u'Colonial Williamsburg', u'Helvetia (West Virginia)', u'Galena (Kansas)', u'Early United States history', u'San Juan Island', u'Fort Smith', u'Imperial County', u'Little Rock', u'Merrimack', u'Granite City (Illinois)', u'Shirley', u'Boring', u'Providence County', u'Conway (Arkansas)', u'Franklin (Kentucky)', u'Bessemer City', u'Shinnston', u'Belmont County (Ohio)', u'McKittrick', u'Camano Island', u'Milledgeville', u'Miami (Oklahoma)', u'Lake Alfred', u'Beatty', u'Erick', u'Vega (Texas)', u'Shamokin Dam', u'Brandenburg (Kentucky)', u'New Bern', u'Port Gibson', u'San Juan Bautista', u'London (Ohio)', u'Point Pleasant (West Virginia)', u'Northwest Ohio', u'Ilwaco', u'Glen Cove', u'Madrid (New Mexico)', u'Dundee (Florida)', u'Dubuque', u'Bucyrus (Ohio)', u'Lake Wales', u'Bedford (Indiana)', u'Lancaster County', u'Mansfield (Ohio)', u'Fairmont (Minnesota)', u'Jasper (Indiana)', u'Central Delaware', u'Wakefield (Massachusetts)', u'Quanah', u'Busch Gardens Williamsburg', u'Point Roberts', u'Peach Springs', u'Langley (Washington)', u'Shoreline', u'Vincennes', u'Waterport', u'Washington (North Carolina)', u'Deep Creek Lake', u'Surry', u'Frontier Country', u'Bixby', u'Dolores', u'Monahans', u'Capital District', u'Las Vegas (New Mexico)', u'Ottawa County (Ohio)', u'Crestone', u'Magnolia (Delaware)', u'Fairview (Utah)', u'Long Branch (New Jersey)', u'Morenci (Arizona)', u'Guadalupe (Arizona)', u'Cassadaga (Florida)', u'Penns Grove', u'Sandusky County', u'Independence (Missouri)', u'Henderson (Kentucky)', u'Kidron', u'Lorain County', u'Jefferson County (Ohio)', u'Oak Harbor', u'Gunnison (Utah)', u'Clifton (Texas)', u'Oswego', u'Bangor (Maine)', u'Jamestown (North Dakota)', u'Cornish (New Hampshire)', u'Brunswick (Georgia)', u'Hotchkiss', u'Shickshinny', u'Massena', u'Murfreesboro', u'Freeport (Florida)', u'Columbus (Indiana)', u'Clarksburg (West Virginia)', u'Barberton (Ohio)', u'Crawford County (Ohio)', u'Colorado City', u'Plentywood', u'Edgeley', u'Nevada City (Montana)', u'Champlain and Rouses Point', u'Oysterville', u'Madison (Indiana)', u'Shenandoah Valley', u'Holmes County (Ohio)', u'Waynesboro', u'Cairo (Illinois)', u'Petersham', u'Steubenville', u'Swett', u'Huron (Ohio)', u'Dalton (Ohio)', u'Hartford (Kentucky)', u'Amboy', u'Terre Haute', u'Corydon', u'Middleburg', u'New Philadelphia', u'George Rogers Clark National Historical Park', u'Beulah', u'Baxter Springs', u'Old West', u'Oyster Bay', u'Rochester (Michigan)', u'Bretton Woods', u'Hershey (Nebraska)', u'Nags Head', u'Essex (New York)', u'Bowling Green (Kentucky)', u'Fitzgerald', u'Grand Rivers', u'Emerald Coast', u'Wilmington (North Carolina)', u'Moroni (Utah)', u'Spring City', u'Elkhorn', u'Borger', u'Fremont (Ohio)', u'Manti', u'Soap Lake', u'Hillsborough (North Carolina)', u'Medicine Park', u'Jacksonville (Illinois)', u'Tenney', u'Tupelo', u'Pahrump', u'Berryville', u'Webster (Massachusetts)', u'Burton (Texas)', u'Scottsville (Kentucky)', u'Albany (Oregon)', u'Elizabethtown (Kentucky)', u'Ocean Grove', u'Southbridge', u'Lawton (Oklahoma)', u'New Albany', u'Provincetown', u'Green County', u'Sutton (West Virginia)', u'Aladdin', u'Frankfort (Kentucky)', u'Evansville', u'Summersville', u'Crown Point (New York)', u'Lewiston (Idaho)', u'Riverside County', u'Delta (Colorado)', u'Aurora (Kentucky)', u'Fort Knox', u'Belle Mead', u'Hanksville', u'Rutherford (California)', u'Anamosa', u'Quincy (Massachusetts)', u'Fort Meade', u'Gilbertsville', u'Arlington (Massachusetts)', u'Sterling (Utah)', u'Bardstown', u'Peabody', u'Kingman', u'Welch (West Virginia)', u'McFarland', u'Sutherland (Nebraska)', u'Newark (Ohio)', u'Quonset Point', u'Bonners Ferry', u'Santaquin', u'Glasgow (Kentucky)', u'Neillsville', u'Gloucester Courthouse', u'Central New York', u'DeLeon Springs']\n",
      "\n",
      "Cluster 3\n",
      "[u'Huntingdon Valley', u'Barkhamsted', u'Grand Haven', u'Saline (Michigan)', u'Barnesville (Ohio)', u'Mountlake Terrace', u'Columbus (Georgia)', u'San Gabriel Valley', u'River Vale', u'Woodstock (Connecticut)', u'Loveland (Colorado)', u'Scarsdale', u'Seaside Heights', u'Woodinville', u'Greenwood (Indiana)', u'Wisconsin Dells', u'Framingham', u'Pinellas County', u'Mercer County (New Jersey)', u'Danbury', u'North Brunswick', u'Clarks Summit', u'Quakertown', u'Groveland (Massachusetts)', u'Abington Township', u'Fond du Lac', u'Connellsville', u'Hudson (Ohio)', u'Matunuck', u'Clay (West Virginia)', u'Bergen County', u'River Edge', u'Pipestone', u'Pinehurst', u'State College', u'Blackstone', u'Corning (New York)', u'Charlottesville', u'Fairfax (California)', u'Hickory', u'East Bridgewater', u'Amador County', u'Branford', u'Superior', u'Lanesboro', u'Pennsville', u'Roseville (Minnesota)', u'New Milford', u'Independence (Kansas)', u'Delaware (Ohio)', u'Holland (Michigan)', u'Delray Beach', u'Manteo', u'Rockville', u'Dublin (Ohio)', u'Youngstown (Ohio)', u'Ocean City (New Jersey)', u'New Hope', u'DeKalb', u'Cape Girardeau', u'Rockville Centre', u'Alabama', u'Largo (Maryland)', u'Ashtabula County', u'Lewisburg (West Virginia)', u'Dalton (Georgia)', u'Columbus (Mississippi)', u'Clarksville (Indiana)', u'Kaunakakai', u'Canton (Ohio)', u'Downingtown', u'Claymont', u'Camden (New Jersey)', u'Ellicottville', u'Kokomo', u'Foster', u'Jackson Township (New Jersey)', u'Hamden', u'East Greenwich', u'Dunmore', u'Harker Heights', u'Prairie du Sac', u'Harrisburg', u'Cle Elum', u'Gastonia', u'Eagle River (Alaska)', u'Camden (Delaware)', u'Roseburg', u'Griffin', u'Ledyard (Connecticut)', u'Mount Desert Island', u'Danville (California)', u'Claremont (California)', u'Flint', u'Norton (Massachusetts)', u'Kapalua', u'Bethany (West Virginia)', u'Big Bear Lake', u'Salisbury (Massachusetts)', u'Bensalem', u'Hialeah', u'Franklin (Michigan)', u'Naperville', u'Longmeadow', u'Spring Grove (Minnesota)', u'Guilford', u'Celebration', u'Mount Sinai (New York)', u'Yreka', u'New Smyrna Beach', u'Stoughton (Massachusetts)', u'Cranston', u'Rockland County', u'Bluefield (West Virginia)', u'Shrewsbury (Pennsylvania)', u'Russell (Ohio)', u'Rome (Georgia)', u'Langhorne', u'Fairbanks North Star Borough', u'Elizabeth City', u'Lewistown (Pennsylvania)', u'Cherry Hill', u'Murphy', u'Chino Hills', u'Vernon (New Jersey)', u'Havertown', u'Bethany (Connecticut)', u'Woodbridge (New Jersey)', u'Murphys', u\"St. Mary's City\", u'Old Saybrook', u'Trumansburg (New York)', u'White Sulphur Springs', u'Stratford (Connecticut)', u'Ocala', u'Mountain View (Arkansas)', u'Hingham', u'Waupaca', u'Sewickley', u'Kannapolis', u'Johnston (Rhode Island)', u'Sandwich (Massachusetts)', u'Somerset (Massachusetts)', u'Hoboken', u'Rhode Island', u'Black Mountain', u'Fairfield (Iowa)', u'Lake Forest (Illinois)', u'Montgomery Township', u'Wilmington (Delaware)', u'Bowling Green (Ohio)', u'Ocean Springs', u'Nazareth (Pennsylvania)', u'Wyandotte (Michigan)', u'Lansing (Michigan)', u'Hershey', u'Chestertown (Maryland)', u'Columbia (South Carolina)', u'Wheaton', u'Eastham', u'Breckenridge (Minnesota)', u'Chelsea (Michigan)', u'Paducah', u'Rexburg', u'Indiana (Pennsylvania)', u'West Springfield (Massachusetts)', u'Navarre Beach', u'Ludlow (Massachusetts)', u'Escanaba', u'Northport (New York)', u'Piedmont (Georgia)', u'Milford (Massachusetts)', u'Salineville', u'Kenosha', u'Bourne', u'Sharon (Massachusetts)', u'Palm Coast', u'Maineville (Ohio)', u'Berwick (Pennsylvania)', u'Westwood (New Jersey)', u'Cookeville', u'Fort Lee', u'Keweenaw Peninsula', u'Lewes (Delaware)', u'Chincoteague', u'Rockaway (New Jersey)', u'Newark (Delaware)', u'Windsor (New York)', u'Belgrade (Maine)', u'Dighton (Massachusetts)', u'Nutley', u'Lebanon (Ohio)', u'West Chester (Pennsylvania)', u'Parsippany', u'Merrick', u'Swedesboro', u'Mount Juliet', u'Decatur (Illinois)', u'Altamonte Springs', u'Bethany Beach', u'Salisbury (Connecticut)', u'Moose Lake (Minnesota)', u'East Hanover', u'Taunton (Massachusetts)', u'Ashtabula', u'Lehighton', u'Del Rio', u'Petoskey', u'Laurel (Delaware)', u'Cicero (Indiana)', u'Peoria (Illinois)', u'Cobden', u'East Haven', u'Winona', u'Carver', u'Somers (Connecticut)', u'New Castle (Delaware)', u'Dobbs Ferry', u'Beaverton', u'Kayenta', u'Pound Ridge', u\"O'Neill\", u'Two Rivers', u'Norwalk (Connecticut)', u'Black Rock (Connecticut)', u'Washington Crossing Historical Park', u'Cumberland (Maryland)', u'Yardley', u'Wayne (Pennsylvania)', u'Plymouth (Minnesota)', u'Norwich (Connecticut)', u'Sykesville', u'McComb', u'Elma', u'Highland Park (Illinois)', u'Marietta (Ohio)', u'Madera', u'Milton (Massachusetts)', u'China (Maine)', u'Arcadia (Michigan)', u'Westfield (Massachusetts)', u'Bloomington (Indiana)', u'Vienna (Virginia)', u'Geneva (New York)', u'Chadds Ford', u'Greensboro', u'St. Augustine', u'Rohnert Park', u'Idaho Falls', u'Rawlins', u'Avon (Connecticut)', u'Windsor (Connecticut)', u'Wellfleet', u'Cedarburg', u'Edison', u'Bristol (Rhode Island)', u'Madison (Connecticut)', u'Ellijay', u'Lexington Park', u'Longview (Washington)', u'Ormond Beach', u'St. Charles (Missouri)', u'Huntley', u'Springfield (Missouri)', u'Northfield (Minnesota)', u\"Peddler's Village\", u'Aurora (Illinois)', u'Indianola (Mississippi)', u'Dexter (Michigan)', u'Rudolph', u'Sebring', u'Houghton-Hancock', u'Westchester County', u'Owatonna', u'Bloomsburg', u'Blowing Rock', u'Scranton', u'Athens (Alabama)', u'Woonsocket', u'Truman', u'Fishers', u'Sandy Springs', u'Emerald Isle', u'Reading (Massachusetts)', u'East Lansing', u'Toms River', u'Effingham', u'Selinsgrove', u'Weston (West Virginia)', u'Harwinton', u'Central Falls (Rhode Island)', u'Clinton (New Jersey)', u'Orange City-Alton', u'West Grove', u'Ashland (Wisconsin)', u'Asheboro', u'Athens (Georgia)', u'Falmouth (Massachusetts)', u'Short Hills', u'Yellow Springs', u'Annandale (Virginia)', u'Ventnor (New Jersey)', u'Upper Darby', u'Middlefield (Connecticut)', u'Captiva Island', u'Wakefield (Rhode Island)', u'Blue Bell', u'Springfield (Virginia)', u'Arcadia (California)', u'Doylestown', u'Rindge', u'Woodbury (New Jersey)', u'North Andover', u'Etna (California)', u'White Plains', u'Hampton (Virginia)', u'Briarcliff Manor', u'Sault Sainte Marie (Michigan)', u'Cape Coral', u'Saugus', u'Winter Haven', u'Athens (Ohio)', u'Princeton', u'Washington (Illinois)', u'Swansea (Massachusetts)', u'Eminence', u'Freedom (Wisconsin)', u'St. Clair Shores', u'Emmaus', u'West Memphis', u'Oshkosh', u'Universal Orlando', u'Fort Washington', u'Fayetteville (North Carolina)', u'Bay Harbor', u'Clarksville (Tennessee)', u'Stone Mountain', u'Harrison (Arkansas)', u'Corinth (Mississippi)', u'Teaneck', u'Pepin', u'Windsor (Vermont)', u'Norristown', u'Sioux City', u'Medford (New Jersey)', u'Sewanee', u'El Paso (Illinois)', u'North Conway', u'Mitchell (South Dakota)', u'Marlborough (Massachusetts)', u'Lorton', u'Dorothy', u'Haverford Township', u'Asbury Park', u'Manassas', u'Warren (Rhode Island)', u'Greenwich (Connecticut)', u'Racine', u'Baton Rouge', u'Kankakee', u'Smithfield (Rhode Island)', u'Drexel Hill', u'Ironwood', u'Mansfield (Massachusetts)', u'Ramona', u'Carlsbad (California)', u'Bloomington-Normal', u'Plainview (New York)', u'Nine-County Region', u'Monterey Park', u'Fredonia (New York)', u'Manchester (Connecticut)', u'Somerdale', u'Barrington (Rhode Island)', u'Solebury', u'Waukegan', u'Kennett Square', u'Houghton Lake', u'Cedar Falls', u'West Warwick', u'West Windsor', u'Shelter Island', u'Hockessin', u'Colts Neck', u'Bucks County', u'Factoryville', u'Newington', u'Jefferson (North Carolina)', u'Newtown (Pennsylvania)', u'Hamilton (Ohio)', u'Georgetown (South Carolina)', u'Oxnard', u'Hattiesburg', u'Hellertown', u'Annapolis', u'Wellsboro', u'Severna Park', u'South Windsor', u'Westhampton Beach', u'Keansburg', u'Carbondale (Illinois)', u'New London (Connecticut)', u'Wheeling', u'Newark (New York)', u'Warren (Ohio)', u'Lancaster (Pennsylvania)', u'Edgartown', u'Queens', u'St. Pete Beach', u'Rochester Hills', u'Montpelier', u'Newton (Iowa)', u'Franklin Park', u'North Smithfield', u'Monett', u'East Peoria', u'Natick', u'Wadsworth', u'Chelmsford (Massachusetts)', u'Warwick (Rhode Island)', u'Parkersburg', u'Garberville', u'Camdenton', u'Wichita Falls', u'Torrington (Connecticut)', u'Brevard', u'Brimfield', u'Jim Thorpe', u'Gillette', u'Clarkston (Michigan)', u'Sherman (Connecticut)', u'Northampton (Massachusetts)', u'Swartz Creek', u'Olathe (Kansas)', u'Kiawah Island', u'Kirkwood (Missouri)', u'Deerfield Township', u'Harrison (New York)', u'Sparta (Michigan)', u'Noblesville', u'Metro Detroit', u'Danvers', u'Bernardsville', u'Columbia (Missouri)', u'Norman (Oklahoma)', u'Coral Springs', u'Youngstown (New York)', u'Rockford', u'Old Lyme', u'Blacksburg', u'Bethel (Connecticut)', u'Starkville', u'Corvallis (Oregon)', u'Chantilly (Virginia)', u'Park Ridge (New Jersey)', u'Carroll County (Ohio)', u'Outer Banks', u'Hell (Michigan)', u'Jacksonville (North Carolina)', u'Haworth (New Jersey)', u'Tisbury', u'Union (Union County)', u'Magnolia (Arkansas)', u'Mount Dora', u'Imperial', u'Rolla (Missouri)', u'Natchitoches', u'Doylestown (Ohio)', u'Byron (Minnesota)', u'Keene (New Hampshire)', u'Lake Ozark', u'Wildwood (New Jersey)', u'Yarmouth (Massachusetts)', u'Winston-Salem', u'Ridgewood', u'Lake Geneva (Wisconsin)', u'Wilkes-Barre', u'Carmel (Indiana)', u'Mays Landing', u'Amherst (Virginia)', u'Hanover (Pennsylvania)', u'Summit County (Ohio)', u'Putnam County (New York)', u'Wilton (Connecticut)', u'Wooster', u'Northeast Kingdom', u'Lake Worth', u'Rocky Hill', u'Rockaway Beach (Missouri)', u'Springdale (Utah)', u'Wyckoff', u'Bramwell (West Virginia)', u'Spencer (Iowa)', u'Greeley', u'Portsmouth (Ohio)', u'Tuscaloosa', u'Marshfield (Massachusetts)', u'Somers', u'Oak Island', u'Ithaca (New York)']\n",
      "\n",
      "Cluster 4\n",
      "[u'Mason (Ohio)', u'Warren County (New Jersey)', u'Cooperstown', u'Nampa', u'Amenia (New York)', u'St. Louis (Michigan)', u'Bluemont', u'West Greenwich', u'Ashland City', u'Monmouth County', u'Upland', u'Goshen', u'Gainesville (Georgia)', u'Clovis (New Mexico)', u'Libertyville', u'Sandy', u'Maplewood (New Jersey)', u'Brookhaven (town, New York)', u'Osceola County (Florida)', u'Minnetonka', u'Pittsburg (California)', u'Waterbury', u'Saratoga Springs', u'Poughkeepsie', u'Dutchess County', u'Danville (Illinois)', u'East Brunswick', u'Montville (New Jersey)', u'Lenox (Massachusetts)', u'Salina (Kansas)', u'Meriden (Connecticut)', u'Chesapeake', u'Cicero', u'Randolph (New Jersey)', u'St. Albans (Vermont)', u'Bayonne (New Jersey)', u'Owings Mills', u'Newport News', u'Montague', u'Princess Anne', u'Brownsville (Texas)', u'Helen', u'Indio', u'Waukesha', u'Mount Snow', u'Evanston', u'Mount Vernon (Virginia)', u'Oberlin', u'North Canton', u'Swarthmore', u'Cannon Falls', u'Arlington Heights', u'Cheyenne', u'Rockwall', u'Cinnaminson', u'Alleghenies and Susquehanna Valley', u'Kennebunk', u'Kailua', u'Crisfield', u'Hamilton (Massachusetts)', u'Stony Brook', u'Polk County (Florida)', u'Los Altos', u'Frederick', u'Trenton', u'Encinitas', u'Harrisonburg', u'Tybee Island', u'Ashburn (Virginia)', u'North Fork', u'Wailuku', u'Scituate (Massachusetts)', u'Westfield (Indiana)', u'Andover (Massachusetts)', u'Bennington', u'Elkins Park', u'Ardmore (Pennsylvania)', u'Hightstown', u'Irvington', u'Hadley', u'Victorville', u'Charlestown (Rhode Island)', u'Middlesex County (New Jersey)', u'Mamaroneck', u'Delano', u'Canaan', u'Mechanicsburg', u'Los Gatos', u'Potomac', u'Mishawaka', u'Fort Kent', u'Garrison', u'Gresham', u'Culpeper', u'Williston (Vermont)', u'Sturgis', u'Clinton (Connecticut)', u'Texarkana', u'Kent County (Rhode Island)', u'Oakhurst', u'Meadowlands', u'Great Barrington', u'Trenton (Maine)', u'Western Finger Lakes', u'Watertown (New York)', u'Burrillville', u'Hackettstown', u'Rural Montgomery County', u'South Hero', u'Columbia (Maryland)', u'Willcox', u'Calexico', u'Norwood', u'Lafayette (Indiana)', u'Peekskill', u'Seekonk', u'Oxford (Ohio)', u'Gaithersburg', u'Haddonfield', u'Mid-Hudson and Catskills', u'Augusta (Maine)', u'Sleepy Hollow', u'Moorefield', u'Thurmont', u'Elyria (Ohio)', u'Wichita', u'Vista', u'Weehawken', u'East Hampton', u'Lincoln (Rhode Island)', u'Fogelsville', u'Loudoun County (Virginia)', u'Ontario (California)', u'Beltsville', u'Hannibal', u'Greenville (South Carolina)', u'Slatington', u'Fort Bragg', u'Walworth County', u'Ithaca (Michigan)', u'Sunnyvale', u'Bridgewater (New Jersey)', u'Chico (California)', u'Rutland (Vermont)', u'Cortlandt', u'Davidson', u'Rock County', u'Woodbridge (Virginia)', u'Bettendorf', u'Mountain City (Tennessee)', u'King of Prussia', u'Egg Harbor City', u'Dover (New Hampshire)', u'Media', u'East Rutherford', u'Kingston (New York)', u'Houma', u'Alpharetta', u'Rhinelander', u'Ellenville', u'Eastern Finger Lakes', u'Kapolei', u'Port Angeles', u'Shelby (Ohio)', u'Bowie', u'Sturbridge', u'West Tisbury', u'Purchase', u'Rhinebeck', u'Glenview', u'Brattleboro', u'Kalispell', u'Forks', u'Avon Park', u'Damascus (Virginia)', u'Quincy (Illinois)', u'Burlingame', u'New Roads', u'Port Chester', u'Hyde Park (New York)', u'Greenville (North Carolina)', u'Manville (New Jersey)', u'Gurnee', u'Bangor (Pennsylvania)', u'Mountain View (California)', u'Jefferson Parish', u'London (Kentucky)', u'Miles City', u'Evergreen Park (Illinois)', u'Chautauqua', u'Colma', u'Jefferson City', u'Rehoboth', u'Alliance (Ohio)', u'Pawtucket', u'Florence (Alabama)', u'Washington County (Maryland)', u'Point Pleasant Beach', u'Eau Claire (Wisconsin)', u'Bourbonnais', u'White River Junction', u'Millbrae', u'Puyallup', u'Woodstock (Vermont)', u'Davenport', u'Merced', u'White Bear Lake', u'Hanover (Massachusetts)', u'Whittier (California)', u'Rio Vista (California)', u'Chappaqua', u'Linden (New Jersey)', u'Little Compton', u'Plano', u'Marblehead (Massachusetts)', u'Roseau (Minnesota)', u'Largo (Florida)', u'Tillamook', u'Provo', u'Port Washington (Wisconsin)', u'Landisville', u'Fredericksburg (Virginia)', u'Anderson (California)', u'Blaine', u'Darien Lake', u'Issaquah', u'Dunsmuir', u'Waterville (Maine)', u'Pennsburg', u'Wareham (Massachusetts)', u'Pleasanton', u'Northern Oregon Coast', u\"Sullivan's Island\", u'Kinderhook', u'Lakeville (Massachusetts)', u'Bay Shore', u'Alameda', u'Fremont', u'West Valley City', u'Maryville (Tennessee)', u'Potsdam (New York)', u'Greater Boston', u'Panama City (Florida)', u'Manalapan', u'Solana Beach', u'Clark', u'Highland Park (New Jersey)', u'Tarrytown', u'Barstow', u'Skylands', u'Chesapeake Bay', u'Bristol County (Rhode Island)', u'Denton', u'Orem', u'Van Wert (Ohio)', u'Ashland (Ohio)', u'Grapevine', u'Chanhassen', u'Reston (Virginia)', u'Leesburg', u'Momence', u'Richmond (Indiana)', u'Newton', u'Sterling (Virginia)', u'Farmington (Maine)', u'Robinson Township', u'Stillwater (Oklahoma)', u'Portsmouth (Rhode Island)', u'Kent (Ohio)', u'Rochester and Suburbs', u'Red Hook', u'McHenry (Maryland)', u'Pleasantville (New York)', u'Shamokin', u'Cambridge (Massachusetts)', u'Driftless Area', u'Kent Island', u'Seminole County (Florida)', u'Northtowns', u'Elkhart', u'Elmsford', u'Antioch (California)', u'Laurel Highlands', u'Middleton (Massachusetts)', u'Mansfield (Texas)', u'Mount Vernon (Washington)', u'Essex (Massachusetts)', u'Amityville', u'Croton-on-Hudson', u'Durham (New Hampshire)', u'Seacoast (New Hampshire)', u'Kansas City (Kansas)', u'Kirkland', u'Henderson', u'Canandaigua', u'Primm', u'Orleans (Massachusetts)', u'Kerhonkson', u'Milford (New Hampshire)', u'Downers Grove', u'Columbia Heights-Fridley', u'Brewster (Massachusetts)', u'Hyannis', u'Rock Island', u'Hudson (New Hampshire)', u'Hampton Roads', u'East Rochester', u'Fairfax (Virginia)', u'Yorktown Heights', u'South Orange', u'Oakley', u'Coventry (Rhode Island)', u'Woodstock (New York)', u'Holland (Pennsylvania)', u'North County (San Diego County)', u'National Harbor', u'Roanoke', u'Aloha', u'Eagan', u'Glocester', u'Ogunquit', u'University Park', u'Ulster County', u'Waltham', u'East Point', u'Johnson City (Tennessee)', u'Winter Park (Florida)', u'Westport (New York)', u'Pasco', u'Clearfield (Pennsylvania)', u'Everett (Washington)', u'Orange County (New York)', u'Castro Valley', u'Marin Headlands', u'Louisville (Ohio)', u'Willits', u'Clifton Park', u'Wells (Nevada)', u'Granville (Massachusetts)', u'Bellows Falls', u'Winchester (Massachusetts)', u'Medina (Ohio)', u'Richfield (Minnesota)', u'Burien', u'Bristol (Tennessee-Virginia)', u'Alden', u'Allentown', u'Lewiston (New York)', u'Williamstown (Massachusetts)', u'Nevada (Ohio)', u'Nashua (New Hampshire)', u'Delaware Valley', u'Glen Burnie', u'Trumbull', u'Livermore', u'Michigan City', u'Phillipsburg (New Jersey)', u'DeFuniak Springs', u'Bryan-College Station', u'Moline', u'Tallahassee', u'Schenectady', u'Fairfield County (Ohio)', u'Hermann', u'Sharon (Connecticut)', u'Stanton', u'Santa Clarita', u'Mount Washington (Massachusetts)', u'Montclair', u'North Attleborough', u'Beaufort (South Carolina)', u'Mulberry (Florida)', u'Hull (Massachusetts)', u'Hutchinson (Kansas)', u'Elizabethtown (Pennsylvania)', u'Ontario (Ohio)', u'Albany (California)', u'Pojoaque', u'Loveland (Ohio)', u'Charlton', u'Redmond (Washington)', u'Odon', u'Hampton (New Hampshire)', u'Abilene', u'Kishwaukee Valley', u'Dilworth', u'Pueblo', u'Stony Point', u'Washburn (Wisconsin)', u'Beacon', u'Herkimer', u'West Bridgewater', u'Freeport (Maine)', u'Visalia', u'Gladstone (Oregon)', u'Kenosha County', u'Shelbyville (Kentucky)', u'Carlisle (Massachusetts)', u'Waterboro (Maine)', u'King County', u'Greenbelt', u'South Kingstown', u'Belzoni', u'Massapequa', u'Round Rock', u'Shepherdstown', u'Union City (California)', u'Hanover (New Hampshire)', u'Yonkers', u'Dover (New Jersey)', u'Germantown', u\"Lee's Summit\", u'Edgewood (Maryland)', u'Northwest Suburbs (Illinois)', u'Palmer Lake', u'Newark (California)', u'Midway (Kentucky)', u'Harpers Ferry', u'Mount Vernon (New York)', u'Stark County (Ohio)', u'Sacramento Valley', u'Cumberland (Rhode Island)', u'Council Bluffs', u'Cumberland (Indiana)', u'San Ramon', u'Macon (Georgia)', u'Bellevue', u'Manchester (Vermont)', u'Centreville (Fairfax County)', u'Silicon Valley', u'Olney', u'Ellensburg', u'Dahlonega', u'Salem (Oregon)', u'Kent (Connecticut)', u'Auburn (California)', u'Hastings-on-Hudson', u'Scotch Plains', u'Willow Grove', u'Orleans County (New York)', u'Burlington (Washington)', u'Green Bay', u'York (Pennsylvania)', u'Brookfield (Connecticut)', u'Beloit', u'Manteno', u'Altoona (Pennsylvania)', u'Rose Valley (Pennsylvania)', u'East Stroudsburg', u'Lexington (Ohio)', u'Westminster (Maryland)', u'Novato', u'SeaTac', u'Franklin (Venango County)']\n",
      "\n",
      "Cluster 5\n",
      "[u'Stonewall (Texas)', u'La Quinta', u'Burney', u'Stowe', u'Globe (Arizona)', u'Cambria (California)', u'North Carolina Coastal Plain', u'Lanai', u'Lopez Island', u'Guerneville', u'Burnet', u'Forest Grove', u'Branson', u'Waterville Valley', u'Calistoga', u'Orcas Village', u'Albia', u'Valley City (North Dakota)', u'Manhattan Beach', u'Gatlinburg', u'Cut Bank', u'Monteagle', u'Okeechobee', u'Naples (Florida)', u'Beaver Creek', u'Gould', u'Talkeetna', u'Big Rapids', u'Cannon Beach', u'Forestville', u'Seabrook Island', u'Sunset Beach', u'Beaufort (North Carolina)', u'Eastsound', u'Salinas', u'St. Tammany Parish', u'Sunriver (Oregon)', u'Palisade', u'Morehead City', u'Bald Head Island', u'Skidaway Island', u'Mobile', u'Rockland (Maine)', u'Gustavus', u'Grand Marais', u'Tiburon', u'Aspen', u'Window Rock', u'Monterey County', u'Carolina Beach', u'Cherokee', u'Buellton', u'New Braunfels', u'Hazlettville', u'Weaverville (North Carolina)', u'Shreveport', u'Fairlee (Vermont)', u'Swansboro', u'Catawba Island', u'Buena Park', u'Cody', u'Sumter', u'Palmyra (New York)', u'Pampa', u'Paso Robles', u'Door County (Wisconsin)', u'Brunswick (Maine)', u'Kentucky Bourbon Distilleries Tours', u'South Bay (Los Angeles County)', u'Havelock (North Carolina)', u'Winnemucca', u'Florida Panhandle', u'Mammoth Lakes', u'Point Pleasant (New Jersey)', u'Pentwater', u'Rockport (Texas)', u'Christiansted', u'Los Lunas', u'Cape Cod', u'Atlantic County', u'Harkers Island', u'Palm Springs', u'Molokai', u'Alamogordo', u'Fredericksburg (Texas)', u'Lompoc', u'Key Biscayne', u'Lakeside (Ohio)', u'Idyllwild', u'New Bedford', u'Coronado', u'Stuart', u'Jackson (New Hampshire)', u'Wasco', u'Madeline Island', u'Chatham (Massachusetts)', u'Winchester (Tennessee)', u'Topsail Beach', u'Sandpoint', u'Watch Hill', u'Silverton (Colorado)', u'North Shore (Oahu)', u'Gosnold', u'Newberg', u'Cedar Key', u'Marina del Rey', u'Elkins', u'Kentucky Dam Village State Resort Park', u'Torrey', u'Little Gasparilla Island', u'Sackets Harbor', u'Deltaville', u'Montgomery County (Pennsylvania)', u'Malibu', u'San Simeon', u'Hudson (New York)', u'Cape Canaveral', u'Hana', u'North Coast (California)', u'Brookings-Harbor', u'Polk City', u'Paonia', u'North Country', u'Sonoma County', u'Sun Valley (Idaho)', u'Toledo (Ohio)', u'Petersburg (Alaska)', u'Leavenworth (Washington)', u'Lincoln City', u'Topanga', u'Keyport (Washington)', u'Edmonds', u'Cripple Creek', u'McCloud', u'Forgotten Coast', u'Cedar Point', u'Apalachicola', u'Anacortes', u'Put-in-Bay', u'Metropolis', u'Ortley Beach', u'Brookhaven (Mississippi)', u'Black Hawk', u'Telluride', u'Frostburg', u'Laguna Beach', u'McCarthy', u'Marathon (Florida)', u'Frankenmuth', u'Santa Barbara', u'Tahoe City', u'Gold Beach', u'Jamestown (Rhode Island)', u'Port Townsend', u'Lake Tahoe', u'Winter Park (Colorado)', u'Charlevoix (Michigan)', u'Callahan (California)', u'Makawao', u'Watsonville', u'Guadalupe (California)', u'Kitty Hawk', u'Orlando', u'Cornwall (Connecticut)', u'Cape May', u'North Kingstown', u'New Ulm (Minnesota)', u'Sandusky', u'Windsor (California)', u'The Colony', u'Truro (Massachusetts)', u'Sausalito', u'Milford (Connecticut)', u'Kelleys Island', u'Ocean City (Maryland)', u'Garner State Park', u'Glen Ellen', u'Saint George (Florida)', u'Southwest Florida', u'Blythe', u'Solomons', u'Titusville (Florida)', u'Manasquan', u'Valdez', u'Rangeley', u'Maricopa', u'Sedona', u'Boulder City', u'Saint Croix', u'Pawleys Island', u'Angel Fire', u'Cortez', u'Crested Butte', u'Sandy Hook', u'Grand Forks', u'Scotts Valley', u'Santa Maria (California)', u'Boca Raton', u'Oceano', u'North Shore (Minnesota)', u'Prescott', u'South Texas Plains', u'Roswell (New Mexico)', u'Lahaina', u'Big Pine Key', u'St. Michaels', u'Corrales', u\"Colorado's Wine Country\", u'Fontana', u'Seaside (Oregon)', u'Mystic (Connecticut)', u'Westerly', u'Winslow (Arizona)', u'Blue Hill (Maine)', u'Tucumcari', u'Ouray', u'Mount Shasta', u'Paia', u'Buttonwillow', u'Santa Ynez', u'Richwood (West Virginia)', u'Woods Hole', u'Woodstock (Illinois)', u'Glenwood Springs', u'Monmouth (Oregon)', u'Brownsville (Vermont)', u'Destin', u'Traverse City', u'Depoe Bay', u'Kern County', u'Port Charlotte', u'Highlands (North Carolina)', u'Orcas', u'War Eagle', u'Montauk', u'Amana Colonies', u'Berkeley Springs', u'The Hamptons', u'Santa Rosa (California)', u'St. Ignace', u'Jamaica Beach', u'Forsyth', u'Central Coast (California)', u'Alton (Illinois)', u'Geneseo', u'Cocoa Beach', u'Bull Shoals', u'Lajitas', u'Pagosa Springs', u'Frankfort (Michigan)', u'Devils Lake', u'Grand Traverse Bay Area', u'Narragansett', u'Plymouth (Massachusetts)', u'San Juan Capistrano', u'Key Largo', u'Skagway', u'Palo Cedro', u'Englewood (Florida)', u'Jerome (Arizona)', u'Avalon', u'Pacific Grove', u'Ashaway', u'Mojave', u'Stoughton (Wisconsin)', u'Whitefish', u'Rosamond', u'Juneau', u'Farmington (New Mexico)', u'Carpinteria', u'Melbourne (Florida)', u'Virginia Beach', u'Vail', u'Reno', u'Fayetteville (West Virginia)', u'Circle', u'South Haven', u'Newport (Rhode Island)', u'Rockport (Massachusetts)', u'Red Wing', u'Walla Walla', u'Clarksdale', u'Mandeville (Louisiana)', u'Cotati', u'Cadillac', u'Santa Cruz County', u'Hermosa Beach', u'Carmel (California)', u'Altus (Arkansas)', u'Warren (Arkansas)', u'Lake of the Ozarks', u'Ukiah', u'Mendocino', u'Safford (Arizona)', u'Three Forks', u'Santa Cruz (California)', u'Manitou Springs', u'Tahoe Vista', u'Surfside (Texas)', u'Kodiak', u'Copper Mountain', u'Sherman (Texas)', u'Ojai', u'Lake Barkley', u'Montecito', u'Galena (Illinois)', u'Harbor Springs', u'Carmel Valley', u'Seward', u'Le Claire', u'Sagamore', u'Girdwood', u'Redwood City', u'Atlantic Beach', u'Solvang', u'Pullman', u'Sunny Isles Beach', u'Homewood', u'Perdido Key', u'Chilmark', u'Kemah', u'Eureka Springs', u'Grand Junction', u'Kahului', u'Montrose (Colorado)', u'Southcentral Alaska', u'Catalina Island', u'Cobb Island', u'McClellan', u'Les Cheneaux Islands', u'Pensacola Beach', u'Steamboat Springs', u'Santa Barbara County', u'Mackinaw City', u'Eastern Shore (Maryland)', u'Southern Shores', u'Kings County', u'Sheboygan', u'Bluegrass Region', u'Ventura', u'Casco Bay', u'Sierra Vista', u'Bokoshe', u'Sanibel Island', u'Somerset (Kentucky)', u'Hilo', u'Vinalhaven', u'Bay City (Texas)', u'Vero Beach', u'Roche Harbor', u'Warrenton', u'Clinton (Washington)', u'Winter Harbor', u'Florence (Oregon)', u'Kaanapali', u'Arrow Rock', u'Rapid City', u'Friday Harbor', u'Manistee', u'Cowan', u'Belen', u'Lake George', u'Truth or Consequences', u'Indianola (Washington)', u'Gunnison (Colorado)', u'Avila Beach', u'Monroe (North Carolina)', u'Hopkinton (Rhode Island)', u'Huntington (New York)', u'Lakehead', u'Rachel', u'Medford (Oregon)', u'Healdsburg', u'Orange Beach', u'White Center', u'Silverton (Oregon)', u'Long Beach Island', u'Yountville', u'Dennis', u'Spring Green', u'Jacksonville Beach', u'Palm Desert', u'San Luis Obispo', u'Fairfield (California)', u'Napa', u'Chesapeake Beach', u'Raton', u'Alpine County', u'Willow (Alaska)', u'Vermilion (Ohio)', u'Las Cruces', u'Myrtle Point', u'Monterey Bay', u'Cruz Bay', u'Natchez', u'Delafield', u'Goleta', u'Davis (West Virginia)', u'Grover Beach', u'Saint Marys (Pennsylvania)', u'Virginia City (Nevada)', u'Haines', u'Beaver Island', u'Sisters', u'Skaneateles', u'Pismo Beach', u'Hudson (Wisconsin)', u'Taft', u'Kanab', u'Holland (Massachusetts)', u'Lake City', u'Saint Thomas', u'Capitola', u'Van Nuys', u'Trinidad (California)', u'Haiku', u'Breckenridge (Colorado)', u'Laughlin', u'Fresno County', u'Phippsburg', u'Kerrville', u'Gloucester (Massachusetts)', u'Pescadero', u'Middle Bass Island', u'Bastrop', u'South Lake Tahoe', u'Lynchburg (Tennessee)', u'Old Orchard Beach', u'Marfa', u'Leelanau Peninsula', u'Stanley (Idaho)', u'Oak Hill (West Virginia)', u'Rugby (North Dakota)', u'Cambridge (Maryland)', u'Presidio', u'Redondo Beach', u'Red Lodge (Montana)', u'Gonzales', u'Colchester (Vermont)', u'San Luis Obispo County', u'Alexandria (Louisiana)', u'Saugatuck', u'Rochester (Indiana)', u'Jefferson (Maine)', u'Stone Harbor', u'Port Hueneme', u'Fort Walton Beach', u'Babb', u'Hilton Head Island', u'Glennallen', u'Safety Harbor', u'Newport (Oregon)', u'Cold Spring', u'Colville', u'La Conner', u'Gulf Shores', u'Boardman', u'Mackinac Island', u'Soldotna', u'Kissimmee', u'Panama City Beach', u'Duck', u'Rehoboth Beach', u'Berthoud', u'Stillwater (Minnesota)', u'Anderson Island', u'Storm Lake', u'Boerne', u'Nantucket', u'Myrtle Beach', u'Bend', u'Bernalillo', u'Keystone (Colorado)', u'Moss Landing', u'Incline Village', u'Gulfport', u\"Hooper's Island\", u'Cape Carteret', u'Grants Pass', u'Kenner', u'Playa del Rey', u'Sequim', u'Crawford (Nebraska)', u'Middletown (Rhode Island)', u'Newport (North Carolina)', u'Cape Charles', u'Ocean Shores', u'El Verano', u'Georgetown (Texas)', u'Islamorada', u'Isle of Palms', u'Mercer Island', u'Winterset', u'Saint Petersburg (Florida)', u'Excelsior', u'Tehachapi', u\"Hale'iwa\", u'Deerfield Beach', u'Fulton (Texas)', u'Virginia City (Montana)', u'Kihei', u'Bristol (Maine)', u'Marco Island', u'Sedro-Woolley', u'Dearborn', u'Agoura Hills', u'Pacific Beach', u'Osterville', u'Upcountry South Carolina', u'Lake Havasu City', u'Durango (Colorado)', u'Shell Knob', u'Eugene', u'Hendersonville (North Carolina)', u'Grand Isle County', u'South Padre Island', u'Ottertail', u'Cantonment', u'Maui', u'Crystal Coast', u'Ponce Inlet', u'Hood River', u'Shelton (Washington)', u'Monterey (California)', u'North Carolina Mountains', u'Staunton (Virginia)', u'Plaquemines Parish', u'Bemidji', u'Warren County (Ohio)', u'Sonoma', u'Seaside (California)', u'Morro Bay']\n",
      "\n",
      "Cluster 6\n",
      "[]\n",
      "\n",
      "Cluster 7\n",
      "[]\n",
      "\n",
      "Cluster 8\n",
      "[]\n",
      "\n",
      "Cluster 9\n",
      "[]\n",
      "\n",
      "Cluster 10\n",
      "[]\n",
      "\n",
      "Cluster 11\n",
      "[]\n",
      "\n",
      "Cluster 12\n",
      "[]\n",
      "\n",
      "Cluster 13\n",
      "[]\n",
      "\n",
      "Cluster 14\n",
      "[]\n",
      "\n",
      "Cluster 15\n",
      "[]\n",
      "\n",
      "Cluster 16\n",
      "[]\n",
      "\n",
      "Cluster 17\n",
      "[]\n",
      "\n",
      "Cluster 18\n",
      "[]\n",
      "\n",
      "Cluster 19\n",
      "[]\n",
      "\n",
      "Cluster 20\n",
      "[]\n",
      "\n",
      "Cluster 21\n",
      "[]\n",
      "\n",
      "Cluster 22\n",
      "[]\n",
      "\n",
      "Cluster 23\n",
      "[]\n",
      "\n",
      "Cluster 24\n",
      "[]\n",
      "\n",
      "Cluster 25\n",
      "[]\n",
      "\n",
      "Cluster 26\n",
      "[]\n",
      "\n",
      "Cluster 27\n",
      "[]\n"
     ]
    }
   ],
   "source": [
    "import time\n",
    "start = time.time()\n",
    "doc_vectors = model.docvecs.doctag_syn0\n",
    "num_clusters = 10\n",
    "\n",
    "# Initalize a k-means object and use it to extract centroids\n",
    "print(\"Running Kmeans\")\n",
    "kmeans = KMeans(n_clusters=6,random_state=10)\n",
    "idx = kmeans.fit_predict(model.docvecs.doctag_syn0)#kmeans_clustering = g()\n",
    "\n",
    "# Get the end time and print how long the process took\n",
    "end = time.time()\n",
    "elapsed = end - start\n",
    "print(\"Time taken for K Means clustering: \", elapsed, \"seconds.\")\n",
    "\n",
    "\n",
    "# Create a Word / Index dictionary, mapping each vocabulary word to\n",
    "# a cluster number\n",
    "word_centroid_map = dict(zip( model.docvecs.index2doctag, idx ))\n",
    "\n",
    "# Print the first ten clusters\n",
    "for cluster in xrange(0,28):\n",
    "    #\n",
    "    # Print the cluster number\n",
    "    print(\"\\nCluster %d\" % cluster)\n",
    "    #\n",
    "    # Find all of the words for that cluster number, and print them out\n",
    "    words = []\n",
    "    for i in xrange(0,len(word_centroid_map.values())):\n",
    "        if( word_centroid_map.values()[i] == cluster ):\n",
    "            words.append(word_centroid_map.keys()[i])\n",
    "    print(words)"
   ]
  },
  {
   "cell_type": "code",
   "execution_count": 241,
   "metadata": {
    "collapsed": false,
    "scrolled": false
   },
   "outputs": [
    {
     "name": "stdout",
     "output_type": "stream",
     "text": [
      "\n",
      "Cluster 0\n",
      "[(u'neighborhoods', 0.5220927000045776), (u'suburban', 0.49208176136016846), (u'neighborhood', 0.4767959713935852), (u'neighboring', 0.4751434922218323), (u'suburb', 0.4680553674697876), (u'nightlife', 0.4661779999732971), (u'crime', 0.46570682525634766), (u'hub', 0.4654548466205597), (u'generally', 0.45829713344573975), (u'major', 0.4572810232639313)]\n",
      "\n",
      "Cluster 1\n",
      "[(u'backcountry', 0.5479375123977661), (u'campgrounds', 0.5373291969299316), (u'camping', 0.5329505205154419), (u'hiking', 0.5189633965492249), (u'hikers', 0.5046472549438477), (u'backpacking', 0.5040613412857056), (u'campsites', 0.5038905739784241), (u'entrance', 0.49970120191574097), (u'trails', 0.49939998984336853), (u'swimming', 0.4896673858165741)]\n",
      "\n",
      "Cluster 2\n",
      "[(u'railroad', 0.47614234685897827), (u'founded', 0.4757569432258606), (u'built', 0.46823567152023315), (u'today', 0.4620535969734192), (u'overlaid', 0.45915693044662476), (u'edmonson', 0.45856910943984985), (u'original', 0.45363444089889526), (u'became', 0.45297157764434814), (u'overlain', 0.4517544209957123), (u'farming', 0.44893091917037964)]\n",
      "\n",
      "Cluster 3\n",
      "[(u'restaurant', 0.5446768403053284), (u'grill', 0.5400976538658142), (u'delicious', 0.5388475060462952), (u'pike', 0.5348234176635742), (u'breakfast', 0.5241153836250305), (u'lunch', 0.5206632018089294), (u'sandwiches', 0.5196558237075806), (u'jenners', 0.519385576248169), (u'sit', 0.51410311460495), (u'homemade', 0.5126858353614807)]\n",
      "\n",
      "Cluster 4\n",
      "[(u'transit', 0.5897173881530762), (u'amtrak', 0.5658682584762573), (u'runs', 0.5559499263763428), (u'bus', 0.5494770407676697), (u'commuter', 0.5492712259292603), (u'connecting', 0.5437899827957153), (u'authority', 0.5430719256401062), (u'transportation', 0.5406275987625122), (u'easiest', 0.5402718782424927), (u'rail', 0.5344322919845581)]\n",
      "\n",
      "Cluster 5\n",
      "[(u'closest', 0.48252251744270325), (u'quaint', 0.4642624855041504), (u'marinas', 0.4533143639564514), (u'nearest', 0.45039868354797363), (u'couple', 0.44783341884613037), (u'beaches', 0.447744756937027), (u'inns', 0.4443366825580597), (u'_rhode_island', 0.438701331615448), (u'rent', 0.436959445476532), (u'boat', 0.43470388650894165)]\n",
      "\n",
      "Cluster 6\n"
     ]
    },
    {
     "ename": "ValueError",
     "evalue": "cannot compute similarity with no input",
     "output_type": "error",
     "traceback": [
      "\u001b[0;31m---------------------------------------------------------------------------\u001b[0m",
      "\u001b[0;31mValueError\u001b[0m                                Traceback (most recent call last)",
      "\u001b[0;32m<ipython-input-241-02602d786539>\u001b[0m in \u001b[0;36m<module>\u001b[0;34m()\u001b[0m\n\u001b[1;32m     11\u001b[0m \u001b[0;34m\u001b[0m\u001b[0m\n\u001b[1;32m     12\u001b[0m \u001b[0;34m\u001b[0m\u001b[0m\n\u001b[0;32m---> 13\u001b[0;31m     \u001b[0;32mprint\u001b[0m\u001b[0;34m(\u001b[0m\u001b[0mmodel\u001b[0m\u001b[0;34m.\u001b[0m\u001b[0mmost_similar\u001b[0m\u001b[0;34m(\u001b[0m\u001b[0mwords\u001b[0m\u001b[0;34m)\u001b[0m\u001b[0;34m)\u001b[0m\u001b[0;34m\u001b[0m\u001b[0m\n\u001b[0m",
      "\u001b[0;32m//anaconda/lib/python2.7/site-packages/gensim/models/word2vec.pyc\u001b[0m in \u001b[0;36mmost_similar\u001b[0;34m(self, positive, negative, topn)\u001b[0m\n\u001b[1;32m   1143\u001b[0m                 \u001b[0;32mraise\u001b[0m \u001b[0mKeyError\u001b[0m\u001b[0;34m(\u001b[0m\u001b[0;34m\"word '%s' not in vocabulary\"\u001b[0m \u001b[0;34m%\u001b[0m \u001b[0mword\u001b[0m\u001b[0;34m)\u001b[0m\u001b[0;34m\u001b[0m\u001b[0m\n\u001b[1;32m   1144\u001b[0m         \u001b[0;32mif\u001b[0m \u001b[0;32mnot\u001b[0m \u001b[0mmean\u001b[0m\u001b[0;34m:\u001b[0m\u001b[0;34m\u001b[0m\u001b[0m\n\u001b[0;32m-> 1145\u001b[0;31m             \u001b[0;32mraise\u001b[0m \u001b[0mValueError\u001b[0m\u001b[0;34m(\u001b[0m\u001b[0;34m\"cannot compute similarity with no input\"\u001b[0m\u001b[0;34m)\u001b[0m\u001b[0;34m\u001b[0m\u001b[0m\n\u001b[0m\u001b[1;32m   1146\u001b[0m         \u001b[0mmean\u001b[0m \u001b[0;34m=\u001b[0m \u001b[0mmatutils\u001b[0m\u001b[0;34m.\u001b[0m\u001b[0munitvec\u001b[0m\u001b[0;34m(\u001b[0m\u001b[0marray\u001b[0m\u001b[0;34m(\u001b[0m\u001b[0mmean\u001b[0m\u001b[0;34m)\u001b[0m\u001b[0;34m.\u001b[0m\u001b[0mmean\u001b[0m\u001b[0;34m(\u001b[0m\u001b[0maxis\u001b[0m\u001b[0;34m=\u001b[0m\u001b[0;36m0\u001b[0m\u001b[0;34m)\u001b[0m\u001b[0;34m)\u001b[0m\u001b[0;34m.\u001b[0m\u001b[0mastype\u001b[0m\u001b[0;34m(\u001b[0m\u001b[0mREAL\u001b[0m\u001b[0;34m)\u001b[0m\u001b[0;34m\u001b[0m\u001b[0m\n\u001b[1;32m   1147\u001b[0m \u001b[0;34m\u001b[0m\u001b[0m\n",
      "\u001b[0;31mValueError\u001b[0m: cannot compute similarity with no input"
     ]
    }
   ],
   "source": [
    "for cluster in xrange(0,28):\n",
    "    #\n",
    "    # Print the cluster number\n",
    "    print(\"\\nCluster %d\" % cluster)\n",
    "    #\n",
    "    # Find all of the words for that cluster number, and print them out\n",
    "    words = []\n",
    "    for i in xrange(0,len(word_centroid_map.values())):\n",
    "        if( word_centroid_map.values()[i] == cluster ):\n",
    "            words.append(model.docvecs[word_centroid_map.keys()[i]])\n",
    "            \n",
    "            \n",
    "    print(model.most_similar(words))"
   ]
  },
  {
   "cell_type": "code",
   "execution_count": null,
   "metadata": {
    "collapsed": true
   },
   "outputs": [],
   "source": []
  }
 ],
 "metadata": {
  "kernelspec": {
   "display_name": "Python 2",
   "language": "python",
   "name": "python2"
  },
  "language_info": {
   "codemirror_mode": {
    "name": "ipython",
    "version": 2
   },
   "file_extension": ".py",
   "mimetype": "text/x-python",
   "name": "python",
   "nbconvert_exporter": "python",
   "pygments_lexer": "ipython2",
   "version": "2.7.11"
  }
 },
 "nbformat": 4,
 "nbformat_minor": 0
}
