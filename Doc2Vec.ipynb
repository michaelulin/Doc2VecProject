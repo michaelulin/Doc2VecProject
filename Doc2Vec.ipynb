{
 "cells": [
  {
   "cell_type": "code",
   "execution_count": 1,
   "metadata": {
    "collapsed": true
   },
   "outputs": [],
   "source": [
    "import pickle\n",
    "import pandas as pd\n",
    "import re"
   ]
  },
  {
   "cell_type": "code",
   "execution_count": 2,
   "metadata": {
    "collapsed": true
   },
   "outputs": [],
   "source": [
    "from sklearn.feature_extraction.text import CountVectorizer\n",
    "from sklearn.cross_validation import train_test_split\n",
    "from sklearn.metrics import classification_report \n",
    "from sklearn.decomposition import NMF,LatentDirichletAllocation\n",
    "import matplotlib.pyplot as plt\n",
    "import numpy as np\n",
    "%matplotlib inline"
   ]
  },
  {
   "cell_type": "code",
   "execution_count": 3,
   "metadata": {
    "collapsed": true
   },
   "outputs": [],
   "source": [
    "us = pickle.load(open(\"wikivoyage_text_US.p\",\"rb\"))"
   ]
  },
  {
   "cell_type": "code",
   "execution_count": 4,
   "metadata": {
    "collapsed": true
   },
   "outputs": [],
   "source": [
    "df = pd.DataFrame.from_dict(us,orient='index')"
   ]
  },
  {
   "cell_type": "code",
   "execution_count": 5,
   "metadata": {
    "collapsed": false
   },
   "outputs": [
    {
     "data": {
      "text/html": [
       "<div>\n",
       "<table border=\"1\" class=\"dataframe\">\n",
       "  <thead>\n",
       "    <tr style=\"text-align: right;\">\n",
       "      <th></th>\n",
       "      <th>Name</th>\n",
       "      <th>text</th>\n",
       "      <th>type</th>\n",
       "      <th>loc</th>\n",
       "    </tr>\n",
       "  </thead>\n",
       "  <tbody>\n",
       "    <tr>\n",
       "      <th>0</th>\n",
       "      <td>AbercrombiePAGE</td>\n",
       "      <td>{{pagebanner|Abercrombie WikiVoyage Banner ND....</td>\n",
       "      <td>page</td>\n",
       "      <td>//tools.wmflabs.org/wikivoyage/w/poimap2.php?l...</td>\n",
       "    </tr>\n",
       "    <tr>\n",
       "      <th>1</th>\n",
       "      <td>Aberdeen (Maryland)PAGE</td>\n",
       "      <td>{{pagebanner|Aberdeen MD WikiVoyage Banner.jpg...</td>\n",
       "      <td>page</td>\n",
       "      <td>//tools.wmflabs.org/wikivoyage/w/poimap2.php?l...</td>\n",
       "    </tr>\n",
       "    <tr>\n",
       "      <th>2</th>\n",
       "      <td>Aberdeen (South Dakota)PAGE</td>\n",
       "      <td>{{pagebanner|Pagebanner default.jpg|pgname=Abe...</td>\n",
       "      <td>page</td>\n",
       "      <td>//tools.wmflabs.org/wikivoyage/w/poimap2.php?l...</td>\n",
       "    </tr>\n",
       "    <tr>\n",
       "      <th>3</th>\n",
       "      <td>Aberdeen (Washington)PAGE</td>\n",
       "      <td>{{Pagebanner|pgname=Aberdeen |Wikivoyage page ...</td>\n",
       "      <td>page</td>\n",
       "      <td>//tools.wmflabs.org/wikivoyage/w/poimap2.php?l...</td>\n",
       "    </tr>\n",
       "    <tr>\n",
       "      <th>4</th>\n",
       "      <td>AbernathyPAGE</td>\n",
       "      <td>{{pagebanner|Abernathy Texas Wikivoyage Banner...</td>\n",
       "      <td>page</td>\n",
       "      <td>//tools.wmflabs.org/wikivoyage/w/poimap2.php?l...</td>\n",
       "    </tr>\n",
       "  </tbody>\n",
       "</table>\n",
       "</div>"
      ],
      "text/plain": [
       "                          Name  \\\n",
       "0              AbercrombiePAGE   \n",
       "1      Aberdeen (Maryland)PAGE   \n",
       "2  Aberdeen (South Dakota)PAGE   \n",
       "3    Aberdeen (Washington)PAGE   \n",
       "4                AbernathyPAGE   \n",
       "\n",
       "                                                text  type  \\\n",
       "0  {{pagebanner|Abercrombie WikiVoyage Banner ND....  page   \n",
       "1  {{pagebanner|Aberdeen MD WikiVoyage Banner.jpg...  page   \n",
       "2  {{pagebanner|Pagebanner default.jpg|pgname=Abe...  page   \n",
       "3  {{Pagebanner|pgname=Aberdeen |Wikivoyage page ...  page   \n",
       "4  {{pagebanner|Abernathy Texas Wikivoyage Banner...  page   \n",
       "\n",
       "                                                 loc  \n",
       "0  //tools.wmflabs.org/wikivoyage/w/poimap2.php?l...  \n",
       "1  //tools.wmflabs.org/wikivoyage/w/poimap2.php?l...  \n",
       "2  //tools.wmflabs.org/wikivoyage/w/poimap2.php?l...  \n",
       "3  //tools.wmflabs.org/wikivoyage/w/poimap2.php?l...  \n",
       "4  //tools.wmflabs.org/wikivoyage/w/poimap2.php?l...  "
      ]
     },
     "execution_count": 5,
     "metadata": {},
     "output_type": "execute_result"
    }
   ],
   "source": [
    "df = df.reset_index()\n",
    "\n",
    "df = df.rename(columns=({ 'index' : 'Name'}))\n",
    "\n",
    "df.head()\n"
   ]
  },
  {
   "cell_type": "code",
   "execution_count": 6,
   "metadata": {
    "collapsed": true
   },
   "outputs": [],
   "source": [
    "def unwiki(wiki):\n",
    "        \"\"\"\n",
    "       Remove wiki markup from the text.\n",
    "       \"\"\"\n",
    "        wiki = re.sub(r'(?i)\\{\\{IPA(\\-[^\\|\\{\\}]+)*?\\|([^\\|\\{\\}]+)(\\|[^\\{\\}]+)*?\\}\\}', lambda m: m.group(2), wiki)\n",
    "        wiki = re.sub(r'(?i)\\{\\{Lang(\\-[^\\|\\{\\}]+)*?\\|([^\\|\\{\\}]+)(\\|[^\\{\\}]+)*?\\}\\}', lambda m: m.group(2), wiki)\n",
    "        wiki = re.sub(r'\\{\\{[^\\{\\}]+\\}\\}', '', wiki)\n",
    "        wiki = re.sub(r'(?m)\\{\\{[^\\{\\}]+\\}\\}', '', wiki)\n",
    "        wiki = re.sub(r'(?m)\\{\\|[^\\{\\}]*?\\|\\}', '', wiki)\n",
    "        wiki = re.sub(r'(?i)\\[\\[Category:[^\\[\\]]*?\\]\\]', '', wiki)\n",
    "        wiki = re.sub(r'(?i)\\[\\[Image:[^\\[\\]]*?\\]\\]', '', wiki)\n",
    "        wiki = re.sub(r'(?i)\\[\\[File:[^\\[\\]]*?\\]\\]', '', wiki)\n",
    "        wiki = re.sub(r'\\[\\[[^\\[\\]]*?\\|([^\\[\\]]*?)\\]\\]', lambda m: m.group(1), wiki)\n",
    "        wiki = re.sub(r'\\[\\[([^\\[\\]]+?)\\]\\]', lambda m: m.group(1), wiki)\n",
    "        wiki = re.sub(r'\\[\\[([^\\[\\]]+?)\\]\\]', '', wiki)\n",
    "        wiki = re.sub(r'(?i)File:[^\\[\\]]*?', '', wiki)\n",
    "        wiki = re.sub(r'\\[[^\\[\\]]*? ([^\\[\\]]*?)\\]', lambda m: m.group(1), wiki)\n",
    "        wiki = re.sub(r\"''+\", '', wiki)\n",
    "        wiki = re.sub(r'(?m)^\\*$', '', wiki)\n",
    "       \n",
    "        return wiki\n",
    "\n",
    "def unhtml(html):\n",
    "        \"\"\"\n",
    "       Remove HTML from the text.\n",
    "       \"\"\"\n",
    "        html = re.sub(r'(?i)&nbsp;', ' ', html)\n",
    "        html = re.sub(r'(?i)<br[ \\\\]*?>', '\\n', html)\n",
    "        html = re.sub(r'(?m)<!--.*?--\\s*>', '', html)\n",
    "        html = re.sub(r'(?i)<ref[^>]*>[^>]*<\\/ ?ref>', '', html)\n",
    "        html = re.sub(r'(?m)<.*?>', '', html)\n",
    "        html = re.sub(r'(?i)&amp;', '&', html)\n",
    "       \n",
    "        return html\n",
    "\n",
    "def f(x):\n",
    "    return unhtml(unwiki(x))"
   ]
  },
  {
   "cell_type": "code",
   "execution_count": 7,
   "metadata": {
    "collapsed": true
   },
   "outputs": [],
   "source": [
    "df['text'] = df['text'].apply(f)"
   ]
  },
  {
   "cell_type": "code",
   "execution_count": 8,
   "metadata": {
    "collapsed": true
   },
   "outputs": [],
   "source": [
    "pages = df[df['type'] == 'page']"
   ]
  },
  {
   "cell_type": "code",
   "execution_count": 9,
   "metadata": {
    "collapsed": true
   },
   "outputs": [],
   "source": [
    "def f(x):\n",
    "    return re.sub('PAGE', '', x)"
   ]
  },
  {
   "cell_type": "code",
   "execution_count": 10,
   "metadata": {
    "collapsed": false
   },
   "outputs": [
    {
     "name": "stderr",
     "output_type": "stream",
     "text": [
      "/anaconda/lib/python2.7/site-packages/ipykernel/__main__.py:1: SettingWithCopyWarning: \n",
      "A value is trying to be set on a copy of a slice from a DataFrame.\n",
      "Try using .loc[row_indexer,col_indexer] = value instead\n",
      "\n",
      "See the the caveats in the documentation: http://pandas.pydata.org/pandas-docs/stable/indexing.html#indexing-view-versus-copy\n",
      "  if __name__ == '__main__':\n"
     ]
    }
   ],
   "source": [
    "pages['Name'] = pages['Name'].apply(f)"
   ]
  },
  {
   "cell_type": "code",
   "execution_count": 11,
   "metadata": {
    "collapsed": true
   },
   "outputs": [],
   "source": [
    "pages = pages[pages['loc'].str.contains(\"//tools.wmflabs.org/wikivoyage/w/poimap2\")==True]"
   ]
  },
  {
   "cell_type": "code",
   "execution_count": 12,
   "metadata": {
    "collapsed": true
   },
   "outputs": [],
   "source": [
    "from nltk.corpus import stopwords\n",
    "\n",
    "\n",
    "# In[19]:\n",
    "\n",
    "StopWords = stopwords.words('english')"
   ]
  },
  {
   "cell_type": "code",
   "execution_count": 13,
   "metadata": {
    "collapsed": true
   },
   "outputs": [],
   "source": [
    "StopPlaces = list(pages['Name'])\n",
    "\n",
    "\n",
    "# In[21]:\n",
    "\n",
    "StopPlaces = map(lambda x: re.sub(\"\\(|\\)\", '',x), StopPlaces)\n",
    "\n",
    "\n",
    "# In[22]:\n",
    "\n",
    "StopPlaces = map(lambda x: x.lower().split(), StopPlaces)\n",
    "\n",
    "\n",
    "# In[23]:\n",
    "\n",
    "StopPlaces = [item for sublist in StopPlaces for item in sublist]\n",
    "\n",
    "StopPlaces = [re.findall(r'(?<=\\/).*',i)[0] if \"/\" in i else i for i in StopPlaces]\n",
    "# In[24]:\n",
    "\n",
    "StopWords = StopPlaces + StopWords\n",
    "\n",
    "\n",
    "# In[25]:\n",
    "\n",
    "StopWords = list(set(StopWords))"
   ]
  },
  {
   "cell_type": "code",
   "execution_count": 14,
   "metadata": {
    "collapsed": true
   },
   "outputs": [],
   "source": [
    "def f(x):\n",
    "    x = re.sub(r'WikiPedia:([\\s\\S]*)','', x)\n",
    "    x = re.sub(r'Dmoz:([\\s\\S]*)','', x)\n",
    "    x = re.sub(r'\\[([\\s\\S]*)\\]','', x)\n",
    "    x = re.sub(r'[0-9]','', x)\n",
    "    #x = re.sub(r'\\=\\=Get in\\=\\=([\\s\\S]*)(?=\\=\\=Get around\\=\\=)','',x)\n",
    "    #x = re.sub(r'\\=\\=Get around\\=\\=([\\s\\S]*)(?=\\=\\=See\\=\\=)','',x)\n",
    "    #x = re.sub(r'\\=\\=Respect\\=\\=([\\s\\S]*)(?=\\=\\=Go next\\=\\=)','',x)\n",
    "    #x = re.sub(r'\\=\\=Stay safe\\=\\=([\\s\\S]*)(?=\\=\\=Go next\\=\\=)','',x)\n",
    "    x = re.sub(r'\\=\\=([\\S ]*)\\=\\=', '', x)\n",
    "    x = re.sub(r'\\=\\=Go next\\=\\=([\\s\\S]*)','', x)\n",
    "    return x"
   ]
  },
  {
   "cell_type": "code",
   "execution_count": 15,
   "metadata": {
    "collapsed": true
   },
   "outputs": [],
   "source": [
    "pages['regex_text'] = pages['text'].apply(f)"
   ]
  },
  {
   "cell_type": "code",
   "execution_count": 16,
   "metadata": {
    "collapsed": true
   },
   "outputs": [],
   "source": [
    "pages2 = pages"
   ]
  },
  {
   "cell_type": "code",
   "execution_count": 17,
   "metadata": {
    "collapsed": false
   },
   "outputs": [],
   "source": [
    "pages4 = pages2"
   ]
  },
  {
   "cell_type": "code",
   "execution_count": 18,
   "metadata": {
    "collapsed": false
   },
   "outputs": [
    {
     "name": "stderr",
     "output_type": "stream",
     "text": [
      "//anaconda/lib/python2.7/site-packages/pandas/core/strings.py:207: UserWarning: This pattern has match groups. To actually get the groups, use str.extract.\n",
      "  \" groups, use str.extract.\", UserWarning)\n",
      "/anaconda/lib/python2.7/site-packages/ipykernel/__main__.py:8: SettingWithCopyWarning: \n",
      "A value is trying to be set on a copy of a slice from a DataFrame.\n",
      "Try using .loc[row_indexer,col_indexer] = value instead\n",
      "\n",
      "See the the caveats in the documentation: http://pandas.pydata.org/pandas-docs/stable/indexing.html#indexing-view-versus-copy\n"
     ]
    }
   ],
   "source": [
    "for name in pages4[\"Name\"]:\n",
    "    \n",
    "    name2 = name + \"/\"\n",
    "    df = pages4[pages4[\"Name\"].str.contains(name2) == True]\n",
    "    \n",
    "    if len(df) > 0:\n",
    "        for i in df[\"regex_text\"]:\n",
    "            pages2[pages2[\"Name\"] == name][\"regex_text\"] = pages2[pages2[\"Name\"] == name][\"regex_text\"] + i\n",
    "            \n",
    "    pages2 = pages2.drop(df.index)"
   ]
  },
  {
   "cell_type": "code",
   "execution_count": 19,
   "metadata": {
    "collapsed": true
   },
   "outputs": [],
   "source": [
    "pages2['len'] = map(lambda x: len(x), pages2['regex_text'])"
   ]
  },
  {
   "cell_type": "code",
   "execution_count": 20,
   "metadata": {
    "collapsed": true
   },
   "outputs": [],
   "source": [
    "pages2 = pages2[pages2['len']> 1000]"
   ]
  },
  {
   "cell_type": "code",
   "execution_count": 21,
   "metadata": {
    "collapsed": true
   },
   "outputs": [],
   "source": [
    "from gensim.models.doc2vec import LabeledSentence"
   ]
  },
  {
   "cell_type": "code",
   "execution_count": 22,
   "metadata": {
    "collapsed": true
   },
   "outputs": [],
   "source": [
    "class LabeledLineSentence(object):\n",
    "    def __init__(self, doc_list, labels_list):\n",
    "        self.labels_list = labels_list\n",
    "        self.doc_list = doc_list\n",
    "    def __iter__(self):\n",
    "        for idx, doc in enumerate(self.doc_list):\n",
    "            yield LabeledSentence(words=doc,tags=[self.labels_list[idx]])"
   ]
  },
  {
   "cell_type": "code",
   "execution_count": 23,
   "metadata": {
    "collapsed": true
   },
   "outputs": [],
   "source": [
    "pages3 = pages2.reset_index()"
   ]
  },
  {
   "cell_type": "code",
   "execution_count": 24,
   "metadata": {
    "collapsed": true
   },
   "outputs": [],
   "source": [
    "pages3 = pages3.ix[np.array([i for i,j in enumerate(list(pages2[\"Name\"])) if \"Airport\" not in j])]"
   ]
  },
  {
   "cell_type": "code",
   "execution_count": 25,
   "metadata": {
    "collapsed": true
   },
   "outputs": [],
   "source": [
    "features = list(pages3['regex_text'].apply(lambda x: \"\".join(x.lower().splitlines())))"
   ]
  },
  {
   "cell_type": "code",
   "execution_count": 26,
   "metadata": {
    "collapsed": true
   },
   "outputs": [],
   "source": [
    "from nltk.tokenize import RegexpTokenizer"
   ]
  },
  {
   "cell_type": "code",
   "execution_count": 27,
   "metadata": {
    "collapsed": true
   },
   "outputs": [],
   "source": [
    "tokenizer = RegexpTokenizer(r'\\w+')"
   ]
  },
  {
   "cell_type": "code",
   "execution_count": 28,
   "metadata": {
    "collapsed": true
   },
   "outputs": [],
   "source": [
    "features = [tokenizer.tokenize(x) for x in features]"
   ]
  },
  {
   "cell_type": "code",
   "execution_count": 29,
   "metadata": {
    "collapsed": false
   },
   "outputs": [],
   "source": [
    "features = [[y for y in x if y not in StopWords] for x in features]"
   ]
  },
  {
   "cell_type": "code",
   "execution_count": 30,
   "metadata": {
    "collapsed": true
   },
   "outputs": [],
   "source": [
    "labels_list = list(pages3['Name'])"
   ]
  },
  {
   "cell_type": "code",
   "execution_count": 31,
   "metadata": {
    "collapsed": false
   },
   "outputs": [],
   "source": [
    "it = LabeledLineSentence(features, labels_list)"
   ]
  },
  {
   "cell_type": "code",
   "execution_count": 32,
   "metadata": {
    "collapsed": true
   },
   "outputs": [],
   "source": [
    "import gensim"
   ]
  },
  {
   "cell_type": "code",
   "execution_count": 105,
   "metadata": {
    "collapsed": false
   },
   "outputs": [],
   "source": [
    "model = gensim.models.Doc2Vec(size=200, window=10,\n",
    "                              min_count=5, workers=11,alpha=0.025, min_alpha=0.025,negative=20,\n",
    "                             dm=0,dbow_words=1) # use fixed learning rate"
   ]
  },
  {
   "cell_type": "code",
   "execution_count": 106,
   "metadata": {
    "collapsed": true
   },
   "outputs": [],
   "source": [
    "model.build_vocab(it)"
   ]
  },
  {
   "cell_type": "code",
   "execution_count": 107,
   "metadata": {
    "collapsed": false
   },
   "outputs": [],
   "source": [
    "for epoch in range(10):\n",
    "    model.train(it)\n",
    "    model.alpha -= 0.002 # decrease the learning rate\n",
    "    model.min_alpha = model.alpha # fix the learning rate, no deca\n",
    "    model.train(it)"
   ]
  },
  {
   "cell_type": "code",
   "execution_count": 108,
   "metadata": {
    "collapsed": true
   },
   "outputs": [],
   "source": [
    "model.save(\"doc2vec.model\")"
   ]
  },
  {
   "cell_type": "code",
   "execution_count": 144,
   "metadata": {
    "collapsed": false
   },
   "outputs": [
    {
     "ename": "TypeError",
     "evalue": "'Vocab' object is not iterable",
     "output_type": "error",
     "traceback": [
      "\u001b[0;31m---------------------------------------------------------------------------\u001b[0m",
      "\u001b[0;31mTypeError\u001b[0m                                 Traceback (most recent call last)",
      "\u001b[0;32m<ipython-input-144-39df1aa2b19b>\u001b[0m in \u001b[0;36m<module>\u001b[0;34m()\u001b[0m\n\u001b[0;32m----> 1\u001b[0;31m \u001b[0mmodel\u001b[0m\u001b[0;34m.\u001b[0m\u001b[0mdocvecs\u001b[0m\u001b[0;34m.\u001b[0m\u001b[0mmost_similar\u001b[0m\u001b[0;34m(\u001b[0m\u001b[0mmodel\u001b[0m\u001b[0;34m.\u001b[0m\u001b[0mvocab\u001b[0m\u001b[0;34m[\u001b[0m\u001b[0;34m'skiing'\u001b[0m\u001b[0;34m]\u001b[0m\u001b[0;34m)\u001b[0m\u001b[0;34m\u001b[0m\u001b[0m\n\u001b[0m",
      "\u001b[0;32m//anaconda/lib/python2.7/site-packages/gensim/models/doc2vec.pyc\u001b[0m in \u001b[0;36mmost_similar\u001b[0;34m(self, positive, negative, topn, clip_start, clip_end)\u001b[0m\n\u001b[1;32m    422\u001b[0m         positive = [\n\u001b[1;32m    423\u001b[0m             \u001b[0;34m(\u001b[0m\u001b[0mdoc\u001b[0m\u001b[0;34m,\u001b[0m \u001b[0;36m1.0\u001b[0m\u001b[0;34m)\u001b[0m \u001b[0;32mif\u001b[0m \u001b[0misinstance\u001b[0m\u001b[0;34m(\u001b[0m\u001b[0mdoc\u001b[0m\u001b[0;34m,\u001b[0m \u001b[0mstring_types\u001b[0m \u001b[0;34m+\u001b[0m \u001b[0;34m(\u001b[0m\u001b[0mndarray\u001b[0m\u001b[0;34m,\u001b[0m\u001b[0;34m)\u001b[0m \u001b[0;34m+\u001b[0m \u001b[0minteger_types\u001b[0m\u001b[0;34m)\u001b[0m\u001b[0;34m\u001b[0m\u001b[0m\n\u001b[0;32m--> 424\u001b[0;31m             \u001b[0;32melse\u001b[0m \u001b[0mdoc\u001b[0m \u001b[0;32mfor\u001b[0m \u001b[0mdoc\u001b[0m \u001b[0;32min\u001b[0m \u001b[0mpositive\u001b[0m\u001b[0;34m\u001b[0m\u001b[0m\n\u001b[0m\u001b[1;32m    425\u001b[0m         ]\n\u001b[1;32m    426\u001b[0m         negative = [\n",
      "\u001b[0;31mTypeError\u001b[0m: 'Vocab' object is not iterable"
     ]
    }
   ],
   "source": [
    "model.docvecs.most_similar()"
   ]
  },
  {
   "cell_type": "code",
   "execution_count": 68,
   "metadata": {
    "collapsed": false
   },
   "outputs": [
    {
     "ename": "TypeError",
     "evalue": "'numpy.float32' object is not iterable",
     "output_type": "error",
     "traceback": [
      "\u001b[0;31m---------------------------------------------------------------------------\u001b[0m",
      "\u001b[0;31mTypeError\u001b[0m                                 Traceback (most recent call last)",
      "\u001b[0;32m<ipython-input-68-f22df6bb8ab8>\u001b[0m in \u001b[0;36m<module>\u001b[0;34m()\u001b[0m\n\u001b[0;32m----> 1\u001b[0;31m \u001b[0mmodel\u001b[0m\u001b[0;34m.\u001b[0m\u001b[0mmost_similar\u001b[0m\u001b[0;34m(\u001b[0m\u001b[0mmodel\u001b[0m\u001b[0;34m.\u001b[0m\u001b[0msyn0norm\u001b[0m\u001b[0;34m[\u001b[0m\u001b[0mmodel\u001b[0m\u001b[0;34m.\u001b[0m\u001b[0mvocab\u001b[0m\u001b[0;34m[\u001b[0m\u001b[0;34m'skiing'\u001b[0m\u001b[0;34m]\u001b[0m\u001b[0;34m.\u001b[0m\u001b[0mindex\u001b[0m\u001b[0;34m]\u001b[0m\u001b[0;34m)\u001b[0m\u001b[0;34m\u001b[0m\u001b[0m\n\u001b[0m",
      "\u001b[0;32m//anaconda/lib/python2.7/site-packages/gensim/models/word2vec.pyc\u001b[0m in \u001b[0;36mmost_similar\u001b[0;34m(self, positive, negative, topn)\u001b[0m\n\u001b[1;32m   1134\u001b[0m         \u001b[0;31m# compute the weighted average of all words\u001b[0m\u001b[0;34m\u001b[0m\u001b[0;34m\u001b[0m\u001b[0m\n\u001b[1;32m   1135\u001b[0m         \u001b[0mall_words\u001b[0m\u001b[0;34m,\u001b[0m \u001b[0mmean\u001b[0m \u001b[0;34m=\u001b[0m \u001b[0mset\u001b[0m\u001b[0;34m(\u001b[0m\u001b[0;34m)\u001b[0m\u001b[0;34m,\u001b[0m \u001b[0;34m[\u001b[0m\u001b[0;34m]\u001b[0m\u001b[0;34m\u001b[0m\u001b[0m\n\u001b[0;32m-> 1136\u001b[0;31m         \u001b[0;32mfor\u001b[0m \u001b[0mword\u001b[0m\u001b[0;34m,\u001b[0m \u001b[0mweight\u001b[0m \u001b[0;32min\u001b[0m \u001b[0mpositive\u001b[0m \u001b[0;34m+\u001b[0m \u001b[0mnegative\u001b[0m\u001b[0;34m:\u001b[0m\u001b[0;34m\u001b[0m\u001b[0m\n\u001b[0m\u001b[1;32m   1137\u001b[0m             \u001b[0;32mif\u001b[0m \u001b[0misinstance\u001b[0m\u001b[0;34m(\u001b[0m\u001b[0mword\u001b[0m\u001b[0;34m,\u001b[0m \u001b[0mndarray\u001b[0m\u001b[0;34m)\u001b[0m\u001b[0;34m:\u001b[0m\u001b[0;34m\u001b[0m\u001b[0m\n\u001b[1;32m   1138\u001b[0m                 \u001b[0mmean\u001b[0m\u001b[0;34m.\u001b[0m\u001b[0mappend\u001b[0m\u001b[0;34m(\u001b[0m\u001b[0mweight\u001b[0m \u001b[0;34m*\u001b[0m \u001b[0mword\u001b[0m\u001b[0;34m)\u001b[0m\u001b[0;34m\u001b[0m\u001b[0m\n",
      "\u001b[0;31mTypeError\u001b[0m: 'numpy.float32' object is not iterable"
     ]
    }
   ],
   "source": [
    "model.most_similar(model.syn0norm[model.vocab['skiing'].index])"
   ]
  },
  {
   "cell_type": "code",
   "execution_count": 69,
   "metadata": {
    "collapsed": false
   },
   "outputs": [
    {
     "ename": "TypeError",
     "evalue": "'numpy.float32' object is not iterable",
     "output_type": "error",
     "traceback": [
      "\u001b[0;31m---------------------------------------------------------------------------\u001b[0m",
      "\u001b[0;31mTypeError\u001b[0m                                 Traceback (most recent call last)",
      "\u001b[0;32m<ipython-input-69-b5f94436a1d9>\u001b[0m in \u001b[0;36m<module>\u001b[0;34m()\u001b[0m\n\u001b[0;32m----> 1\u001b[0;31m \u001b[0mmodel\u001b[0m\u001b[0;34m.\u001b[0m\u001b[0mdocvecs\u001b[0m\u001b[0;34m.\u001b[0m\u001b[0mmost_similar\u001b[0m\u001b[0;34m(\u001b[0m\u001b[0mmodel\u001b[0m\u001b[0;34m.\u001b[0m\u001b[0msyn0norm\u001b[0m\u001b[0;34m[\u001b[0m\u001b[0mmodel\u001b[0m\u001b[0;34m.\u001b[0m\u001b[0mvocab\u001b[0m\u001b[0;34m[\u001b[0m\u001b[0;34m'skiing'\u001b[0m\u001b[0;34m]\u001b[0m\u001b[0;34m.\u001b[0m\u001b[0mindex\u001b[0m\u001b[0;34m]\u001b[0m\u001b[0;34m)\u001b[0m\u001b[0;34m\u001b[0m\u001b[0m\n\u001b[0m",
      "\u001b[0;32m//anaconda/lib/python2.7/site-packages/gensim/models/doc2vec.pyc\u001b[0m in \u001b[0;36mmost_similar\u001b[0;34m(self, positive, negative, topn, clip_start, clip_end)\u001b[0m\n\u001b[1;32m    431\u001b[0m         \u001b[0;31m# compute the weighted average of all docs\u001b[0m\u001b[0;34m\u001b[0m\u001b[0;34m\u001b[0m\u001b[0m\n\u001b[1;32m    432\u001b[0m         \u001b[0mall_docs\u001b[0m\u001b[0;34m,\u001b[0m \u001b[0mmean\u001b[0m \u001b[0;34m=\u001b[0m \u001b[0mset\u001b[0m\u001b[0;34m(\u001b[0m\u001b[0;34m)\u001b[0m\u001b[0;34m,\u001b[0m \u001b[0;34m[\u001b[0m\u001b[0;34m]\u001b[0m\u001b[0;34m\u001b[0m\u001b[0m\n\u001b[0;32m--> 433\u001b[0;31m         \u001b[0;32mfor\u001b[0m \u001b[0mdoc\u001b[0m\u001b[0;34m,\u001b[0m \u001b[0mweight\u001b[0m \u001b[0;32min\u001b[0m \u001b[0mpositive\u001b[0m \u001b[0;34m+\u001b[0m \u001b[0mnegative\u001b[0m\u001b[0;34m:\u001b[0m\u001b[0;34m\u001b[0m\u001b[0m\n\u001b[0m\u001b[1;32m    434\u001b[0m             \u001b[0;32mif\u001b[0m \u001b[0misinstance\u001b[0m\u001b[0;34m(\u001b[0m\u001b[0mdoc\u001b[0m\u001b[0;34m,\u001b[0m \u001b[0mndarray\u001b[0m\u001b[0;34m)\u001b[0m\u001b[0;34m:\u001b[0m\u001b[0;34m\u001b[0m\u001b[0m\n\u001b[1;32m    435\u001b[0m                 \u001b[0mmean\u001b[0m\u001b[0;34m.\u001b[0m\u001b[0mappend\u001b[0m\u001b[0;34m(\u001b[0m\u001b[0mweight\u001b[0m \u001b[0;34m*\u001b[0m \u001b[0mdoc\u001b[0m\u001b[0;34m)\u001b[0m\u001b[0;34m\u001b[0m\u001b[0m\n",
      "\u001b[0;31mTypeError\u001b[0m: 'numpy.float32' object is not iterable"
     ]
    }
   ],
   "source": [
    "model.docvecs.most_similar(model.syn0norm[model.vocab['skiing'].index])"
   ]
  },
  {
   "cell_type": "code",
   "execution_count": 67,
   "metadata": {
    "collapsed": false
   },
   "outputs": [
    {
     "data": {
      "text/plain": [
       "6726"
      ]
     },
     "execution_count": 67,
     "metadata": {},
     "output_type": "execute_result"
    }
   ],
   "source": [
    "model.vocab['skiing'].index"
   ]
  },
  {
   "cell_type": "code",
   "execution_count": 62,
   "metadata": {
    "collapsed": false
   },
   "outputs": [
    {
     "data": {
      "text/plain": [
       "array([-0.06245807, -0.01415789,  0.00260839, -0.08011691,  0.01349254,\n",
       "       -0.02795338, -0.06820396, -0.08473887, -0.04719996,  0.0415777 ,\n",
       "        0.01524689, -0.03672023, -0.01999385,  0.07882671,  0.08457068,\n",
       "        0.00673092,  0.05078225, -0.09355281, -0.06450774, -0.00306488,\n",
       "        0.02049748, -0.10971595, -0.0164858 , -0.10860176,  0.11950722,\n",
       "        0.01033655, -0.07752786,  0.06293855,  0.05771945,  0.04158242,\n",
       "        0.00928638,  0.05731043,  0.0215348 , -0.06709696,  0.05062351,\n",
       "       -0.01140026, -0.07648042, -0.03413121, -0.00977167,  0.04571512,\n",
       "        0.01914752, -0.00922657,  0.0396229 , -0.05123307, -0.09696598,\n",
       "        0.04464613, -0.05312309, -0.13987021,  0.04102162, -0.09300322,\n",
       "       -0.03338017, -0.00024413,  0.08327062, -0.0751948 ,  0.00154893,\n",
       "        0.00863051,  0.01798194, -0.09478285,  0.06934574,  0.01267201,\n",
       "        0.04465583, -0.08891953, -0.00165403, -0.0597673 ,  0.04408976,\n",
       "       -0.03822423, -0.05616942,  0.05873096, -0.07526834, -0.07406792,\n",
       "        0.02528696, -0.0491237 , -0.04438336,  0.05460009, -0.00729416,\n",
       "       -0.02516035, -0.02169515,  0.01559237, -0.01255357,  0.06420534,\n",
       "        0.03075619,  0.11045548,  0.08653334,  0.03020306, -0.02404103,\n",
       "        0.06519977, -0.02862156,  0.01956917,  0.03511518, -0.00542324,\n",
       "       -0.04082771,  0.0099477 , -0.0814281 , -0.00188409,  0.0490697 ,\n",
       "       -0.00375191, -0.09194092,  0.06401029, -0.08261778,  0.02340093,\n",
       "        0.09140201,  0.06666349, -0.0345124 , -0.20833965, -0.03367611,\n",
       "       -0.08562722, -0.02241311, -0.0546814 ,  0.07282735, -0.06285149,\n",
       "        0.00657667,  0.0219413 ,  0.01658108,  0.14313653, -0.06644871,\n",
       "       -0.03079124,  0.05801074, -0.05617511, -0.00986348, -0.02413136,\n",
       "       -0.0660717 , -0.01882965, -0.05199211, -0.00996346, -0.05012452,\n",
       "       -0.02527162,  0.0610682 , -0.06197001, -0.02396199, -0.02293097,\n",
       "       -0.03121656, -0.04935934,  0.01877026,  0.16121472, -0.04198877,\n",
       "        0.01550247, -0.02255968, -0.0183771 ,  0.1148537 ,  0.04506792,\n",
       "       -0.01054672,  0.05397955, -0.03036102, -0.01204804, -0.05892296,\n",
       "       -0.05427143,  0.01672021, -0.08226471,  0.05492735, -0.09550355,\n",
       "        0.0171955 , -0.09670457,  0.04464867, -0.07063428, -0.03949152,\n",
       "        0.03495285, -0.06898576,  0.0021149 ,  0.01997582, -0.01139082,\n",
       "       -0.01826009, -0.02312641,  0.01414141, -0.01114482, -0.1176801 ,\n",
       "       -0.0085564 , -0.06374288, -0.08993287, -0.07514079,  0.0509645 ,\n",
       "       -0.02104655,  0.03355019,  0.04675293,  0.04176265, -0.03662104,\n",
       "       -0.15836062,  0.06691208,  0.09298454, -0.05194677, -0.0085618 ,\n",
       "        0.04518308,  0.03113372, -0.02080479,  0.00985989,  0.06317512,\n",
       "        0.04565027, -0.00294413,  0.0304004 , -0.18308152,  0.02803027,\n",
       "       -0.00987067,  0.01961081,  0.03808972,  0.0584922 , -0.02364046,\n",
       "        0.03870264,  0.12911002, -0.06470959,  0.06578256,  0.00343855,\n",
       "        0.00899651, -0.02380357, -0.00390694, -0.16207474,  0.00793283,\n",
       "        0.06645244, -0.01105813,  0.03652606,  0.04946786,  0.01121351,\n",
       "        0.05615351,  0.02800693,  0.0985463 ,  0.02498195, -0.00374169,\n",
       "       -0.13732623, -0.04810671,  0.00322927,  0.07444812,  0.0648443 ,\n",
       "        0.00467012, -0.00099855, -0.0011033 ,  0.02651206,  0.02196437,\n",
       "        0.00421599, -0.05857156, -0.02932814, -0.03162646, -0.04024792,\n",
       "        0.02611142, -0.07472966,  0.0392606 ,  0.01983919, -0.04302736,\n",
       "        0.0941663 , -0.01909685,  0.02022092, -0.00975287,  0.07363447,\n",
       "       -0.0424452 , -0.03198973, -0.00628728,  0.02983798, -0.00283787,\n",
       "        0.10355181,  0.00175116,  0.06076357,  0.07329379,  0.03782021,\n",
       "        0.0380398 , -0.01751367,  0.06637019,  0.00647282, -0.10024157,\n",
       "       -0.05772967, -0.02647179, -0.09697291,  0.09564925, -0.01665451,\n",
       "       -0.06170586, -0.0490157 ,  0.12653697,  0.04945586,  0.03020067,\n",
       "       -0.05156385,  0.00172664,  0.05858763,  0.11227835, -0.02120267,\n",
       "       -0.04468137, -0.00734836, -0.02176692, -0.05448886, -0.01878399,\n",
       "        0.07412226, -0.01780083, -0.06366633,  0.04527509, -0.08478773,\n",
       "       -0.07555152,  0.00833415,  0.0628884 ,  0.01412116, -0.05846795,\n",
       "       -0.02206045, -0.0143818 ,  0.05009243,  0.01508742, -0.02670863,\n",
       "        0.0177168 ,  0.02270407, -0.03804193,  0.05910492,  0.00435261,\n",
       "        0.0109572 ,  0.00662215, -0.10265853, -0.07639043, -0.0228356 ], dtype=float32)"
      ]
     },
     "execution_count": 62,
     "metadata": {},
     "output_type": "execute_result"
    }
   ],
   "source": [
    "model.syn0norm[model.vocab['skiing'].index]"
   ]
  },
  {
   "cell_type": "code",
   "execution_count": 543,
   "metadata": {
    "collapsed": false
   },
   "outputs": [],
   "source": [
    "xfeatures = np.array(model.docvecs.doctag_syn0norm)"
   ]
  },
  {
   "cell_type": "code",
   "execution_count": 544,
   "metadata": {
    "collapsed": true
   },
   "outputs": [],
   "source": [
    "import sklearn"
   ]
  },
  {
   "cell_type": "code",
   "execution_count": 545,
   "metadata": {
    "collapsed": true
   },
   "outputs": [],
   "source": [
    "scaler = sklearn.preprocessing.StandardScaler(with_mean=False)"
   ]
  },
  {
   "cell_type": "code",
   "execution_count": 546,
   "metadata": {
    "collapsed": false
   },
   "outputs": [],
   "source": [
    "xfeatures = model.docvecs.doctag_syn0.astype(np.float)"
   ]
  },
  {
   "cell_type": "code",
   "execution_count": 547,
   "metadata": {
    "collapsed": false
   },
   "outputs": [
    {
     "data": {
      "text/plain": [
       "array([[ 0.00618221,  0.14849949, -0.21436004, ...,  0.05242248,\n",
       "        -0.29331636, -0.07001676],\n",
       "       [-0.08529968,  0.04382144, -0.12490274, ...,  0.14418064,\n",
       "        -0.01959139, -0.04958922],\n",
       "       [-0.01886769,  0.03903722,  0.19335651, ...,  0.00457531,\n",
       "        -0.05352483, -0.06246015],\n",
       "       ..., \n",
       "       [ 0.05247582, -0.07905624,  0.02315853, ..., -0.09176812,\n",
       "         0.00245069, -0.11172249],\n",
       "       [-0.09852564,  0.03295929, -0.19023257, ...,  0.06347469,\n",
       "        -0.02566116,  0.04252853],\n",
       "       [ 0.0968906 , -0.3269906 , -0.21318677, ...,  0.04024683,\n",
       "        -0.20773768,  0.02693229]])"
      ]
     },
     "execution_count": 547,
     "metadata": {},
     "output_type": "execute_result"
    }
   ],
   "source": [
    "model.docvecs.doctag_syn0.astype(np.float)"
   ]
  },
  {
   "cell_type": "code",
   "execution_count": 127,
   "metadata": {
    "collapsed": false
   },
   "outputs": [],
   "source": [
    "import hdbscan\n",
    "\n",
    "clusterer = hdbscan.HDBSCAN(min_cluster_size=10,metric='cosine')\n",
    "cluster_labels = clusterer.fit_predict(model.docvecs.doctag_syn0.astype(np.float))"
   ]
  },
  {
   "cell_type": "code",
   "execution_count": 549,
   "metadata": {
    "collapsed": true
   },
   "outputs": [],
   "source": [
    "md = DBSCAN(eps=1)"
   ]
  },
  {
   "cell_type": "code",
   "execution_count": 550,
   "metadata": {
    "collapsed": false
   },
   "outputs": [
    {
     "data": {
      "text/plain": [
       "DBSCAN(algorithm='auto', eps=1, leaf_size=30, metric='euclidean',\n",
       "    min_samples=5, p=None, random_state=None)"
      ]
     },
     "execution_count": 550,
     "metadata": {},
     "output_type": "execute_result"
    }
   ],
   "source": [
    "md.fit(model.docvecs.doctag_syn0.astype(np.float))"
   ]
  },
  {
   "cell_type": "code",
   "execution_count": 379,
   "metadata": {
    "collapsed": false
   },
   "outputs": [
    {
     "data": {
      "text/plain": [
       "array([0, 0, 0, ..., 0, 0, 0])"
      ]
     },
     "execution_count": 379,
     "metadata": {},
     "output_type": "execute_result"
    }
   ],
   "source": [
    "md.labels_"
   ]
  },
  {
   "cell_type": "code",
   "execution_count": 80,
   "metadata": {
    "collapsed": true
   },
   "outputs": [],
   "source": [
    "from collections import Counter"
   ]
  },
  {
   "cell_type": "code",
   "execution_count": 128,
   "metadata": {
    "collapsed": false,
    "scrolled": false
   },
   "outputs": [
    {
     "data": {
      "text/plain": [
       "Counter({-1: 2659, 0: 28, 1: 25, 2: 18, 3: 34, 4: 28})"
      ]
     },
     "execution_count": 128,
     "metadata": {},
     "output_type": "execute_result"
    }
   ],
   "source": [
    "Counter(cluster_labels)"
   ]
  },
  {
   "cell_type": "code",
   "execution_count": 84,
   "metadata": {
    "collapsed": true
   },
   "outputs": [],
   "source": [
    "import sklearn"
   ]
  },
  {
   "cell_type": "code",
   "execution_count": 129,
   "metadata": {
    "collapsed": false
   },
   "outputs": [],
   "source": [
    "pca = sklearn.decomposition.RandomizedPCA()"
   ]
  },
  {
   "cell_type": "code",
   "execution_count": 130,
   "metadata": {
    "collapsed": false
   },
   "outputs": [],
   "source": [
    "pca_x = pca.fit_transform(model.docvecs.doctag_syn0.astype(np.float))"
   ]
  },
  {
   "cell_type": "code",
   "execution_count": 131,
   "metadata": {
    "collapsed": false
   },
   "outputs": [
    {
     "data": {
      "text/plain": [
       "array([ 0.5262375 ,  0.46992238,  0.41535437,  0.40188575,  0.35447076,\n",
       "        0.34057881,  0.31949515,  0.31634743,  0.30805046,  0.29567861])"
      ]
     },
     "execution_count": 131,
     "metadata": {},
     "output_type": "execute_result"
    }
   ],
   "source": [
    "pca.explained_variance_[0:10]"
   ]
  },
  {
   "cell_type": "code",
   "execution_count": 132,
   "metadata": {
    "collapsed": false
   },
   "outputs": [
    {
     "data": {
      "text/plain": [
       "<matplotlib.collections.PathCollection at 0x1208663d0>"
      ]
     },
     "execution_count": 132,
     "metadata": {},
     "output_type": "execute_result"
    },
    {
     "data": {
      "image/png": "[encoded data removed]",
      "text/plain": [
       "<matplotlib.figure.Figure at 0x12af3f050>"
      ]
     },
     "metadata": {},
     "output_type": "display_data"
    }
   ],
   "source": [
    "plt.scatter(pca_x[:,0],pca_x[:,1])"
   ]
  },
  {
   "cell_type": "code",
   "execution_count": 304,
   "metadata": {
    "collapsed": true
   },
   "outputs": [],
   "source": [
    "import time"
   ]
  },
  {
   "cell_type": "code",
   "execution_count": 306,
   "metadata": {
    "collapsed": true
   },
   "outputs": [],
   "source": [
    "from sklearn.cluster import KMeans"
   ]
  },
  {
   "cell_type": "code",
   "execution_count": 333,
   "metadata": {
    "collapsed": true
   },
   "outputs": [],
   "source": [
    "from sklearn import mixture"
   ]
  },
  {
   "cell_type": "code",
   "execution_count": 337,
   "metadata": {
    "collapsed": false,
    "scrolled": true
   },
   "outputs": [
    {
     "name": "stdout",
     "output_type": "stream",
     "text": [
      "Running K means\n",
      "Time taken for K Means clustering:  4.00965094566 seconds.\n",
      "\n",
      "Cluster 0\n",
      "[u'Ozark National Scenic Riverways', u'Ross County', u'Chesapeake and Ohio Canal National Historical Park', u'Clayton (New Mexico)', u'Sun Lakes-Dry Falls State Park', u'Big South Fork National Recreation Area', u'Canaveral National Seashore', u'Gustavus', u'Fire Island National Seashore', u'Delaware Water Gap National Recreation Area', u'Cuyahoga Valley National Park', u'Cahokia Mounds State Historic Site', u'Glen Canyon National Recreation Area', u'Apalachicola National Forest', u'Mammoth Spring (Arkansas)', u'Land Between the Lakes National Recreation Area', u'Ocala National Forest', u'Big Bend (California)', u'Boundary Waters', u'Kentucky Dam Village State Resort Park', u'Cumberland Gap National Historical Park', u'Cape Cod National Seashore', u'Brown County State Park', u'Cooke City', u'Little Missouri National Grasslands', u'Lake County (Florida)', u'City of Rocks National Reserve', u'Mountain View (Missouri)', u'Tahquamenon Falls', u'Okefenokee National Wildlife Refuge', u'Chillicothe (Ohio)', u'Biscayne National Park', u'Poudre Park', u'Frostproof', u'Bushkill Falls', u'Blue Spring', u'Isle Royale National Park', u'Olympic National Park', u'Yuba Lake State Park', u'South Dakota', u'Bear Butte State Park', u'Glacier National Park', u'Kenai Fjords National Park', u'Yellowstone Country', u'Natural Bridge State Park', u'El Portal', u'Mammoth Cave National Park', u'Highlands (Maine)', u'Oconee National Forest', u'Delaware County (New York)', u'Osceola National Forest', u'White Mountain National Forest', u'Glacier Bay National Park', u'Charlestown State Park', u'Everglades National Park', u'Yosemite West', u'Juneau', u'Flaming Gorge National Recreation Area', u'Lake Alfred', u'Catoctin Mountain Park', u'Lake Barkley', u'Gulf Islands National Seashore', u'Dundee (Florida)', u'Lake Wales', u'Seminole County (Florida)', u'Devils Fork State Park', u'Itasca State Park', u'Opal Creek', u'Buffalo National River', u'Pine Barrens', u'Kentucky', u'Lincoln Boyhood National Memorial', u'Smith Rock State Park', u'Manteca', u'Cachuma Lake Recreation Area', u'Deadhorse', u'Southeastern Alaska', u'Green Ridge State Forest', u'Lorain County', u'Crystal River', u'Shades State Park', u'Turkey Run State Park', u'Green Mountains', u'Waldo Lake', u'Horicon Marsh', u'Sleeping Bear Dunes National Lakeshore', u'Virgin Islands National Park', u'Arctic Alaska', u'Daniel Boone National Forest', u'Gateway National Recreation Area', u'Salton Sea', u'Clifty Falls State Park', u'Ohiopyle', u'Big Sur', u'North Cascades National Park', u'Letchworth State Park', u'Carter Caves State Resort Park', u'Mark Twain National Forest', u'Cumberland Falls State Resort Park', u'Emerald Bay State Park', u'Ketchikan', u'Indiana Dunes National Lakeshore', u'Oregon Dunes National Recreation Area', u'Burnet', u'Boston Harbor Islands', u'Palatka', u'DeLeon Springs']\n",
      "\n",
      "Cluster 1\n",
      "[u'Cambria (California)', u'Upland', u'San Gabriel Valley', u'Calistoga', u'McKittrick', u'Pasadena', u'Salinas', u'Blackstone', u'Brownsville (Texas)', u'Channel Islands (California)', u'Emeryville', u'Santa Clarita Valley', u'Monterey County', u'Buellton', u'Mesa', u'El Segundo', u'Paso Robles', u'Los Altos', u'Bakersfield', u'Contra Costa County', u'Cupertino', u'Fullerton', u'Lompoc', u'Anaheim', u'Wasco', u'Temecula', u'Southern California', u'Walnut Creek', u'Fresno', u'Malibu', u'North Coast (California)', u'Mission Viejo', u'Sonoma County', u'Leavenworth (Washington)', u'Topanga', u'Palo Alto', u'Murphys', u'Apple Valley (California)', u'Santa Barbara', u'Sonoma Valley', u'Guadalupe (California)', u'San Rafael', u'Costa Mesa', u'Humboldt County', u'Baker (California)', u'Sausalito', u'Mojave Desert', u'Port Angeles', u'Valdez', u'Maricopa', u'Arcata', u'Midland (Texas)', u'Scotts Valley', u'Santa Maria (California)', u'Mountain View (California)', u'Oceano', u'South Texas Plains', u'Daly City', u'Vista', u'Buttonwillow', u'Santa Ynez', u'Kern County', u'Orinda', u'Long Beach', u'Santa Rosa (California)', u'Madera', u'Central Coast (California)', u'Antelope Valley', u'Imperial County', u'San Diego County', u'San Fernando Valley', u'Jerome (Arizona)', u'Simi Valley', u'Pacific Grove', u'Mojave', u'Gold Country', u'Alameda', u'Fremont', u'Santa Monica', u'Davis (California)', u'Panama City (Florida)', u'Walla Walla', u'South San Francisco', u'Santa Cruz County', u'Barstow', u'Bay Area (California)', u'Carmel (California)', u'Ukiah', u'Ojai', u'Montecito', u'Carpinteria', u'Norfolk (Virginia)', u'Solvang', u'Ventura', u'McClellan', u'Santa Barbara County', u'Kings County', u'North Bay (Bay Area)', u'Sierra Vista', u'San Diego', u'Concord (California)', u'Primm', u'El Centro', u'Las Vegas (New Mexico)', u'Friday Harbor', u'Yuma', u'Belen', u'Mendocino County', u'Jenner', u'Avila Beach', u'Monroe (North Carolina)', u'California', u'Petaluma', u'Lakehead', u'Palmdale', u'Rachel', u'Healdsburg', u'Mill Valley', u'Aloha', u'Inland Empire', u'Palm Desert', u'San Luis Obispo', u'Fairfield (California)', u'San Jose (California)', u'Medford (New Jersey)', u'Myrtle Point', u'Newport Beach', u'Monterey Bay', u'Goleta', u'Nogales (Arizona)', u'Ventura County', u'Willits', u'Studio City', u'Carlsbad (California)', u'Pismo Beach', u'Martinez (California)', u'Taft', u'Monterey Park', u'Capitola', u'Fresno County', u'San Mateo', u'Amboy', u'Pescadero', u'Livermore', u'Stockton (California)', u'Presidio', u'Redondo Beach', u'San Luis Obispo County', u'Thousand Oaks', u'Ridgecrest', u'Camden (Maine)', u'Port Hueneme', u'Hayward', u'Garberville', u'Kishwaukee Valley', u'Peninsula (Bay Area)', u'Beverly Hills', u'Bernalillo', u'Moss Landing', u'San Leandro', u'Los Angeles', u'Playa del Rey', u'Riverside County', u'La Mirada', u'Berkeley (California)', u'Union City (California)', u'El Verano', u'Rohnert Park', u'North Hollywood', u'South Bay', u'Inglewood', u'San Benito County', u'Newark (California)', u'Tehachapi', u'Hanksville', u'Scottsdale (Arizona)', u'South Valley', u'Odessa (Texas)', u'San Francisco', u'Agoura Hills', u'Soledad', u'South Padre Island', u'Independence (California)', u'California Wine Country', u'Huntington Beach', u'Monterey (California)', u'McFarland', u'Sonoma', u'Seaside (California)', u'Morro Bay']\n",
      "\n",
      "Cluster 2\n",
      "[u'North Carolina Coastal Plain', u'Lopez Island', u'Monmouth County', u'Kauai', u'Brookhaven (town, New York)', u'Jersey Shore', u'Rio Grande Valley', u'Seaside Heights', u'Pinellas County', u'Naples (Florida)', u'Brenton Point State Park', u'Seabrook Island', u'Irvine', u'Sunset Beach', u'Matunuck', u'Bald Head Island', u'Palos Verdes', u'Assateague Island', u'Delray Beach', u'Jensen Beach', u'Mackinaw City', u'Catawba Island', u'Kennebunk', u'Ocean City (New Jersey)', u'Oahu', u'Brunswick (Maine)', u'Galveston', u'Corpus Christi', u'South Bay (Los Angeles County)', u'Saint John (Virgin Islands)', u'North Fork', u'Florida Panhandle', u'Scituate (Massachusetts)', u'Point Pleasant (New Jersey)', u'Pentwater', u'Lummi Island', u'Cape Cod', u'Harkers Island', u'Molokai', u'Key Biscayne', u'Lakeside (Ohio)', u'New Bedford', u'Coronado', u'Stuart', u'Watch Hill', u'North Shore (Oahu)', u'Gosnold', u'Woods Hole', u'Cedar Key', u'Mount Desert Island', u'Marina del Rey', u'Kapalua', u'Little Gasparilla Island', u'Kennebunkport', u'Daytona Beach Shores', u'New Smyrna Beach', u'Brookings-Harbor', u'Sandy Hook', u'Door County (Wisconsin)', u'Lincoln City', u'Apalachicola', u'Anacortes', u'Ortley Beach', u'Oregon Coast', u'Laguna Beach', u'Marathon (Florida)', u'Wildwood (New Jersey)', u'Gold Beach', u'Jamestown (Rhode Island)', u'Hingham', u'Daytona Beach', u'Honolulu', u'Winter Harbor', u'Wickford', u'Sandwich (Massachusetts)', u'Maine', u'Ocean Springs', u'Makawao', u'Sarasota', u'Kitty Hawk', u'Orlando', u'West Palm Beach', u'Cape May', u'North Kingstown', u'Sandusky', u'Eastham', u'Truro (Massachusetts)', u'Ocean City (Maryland)', u'Southwest Florida', u'Navarre Beach', u'West Tisbury', u'Northport (New York)', u'Waianae', u'Point Reyes National Seashore', u'Manasquan', u'Bourne', u'Palm Coast', u'Port St. Lucie', u'Miami Beach', u'Saint Croix', u'Chincoteague', u'Pawleys Island', u'New England', u'Swansboro', u'Big Pine Key', u'Bethany Beach', u'Key West', u'Emerald Isle', u'Westerly', u'U.S. Virgin Islands', u'Paia', u'Milton (Florida)', u'Destin', u'Marblehead (Massachusetts)', u'Depoe Bay', u\"Martha's Vineyard\", u'Orcas', u'Montauk', u'The Hamptons', u'Central Florida', u'Florida Keys', u'Fort Lauderdale', u'Narragansett', u'Plymouth (Massachusetts)', u'St. Augustine', u'Avalon', u'Wellfleet', u'Bay Shore', u'Bristol (Rhode Island)', u'Brevard County', u'Virginia Beach', u'Ormond Beach', u'South Haven', u'Newport (Rhode Island)', u'Red Wing', u'Hermosa Beach', u'Santa Cruz (California)', u'Toms River', u'Kailua-Kona', u'Atlantic Beach', u'DeLand', u'Kent Island', u'Sunny Isles Beach', u'Perdido Key', u'Falmouth (Massachusetts)', u'Ventnor (New Jersey)', u'Catalina Island', u'Captiva Island', u'Eastern Shore (Maryland)', u'Sheboygan', u'Amityville', u'Hawaii', u'Portland (Maine)', u'Sanibel Island', u'Hilo', u'Vinalhaven', u'Block Island', u'Warrenton', u'Ottawa County (Ohio)', u'Florence (Oregon)', u'Manistee', u'Hyannis', u'Long Beach (New York)', u'Florida', u'Long Branch (New Jersey)', u'Lake George', u'Cape Coral', u'Huntington (New York)', u'Long Beach Island', u'Fort Pierce', u'Dennis', u'Big Island', u'South Carolina', u'Atlantic City', u'Asbury Park', u'Treasure Coast', u'Boca Raton', u'Hollywood (Florida)', u'Dutch Island', u'Morehead City', u'Plainview (New York)', u'Coos Bay', u'Saint Thomas', u'Walt Disney World', u'Suffolk County (New York)', u'Haiku', u'Barrington (Rhode Island)', u'Oceanside', u'Phippsburg', u'Sea Ranch', u'Old Orchard Beach', u'Oxnard', u'Westhampton Beach', u'Keansburg', u'Nags Head', u'Long Island', u'Westside (Los Angeles County)', u'Stone Harbor', u'Hilton Head Island', u'Pensacola Beach', u'Tarpon Springs', u'Warwick (Rhode Island)', u'Gulf Shores', u'Mackinac Island', u'Panama City Beach', u'Rehoboth Beach', u'Nantucket', u'Myrtle Beach', u'Kiawah Island', u'Anchor Point', u'Homer', u'Gulfport', u'Coral Springs', u'Grants Pass', u'South Kingstown', u'Old Lyme', u'Moclips', u'Charleston (South Carolina)', u'Ocean Shores', u'Outer Banks', u'Islamorada', u'Tisbury', u'Deerfield Beach', u'Kihei', u'Marco Island', u'Quincy (Massachusetts)', u'Yarmouth (Massachusetts)', u'Pacific Beach', u'Grand Isle County', u'Gloucester (Massachusetts)', u'Cantonment', u'Maui', u'Crystal Coast', u'Ponce Inlet', u'Point Roberts', u'Rockaway Beach (Missouri)', u'Marshfield (Massachusetts)', u'Oak Island']\n",
      "\n",
      "Cluster 3\n",
      "[u'Arlington (Virginia)', u'Kensington', u'Boise', u'Duluth (Minnesota)', u'Woodinville', u'Hartford', u'Aurora (Colorado)', u'Montgomery', u'Charlottesville', u'New Brunswick (New Jersey)', u'Albany (New York)', u'East Bay', u'Iowa City', u'Mississippi Delta', u'Dublin (Ohio)', u'Auburn (Alabama)', u'Chicago', u'Grand Rapids', u'Jersey City', u'Alabama', u'Universal City', u'Camden (New Jersey)', u'Bronx', u'North Carolina', u'Palm Springs', u'Clarence', u'Reading (Pennsylvania)', u'Tampa', u'Cleveland', u'Mishawaka', u'Harrisburg', u'Rochester (New York)', u'Gastonia', u'Georgia (state)', u'Connecticut', u'Flint', u'Piedmont (North Carolina)', u'Madison', u'Lafayette (Louisiana)', u'Dallas', u'Cranston', u'Worcester (Massachusetts)', u'Ames', u'Polk City', u'Oxford (Ohio)', u'Tega Cay', u'Springfield (Massachusetts)', u'Weehawken', u'Indiana', u'El Paso', u'Atlanta', u'Quad Cities', u'Syracuse (New York)', u'Ithaca (Michigan)', u'Sunnyvale', u'Cuyahoga County', u'Lake Forest (Illinois)', u'Sacramento', u'Lansing (Michigan)', u'Columbia (South Carolina)', u'Media', u'Wheaton', u'Indiana (Pennsylvania)', u'Mississippi', u'Ludlow (Massachusetts)', u'Michigan', u'Hollywood', u'Falls Church', u'Philadelphia', u'Decatur (Georgia)', u'Oklahoma City', u'Decatur (Illinois)', u'Evergreen Park (Illinois)', u'Austin', u'Kansas', u'Huntsville (Alabama)', u'Iowa', u'Niagara Frontier', u'Washington County (Maryland)', u'Peoria (Illinois)', u'Riverside', u'Lincoln (Nebraska)', u'Upper Peninsula', u'Federal Way', u'Nashville', u'Kansas City', u'Culver City', u'Newark (New Jersey)', u'South Hadley', u'Milwaukee', u'Essex (Vermont)', u'Fredericksburg (Virginia)', u'Staten Island', u'Binghamton', u'Twin Falls', u'Greensboro', u'Beaver Falls (Pennsylvania)', u'Durham (North Carolina)', u'West Warwick', u'Omaha', u'Garland (Texas)', u'New Haven', u'Fox River Valley', u'Minot', u'Greater Boston', u'Coral Gables', u'Manalapan', u'Providence', u'Louisville', u'Cadillac', u'Piedmont (California)', u'Paterson', u'Chattanooga', u'Ashland (Ohio)', u'Illinois', u'Twin Cities', u'Texas', u'Wenatchee', u'Brookline', u'Fort Wayne', u'Takoma Park', u'East Lansing', u'Savannah', u'Newton', u'Fairfax County', u'Dubuque', u'Stillwater (Oklahoma)', u'Tucson', u'Rochester and Suburbs', u'Boston', u'Cambridge (Massachusetts)', u'Santa Clara (California)', u'Saint Cloud (Minnesota)', u'Champaign-Urbana', u'New Orleans', u'Langley (Washington)', u'Montgomery County (Maryland)', u'Research Triangle', u'Bluegrass Region', u'Tulsa', u'Minneapolis', u'White Plains', u'Knoxville', u'Portland (Oregon)', u'New York City', u'Oxford (Mississippi)', u'Guadalupe (Arizona)', u'Independence (Missouri)', u'Holland (Pennsylvania)', u'Raleigh', u'Pikesville', u'Clarksville (Tennessee)', u'Stone Mountain', u'Teaneck', u'Waltham', u'Cincinnati', u'Pittsburgh', u'Massachusetts', u'Sewanee', u'Baton Rouge', u'Kankakee', u'Manchester (New Hampshire)', u'Manhattan', u'Venice (California)', u'Bloomington-Normal', u'Oakland', u'West Hollywood', u'Lexington (Kentucky)', u'Charlotte', u'Seattle', u'Terre Haute', u'Metro New York', u'Wayne County (Ohio)', u'Birmingham (Alabama)', u'Utica', u'Berea (Kentucky)', u'Wheeling', u'Minnesota', u'Queens', u'Westchester (California)', u'Miami', u'Topeka', u'Gary', u'Chino', u'Buffalo', u'Charlton', u'Boroughs', u'Bethesda', u'Troy (Michigan)', u'Parkersburg', u'New York (state)', u'Lafayette (Indiana)', u'Chapel Hill', u'Shawnee', u'Saginaw', u'Bethlehem (Pennsylvania)', u'San Antonio', u'Chittenden County', u'Northern Ohio River Region', u'Frankfort (Kentucky)', u'Wisconsin', u'King County', u'Washington, D.C.', u'Tacoma', u'Washtenaw County', u'Brooklyn', u'Finger Lakes', u'Saint Paul', u'Joplin', u'Chicagoland', u'Somerville', u'Magnolia (Arkansas)', u'Saint Petersburg (Florida)', u'Stamford (Connecticut)', u'Natchitoches', u'Fort Knox', u'Houston', u'Union City (New Jersey)', u'Macon (Georgia)', u'McAllen', u'Eugene', u'Covington (Kentucky)', u'Greenville (Mississippi)', u'Detroit', u'Tempe', u'Royal Oak', u'Jacksonville', u'Baltimore']\n",
      "\n",
      "Cluster 4\n",
      "[u'Badlands National Park', u'Acadia National Park', u'Mount Rushmore National Memorial', u'Antelope Island', u'Snow Canyon State Park', u'Shawnee National Forest', u'Mount Carmel Junction', u'Saguaro National Park', u'Congaree National Park', u'Lava Beds National Monument', u'Devils Postpile National Monument', u'Zion National Park', u'Pipestone National Monument', u'Mount St. Helens', u'Theodore Roosevelt National Park', u'Blue Mounds State Park', u'Guadalupe Mountains National Park', u'Mono Lake', u'Denali National Park', u'Great Sand Dunes National Park', u'Gardiner (Montana)', u'Santa Monica Mountains National Recreation Area', u'Goosenecks State Park', u'Pyramid Lake', u'Big Basin Redwoods State Park', u'Valles Caldera National Preserve', u'Desert Hot Springs', u'Joshua Tree National Park', u'Pipe Spring National Monument', u'Wind Cave National Park', u'Mount Whitney', u'Casa Grande Ruins National Monument', u'Mount Rainier National Park', u'Cedar Breaks National Monument', u'Monument Valley', u'Crater Lake National Park', u'Great Smoky Mountains National Park', u'Santa Fe National Forest', u'Canyonlands National Park', u'Sequoia and Kings Canyon National Parks', u'Jewel Cave National Monument', u'Great Basin National Park', u'Chimney Rock National Historic Site', u'Rocky Mountain National Park', u'Pinnacles National Park', u'Bandelier National Monument', u'Carlsbad Caverns National Park', u'Channel Islands National Park', u'Arches National Park', u'Katmai National Park', u'Grand Teton National Park', u'Timpanogos Cave National Monument', u'Lyndon B. Johnson National Historical Park', u'Necedah', u'Shenandoah National Park', u'Western Utah', u'Bryce Canyon National Park', u'Mojave National Preserve', u'Maple Canyon', u'Craters of the Moon National Monument', u'Four Corners', u'Redwood National Park', u'Big Bend National Park', u'Cedar City', u'White Sands National Monument', u'Dinosaur National Monument', u'Canyon de Chelly National Monument', u'Goblin Valley State Park', u'Death Valley National Park', u'Palo Duro Canyon', u'Carrizo Plain National Monument', u'Grand Staircase-Escalante National Monument', u'Gates of the Arctic National Park', u'Black Canyon of the Gunnison National Park', u'Lassen Volcanic National Park', u'Petrified Forest National Park', u'Organ Pipe Cactus National Monument', u'Chiricahua National Monument', u'Devils Tower National Monument', u'Capitol Reef National Park', u'Black Hills National Forest', u'Anza-Borrego Desert State Park', u'Grand Canyon', u'Mesa Verde National Park', u'Hovenweep National Monument', u'Natural Bridges National Monument', u'Big Cypress National Preserve', u'Yellowstone National Park', u'Scotts Bluff National Monument', u'Coral Pink Sand Dunes State Park', u'Chaco Culture National Historical Park', u'Yosemite National Park', u'Agua Fria National Monument', u'Oregon Caves National Monument', u'El Malpais National Monument', u'Page']\n",
      "\n",
      "Cluster 5\n",
      "[u'Stonewall (Texas)', u'Delaware River Region', u'Stowe', u'Cooperstown', u'St. Louis (Michigan)', u'Barkhamsted', u'Bluemont', u'Bar Harbor', u'Saline (Michigan)', u'Plattsburgh', u'Mountlake Terrace', u'Columbus (Georgia)', u'Gainesville (Georgia)', u'Tunica', u'Libertyville', u'Forest Grove', u'Branson', u'Maplewood (New Jersey)', u'Pampa', u'Minuteman Missile National Historic Site', u'Loveland (Colorado)', u'Metairie', u'Erie County (Ohio)', u'Albia', u'Ohio', u'Fitchburg', u'Greenwood (Indiana)', u'Camp Hill', u'Mountainair', u'Gatlinburg', u'Saratoga Springs', u'Richmond (Kentucky)', u'Cut Bank', u'Monteagle', u'Mercer County (New Jersey)', u'Leominster (Massachusetts)', u'Okeechobee', u'Akron', u'LaPlace', u'Dutchess County', u'Fayetteville (Arkansas)', u'Big Rapids', u'West Hartford', u'Groveland (Massachusetts)', u'East Brunswick', u'Montville (New Jersey)', u'Fond du Lac', u'Irving', u'Palm City', u'Sioux Falls', u'Beaufort (North Carolina)', u'Connellsville', u'Hudson (Ohio)', u'Portsmouth (New Hampshire)', u'Bethel (Alaska)', u'Randolph (New Jersey)', u'Clay (West Virginia)', u'St. Tammany Parish', u'South Suburbs (Illinois)', u'State College', u'Corning (New York)', u'Bayonne (New Jersey)', u'Addison', u'Newport News', u'Montague', u'Fairfax (California)', u'Price (Utah)', u'Mobile', u'Ephraim (Utah)', u'Fort Worth', u'Branford', u'Grand Marais', u'Superior', u'Hamilton County (Ohio)', u'Evanston', u'Waterville (Maine)', u'Pennsville', u'Independence (Kansas)', u'Brenham', u'Owensboro', u'Campbellsville (Kentucky)', u'New Braunfels', u'Hazlettville', u'Bridgeville (Delaware)', u'Walworth County', u'Cinnaminson', u'Alleghenies and Susquehanna Valley', u'Cody', u'Crisfield', u'Hamilton (Massachusetts)', u'DeKalb', u'Stony Brook', u'Polk County (Florida)', u'Mount Vernon (Iowa)', u'Dothan', u'Ogden', u'Winter Park (Florida)', u'Edgeley', u'Benton (Kentucky)', u'McLean (Virginia)', u'Hopkins (Minnesota)', u'Columbus (Mississippi)', u'Harrisonburg', u'Kaunakakai', u'Lewisville', u'North Myrtle Beach', u'Winnemucca', u'Marlinton', u'Canton (Ohio)', u'French Gulch', u'Marblehead (Ohio)', u'Magdalena', u'Hudson County', u'Dodge City', u'Westfield (Indiana)', u'Chula Vista', u'Andover (Massachusetts)', u'Colstrip', u'Bennington', u'Jeffersonville (Indiana)', u'Elkins Park', u'Jackson Township (New Jersey)', u'Clermont County', u'West Bridgewater', u'Newport (Kentucky)', u'Hamden', u'Christiansted', u'Logan (West Virginia)', u'Atlantic County', u'Irvington', u'Hadley', u'Alamogordo', u'Fredericksburg (Texas)', u'Middletown (Ohio)', u'Indiantown', u'Dunmore', u'Jackson (New Hampshire)', u'East St. Louis', u'Bozeman', u'Harker Heights', u'Canaan', u'Potomac', u'Chatham (Massachusetts)', u'Winchester (Tennessee)', u'Fort Kent', u'Prairie du Sac', u'San Angelo', u'Big Timber', u'Eagle River (Alaska)', u'Greenfield (Massachusetts)', u'Gresham', u'Des Moines', u'Roseburg', u'Griffin', u'Newberg', u'College Park (Maryland)', u'Williamsburg', u'Elkins', u'Sumter County (Florida)', u'Danville (California)', u'Claremont (California)', u'Custer', u'Astoria', u'Sturgis', u'Bethany (West Virginia)', u'Missouri', u'Clinton (Connecticut)', u'Sackets Harbor', u'Bensalem', u'Stafford County', u'Montgomery County (Pennsylvania)', u'Fargo', u'Meadowlands', u'Great Barrington', u'Pittsfield', u'Trenton (Maine)', u'Western Finger Lakes', u'Hudson (New York)', u'Nassau County', u'Mount Sinai (New York)', u'Burrillville', u'Cape Canaveral', u'Hackettstown', u'Rural Montgomery County', u'Ravenna (Ohio)', u'Apple Valley (Minnesota)', u'Shaw Island', u'Douglas (Wyoming)', u'Hana', u'Sanford (Florida)', u'Rockland County', u'Norwood', u'Lima (Ohio)', u'Russell (Ohio)', u'Lakewood (California)', u'Rome (Georgia)', u'Seekonk', u'Langhorne', u'Fairbanks North Star Borough', u'Gaithersburg', u'Haddonfield', u'Lewistown (Pennsylvania)', u'Toledo (Ohio)', u\"Prince George's County\", u'Petersburg (Alaska)', u'Chester (Pennsylvania)', u'Sebring', u'Forgotten Coast', u'Fogelsville', u'Roseville (Michigan)', u'Russellville (Kentucky)', u'Put-in-Bay', u'Black Hawk', u'Pocatello', u'Telluride', u'Frostburg', u'Trumansburg (New York)', u'Greenville (South Carolina)', u'Slatington', u'Frankenmuth', u'Stratford (Connecticut)', u'Ocala', u'Hodgenville', u'Illinois Driftless Area', u'Port Townsend', u'Kannapolis', u'Oak Ridge', u'West Jefferson (North Carolina)', u'Black Mountain', u'Bridgewater (New Jersey)', u'Fairfield (Iowa)', u'Lake Arrowhead', u'Winter Park (Colorado)', u'Bowling Green (Ohio)', u'Charlevoix (Michigan)', u'Mount Pleasant (Utah)', u'Davidson', u'Nazareth (Pennsylvania)', u'Wyandotte (Michigan)', u'Rock County', u'Tyler', u'Bettendorf', u'King of Prussia', u'New Bern', u'Punxsutawney', u'New Ulm (Minnesota)', u'East Rutherford', u'Chelsea (Michigan)', u'Kingston (New York)', u'Harstine Island', u'Rexburg', u'Joliet', u'Aberdeen (Washington)', u'Alpharetta', u'Cave City', u'Milford (Connecticut)', u'Ellenville', u'Arcadia Wildlife Management Park', u'Anamoose', u'West Springfield (Massachusetts)', u'Kelleys Island', u'Kapolei', u'Poplar Bluff', u'Jekyll Island', u'Bowie', u'Fairmont (West Virginia)', u'Zanesville', u'Far North Suburbs (Illinois)', u'Escanaba', u'West Virginia', u'Purchase', u'Blythe', u'Piedmont (Georgia)', u'Solomons', u'Glenview', u'New Jersey', u'Maineville (Ohio)', u'Kalispell', u'Cookeville', u'Forks', u'Boulder City', u'Fort Lee', u'Lake County (Indiana)', u'Franklin County (Ohio)', u'Erie', u'Poteau', u'Quincy (Illinois)', u'Orange City-Alton', u'New Roads', u'Angel Fire', u'Hyde Park (New York)', u'Belgrade (Maine)', u'Hagerstown', u'Slidell', u'Manville (New Jersey)', u'Upper Falls (West Virginia)', u'Kalamazoo', u'Lebanon (Ohio)', u'Grand Forks', u'Little Diomede', u'Miami-Dade County', u'Bangor (Pennsylvania)', u'Merrick', u'Geauga County', u'North Shore (Minnesota)', u'Jefferson Parish', u'Prescott', u'Swedesboro', u'Mount Juliet', u'Springfield (Illinois)', u'Lahaina', u'Chautauqua', u'Smith Island', u'St. Michaels', u'Brownsville (Kentucky)', u'Altamonte Springs', u'Salisbury (Connecticut)', u'Moose Lake (Minnesota)', u'Sturbridge', u'Taunton (Massachusetts)', u'Plympton', u'Pawtucket', u'Charleston (West Virginia)', u'Corrales', u'Kingston (Rhode Island)', u'Windsor (New York)', u'Mountains and Lakes Country', u'Ashtabula', u'Malone (New York)', u'Prairies and Lakes', u'Laurel (Delaware)', u'Spearfish', u'Carver', u'Deming', u'Blue Hill (Maine)', u'Cicero (Indiana)', u'South Burlington', u'Idaho Springs', u'Tucumcari', u'Wallace (Idaho)', u'Delaware', u'Pearl', u'Wall (South Dakota)', u'Eau Claire (Wisconsin)', u'Cobden', u'East Haven', u'Winona', u'Asheville', u'Colorado National Monument', u'Amherst (Massachusetts)', u'Hermantown', u'Richwood (West Virginia)', u'Mount Pleasant (Michigan)', u'Bethpage', u'Oregon City', u'Hanover (Massachusetts)', u'Monmouth (Oregon)', u'Brownsville (Vermont)', u'Traverse City', u'Amarillo', u'Dobbs Ferry', u'Charm', u'Lake Buena Vista', u'Madrid (New Mexico)', u'Richmond (Rhode Island)', u'Chocorua', u'Kayenta', u\"O'Neill\", u'Two Rivers', u'Norwalk (Connecticut)', u'Largo (Florida)', u'Black Rock (Connecticut)', u'Port Charlotte', u'Richland', u'Kerhonkson', u'Cumberland (Maryland)', u'Highlands (North Carolina)', u'Calvert City', u'Amana Colonies', u'Berkeley Springs', u'Landisville', u'Princeton (West Virginia)', u'St. Ignace', u'Milan (Ohio)', u'Highland Park (Illinois)', u'Marietta (Ohio)', u'China (Maine)', u'Westfield (Massachusetts)', u'Spokane', u'Enfield (Connecticut)', u'Vienna (Virginia)', u'Alton (Illinois)', u'Geneseo', u'Cocoa Beach', u'Moline', u'Blaine', u'Frankfort (Michigan)', u'Fort Smith', u\"Coeur d'Alene\", u'Little Rock', u'Devils Lake', u'Hapeville', u'Bentonville', u'Pleasanton', u'Key Largo', u'Skagway', u'Idaho Falls', u'Olympia (Washington)', u'Granite City (Illinois)', u'Rawlins', u'Avon (Connecticut)', u'Dead Horse Point State Park', u'Florissant Fossil Beds National Monument', u'Ashaway', u'Katonah', u'Kinderhook', u'Trinity County', u'Stoughton (Wisconsin)', u'Alexandria (Virginia)', u'Moorhead', u'Lakeville (Massachusetts)', u'Alamosa', u'The Woodlands', u'Melbourne (Florida)', u'Belmont County (Ohio)', u'Erie Region', u'Lexington Park', u'Broken Arrow', u'Longview (Washington)', u'Fayetteville (West Virginia)', u'Circle', u'Overland Park', u'Springfield (Missouri)', u'Canandaigua', u'Medora', u'Highland Park (New Jersey)', u'Clarksdale', u'Aurora (Illinois)', u'Columbus', u'White Mountain', u'Dexter (Michigan)', u'Rudolph', u'Erick', u'Skylands', u'Vega (Texas)', u'Chesapeake Bay', u'Owatonna', u'Brandenburg (Kentucky)', u'Altus (Arkansas)', u'Bristol County (Rhode Island)', u'Denton', u'Bloomsburg', u'Lake of the Ozarks', u'Barrow (Alaska)', u'Scranton', u'Tarrytown', u'North Las Vegas', u'Porcupine Mountains', u'Athens (Alabama)', u'Woonsocket', u'London (Ohio)', u'Surfside (Texas)', u'Fishers', u'Chanhassen', u'Afton', u'Sherman (Texas)', u'Sandy Springs', u'Reston (Virginia)', u'Glen Cove', u'Leesburg', u'Little Compton', u'Momence', u'Richmond (Indiana)', u'Mesquite (Nevada)', u'Seward', u'Brookfields', u'Towson', u'Le Claire', u'Alma', u'Weston (West Virginia)', u'Bucyrus (Ohio)', u'Ardmore (Oklahoma)', u'Lancaster County', u'Portsmouth (Rhode Island)', u'Kent (Ohio)', u'Mansfield (Ohio)', u'Driftless Area', u'Ashland (Wisconsin)', u'Asheboro', u'Hot Springs (Arkansas)', u'Chilmark', u'Northtowns', u'Yellow Springs', u'Kemah', u'Jasper (Indiana)', u'Central Delaware', u'Eureka Springs', u'Wakefield (Massachusetts)', u'Annandale (Virginia)', u'Prince William County', u'Les Cheneaux Islands', u'Laurel Highlands', u'Lanesborough', u'Middleton (Massachusetts)', u'Wakefield (Rhode Island)', u'Vincennes', u'Springfield (Virginia)', u'Waterport', u'Washington (North Carolina)', u'Manassas', u'Jackson (Mississippi)', u'Mount Rainier (Maryland)', u'Somerset (Kentucky)', u'Kirkland', u'Henderson', u'Bay City (Texas)', u'Ann Arbor', u'York (Pennsylvania)', u'Capital District', u'Warren (Ohio)', u'Raton', u'Clinton (Washington)', u'Salt Lake City', u'Arrow Rock', u'Moab', u'Laramie', u'Brewster (Massachusetts)', u'Florida Gold Coast', u'Rock Island', u'Cowan', u'Hampton (Virginia)', u'Butler County (Ohio)', u'Cassadaga (Florida)', u'Winter Haven', u'East Rochester', u'Hopkinton (Rhode Island)', u'Limestone (Illinois)', u'Sumter', u'Washington (Illinois)', u'Middletown (Connecticut)', u'Sandusky County', u'Eminence', u'Freedom (Wisconsin)', u'Bismarck', u'Fort Davis', u'Orange Beach', u'Coventry (Rhode Island)', u'Henderson (Kentucky)', u'St. Clair Shores', u'Woodstock (New York)', u'Emmaus', u'West Memphis', u'Augusta (Georgia)', u'West Greenwich', u'Jefferson County (Ohio)', u'Oak Harbor', u'Fort Washington', u'Fayetteville (North Carolina)', u'Clifton (Texas)', u'Oswego', u'Bangor (Maine)', u'Roanoke', u'Cobb Island', u'Charlestown (Rhode Island)', u'Battle Creek (Michigan)', u'Harrison (Arkansas)', u'Ogunquit', u'Ulster County', u'Shickshinny', u'Angle Inlet', u'Murfreesboro', u'Richmond (California)', u'Chesapeake Beach', u'Glen Ellyn', u'Port Aransas', u'Sioux City', u'Burlington (Vermont)', u'El Paso (Illinois)', u'Alpine County', u'Rhode Island', u'Vermilion (Ohio)', u'High Point', u'North Conway', u'Clarksburg (West Virginia)', u'Mitchell (South Dakota)', u'Westport (New York)', u'Marlborough (Massachusetts)', u'Lorton', u'Kenai Peninsula', u'Rancho Cucamonga', u'Northeastern Utah', u'Croton-on-Hudson', u'Warren (Rhode Island)', u'San Bernardino', u'Racine', u'Findlay', u'Natchez', u'Jonesboro (Arkansas)', u'Delafield', u'Garrettsville', u'Saint Marys (Pennsylvania)', u'Haines', u'Kachemak Bay State Park', u'Ramona', u'Clifton Park', u'Wells (Nevada)', u'Beaver Island', u'Skaneateles', u'Holland (Massachusetts)', u'Oysterville', u'Madison (Indiana)', u'Waynesboro', u'Bradenton', u'Cairo (Illinois)', u'Petersham', u'Portage County', u'Swett', u'Huron (Ohio)', u'Dalton (Ohio)', u'Lewiston (New York)', u'Maryland', u'Kaloko-Honokohau National Historical Park', u'Williamstown (Massachusetts)', u'Hammond', u'Butte', u'Kerrville', u'Nashua (New Hampshire)', u'Delaware Valley', u'Middle Bass Island', u'Corydon', u'Cedar Falls', u'Bastrop', u'Middleburg', u'Shelter Island', u'Indianapolis', u'New Philadelphia', u'Valdosta', u'Phillipsburg (New Jersey)', u'Memphis', u'Newington', u'Baxter Springs', u'Marfa', u'Bryan-College Station', u'Leelanau Peninsula', u'Hattiesburg', u'New Hampshire', u'Oak Hill (West Virginia)', u'Severna Park', u'Hershey (Nebraska)', u'Cambridge (Maryland)', u'New London (Connecticut)', u'Newark (New York)', u'St. Louis', u'Tallahassee', u'Bowling Green (Kentucky)', u'Fairfield County (Ohio)', u'Gonzales', u'Fitzgerald', u'Saugatuck', u'Rochester (Indiana)', u'Edgartown', u'Grand Rivers', u'Emerald Coast', u'New Albany', u'Mount Washington (Massachusetts)', u'Moroni (Utah)', u'Spring City', u'Pine City', u'Montpelier', u'Newton (Iowa)', u'North Attleborough', u'Franklin Park', u'North Smithfield', u'Borger', u'Monett', u'Hull (Massachusetts)', u'Fremont (Ohio)', u'Manti', u'San Marcos (Texas)', u'Safety Harbor', u'East Peoria', u'Soap Lake', u'Hillsborough (North Carolina)', u'Manchester (Vermont)', u'Wadsworth', u'Jacksonville (Illinois)', u'Toledo (Oregon)', u'Cold Spring', u'Camdenton', u'La Conner', u'Garner State Park', u'Boardman', u'Stevenson', u'Lexington (Massachusetts)', u'Wichita Falls', u'Colorado Springs', u'Hampden County', u'Gillette', u'Copper Harbor', u'Collinsville (Illinois)', u'Pahrump', u'Burton (Texas)', u'Anderson Island', u'Storm Lake', u'Swartz Creek', u'Lawrence (Kansas)', u'Elizabethtown (Kentucky)', u'White Center', u'Morristown', u'Deerfield Township', u'Harrison (New York)', u'Ocean Grove', u'Beacon', u'Southbridge', u'Lawton (Oklahoma)', u'Sparta (Michigan)', u'Great Swamp National Wildlife Refuge', u'Danvers', u'Incline Village', u'Sutton (West Virginia)', u'Norman (Oklahoma)', u'Gladstone (Oregon)', u'Kenosha County', u\"Hooper's Island\", u'Evansville', u'Summersville', u'Youngstown (New York)', u'Cape Carteret', u'Gallup', u'Greenbelt', u'North Adams', u'Belzoni', u'Newport (North Carolina)', u'War Eagle', u'Corvallis (Oregon)', u'Tiffin', u'Yonkers', u'Georgetown (Texas)', u'Carroll County (Ohio)', u'Jacksonville (North Carolina)', u'Winterset', u'Antelope', u\"Lee's Summit\", u'Northwest Suburbs (Illinois)', u'Doraville', u'Imperial', u'Excelsior', u'Midway (Kentucky)', u'Oakland County', u'Rolla (Missouri)', u'Harpers Ferry', u'Fall River (Massachusetts)', u'Belle Mead', u'Stark County (Ohio)', u'Cumberland (Rhode Island)', u'Chautauqua County', u'Cumberland (Indiana)', u'Anamosa', u'Centreville (Fairfax County)', u'Dearborn', u'Winston-Salem', u'North Shore (Massachusetts)', u'Olney', u'Fort Meade', u'Lake Geneva (Wisconsin)', u'Wilkes-Barre', u'Upcountry South Carolina', u'Russell Cave National Monument', u'Carmel (Indiana)', u'Shell Knob', u'Gilbertsville', u'Mays Landing', u'Amherst (Virginia)', u'Hendersonville (North Carolina)', u'Sterling (Utah)', u'Ottertail', u'Putnam County (New York)', u'Wilton (Connecticut)', u'Willow Grove', u'Shelton (Washington)', u'Dayton', u'Northeast Kingdom', u'Lake Worth', u'Staunton (Virginia)', u'Billings', u'Kissimmee', u'Barnesville (Ohio)', u'Warren County (Ohio)', u'Springdale (Utah)', u'Spencer (Iowa)', u'Newark (Ohio)', u'Portsmouth (Ohio)', u'Shepherdstown', u'Milford-Miami Township', u'Lexington (Ohio)', u'Ashland (Oregon)', u'Bonners Ferry', u'Santaquin', u'Livingston (Montana)', u'Neillsville', u'Central New York', u'Arlington (Texas)']\n",
      "\n",
      "Cluster 6\n",
      "[u'Shirley', u'Murray (Kentucky)', u'Wayland', u'Salem (Massachusetts)', u'Lockport', u'Aleutian Islands', u'North Platte', u'Jamestown (California)', u'Sharpsburg', u'Ellsworth (Maine)', u'Post-war United States', u'Pomeroy', u'Disneyland', u'South Shore (Massachusetts)', u'Buena Park', u'Palmyra (New York)', u'Lubbock', u'Monticello (Illinois)', u'Amherst (New Hampshire)', u'Fairport (New York)', u'Ogdensburg', u'Stroud (Oklahoma)', u'Vandalia (Illinois)', u'Tiverton (Rhode Island)', u'Baldwin City', u'Deadwood', u'Pennsylvania', u'Mechanicsburg', u'Los Gatos', u'Chalmette', u'Richmond', u'Industrialization of the United States', u'Oxford (Pennsylvania)', u'North Country', u'Mid-Hudson and Catskills', u'Pensacola', u'Sleepy Hollow', u'Volusia County', u'Chicken', u'Cedar Point', u'Louisiana', u\"St. Mary's City\", u'Loudoun County (Virginia)', u'Lakeland', u'Ilwaco', u'Wilmington (Massachusetts)', u'McHenry County (Illinois)', u'Adirondacks', u'Ticonderoga', u'South (United States of America)', u'Forney', u'Bartow (Florida)', u'Pelham (New York)', u'Waldo County', u'Clayton (New York)', u'Shaker Heights', u'Saranac Lake', u'Fort Myers', u'Columbia (California)', u'Biloxi', u'Hyder', u'Nauvoo', u'Davenport', u'North Pittsburgh Region', u'Southern Maryland', u'North Pole (New York)', u'Custer Ghost Town', u'Spartanburg', u'Voyageurs National Park', u'Fidalgo Island', u'Childs', u'Colonial Williamsburg', u'Helvetia (West Virginia)', u'Galena (Kansas)', u'Early United States history', u'United States National Parks', u'San Juan Island', u'Darien Lake', u'Merrimack', u'Boring', u'Providence County', u'Bessemer City', u'Shinnston', u'Milledgeville', u'Miami (Oklahoma)', u'Beatty', u'Port Gibson', u'Sumas', u'Point Pleasant (West Virginia)', u'Appalachia', u'American Samoa', u'Oklahoma', u'Port Orange', u'Galena (Illinois)', u'Quanah', u'Busch Gardens Williamsburg', u'Peach Springs', u'Surry', u'Frontier Country', u'Ypsilanti', u'Seacoast (New Hampshire)', u'Easton (Pennsylvania)', u'Woodbury (New Jersey)', u'Sullivan County (New York)', u'Sitka', u'Monahans', u'Crestone', u'Fairview (Utah)', u'Lehigh Valley', u'Vicksburg', u'Sault Sainte Marie (Michigan)', u'Penns Grove', u'Virginia', u'Cornish (New Hampshire)', u'Hotchkiss', u'Massena', u'Lynchburg', u'Crawford County (Ohio)', u'Plentywood', u'Nevada City (Montana)', u'Saint Bernard Parish', u'Troy (New York)', u'Kanab', u'Gettysburg National Military Park', u'Shenandoah Valley', u'Allentown', u'Catskills', u'Hartford (Kentucky)', u'George Rogers Clark National Historical Park', u'Old West', u'Williston (North Dakota)', u'Essex (New York)', u'Oroville (California)', u'Wilmington (North Carolina)', u'Medicine Park', u'Acadiana', u'Tenney', u'Casper', u'Berryville', u'Scottsville (Kentucky)', u'Albany (Oregon)', u'Park City (Utah)', u'Provincetown', u'Green County', u'Crown Point (New York)', u'Lewiston (Idaho)', u'Delta (Colorado)', u'Hell (Michigan)', u'Waco', u'Silicon Valley', u'Arlington (Massachusetts)', u'Bardstown', u'Peabody', u'Welch (West Virginia)', u'Orleans County (New York)', u'Plaquemines Parish', u'Sutherland (Nebraska)', u'Bramwell (West Virginia)', u'New Castle (Delaware)', u'Quonset Point', u'Gloucester Courthouse', u'Franklin (Venango County)']\n",
      "\n",
      "Cluster 7\n",
      "[u'Huntingdon Valley', u'Grand Haven', u'River Vale', u'Woodstock (Connecticut)', u'Scarsdale', u'Wisconsin Dells', u'Framingham', u'Danbury', u'North Brunswick', u'Clarks Summit', u'Quakertown', u'Abington Township', u'Bergen County', u'River Edge', u'Pipestone', u'Pinehurst', u'Hickory', u'East Bridgewater', u'Amador County', u'Lanesboro', u'Conway (Arkansas)', u'Roseville (Minnesota)', u'New Milford', u'Delaware (Ohio)', u'Holland (Michigan)', u'Manteo', u'Rockville', u'Youngstown (Ohio)', u'New Hope', u'Rockville Centre', u'Largo (Maryland)', u'Ashtabula County', u'Lewisburg (West Virginia)', u'Dalton (Georgia)', u'Clarksville (Indiana)', u'Downingtown', u'Claymont', u'Kokomo', u'Foster', u'East Greenwich', u'Wyckoff', u'Camden (Delaware)', u'Ledyard (Connecticut)', u'Menlo Park', u'Big Bear Lake', u'Salisbury (Massachusetts)', u'Hialeah', u'Franklin (Michigan)', u'Naperville', u'Longmeadow', u'Guilford', u'Celebration', u'Yreka', u'Stoughton (Massachusetts)', u'Bluefield (West Virginia)', u'Shrewsbury (Pennsylvania)', u'Elizabeth City', u'Cherry Hill', u'Smithfield (Rhode Island)', u'Chino Hills', u'Havertown', u'Bethany (Connecticut)', u'Old Saybrook', u'White Sulphur Springs', u'Waupaca', u'Sewickley', u'Johnston (Rhode Island)', u'Somerset (Massachusetts)', u'Hoboken', u'Montgomery Township', u'Wilmington (Delaware)', u'Cornwall (Connecticut)', u'Hershey', u'Chestertown (Maryland)', u'Windsor (California)', u'Paducah', u'Milford (Massachusetts)', u'Kenosha', u'Sharon (Massachusetts)', u'Westwood (New Jersey)', u'Elizabeth', u'Keweenaw Peninsula', u'Lewes (Delaware)', u'Rockaway (New Jersey)', u'Newark (Delaware)', u'Dighton (Massachusetts)', u'Nutley', u'West Chester (Pennsylvania)', u'Parsippany', u'Princeton (North Carolina)', u'East Hanover', u'Lehighton', u'Petoskey', u'Norwich (Connecticut)', u'Somers (Connecticut)', u'Windsor (Connecticut)', u'Pound Ridge', u'Washington Crossing Historical Park', u'Yardley', u'Plymouth (Minnesota)', u'McComb', u'Milton (Massachusetts)', u'Arcadia (Michigan)', u'Bloomington (Indiana)', u'Geneva (New York)', u'Chadds Ford', u'Cedarburg', u'Franklin (Kentucky)', u'Edison', u'Madison (Connecticut)', u'Ellijay', u'Murphy', u'St. Charles (Missouri)', u'Paramus', u'Northfield (Minnesota)', u\"Peddler's Village\", u'Houghton-Hancock', u'Westchester County', u'Shamokin Dam', u'Blowing Rock', u'Northwest Ohio', u'Mystic (Connecticut)', u'Reading (Massachusetts)', u'Selinsgrove', u'Harwinton', u'Central Falls (Rhode Island)', u'Clinton (New Jersey)', u'West Grove', u'Fairmont (Minnesota)', u'Athens (Georgia)', u'Short Hills', u'Upper Darby', u'Blue Bell', u'Doylestown', u'Rindge', u'North Andover', u'Magnolia (Delaware)', u'Briarcliff Manor', u'Saugus', u'Princeton', u'Swansea (Massachusetts)', u'Houghton Lake', u'Oshkosh', u'Universal Orlando', u'Bay Harbor', u'Corinth (Mississippi)', u'Gainesville (Florida)', u'Pepin', u'Windsor (Vermont)', u'Norristown', u'Haverford Township', u'Greenwich (Connecticut)', u'Drexel Hill', u'Mansfield (Massachusetts)', u'Nine-County Region', u'Fredonia (New York)', u'Holmes County (Ohio)', u'Manchester (Connecticut)', u'Somerdale', u'Solebury', u'Ashland County (Ohio)', u'Waukegan', u'Kennett Square', u'West Windsor', u'Hockessin', u'Colts Neck', u'Bucks County', u'Factoryville', u'Newtown (Pennsylvania)', u'Georgetown (South Carolina)', u'Hellertown', u'Annapolis', u'Wellsboro', u'Tuscaloosa', u'South Windsor', u'Carbondale (Illinois)', u'Lancaster (Pennsylvania)', u'Rochester Hills', u'Glasgow (Kentucky)', u'Natick', u'Soldotna', u'Torrington (Connecticut)', u'Brevard', u'Brimfield', u'Jim Thorpe', u'Clarkston (Michigan)', u'Northampton (Massachusetts)', u'Orange County (California)', u'Noblesville', u'Metro Detroit', u'Bernardsville', u'Columbia (Missouri)', u'Aladdin', u'Rockford', u'Blacksburg', u'Bethel (Connecticut)', u'Starkville', u'Chantilly (Virginia)', u'Park Ridge (New Jersey)', u'Haworth (New Jersey)', u'Union (Union County)', u'Mount Dora', u'Doylestown (Ohio)', u'Byron (Minnesota)', u'Lake Ozark', u'Ridgewood', u'Napa Valley', u'Summit County (Ohio)', u'Fort Collins', u'Wooster', u'Rocky Hill', u'Athens (Ohio)', u'Somers', u'Ithaca (New York)']\n",
      "\n",
      "Cluster 8\n",
      "[u'La Quinta', u'Burney', u'Big Sky', u'Reno', u'Sandy', u'Western Nevada', u'Arizona', u'Inyo County', u'Las Vegas', u'Golden (Colorado)', u'Beaver Creek', u'Gould', u'Ozarks', u'Palisade', u'Northern Idaho', u'Sunriver (Oregon)', u'Mount Lemmon', u'Aspen', u'Window Rock', u'Cherokee', u'Nikiski', u'Southeast New Mexico', u'Kentucky Bourbon Distilleries Tours', u'Alta (Utah)', u'Magic Mountain', u'Mammoth Lakes', u'Ellicottville', u'Idyllwild', u'Mountain Home (Idaho)', u'Sandpoint', u'Silverton (Colorado)', u'Walker (Minnesota)', u'Torrey', u'Eastern Oregon', u'Navajo Nation', u'Espa\\xf1ola (New Mexico)', u'Rodeo', u'Taos', u'Choctaw Country', u'Paonia', u'Sun Valley (Idaho)', u'Cripple Creek', u'New Mexico', u'McCloud', u'Vernon (New Jersey)', u'Mount Hood', u'Klamath Falls', u'Lake Tahoe', u'Callahan (California)', u'Estes Park', u'Centralia (Pennsylvania)', u'Eastern Finger Lakes', u'Mount Bachelor', u'Wyoming', u'Rangeley', u'Grants', u'St. George (Utah)', u'Sedona', u'Laredo', u'Southeast Arizona', u'Colorado', u'Moscow (Idaho)', u'Idaho', u'Keene (New York)', u\"Colorado's Wine Country\", u'Sonora (California)', u'Northeast New Mexico', u'Mount Washington State Park', u'Pinecrest', u'Fairbanks', u'Buena Vista (Colorado)', u'Mayfield (Utah)', u'Glenwood Springs', u'Anchorage', u'Provo', u'Canyon Country', u'Front Range', u'Los Alamos', u'Arkansas', u'Texas Panhandle', u'Grand Traverse Bay Area', u'Whitefish', u'Farmington (New Mexico)', u\"Utah's Dixie\", u'Coldfoot', u'Flagstaff', u'Alaska', u'Vail', u'Denver', u'Lake Placid', u'Great Plains', u'Black Rock City', u'Mono County', u'Historic High Country', u'Northern Arizona', u'Nebraska', u'Manitou Springs', u'Copper Mountain', u'Loma Linda', u'Jemez Mountains', u'Central New Mexico', u'Joseph', u'Willamette Valley', u'Kennewick', u'Homewood', u'Georgetown (Colorado)', u'Grand Junction', u'Montrose (Colorado)', u'Southcentral Alaska', u'Vancouver (Washington)', u'Santa Fe (New Mexico)', u'Steamboat Springs', u'Tuolumne County', u'Dolores', u'Quincy (California)', u'Etna (California)', u'Rapid City', u'Great Falls (Montana)', u'Oregon', u'Oatman', u'Wiseman', u'Truth or Consequences', u'Southern Oregon', u'Medford (Oregon)', u'Silverton (Oregon)', u'Vermont', u'Jackpot', u'Lake Mead National Recreation Area', u'Nebraska Panhandle', u'Albuquerque', u'Mountain View (Arkansas)', u'Las Cruces', u'Wasatch Range', u'Boulder', u'Colorado City', u'Northwest New Mexico', u'Ironwood', u'Phoenix', u'Mount Baker', u'Bellingham (Washington)', u'Sisters', u'Carson City', u'Cuba (New Mexico)', u'Yakima', u'Logan (Utah)', u'Breckenridge (Colorado)', u'Laughlin', u'Missoula', u'South Lake Tahoe', u'Government Camp', u'Palouse (Washington)', u'Worcester Hills', u'Angeles National Forest', u'Nevada', u'North Central New Mexico', u'Poconos and Endless Mountains', u'Stanley (Idaho)', u'Niagara Falls (New York)', u'Tennessee', u'Chama (New Mexico)', u'Davenport (Florida)', u'Sangre de Cristo Mountains', u'Glennallen', u'Pojoaque', u'Abiquiu', u'Snoqualmie Pass', u'Bend', u'Bishop', u'Keystone (Colorado)', u'Salida (Colorado)', u'Jackman', u'Crawford (Nebraska)', u'Carlsbad (New Mexico)', u'Gunnison (Utah)', u'North Dakota', u'Graham', u'Ely (Nevada)', u'Lone Pine', u'Big Bend Country', u'Snowshoe', u'Keene (New Hampshire)', u'Inland (San Diego County)', u'Socorro', u'Durango (Colorado)', u'Ely (Minnesota)', u'Montana', u'Salem (Oregon)', u'Hood River', u'North Carolina Mountains', u'Wasilla', u'Silver City', u'Utah', u'Jackson (Wyoming)']\n",
      "\n",
      "Cluster 9\n",
      "[u'Whidbey Island', u'Manchester (Washington)', u'Waldron Island', u\"Ebey's Landing National Historical Reserve\", u'Olympic Peninsula', u'Kingston (Washington)', u'Belfair', u'Southworth (Washington)', u'Kitsap Peninsula', u'San Juan Islands', u'Port Orchard', u'Bainbridge Island', u'Poulsbo', u'Silverdale (Washington)', u'Longbranch', u'Fox Island (Washington)', u'Brownsville (Washington)', u'Puget Sound', u'Port Gamble', u'Stuart Island', u'Hansville (Washington)', u'Camano Island', u'Westport (Washington)', u'Olalla (Washington)', u'Indianola (Washington)', u'Gig Harbor', u'Key Center', u'Home (Washington)', u'Seabeck (Washington)', u'Bremerton', u'Sequim', u'Washington (state)', u'Union (Washington)', u'Lakebay', u'Purdy (Washington)']\n"
     ]
    }
   ],
   "source": [
    "start = time.time()\n",
    "doc_vectors = model.docvecs.doctag_syn0\n",
    "num_clusters = 10\n",
    "\n",
    "# Initalize a k-means object and use it to extract centroids\n",
    "print \"Running K means\"\n",
    "g = mixture.GMM(n_components=10)\n",
    "#kmeans_clustering = g()\n",
    "g.fit( doc_vectors )\n",
    "idx = g.predict(doc_vectors)\n",
    "\n",
    "# Get the end time and print how long the process took\n",
    "end = time.time()\n",
    "elapsed = end - start\n",
    "print \"Time taken for K Means clustering: \", elapsed, \"seconds.\"\n",
    "\n",
    "\n",
    "# Create a Word / Index dictionary, mapping each vocabulary word to\n",
    "# a cluster number\n",
    "word_centroid_map = dict(zip( model.docvecs.index2doctag, idx ))\n",
    "\n",
    "# Print the first ten clusters\n",
    "for cluster in xrange(0,10):\n",
    "    #\n",
    "    # Print the cluster number\n",
    "    print \"\\nCluster %d\" % cluster\n",
    "    #\n",
    "    # Find all of the words for that cluster number, and print them out\n",
    "    words = []\n",
    "    for i in xrange(0,len(word_centroid_map.values())):\n",
    "        if( word_centroid_map.values()[i] == cluster ):\n",
    "            words.append(word_centroid_map.keys()[i])\n",
    "    print words"
   ]
  },
  {
   "cell_type": "code",
   "execution_count": 161,
   "metadata": {
    "collapsed": false
   },
   "outputs": [
    {
     "data": {
      "text/plain": [
       "[(u'Yuba Lake State Park', 0.3783954381942749),\n",
       " (u'Pacifica', 0.37636709213256836),\n",
       " (u'Big Bend National Park', 0.36519914865493774),\n",
       " (u'The Colony', 0.35714513063430786),\n",
       " (u'South Bay', 0.3537178635597229),\n",
       " (u'Lubec', 0.34564393758773804),\n",
       " (u'Little Missouri National Grasslands', 0.34557855129241943),\n",
       " (u'Torrey', 0.342734158039093),\n",
       " (u'Peninsula (Bay Area)', 0.33998537063598633),\n",
       " (u\"Utah's Dixie\", 0.33856016397476196)]"
      ]
     },
     "execution_count": 161,
     "metadata": {},
     "output_type": "execute_result"
    }
   ],
   "source": [
    "model.docvecs.most_similar([model['hiking']])"
   ]
  },
  {
   "cell_type": "code",
   "execution_count": 136,
   "metadata": {
    "collapsed": false
   },
   "outputs": [
    {
     "data": {
      "text/plain": [
       "[(u'insignia', 0.5012222528457642),\n",
       " (u'greektown', 0.38461387157440186),\n",
       " (u'dine', 0.3843832015991211),\n",
       " (u'westin', 0.37954944372177124),\n",
       " (u'renaissance', 0.36343830823898315),\n",
       " (u'cranbrook', 0.3550088405609131),\n",
       " (u'omni', 0.3210248053073883),\n",
       " (u'imax', 0.3143271207809448),\n",
       " (u'mover', 0.31117814779281616),\n",
       " (u'atop', 0.3082394003868103)]"
      ]
     },
     "execution_count": 136,
     "metadata": {},
     "output_type": "execute_result"
    }
   ],
   "source": [
    "model.most_similar([model.docvecs['Metro Detroit']])"
   ]
  },
  {
   "cell_type": "code",
   "execution_count": 173,
   "metadata": {
    "collapsed": false,
    "scrolled": true
   },
   "outputs": [
    {
     "name": "stdout",
     "output_type": "stream",
     "text": [
      "K-medoid: For n_clusters = 2 The average silhouette_score is : 0.00735783\n",
      "GMM: For n_clusters = 2 The average silhouette_score is : 0.00626427\n",
      "K-medoid: For n_clusters = 3 The average silhouette_score is : 0.00631849\n",
      "GMM: For n_clusters = 3 The average silhouette_score is : 0.00598935\n",
      "K-medoid: For n_clusters = 4 The average silhouette_score is : 0.00556081\n",
      "GMM: For n_clusters = 4 The average silhouette_score is : 0.00713934\n",
      "K-medoid: For n_clusters = 5 The average silhouette_score is : 0.00519423\n",
      "GMM: For n_clusters = 5 The average silhouette_score is : 0.00306809\n",
      "K-medoid: For n_clusters = 6 The average silhouette_score is : 0.00435073\n",
      "GMM: For n_clusters = 6 The average silhouette_score is : 0.00165628\n",
      "K-medoid: For n_clusters = 7 The average silhouette_score is : 0.00385237\n",
      "GMM: For n_clusters = 7 The average silhouette_score is : -0.0193197136913\n",
      "K-medoid: For n_clusters = 8 The average silhouette_score is : 0.00347365\n",
      "GMM: For n_clusters = 8 The average silhouette_score is : -0.00287256\n",
      "K-medoid: For n_clusters = 9 The average silhouette_score is : 0.0031571\n",
      "GMM: For n_clusters = 9 The average silhouette_score is : 0.00509333\n",
      "K-medoid: For n_clusters = 10 The average silhouette_score is : 0.0029153\n",
      "GMM: For n_clusters = 10 The average silhouette_score is : -0.0167204320632\n",
      "K-medoid: For n_clusters = 11 The average silhouette_score is : 0.00302064\n",
      "GMM: For n_clusters = 11 The average silhouette_score is : -0.00237524\n",
      "K-medoid: For n_clusters = 12 The average silhouette_score is : 0.0028084\n",
      "GMM: For n_clusters = 12 The average silhouette_score is : -0.00756422\n",
      "K-medoid: For n_clusters = 13 The average silhouette_score is : 0.00241885\n",
      "GMM: For n_clusters = 13 The average silhouette_score is : 0.00389259\n",
      "K-medoid: For n_clusters = 14 The average silhouette_score is : 0.00209164\n",
      "GMM: For n_clusters = 14 The average silhouette_score is : -0.0175803427349\n",
      "K-medoid: For n_clusters = 15 The average silhouette_score is : 0.00192431\n",
      "GMM: For n_clusters = 15 The average silhouette_score is : -0.0125404\n",
      "K-medoid: For n_clusters = 16 The average silhouette_score is : 0.00167187\n",
      "GMM: For n_clusters = 16 The average silhouette_score is : 0.00365194\n",
      "K-medoid: For n_clusters = 17 The average silhouette_score is : 0.00163787\n",
      "GMM: For n_clusters = 17 The average silhouette_score is : -0.00567298\n",
      "K-medoid: For n_clusters = 18 The average silhouette_score is : 0.00140419\n",
      "GMM: For n_clusters = 18 The average silhouette_score is : -0.0024659\n",
      "K-medoid: For n_clusters = 19 The average silhouette_score is : 0.00117522\n",
      "GMM: For n_clusters = 19 The average silhouette_score is : 0.00186768\n",
      "K-medoid: For n_clusters = 20 The average silhouette_score is : 0.000993531\n",
      "GMM: For n_clusters = 20 The average silhouette_score is : 0.00545092\n",
      "K-medoid: For n_clusters = 21 The average silhouette_score is : 0.000878076\n",
      "GMM: For n_clusters = 21 The average silhouette_score is : 0.00562151\n",
      "K-medoid: For n_clusters = 22 The average silhouette_score is : 0.000852329\n",
      "GMM: For n_clusters = 22 The average silhouette_score is : -0.000857388\n",
      "K-medoid: For n_clusters = 23 The average silhouette_score is : 0.0006638\n",
      "GMM: For n_clusters = 23 The average silhouette_score is : 0.00540861\n",
      "K-medoid: For n_clusters = 24 The average silhouette_score is : 0.000702445\n",
      "GMM: For n_clusters = 24 The average silhouette_score is : 0.00209171\n",
      "K-medoid: For n_clusters = 25 The average silhouette_score is : 0.000630955\n",
      "GMM: For n_clusters = 25 The average silhouette_score is : 0.0057196\n",
      "K-medoid: For n_clusters = 26 The average silhouette_score is : 0.000489307\n",
      "GMM: For n_clusters = 26 The average silhouette_score is : 0.00258572\n",
      "K-medoid: For n_clusters = 27 The average silhouette_score is : 0.00170226\n",
      "GMM: For n_clusters = 27 The average silhouette_score is : 0.00923573\n",
      "K-medoid: For n_clusters = 28 The average silhouette_score is : 0.00182394\n",
      "GMM: For n_clusters = 28 The average silhouette_score is : 0.0105657\n",
      "K-medoid: For n_clusters = 29 The average silhouette_score is : 0.00238616\n",
      "GMM: For n_clusters = 29 The average silhouette_score is : 0.00506591\n",
      "K-medoid: For n_clusters = 30 The average silhouette_score is : 0.0022639\n",
      "GMM: For n_clusters = 30 The average silhouette_score is : -0.00330934\n",
      "K-medoid: For n_clusters = 31 The average silhouette_score is : 0.00217405\n",
      "GMM: For n_clusters = 31 The average silhouette_score is : 0.00550474\n",
      "K-medoid: For n_clusters = 32 The average silhouette_score is : 0.00159987\n",
      "GMM: For n_clusters = 32 The average silhouette_score is : 0.00458568\n",
      "K-medoid: For n_clusters = 33 The average silhouette_score is : 0.00149848\n",
      "GMM: For n_clusters = 33 The average silhouette_score is : 0.00807913\n",
      "K-medoid: For n_clusters = 34 The average silhouette_score is : 0.00135259\n",
      "GMM: For n_clusters = 34 The average silhouette_score is : 0.00476615\n",
      "K-medoid: For n_clusters = 35 The average silhouette_score is : 0.00110543\n",
      "GMM: For n_clusters = 35 The average silhouette_score is : 0.0042814\n",
      "K-medoid: For n_clusters = 36 The average silhouette_score is : 0.00111588\n",
      "GMM: For n_clusters = 36 The average silhouette_score is : 0.00372258\n",
      "K-medoid: For n_clusters = 37 The average silhouette_score is : 0.000992533\n",
      "GMM: For n_clusters = 37 The average silhouette_score is : -0.0137471\n",
      "K-medoid: For n_clusters = 38 The average silhouette_score is : 0.000917015\n",
      "GMM: For n_clusters = 38 The average silhouette_score is : -0.000731836\n",
      "K-medoid: For n_clusters = 39 The average silhouette_score is : 0.000832178\n",
      "GMM: For n_clusters = 39 The average silhouette_score is : -0.0091125\n",
      "K-medoid: For n_clusters = 40 The average silhouette_score is : 0.000795949\n",
      "GMM: For n_clusters = 40 The average silhouette_score is : 9.63017e-05\n",
      "K-medoid: For n_clusters = 41 The average silhouette_score is : 0.000693602\n",
      "GMM: For n_clusters = 41 The average silhouette_score is : -0.00774586\n",
      "K-medoid: For n_clusters = 42 The average silhouette_score is : 0.000777377\n",
      "GMM: For n_clusters = 42 The average silhouette_score is : 0.000554273\n",
      "K-medoid: For n_clusters = 43 The average silhouette_score is : 0.00061835\n",
      "GMM: For n_clusters = 43 The average silhouette_score is : 0.00392796\n",
      "K-medoid: For n_clusters = 44 The average silhouette_score is : 0.000536251\n",
      "GMM: For n_clusters = 44 The average silhouette_score is : -0.0218037\n",
      "K-medoid: For n_clusters = 45 The average silhouette_score is : 0.000427013\n",
      "GMM: For n_clusters = 45 The average silhouette_score is : -0.0122427\n",
      "K-medoid: For n_clusters = 46 The average silhouette_score is : 0.000165693\n",
      "GMM: For n_clusters = 46 The average silhouette_score is : -0.0114413119424\n",
      "K-medoid: For n_clusters = 47 The average silhouette_score is : 0.000154998\n",
      "GMM: For n_clusters = 47 The average silhouette_score is : 0.00530868\n",
      "K-medoid: For n_clusters = 48 The average silhouette_score is : 0.000280335\n",
      "GMM: For n_clusters = 48 The average silhouette_score is : 0.0023121\n",
      "K-medoid: For n_clusters = 49 The average silhouette_score is : 0.000166344\n",
      "GMM: For n_clusters = 49 The average silhouette_score is : 0.00104127\n"
     ]
    }
   ],
   "source": [
    "from __future__ import print_function\n",
    "from sklearn import mixture\n",
    "from sklearn.datasets import make_blobs\n",
    "from sklearn.cluster import KMeans\n",
    "from sklearn.metrics import silhouette_samples, silhouette_score\n",
    "\n",
    "from k_medoids_ import KMedoids\n",
    "\n",
    "import matplotlib.pyplot as plt\n",
    "import matplotlib.cm as cm\n",
    "import numpy as np\n",
    "\n",
    "# Generating the sample data from make_blobs\n",
    "# This particular setting has one distict cluster and 3 clusters placed close\n",
    "# together.\n",
    "\n",
    "range_n_clusters = xrange(2,50)\n",
    "silscores_km = []\n",
    "silscores_gmm = []\n",
    "\n",
    "for n_clusters in range_n_clusters:\n",
    "    # Create a subplot with 1 row and 2 columns\n",
    "    #fig, (ax1, ax2) = plt.subplots(1, 2)\n",
    "    #fig.set_size_inches(18, 7)\n",
    "\n",
    "    # The 1st subplot is the silhouette plot\n",
    "    # The silhouette coefficient can range from -1, 1 but in this example all\n",
    "    # lie within [-0.1, 1]\n",
    "    #ax1.set_xlim([-0.1, 1])\n",
    "    # The (n_clusters+1)*10 is for inserting blank space between silhouette\n",
    "    # plots of individual clusters, to demarcate them clearly.\n",
    "    #ax1.set_ylim([0, len(model.docvecs.doctag_syn0) + (n_clusters + 1) * 10])\n",
    "    g = mixture.GMM(n_components=10)\n",
    "    #kmeans_clustering = g()\n",
    "    g.fit( model.docvecs.doctag_syn0 )\n",
    "    idx = g.predict(model.docvecs.doctag_syn0)\n",
    "    # Initialize the clusterer with n_clusters value and a random generator\n",
    "    # seed of 10 for reproducibility.\n",
    "    clusterer = KMedoids(n_clusters=n_clusters, random_state=10,distance_metric='cosine')\n",
    "    cluster_labels = clusterer.fit_predict(model.docvecs.doctag_syn0)\n",
    "\n",
    "    # The silhouette_score gives the average value for all the samples.\n",
    "    # This gives a perspective into the density and separation of the formed\n",
    "    # clusters\n",
    "    silhouette_avg = silhouette_score(model.docvecs.doctag_syn0,cluster_labels,metric='cosine')\n",
    "    silscores_km.append(silhouette_avg)\n",
    "    print(\"K-medoid: For n_clusters =\", n_clusters,\n",
    "          \"The average silhouette_score is :\", silhouette_avg)\n",
    "    \n",
    "    \n",
    "    silhouette_avg = silhouette_score(model.docvecs.doctag_syn0,idx,metric='cosine')\n",
    "    silscores_gmm.append(silhouette_avg)\n",
    "    print(\"GMM: For n_clusters =\", n_clusters,\n",
    "          \"The average silhouette_score is :\", silhouette_avg) "
   ]
  },
  {
   "cell_type": "code",
   "execution_count": 174,
   "metadata": {
    "collapsed": false
   },
   "outputs": [
    {
     "data": {
      "text/plain": [
       "<function matplotlib.pyplot.show>"
      ]
     },
     "execution_count": 174,
     "metadata": {},
     "output_type": "execute_result"
    },
    {
     "data": {
      "image/png": "[encoded data removed]",
      "text/plain": [
       "<matplotlib.figure.Figure at 0x120594e10>"
      ]
     },
     "metadata": {},
     "output_type": "display_data"
    }
   ],
   "source": [
    "plt.plot(range_n_clusters,silscores_gmm,label=\"gmm\")\n",
    "plt.plot(range_n_clusters,silscores_km,label=\"km\")\n",
    "plt.legend()\n",
    "plt.show"
   ]
  },
  {
   "cell_type": "code",
   "execution_count": 175,
   "metadata": {
    "collapsed": false
   },
   "outputs": [
    {
     "data": {
      "text/plain": [
       "0.01056572"
      ]
     },
     "execution_count": 175,
     "metadata": {},
     "output_type": "execute_result"
    }
   ],
   "source": [
    "max(silscores_gmm)"
   ]
  },
  {
   "cell_type": "code",
   "execution_count": 176,
   "metadata": {
    "collapsed": false
   },
   "outputs": [
    {
     "data": {
      "text/plain": [
       "26"
      ]
     },
     "execution_count": 176,
     "metadata": {},
     "output_type": "execute_result"
    }
   ],
   "source": [
    "silscores_gmm.index(max(silscores_gmm))"
   ]
  },
  {
   "cell_type": "code",
   "execution_count": 177,
   "metadata": {
    "collapsed": false
   },
   "outputs": [
    {
     "data": {
      "text/plain": [
       "28"
      ]
     },
     "execution_count": 177,
     "metadata": {},
     "output_type": "execute_result"
    }
   ],
   "source": [
    "range_n_clusters[26]"
   ]
  },
  {
   "cell_type": "code",
   "execution_count": 178,
   "metadata": {
    "collapsed": true
   },
   "outputs": [],
   "source": [
    "g = mixture.GMM(n_components=28)\n",
    "#kmeans_clustering = g()\n",
    "g.fit( model.docvecs.doctag_syn0 )\n",
    "idx = g.predict(model.docvecs.doctag_syn0)"
   ]
  },
  {
   "cell_type": "code",
   "execution_count": 182,
   "metadata": {
    "collapsed": true
   },
   "outputs": [],
   "source": [
    "import time"
   ]
  },
  {
   "cell_type": "code",
   "execution_count": 184,
   "metadata": {
    "collapsed": false,
    "scrolled": true
   },
   "outputs": [
    {
     "name": "stdout",
     "output_type": "stream",
     "text": [
      "Running GMM\n",
      "Time taken for K Means clustering:  9.09312105179 seconds.\n",
      "\n",
      "Cluster 0\n",
      "[u'Grand Haven', u'River Vale', u'Woodstock (Connecticut)', u'Rio Grande Valley', u'Seaside Heights', u'Wisconsin Dells', u'Danbury', u'North Brunswick', u'Quakertown', u'Abington Township', u'Fond du Lac', u'Sioux Falls', u'Bethel (Alaska)', u'Bergen County', u'Charlottesville', u'Palos Verdes', u'Branford', u'Superior', u'Aspen', u'New Milford', u'Delaware (Ohio)', u'Manteo', u'Rockville', u'Ocean City (New Jersey)', u'New Hope', u'Rockville Centre', u'Alabama', u'Largo (Maryland)', u'Corpus Christi', u'Claymont', u'Hamden', u'East Greenwich', u'Palm Springs', u'Tampa', u'Harrisburg', u'Camden (Delaware)', u'Walker (Minnesota)', u'Griffin', u'Mount Desert Island', u'Marina del Rey', u'Flint', u'Piedmont (North Carolina)', u'Big Bear Lake', u'Richmond', u'Fresno', u'Franklin (Michigan)', u'Naperville', u'Longmeadow', u'Celebration', u'Stoughton (Massachusetts)', u'Worcester (Massachusetts)', u'Bluefield (West Virginia)', u'Shrewsbury (Pennsylvania)', u'Elizabeth City', u'Cherry Hill', u'Murphy', u'Cedar Point', u'Vernon (New Jersey)', u'Bethany (Connecticut)', u'Lakeland', u'Old Saybrook', u'Mountain View (Arkansas)', u'Jamestown (Rhode Island)', u'Waupaca', u'Sewickley', u'Johnston (Rhode Island)', u'Klamath Falls', u'Hoboken', u'Lake Forest (Illinois)', u'Montgomery Township', u'Wilmington (Delaware)', u'Chestertown (Maryland)', u'Columbia (South Carolina)', u'Wheaton', u'Paducah', u'Milford (Massachusetts)', u'Westwood (New Jersey)', u'Elizabeth', u'Fort Lee', u'Keweenaw Peninsula', u'Lewes (Delaware)', u'Chincoteague', u'Rockaway (New Jersey)', u'Newark (Delaware)', u'Dighton (Massachusetts)', u'West Chester (Pennsylvania)', u'Parsippany', u'Decatur (Illinois)', u'Lehighton', u'Petoskey', u'Peoria (Illinois)', u'Winona', u'Lincoln (Nebraska)', u'Kansas City', u'South Hadley', u'Cumberland (Maryland)', u'Yardley', u'Norwich (Connecticut)', u'Milton (Massachusetts)', u'Colonial Williamsburg', u'Texas Panhandle', u'San Diego County', u'Greensboro', u'St. Augustine', u'Idaho Falls', u'Windsor (Connecticut)', u'Garland (Texas)', u'Cedarburg', u'Ormond Beach', u'Springfield (Missouri)', u'Walla Walla', u\"Peddler's Village\", u'Aurora (Illinois)', u'Westchester County', u'Blowing Rock', u'Emerald Isle', u'Takoma Park', u'Galena (Illinois)', u'Savannah', u'Toms River', u'Selinsgrove', u'Harwinton', u'West Grove', u'Athens (Georgia)', u'Short Hills', u'Yellow Springs', u'Grand Junction', u'Champaign-Urbana', u'Upper Darby', u'Sheboygan', u'Blue Bell', u'Portland (Maine)', u'Doylestown', u'Hilo', u'Tulsa', u'Woodbury (New Jersey)', u'North Andover', u'White Plains', u'Lake George', u'Sault Sainte Marie (Michigan)', u'Cape Coral', u'Saugus', u'Winter Haven', u'Princeton', u'Metro New York', u'Universal Orlando', u'Fayetteville (North Carolina)', u'Clarksville (Tennessee)', u'Corinth (Mississippi)', u'Teaneck', u'San Luis Obispo', u'San Jose (California)', u'Norristown', u'Medford (New Jersey)', u'Sewanee', u'Atlantic City', u'Haverford Township', u'Warren (Rhode Island)', u'Greenwich (Connecticut)', u'Baton Rouge', u'Hollywood (Florida)', u'Smithfield (Rhode Island)', u'Mansfield (Massachusetts)', u'Fredonia (New York)', u'Holmes County (Ohio)', u'Suffolk County (New York)', u'Somerdale', u'Barrington (Rhode Island)', u'Kennett Square', u'Houghton Lake', u'Hockessin', u'Colts Neck', u'Bucks County', u'Factoryville', u'Newtown (Pennsylvania)', u'Old Orchard Beach', u'Georgetown (South Carolina)', u'Annapolis', u'Wellsboro', u'Severna Park', u'South Windsor', u'Westhampton Beach', u'Keansburg', u'Carbondale (Illinois)', u'Lancaster (Pennsylvania)', u'Queens', u'North Smithfield', u'Hayward', u'Hilton Head Island', u'Warwick (Rhode Island)', u'Mackinac Island', u'Brimfield', u'Jim Thorpe', u'Clarkston (Michigan)', u'Northampton (Massachusetts)', u'Albany (Oregon)', u'Kiawah Island', u'Shawnee', u'Homer', u'Saginaw', u'Noblesville', u'Metro Detroit', u'Bernardsville', u'San Antonio', u'Columbia (Missouri)', u'Rockford', u'Blacksburg', u'Tacoma', u'Corvallis (Oregon)', u'Washtenaw County', u'Park Ridge (New Jersey)', u'Outer Banks', u'Haworth (New Jersey)', u'Somerville', u'Mount Dora', u'Ridgewood', u'Lake Geneva (Wisconsin)', u'Napa Valley', u'Salem (Oregon)', u'Sonoma', u'Tuscaloosa', u'Jacksonville', u'Ithaca (New York)']\n",
      "\n",
      "Cluster 1\n",
      "[u'Coral Gables', u'Coral Springs']\n",
      "\n",
      "Cluster 2\n",
      "[u'Delaware River Region', u'Wayland', u'Akron', u'Winooski', u'Hartford', u'St. Albans (Vermont)', u'Bayonne (New Jersey)', u'New Brunswick (New Jersey)', u'Foster City', u'East Bridgewater', u'Albany (New York)', u'Los Altos', u'Jersey City', u'Hudson County', u'Camden (New Jersey)', u'Bronx', u'Torrance', u'Nassau County', u'Cranston', u\"Prince George's County\", u'Woodbridge (New Jersey)', u'Moraga', u'Bridgewater (New Jersey)', u'Egg Harbor City', u'San Rafael', u'East Rutherford', u'Waco', u'Purchase', u'Manville (New Jersey)', u'Nutley', u'Decatur (Georgia)', u'East Hanover', u'Vallejo', u'Essex (Vermont)', u'Highland Park (Illinois)', u'Edison', u'Alameda', u'Avalon (New Jersey)', u'Roseville (California)', u'Providence', u'Piedmont (California)', u'Paterson', u'Barrow (Alaska)', u'Oak Park', u'Afton', u'Montgomery County (Maryland)', u'Amityville', u'La Crosse', u'Bridgeport (Connecticut)', u'Yuma', u'Long Beach (New York)', u'Middletown (Connecticut)', u'Holland (Pennsylvania)', u'East Point', u'Burlington (Vermont)', u'Manchester (New Hampshire)', u'Bradenton', u'San Mateo', u'Delaware Valley', u'Worcester Hills', u'New Hampshire', u'Birmingham (Alabama)', u'Alhambra (California)', u'Miami', u'Montclair', u'Gary', u'Albany (California)', u'San Leandro', u'Stamford (Connecticut)', u'Chautauqua County', u'Wilton (Connecticut)', u'Greenville (Mississippi)', u'Scotch Plains', u'Franklin (Venango County)']\n",
      "\n",
      "Cluster 3\n",
      "[u'Kauai', u'Jersey Shore', u'Arlington (Virginia)', u'Arizona', u'Boise', u'Duluth (Minnesota)', u'Ohio', u'Las Vegas', u'Pasadena', u'Disneyland', u'Chicago', u'Lubbock', u'Oahu', u'Southern California', u'North Carolina', u'Clarence', u'Pennsylvania', u'Cleveland', u'Rochester (New York)', u'Des Moines', u'Missouri', u'Connecticut', u'Apple Valley (Minnesota)', u'Dallas', u'Taos', u'Mid-Hudson and Catskills', u'Pensacola', u'Chicagoland', u'New Mexico', u'Indiana', u'Louisiana', u'El Paso', u'Atlanta', u'Quad Cities', u'Santa Barbara', u'Gold Beach', u'Honolulu', u'Sonoma Valley', u'Rhode Island', u'Wyoming', u'Sacramento', u'Maine', u'Adirondacks', u'West Palm Beach', u'Lansing (Michigan)', u'Mississippi', u'South (United States of America)', u'West Virginia', u'South Dakota', u'New Jersey', u'Port St. Lucie', u'Michigan', u'Miami Beach', u'Glacier National Park', u'Erie', u'New England', u'Colorado', u'Philadelphia', u'Idaho', u'Milwaukee', u'Oklahoma City', u'Austin', u'Kansas', u'Iowa', u'U.S. Virgin Islands', u'Delaware', u'Riverside', u'Davenport', u'Washington, D.C.', u'Delaware County (New York)', u'Nashville', u'Anchorage', u'Newark (New Jersey)', u'Block Island', u'Spokane', u'Bloomington (Indiana)', u'Los Alamos', u'Staten Island', u'Arkansas', u'Fort Lauderdale', u'Binghamton', u'Durham (North Carolina)', u'Omaha', u'New Haven', u'Alaska', u'Reno', u'Denver', u'Bay Area (California)', u'Black Rock City', u'Nebraska', u'Santa Cruz (California)', u'Illinois', u'Twin Cities', u'Texas', u'American Samoa', u'Oklahoma', u'East Lansing', u'Central New Mexico', u'Boston', u'New Orleans', u'Santa Fe (New Mexico)', u'Hawaii', u'Kentucky', u'San Diego', u'Big Bend National Park', u'Ann Arbor', u'Sullivan County (New York)', u'Minneapolis', u'Salt Lake City', u'El Centro', u'Portland (Oregon)', u'New York City', u'Oregon', u'Florida', u'California', u'Bismarck', u'Vermont', u'Raleigh', u'Virginia', u'Big Island', u'South Carolina', u'Cincinnati', u'Pittsburgh', u'Albuquerque', u'Massachusetts', u'Treasure Coast', u'Phoenix', u'Manhattan', u'Oakland', u'Walt Disney World', u'Lexington (Kentucky)', u'Charlotte', u'Seattle', u'Catskills', u'Maryland', u'Indianapolis', u'St. Louis', u'Niagara Falls (New York)', u'Tennessee', u'Minnesota', u'Nevada', u'Westside (Los Angeles County)', u'Pine City', u'Buffalo', u'New York (state)', u'Orange County (California)', u'Bethlehem (Pennsylvania)', u'Wisconsin', u'Los Angeles', u'Charleston (South Carolina)', u'Berkeley (California)', u'Brooklyn', u'North Dakota', u'Houston', u'Washington (state)', u'San Francisco', u'Wildwood (New Jersey)', u'Vicksburg', u'Montana', u'Maui', u'Crystal Coast', u'Detroit', u'Utah', u'Baltimore']\n",
      "\n",
      "Cluster 4\n",
      "[u'La Quinta', u'North Carolina Coastal Plain', u'Lopez Island', u'Bar Harbor', u'Forest Grove', u'Orcas Village', u'Manhattan Beach', u'Naples (Florida)', u'Brenton Point State Park', u'Gould', u'Cannon Beach', u'Seabrook Island', u'Sunset Beach', u'Beaufort (North Carolina)', u'Portsmouth (New Hampshire)', u'St. Tammany Parish', u'Morehead City', u'Bald Head Island', u'Rockland (Maine)', u'Gustavus', u'Delray Beach', u'Carolina Beach', u'Swansboro', u'Catawba Island', u'Sumter', u'Palmyra (New York)', u'DeKalb', u'Galveston', u'South Bay (Los Angeles County)', u'Havelock (North Carolina)', u'Glen Canyon National Recreation Area', u'Kaunakakai', u'Saint John (Virgin Islands)', u'Florida Panhandle', u'Mammoth Spring (Arkansas)', u'Point Pleasant (New Jersey)', u'Pentwater', u'Rockport (Texas)', u'Christiansted', u'Cape Cod', u'Harkers Island', u'Key Biscayne', u'Lakeside (Ohio)', u'Coronado', u'Topsail Beach', u'Sandpoint', u'Watch Hill', u'North Shore (Oahu)', u'Gosnold', u'Cedar Key', u'Little Gasparilla Island', u'Salisbury (Massachusetts)', u'Sackets Harbor', u'Kennebunkport', u'Daytona Beach Shores', u'Guilford', u'New Smyrna Beach', u'Hana', u'Monticello (Kentucky)', u'Polk City', u'Toledo (Ohio)', u'Petersburg (Alaska)', u'Keyport (Washington)', u'Edmonds', u'Forgotten Coast', u'Apalachicola', u'Anacortes', u'Put-in-Bay', u\"St. Mary's City\", u'Ortley Beach', u'Oregon Coast', u'Marathon (Florida)', u'Tahoe City', u'Port Townsend', u'Daytona Beach', u'Sandwich (Massachusetts)', u'Charlevoix (Michigan)', u'Sarasota', u'Watsonville', u'Kitty Hawk', u'Orlando', u'Cape May', u'Bushkill Falls', u'Blue Spring', u'Sandusky', u'Eastham', u'Truro (Massachusetts)', u'Ocean City (Maryland)', u'Saint George (Florida)', u'Southwest Florida', u'Solomons', u'Manasquan', u'Bourne', u'Palm Coast', u'Saint Croix', u'Pawleys Island', u'Toledo (Oregon)', u'Belgrade (Maine)', u'Sandy Hook', u'Scotts Valley', u'Boca Raton', u'Big Pine Key', u'Biloxi', u'Key West', u'Seaside (Oregon)', u'Point Pleasant Beach', u'Mystic (Connecticut)', u'Blue Hill (Maine)', u'Paia', u'Asheville', u'Oconee National Forest', u'Woods Hole', u'Rio Vista (California)', u'Coupeville', u'Southern Maryland', u'Black Rock (Connecticut)', u'Port Charlotte', u\"Martha's Vineyard\", u'Orcas', u'Montauk', u'The Hamptons', u'Central Florida', u'Florida Keys', u'China (Maine)', u'Arcadia (Michigan)', u'Jamaica Beach', u'Cocoa Beach', u'Frankfort (Michigan)', u'Narragansett', u'Plymouth (Massachusetts)', u'Key Largo', u'Dead Horse Point State Park', u'Avalon', u'Wellfleet', u'Stoughton (Wisconsin)', u'Juneau', u'Brevard County', u'Virginia Beach', u'South Haven', u'St. Charles (Missouri)', u'Newport (Rhode Island)', u'Panama City (Florida)', u'White Mountain', u'Hermosa Beach', u'Chesapeake Bay', u'Lake of the Ozarks', u'Mendocino', u'Surfside (Texas)', u'Kodiak', u'Lake Barkley', u'Port Orange', u'Seward', u'Redwood City', u'Atlantic Beach', u'Sunny Isles Beach', u'Perdido Key', u'Chilmark', u'Kemah', u'Eureka Springs', u'Ventnor (New Jersey)', u'Catalina Island', u'Cobb Island', u'Pensacola Beach', u'Mackinaw City', u'Captiva Island', u'Eastern Shore (Maryland)', u'Bluegrass Region', u'Casco Bay', u'Sanibel Island', u'Vinalhaven', u'Orleans (Massachusetts)', u'Roche Harbor', u'Warrenton', u'Clinton (Washington)', u'Winter Harbor', u'Florence (Oregon)', u'Friday Harbor', u'Manistee', u'Long Branch (New Jersey)', u'Jenner', u'Southeastern Alaska', u'Lakehead', u'Orange Beach', u'Lorain County', u'Crystal River', u'Bay Harbor', u'Dennis', u'Fairfield (California)', u'Chesapeake Beach', u'Freeport (Florida)', u'Willow (Alaska)', u'Cruz Bay', u'Dutch Island', u'Haines', u'Skaneateles', u'Saint Thomas', u'Haiku', u'Sea Ranch', u'Virgin Islands National Park', u'Gloucester (Massachusetts)', u'Pescadero', u'Shelter Island', u'Oxnard', u'Nags Head', u'Redondo Beach', u'Edgartown', u'St. Pete Beach', u'Stone Harbor', u'Monett', u'Port Hueneme', u'La Conner', u'Gulf Shores', u'Panama City Beach', u'Rehoboth Beach', u'Webster (Massachusetts)', u'Dry Tortugas National Park', u'Anderson Island', u'Boerne', u'Nantucket', u'Provincetown', u'Incline Village', u'Youngstown (New York)', u'Cape Carteret', u'Old Lyme', u'Playa del Rey', u'Sequim', u'Newport (North Carolina)', u'Islamorada', u'Tisbury', u'Waianae', u'Saint Petersburg (Florida)', u'Deerfield Beach', u'Fulton (Texas)', u'Kihei', u'Marco Island', u'Pacific Beach', u'Osterville', u'Shell Knob', u'South Padre Island', u'Cantonment', u'Ponce Inlet', u'Shelton (Washington)', u'Orleans County (New York)']\n",
      "\n",
      "Cluster 5\n",
      "[u'Glendale (Arizona)', u'McHenry County (Illinois)', u'Walworth County', u'Rock County', u'Far North Suburbs (Illinois)', u'Driftless Area', u'North County (San Diego County)', u'Kishwaukee Valley', u'Green County', u'Kenosha County', u'Northwest Suburbs (Illinois)']\n",
      "\n",
      "Cluster 6\n",
      "[u'Cooperstown', u'Salem (Massachusetts)', u'Aleutian Islands', u'North Platte', u'Sharpsburg', u'Pea Ridge', u'South Suburbs (Illinois)', u'Ellsworth (Maine)', u'Newport News', u'Ephraim (Utah)', u'Pomeroy', u'Amherst (New Hampshire)', u'Pipestone National Monument', u'Ogdensburg', u'Tiverton (Rhode Island)', u'Dodge City', u'Foster', u'Clermont County', u'Lummi Island', u'Indiantown', u'Los Gatos', u'Astoria', u'Industrialization of the United States', u'Oxford (Pennsylvania)', u'Shaw Island', u'Tega Cay', u'Springfield (Massachusetts)', u'Chester (Pennsylvania)', u'Bellevue (Nebraska)', u'Chicken', u'Apple Valley (California)', u'Mashpee', u'Pipe Spring National Monument', u'Mount Pleasant (Utah)', u'Utica', u'Centralia (Pennsylvania)', u'Media', u'Harstine Island', u'Aberdeen (Washington)', u'Anamoose', u'Ticonderoga', u'Forney', u'Bartow (Florida)', u'Pelham (New York)', u'Waldo County', u'Clayton (New York)', u'Minerva', u'Arcola (Illinois)', u'Shaker Heights', u'Saranac Lake', u'Cherry', u'Fort Myers', u'Columbia (California)', u'Sonora (California)', u'Malone (New York)', u'Hyder', u'Westerly', u'Canyon de Chelly National Monument', u'Wallace (Idaho)', u'Nauvoo', u'Mayfield (Utah)', u'North Pittsburgh Region', u'Amarillo', u'Longbranch', u'Chocorua', u'Spartanburg', u'Voyageurs National Park', u'Fidalgo Island', u'Marietta (Ohio)', u'Galena (Kansas)', u'San Juan Island', u'Fort Smith', u'Imperial County', u'Little Rock', u'Merrimack', u'Granite City (Illinois)', u'Jerome (Arizona)', u'Shirley', u'Boring', u'Bessemer City', u'Shinnston', u'Gold Country', u'Bristol (Rhode Island)', u'Post-war United States', u'Camano Island', u'Miami (Oklahoma)', u'Lake Alfred', u'Mandeville (Louisiana)', u'Beatty', u'Erick', u'New Bern', u'San Juan Bautista', u'Athens (Alabama)', u'London (Ohio)', u'Necedah', u'Ilwaco', u'Madrid (New Mexico)', u'Joseph', u'Dubuque', u'Lake Wales', u'Busch Gardens Williamsburg', u'Peach Springs', u'Deep Creek Lake', u'Surry', u'Dolores', u'Crestone', u'Fairview (Utah)', u'Cowan', u'Penns Grove', u'Oak Harbor', u'Gunnison (Utah)', u'Clifton (Texas)', u'Oswego', u'Bangor (Maine)', u'Jamestown (North Dakota)', u'Hotchkiss', u'Windsor (Vermont)', u'Westport (New York)', u'Barberton (Ohio)', u'Russell Cave National Monument', u'Colorado City', u'Plentywood', u'Nevada City (Montana)', u'Beaver Island', u'Goblin Valley State Park', u'Champlain and Rouses Point', u'Troy (New York)', u'Oysterville', u'Coos Bay', u'Ypsilanti', u'Petersham', u'Swett', u'Beulah', u'Baxter Springs', u'Old West', u'Oyster Bay', u'Bretton Woods', u'Hershey (Nebraska)', u'Essex (New York)', u'Fitzgerald', u'Emerald Coast', u'Wilmington (North Carolina)', u'Moroni (Utah)', u'Spring City', u'Elkhorn', u'Manti', u'Soap Lake', u'Southwest Wyoming', u'Hillsborough (North Carolina)', u'Medicine Park', u'Jacksonville (Illinois)', u'Tenney', u'Pahrump', u'Ocean Grove', u'Southbridge', u'Lawton (Oklahoma)', u'Hovenweep National Monument', u'Sutton (West Virginia)', u'Crown Point (New York)', u'Lewiston (Idaho)', u'Cape Charles', u'Delta (Colorado)', u'Scotts Bluff National Monument', u'Hanksville', u'Rutherford (California)', u'Anamosa', u'Fort Meade', u'Arlington (Massachusetts)', u'Sterling (Utah)', u'Independence (California)', u'Peabody', u'Sutherland (Nebraska)', u'Quonset Point', u'Bonners Ferry', u'Neillsville', u'Central New York']\n",
      "\n",
      "Cluster 7\n",
      "[u'West Jefferson (North Carolina)', u'Mountain City (Tennessee)', u'Damascus (Virginia)', u'Bristol (Tennessee-Virginia)']\n",
      "\n",
      "Cluster 8\n",
      "[u'Ashland City', u'Monmouth County', u'Waterville Valley', u'Maplewood (New Jersey)', u'Montville (New Jersey)', u'Lenox (Massachusetts)', u'Randolph (New Jersey)', u'Matunuck', u'Blackstone', u'Lubec', u'Montague', u'Princess Anne', u'Mount Snow', u'Crisfield', u'Hamilton (Massachusetts)', u'Stony Brook', u'Scituate (Massachusetts)', u'Bennington', u'Elkins Park', u'Hightstown', u'Atlantic County', u'Hadley', u'Charlestown (Rhode Island)', u'Jackson (New Hampshire)', u'Harker Heights', u'Madeline Island', u'Canaan', u'Mechanicsburg', u'Jenks', u'Fort Kent', u'Williston (Vermont)', u'Clinton (Connecticut)', u'Kent County (Rhode Island)', u'Deltaville', u'Great Barrington', u'Trenton (Maine)', u'Mount Sinai (New York)', u'Burrillville', u'Hackettstown', u'South Hero', u'Norwood', u'Choctaw Country', u'Seekonk', u'Langhorne', u'Haddonfield', u'Augusta (Maine)', u'Frostburg', u'Slatington', u'Stratford (Connecticut)', u'Wickford', u'Wyandotte (Michigan)', u'North Kingstown', u'Punxsutawney', u'Desert Hot Springs', u'Houma', u'Alpharetta', u'Arcadia Wildlife Management Park', u'Sturbridge', u'Northport (New York)', u'Rhinebeck', u'Rangeley', u'Swedesboro', u'Chautauqua', u'St. Michaels', u'Plympton', u'Pawtucket', u'The Forks', u'Washington County (Maryland)', u'Woodstock (Vermont)', u'Bethpage', u'Hanover (Massachusetts)', u'Whittier (California)', u'Little Compton', u'Marblehead (Massachusetts)', u'Richmond (Rhode Island)', u'Amana Colonies', u'Landisville', u'Enfield (Connecticut)', u'Blaine', u'Bull Shoals', u'Darien Lake', u'Waterville (Maine)', u'Pennsburg', u\"Sullivan's Island\", u'Providence County', u'Ashaway', u'Lakeville (Massachusetts)', u'Clark', u'Bristol County (Rhode Island)', u'Woonsocket', u'Ashland (Ohio)', u'Glen Cove', u'Brookfields', u'Sagamore', u'Lancaster County', u'Portsmouth (Rhode Island)', u'Rochester and Suburbs', u'Red Hook', u'Kent Island', u'Wakefield (Massachusetts)', u'Laurel Highlands', u'Wakefield (Rhode Island)', u'Southern Shores', u'Waterport', u'Pine Barrens', u'Seacoast (New Hampshire)', u'Somerset (Kentucky)', u'Bay City (Texas)', u'Canandaigua', u'Brewster (Massachusetts)', u'Magnolia (Delaware)', u'East Rochester', u'Hopkinton (Rhode Island)', u'Coventry (Rhode Island)', u'Long Beach Island', u'Woodstock (New York)', u'Aloha', u'Glocester', u'Brunswick (Georgia)', u'Waltham', u'Shickshinny', u'El Paso (Illinois)', u'Alpine County', u'North Conway', u'Clearfield (Pennsylvania)', u'Waitsfield', u'Drexel Hill', u'Willits', u'Clifton Park', u'Plainview (New York)', u'Holland (Massachusetts)', u'Alden', u'Solebury', u'Lewiston (New York)', u'Williamstown (Massachusetts)', u'Nevada (Ohio)', u'Phippsburg', u'Nashua (New Hampshire)', u'Trumbull', u'DeFuniak Springs', u'Gonzales', u'Colchester (Vermont)', u'Rochester (Indiana)', u'Mount Washington (Massachusetts)', u'Jefferson (Maine)', u'Camden (Maine)', u'Hull (Massachusetts)', u'Charlton', u'Hampton (New Hampshire)', u'Stony Point', u'Harrison (New York)', u'Herkimer', u'West Bridgewater', u'Freeport (Maine)', u'Gulfport', u'Gladstone (Oregon)', u\"Hooper's Island\", u'Carlisle (Massachusetts)', u'Waterboro (Maine)', u'South Kingstown', u'Middletown (Rhode Island)', u\"Lee's Summit\", u'Belle Mead', u'Cumberland (Indiana)', u'Manchester (Vermont)', u'Centreville (Fairfax County)', u'Olney', u'Lake Havasu City', u'Ottertail', u'Kent (Connecticut)', u'Willow Grove', u'Wyckoff']\n",
      "\n",
      "Cluster 9\n",
      "[u'Huntingdon Valley', u'Barkhamsted', u'West Greenwich', u'Saline (Michigan)', u'Barnesville (Ohio)', u'Columbus (Georgia)', u'Loveland (Colorado)', u'Metairie', u'Albia', u'Woodinville', u'Camp Hill', u'Lockport', u'Richmond (Kentucky)', u'Mercer County (New Jersey)', u'Clarks Summit', u'Ashland (Kentucky)', u'Hudson (Ohio)', u'Clay (West Virginia)', u'River Edge', u'Pipestone', u'Pinehurst', u'Aurora (Colorado)', u'Corning (New York)', u'Mobile', u'Amador County', u'Hamilton County (Ohio)', u'Lanesboro', u'Pennsville', u'Roseville (Minnesota)', u'North Canton', u'Brenham', u'Holland (Michigan)', u'Hazlettville', u'Bridgeville (Delaware)', u'Dublin (Ohio)', u'Alleghenies and Susquehanna Valley', u'South Shore (Massachusetts)', u'Youngstown (Ohio)', u'Monticello (Illinois)', u'Mount Vernon (Iowa)', u'Cape Girardeau', u'Brunswick (Maine)', u'Kentucky Bourbon Distilleries Tours', u'Lewisburg (West Virginia)', u'Dalton (Georgia)', u'Marlinton', u'Canton (Ohio)', u'Westfield (Indiana)', u'Downingtown', u'Colstrip', u'Kokomo', u'Jackson Township (New Jersey)', u'Logan (West Virginia)', u'Molokai', u'Baldwin City', u'New Bedford', u'Mountain Home (Idaho)', u'Bozeman', u'Potomac', u'Collinsville (Illinois)', u'Prairie du Sac', u'Gastonia', u'Greenfield (Massachusetts)', u'Roseburg', u'Newberg', u'Ledyard (Connecticut)', u'Elkins', u'Norton (Massachusetts)', u'Kapalua', u'Bethany (West Virginia)', u'Hialeah', u'Montgomery County (Pennsylvania)', u'Spring Grove (Minnesota)', u'Ravenna (Ohio)', u'Russell (Ohio)', u'Rome (Georgia)', u'Moorefield', u'Grand Island (Nebraska)', u'Fogelsville', u'Havertown', u'Metropolis', u'White Sulphur Springs', u'Frankenmuth', u'Ocala', u'Wilmington (Massachusetts)', u'Kannapolis', u'Black Mountain', u'Fairfield (Iowa)', u'Bowling Green (Ohio)', u'Ocean Springs', u'Nazareth (Pennsylvania)', u'Hershey', u'New Ulm (Minnesota)', u'Breckenridge (Minnesota)', u'Chelsea (Michigan)', u'Rexburg', u'Indiana (Pennsylvania)', u'West Springfield (Massachusetts)', u'Poplar Bluff', u'Fairmont (West Virginia)', u'Wilson', u'Ludlow (Massachusetts)', u'Escanaba', u'Salineville', u'Kenosha', u'Sharon (Massachusetts)', u'Maineville (Ohio)', u'Berwick (Pennsylvania)', u'Cookeville', u'Poteau', u'Quincy (Illinois)', u'Slidell', u'Lebanon (Ohio)', u'Bangor (Pennsylvania)', u'Jefferson Parish', u'Mount Juliet', u'London (Kentucky)', u'Smith Island', u'Munster (Indiana)', u'Bethany Beach', u'Salisbury (Connecticut)', u'Moose Lake (Minnesota)', u'Taunton (Massachusetts)', u'Huntsville (Alabama)', u'Kingston (Rhode Island)', u'Mountains and Lakes Country', u'Ashtabula', u'Prairies and Lakes', u'Carthage (Missouri)', u'Highlands (Maine)', u'Eau Claire (Wisconsin)', u'Bourbonnais', u'Cobden', u'East Haven', u'Carver', u'Amherst (Massachusetts)', u'Richwood (West Virginia)', u'New Castle (Delaware)', u'Traverse City', u'Charm', u'Pound Ridge', u'Two Rivers', u'Norwalk (Connecticut)', u'Washington Crossing Historical Park', u'Wayne (Pennsylvania)', u'Plymouth (Minnesota)', u'War Eagle', u'Berkeley Springs', u'Sykesville', u'McComb', u'Princeton (West Virginia)', u'Milan (Ohio)', u'Madera', u'Westfield (Massachusetts)', u'Helvetia (West Virginia)', u'Forsyth', u'Vienna (Virginia)', u'Geneseo', u'Geneva (New York)', u'Chadds Ford', u'Rohnert Park', u'Englewood (Florida)', u'Rawlins', u'Avon (Connecticut)', u'Madison (Connecticut)', u'Lexington Park', u'Longview (Washington)', u'Manalapan', u'Huntley', u'Northfield (Minnesota)', u'Highland Park (New Jersey)', u'Milledgeville', u'Clarksdale', u'Indianola (Mississippi)', u'Columbus', u'Dexter (Michigan)', u'Rudolph', u'Sebring', u'Shamokin Dam', u'Altus (Arkansas)', u'Bloomsburg', u'Port Gibson', u'Truman', u'Fishers', u'Point Pleasant (West Virginia)', u'Sandy Springs', u'Fort Wayne', u'Effingham', u'Weston (West Virginia)', u'Bucyrus (Ohio)', u'Central Falls (Rhode Island)', u'Orange City-Alton', u'McHenry (Maryland)', u'Mansfield (Ohio)', u'Fairmont (Minnesota)', u'DeLand', u'Ashland (Wisconsin)', u'Falmouth (Massachusetts)', u'Central Delaware', u'Langley (Washington)', u'Springfield (Virginia)', u'Washington (North Carolina)', u'Jackson (Mississippi)', u'Lincoln Boyhood National Memorial', u'Frontier Country', u'Rindge', u'Easton (Pennsylvania)', u'Sitka', u'Guadalupe (Arizona)', u'Swansea (Massachusetts)', u'Silverton (Oregon)', u'St. Clair Shores', u'Kidron', u'Emmaus', u'Oshkosh', u'Fort Washington', u'Jacksonville Beach', u'Tyler', u'Stone Mountain', u'Cornish (New Hampshire)', u'Gainesville (Florida)', u'Pepin', u'Massena', u'Sioux City', u'Winter Park (Florida)', u'Vermilion (Ohio)', u'High Point', u'Clarksburg (West Virginia)', u'Mitchell (South Dakota)', u'Marlborough (Massachusetts)', u'Lorton', u'Asbury Park', u'Kankakee', u'Edgeley', u'Ramona', u'Carlsbad (California)', u'Bloomington-Normal', u'Nine-County Region', u'Shenandoah Valley', u'Monterey Park', u'Waynesboro', u'Cairo (Illinois)', u'Manchester (Connecticut)', u'Steubenville', u'Huron (Ohio)', u'Waukegan', u'Bastrop', u'West Warwick', u'West Windsor', u'Middleburg', u'New Philadelphia', u'Valdosta', u'Lynchburg (Tennessee)', u'Hamilton (Ohio)', u'Hattiesburg', u'Hellertown', u'Oak Hill (West Virginia)', u'Berea (Kentucky)', u'New London (Connecticut)', u'Wheeling', u'Newark (New York)', u'Saugatuck', u'Rochester Hills', u'Montpelier', u'Newton (Iowa)', u'Fort Walton Beach', u'Safety Harbor', u'East Peoria', u'Natick', u'Tarpon Springs', u'Wadsworth', u'Chelmsford (Massachusetts)', u'Parkersburg', u'Camdenton', u'Knoxville', u'Soldotna', u'Torrington (Connecticut)', u'Brevard', u'Berthoud', u'Tupelo', u'Berryville', u'Sherman (Connecticut)', u'Storm Lake', u'Swartz Creek', u'Olathe (Kansas)', u'Kirkwood (Missouri)', u'Deerfield Township', u'Sparta (Michigan)', u'Danvers', u'Norman (Oklahoma)', u'Aladdin', u'Summersville', u'Bethel (Connecticut)', u'Starkville', u'Crawford (Nebraska)', u'Shepherdstown', u'Chantilly (Virginia)', u'Carroll County (Ohio)', u'Jacksonville (North Carolina)', u'Joplin', u'Union (Union County)', u'Magnolia (Arkansas)', u'Rolla (Missouri)', u'Natchitoches', u'Harpers Ferry', u'Doylestown (Ohio)', u'Byron (Minnesota)', u'Lake Ozark', u'Quincy (Massachusetts)', u'Dearborn', u'Winston-Salem', u'Wilkes-Barre', u'Carmel (Indiana)', u'Amherst (Virginia)', u'Hendersonville (North Carolina)', u'Hanover (Pennsylvania)', u'Bardstown', u'Welch (West Virginia)', u'Northeast Kingdom', u'Rocky Hill', u'Warren County (Ohio)', u'Bramwell (West Virginia)', u'Greeley', u'Newark (Ohio)', u'Portsmouth (Ohio)', u'Lexington (Ohio)', u'Oak Island', u'Santaquin', u'Gloucester Courthouse']\n",
      "\n",
      "Cluster 10\n",
      "[u'Nikiski', u'Anchor Point']\n",
      "\n",
      "Cluster 11\n",
      "[u'Burnet', u'Ross County', u'Erie County (Ohio)', u'Chula Vista', u'Framingham', u'Pinellas County', u'Antelope Island', u'Snow Canyon State Park', u'Great Falls (Virginia)', u'Shawnee National Forest', u'Skidaway Island', u'Ashtabula County', u'Marblehead (Ohio)', u'Ocala National Forest', u'Big Bend (California)', u'Blue Mounds State Park', u'Warm Springs (Oregon)', u'Sumter County (Florida)', u'Kentucky Dam Village State Resort Park', u'Douglas (Wyoming)', u'Little Missouri National Grasslands', u'Fairbanks North Star Borough', u'Rocky Gap State Park', u'Lake County (Florida)', u'Chino Hills', u'Hingham', u'Tahquamenon Falls', u'Chillicothe (Ohio)', u'Kelleys Island', u'Patapsco Valley State Park', u'Yuba Lake State Park', u'West Tisbury', u'Zanesville', u'Piedmont (Georgia)', u'Bear Butte State Park', u'Franklin County (Ohio)', u'Upper Falls (West Virginia)', u'Grand Forks', u'Miami-Dade County', u'Geauga County', u'Altamonte Springs', u'Natural Bridge State Park', u'Cicero (Indiana)', u'Saint Matthews', u'Flandrau State Park', u'Osceola National Forest', u'Goosenecks State Park', u'Alamosa', u'Belmont County (Ohio)', u'Medora', u'Catoctin Mountain Park', u'Scranton', u'Northwest Ohio', u'Seminole County (Florida)', u'Devils Fork State Park', u'Lanesborough', u'Ottawa County (Ohio)', u'Butler County (Ohio)', u'Athens (Ohio)', u'Sandusky County', u'Crawford County (Ohio)', u'Garrettsville', u'Waldo Lake', u'Portage County', u'Dalton (Ohio)', u'Ashland County (Ohio)', u'Kaloko-Honokohau National Historical Park', u'Middle Bass Island', u'George Rogers Clark National Historical Park', u'Chickasaw National Recreation Area', u'Fremont (Ohio)', u'Great Swamp National Wildlife Refuge', u'Frankfort (Kentucky)', u'Big Cypress National Preserve', u'North Adams', u'Carter Caves State Resort Park', u'Mark Twain National Forest', u'Cumberland Falls State Resort Park', u'Edgewood (Maryland)', u'Yarmouth (Massachusetts)', u'North Shore (Massachusetts)', u'Summit County (Ohio)', u'Oregon Dunes National Recreation Area', u'Wooster', u'Dayton', u'Boston Harbor Islands', u'DeLeon Springs']\n",
      "\n",
      "Cluster 12\n",
      "[u'Burney', u'Stowe', u'Big Sky', u'Branson', u'Sandy', u'Calistoga', u'Valley City (North Dakota)', u'Beaver Creek', u'Talkeetna', u'Big Rapids', u'Bridgeport (California)', u'Mount Carmel Junction', u'Ozarks', u'Northern Idaho', u'Palisade', u'Fairfax (California)', u'Price (Utah)', u'Mount Lemmon', u'Delaware Water Gap National Recreation Area', u'Oracle', u'Cody', u'Devils Postpile National Monument', u'Alta (Utah)', u'French Gulch', u'Mammoth Lakes', u'Ellicottville', u'Idyllwild', u'Provo Canyon', u'Cle Elum', u'Big Timber', u'Silverton (Colorado)', u'Eagle River (Alaska)', u'Torrey', u'Rodeo', u'Cooke City', u'Gardiner (Montana)', u'Sonoma County', u'Misty Fiords National Monument', u'McCloud', u'Murphys', u'Telluride', u'Mountain View (Missouri)', u'McCarthy', u'Lake Tahoe', u'Rutland (Vermont)', u'Monticello (Utah)', u'Winter Park (Colorado)', u'Poudre Park', u'Estes Park', u'The Colony', u'Turkey (Texas)', u'Sausalito', u'Mount Bachelor', u'Valdez', u'Grants', u'St. George (Utah)', u'Sedona', u'Wind Cave National Park', u'Angel Fire', u'Crested Butte', u'Moscow (Idaho)', u'Cedar Breaks National Monument', u'Keene (New York)', u'South Texas Plains', u'Lakewood (Colorado)', u'El Portal', u\"Colorado's Wine Country\", u'Cloudcroft', u'Mount Washington State Park', u'Pinecrest', u'Idaho Springs', u'Fairbanks', u'Ouray', u'Buena Vista (Colorado)', u'Glenwood Springs', u'Brownsville (Vermont)', u'Highlands (North Carolina)', u'Front Range', u'Devils Lake', u'Grand Traverse Bay Area', u'Whitefish', u'Yosemite West', u\"Utah's Dixie\", u'Chimney Rock National Historic Site', u'Vail', u'Flaming Gorge National Recreation Area', u'Mount Hood', u'Mono County', u'Historic High Country', u'Three Forks', u'Porcupine Mountains', u'Manitou Springs', u'Tahoe Vista', u'Copper Mountain', u'Harbor Springs', u'Kailua-Kona', u'Girdwood', u'Willamette Valley', u'Homewood', u'Maple Canyon', u'Itasca State Park', u'Opal Creek', u'Montrose (Colorado)', u'Southcentral Alaska', u'Steamboat Springs', u'Middlefield (Connecticut)', u'Smith Rock State Park', u'Manteca', u'Moab', u'Great Falls (Montana)', u'Cachuma Lake Recreation Area', u'Wiseman', u'Graham', u'Gunnison (Colorado)', u'Green Ridge State Forest', u'Southern Oregon', u'Medford (Oregon)', u'Eminence', u'Healdsburg', u'Harrison (Arkansas)', u'Lake Mead National Recreation Area', u'Nebraska Panhandle', u'Arapahoe Basin', u'Kenai Peninsula', u'Wasatch Range', u'Northeastern Utah', u'Ironwood', u'Davis (West Virginia)', u'Mount Baker', u'Saint Marys (Pennsylvania)', u'Bellingham (Washington)', u'Kachemak Bay State Park', u'Sisters', u'Kanab', u'Gettysburg National Military Park', u'Logan (Utah)', u'Breckenridge (Colorado)', u'Horicon Marsh', u'Missoula', u'South Lake Tahoe', u'Government Camp', u'Angeles National Forest', u'Poconos and Endless Mountains', u'Stanley (Idaho)', u'Grand Staircase-Escalante National Monument', u'Chama (New Mexico)', u'Red Lodge (Montana)', u'Sipsey Wilderness', u'Glennallen', u'Daniel Boone National Forest', u'Grand Coulee', u'Abiquiu', u'Stevenson', u'Lexington (Massachusetts)', u'Ohiopyle', u'Casper', u'Copper Harbor', u'Snoqualmie Pass', u'Park City (Utah)', u'Bend', u'Keystone (Colorado)', u'Washburn (Wisconsin)', u'Salida (Colorado)', u'Jackman', u'Carlsbad (New Mexico)', u'Finger Lakes', u'Lone Pine', u'Snowshoe', u'Inland (San Diego County)', u'Dalhart', u'Ellensburg', u'Durango (Colorado)', u'Eugene', u'Ely (Minnesota)', u'Hood River', u'Wasilla', u'Page', u'Livingston (Montana)', u'Jackson (Wyoming)']\n",
      "\n",
      "Cluster 13\n",
      "[u'Volusia County']\n",
      "\n",
      "Cluster 14\n",
      "[u'East Brunswick', u'Cinnaminson', u'Lincoln (Rhode Island)', u'North Attleborough', u'Boroughs', u'Union City (California)', u'Dover (New Jersey)']\n",
      "\n",
      "Cluster 15\n",
      "[u'Mason (Ohio)', u'Globe (Arizona)', u'Pleasant Hill', u'Upland', u'Redding', u'Tunica', u'San Gabriel Valley', u'Pittsburg (California)', u'Fitchburg', u'Golden (Colorado)', u'South Central Arizona', u'Leominster (Massachusetts)', u'LaPlace', u'Fayetteville (Arkansas)', u'West Hartford', u'Groveland (Massachusetts)', u'Irving', u'Irvine', u'Palm City', u'San Clemente', u'Montgomery', u'Owings Mills', u'Addison', u'Hackensack', u'Emeryville', u'Santa Clarita Valley', u'East Bay', u'Iowa City', u'Camden County (New Jersey)', u'Jensen Beach', u'Rockwall', u'Auburn (Alabama)', u'Kennebunk', u'Fairport (New York)', u'El Segundo', u'Paso Robles', u'Dothan', u'Bakersfield', u'Ogden', u'Universal City', u'Encinitas', u'Hopkins (Minnesota)', u'Falls Church', u'Contra Costa County', u'Harrisonburg', u'Magic Mountain', u'Lewisville', u'Ashburn (Virginia)', u'North Myrtle Beach', u'Colorado Springs', u'Newport (Kentucky)', u'Cupertino', u'San Joaquin Valley', u'Fullerton', u'Mamaroneck', u'Reading (Pennsylvania)', u'Pembroke Pines', u'Anaheim', u'Dunmore', u'Temecula', u'Winchester (Tennessee)', u'Lancaster (California)', u'Williamsburg', u'Georgia (state)', u'Danville (California)', u'Claremont (California)', u'Menlo Park', u'Corona', u'College Park (Maryland)', u'Walnut Creek', u'Bensalem', u'Stafford County', u'Fargo', u'Malibu', u'Pittsfield', u'La Ca\\xf1ada Flintridge', u'Madison', u'Yreka', u'Lafayette (Louisiana)', u'Willcox', u'Ames', u'Lakewood (California)', u'Mission Viejo', u'Gaithersburg', u'Artesia (California)', u'Palm Beach (Florida)', u'Lewistown (Pennsylvania)', u'Topanga', u'Weehawken', u'Palo Alto', u'Hapeville', u'Roseville (Michigan)', u'Mendocino County', u'Loudoun County (Virginia)', u'Laguna Beach', u'Oak Ridge', u'Cuyahoga County', u'Lake Arrowhead', u'Thornton', u'Davidson', u'Costa Mesa', u'Windsor (California)', u'Milford (Connecticut)', u'Bowie', u'Clemson', u'Glenview', u'Diamond Bar', u'Arcata', u'Hollywood', u'Burlingame', u'New Roads', u'Hagerstown', u'Merrick', u'Springfield (Illinois)', u'Miles City', u'Silver Spring', u'Fontana', u'Daly City', u'South Burlington', u'Mount Shasta', u'Puyallup', u'Milton (Florida)', u'Monmouth (Oregon)', u'Federal Way', u'Orinda', u'Lake Buena Vista', u'Muskegon', u'Beaverton', u'Culver City', u'Richland', u'Longview (Texas)', u'Pearl', u'Santa Rosa (California)', u'Anderson (California)', u'Antelope Valley', u'Twin Falls', u'San Fernando Valley', u'Beaver Falls (Pennsylvania)', u'Bentonville', u'Simi Valley', u'Alexandria (Virginia)', u'Fox River Valley', u'The Woodlands', u'Chandler (Arizona)', u'Fremont', u'Flagstaff', u'Maryville (Tennessee)', u'Santa Monica', u'Davis (California)', u'Greater Boston', u'Camarillo', u'Overland Park', u'Paramus', u'Solana Beach', u'South San Francisco', u'Cotati', u'Owatonna', u'North Las Vegas', u'Kearney (Nebraska)', u'Chanhassen', u'Loma Linda', u'Reston (Virginia)', u'Brookline', u'Reading (Massachusetts)', u'Newton', u'Towson', u'Lakewood (Ohio)', u'Farmington (Maine)', u'Fairfax County', u'Norfolk (Virginia)', u'Ardmore (Oklahoma)', u'Kennewick', u'Tysons Corner', u'Annandale (Virginia)', u'Saint Cloud (Minnesota)', u'Prince William County', u'Research Triangle', u'Ventura', u'Pikesville', u'Mount Rainier (Maryland)', u'Arcadia (California)', u'Kirkland', u'Concord (California)', u'Morgan Hill', u'Kaanapali', u'Downers Grove', u'Hampton (Virginia)', u'Huntington (New York)', u'Fairfax (Virginia)', u'Petaluma', u'Rogers (Arkansas)', u'Palmdale', u'Half Moon Bay', u'Mill Valley', u'West Bend', u'Fort Pierce', u'Augusta (Georgia)', u'Battle Creek (Michigan)', u'Inland Empire', u'Thomasville (North Carolina)', u'North Valley', u'Palm Desert', u'Middletown (Ohio)', u'Richmond (California)', u'Glen Ellyn', u'Rancho Cucamonga', u'Boulder', u'Jonesboro (Arkansas)', u'Pacific Palisades', u'McLean (Virginia)', u'Venice (California)', u'Studio City', u'Martinez (California)', u'Hudson (Wisconsin)', u'Santa Ana (California)', u'Yakima', u'West Hollywood', u'Lake City', u'Thousand Oaks', u'Capitola', u'Oceanside', u'Hammond', u'Cedar Falls', u'Wayne County (Ohio)', u'Memphis', u'University City (Missouri)', u'Bryan-College Station', u'Stockton (California)', u'Davenport (Florida)', u'Ridgecrest', u'Westchester (California)', u'San Marcos (Texas)', u'Bethesda', u'Colville', u'Redmond (Washington)', u'Kissimmee', u'Wichita Falls', u'Hampden County', u'Baltimore County', u'Peninsula (Bay Area)', u'Chapel Hill', u'Beverly Hills', u'Myrtle Beach', u'Lawrence (Kansas)', u'Morristown', u'King City', u'Chittenden County', u'Massapequa', u'Round Rock', u'Westminster (California)', u'La Mirada', u'Georgetown (Texas)', u'Germantown', u'Isle of Palms', u'Antelope', u'Doraville', u'North Hollywood', u'Inglewood', u'Imperial', u'Excelsior', u'Oakland County', u'Fall River (Massachusetts)', u'Scottsdale (Arizona)', u'South Valley', u'Agoura Hills', u'Silicon Valley', u'McAllen', u'Mays Landing', u'Killeen', u'Fort Collins', u'Marin County', u'Troy (Michigan)', u'Milford-Miami Township', u'Ashland (Oregon)', u'Tempe', u'Royal Oak', u'Westminster (Maryland)', u'Novato', u'Palatka', u'Arlington (Texas)']\n",
      "\n",
      "Cluster 16\n",
      "[u'Wilmington (New York)', u'Gainesville (Georgia)', u'Cut Bank', u'Wauchula', u'Big South Fork National Recreation Area', u'State College', u'Helen', u'Kailua', u'Grand Rapids', u'Door County (Wisconsin)', u'Columbus (Mississippi)', u'Vandalia (Illinois)', u'Chalmette', u'Watertown (New York)', u'North Country', u'Thurmont', u'Mi-Wuk Village', u'Trumansburg (New York)', u'Greenville (South Carolina)', u'Fort Bragg', u'Garner State Park', u'Glen Ellen', u'Navarre Beach', u'Kalispell', u'Destin', u'North Pole (New York)', u'Alton (Illinois)', u'Lajitas', u\"Coeur d'Alene\", u'Ellijay', u'Fayetteville (West Virginia)', u'Lake Placid', u'Cadillac', u'Skylands', u'Appalachia', u'Clinton (New Jersey)', u'Les Cheneaux Islands', u'Essex (Massachusetts)', u'Napa', u'Racine', u'Saint Bernard Parish', u'Jefferson (North Carolina)', u'Long Island', u'Abilene', u'Stillwater (Minnesota)', u'Dilworth', u'Ocean Shores', u'El Verano', u\"Hale'iwa\", u'Dahlonega', u'Upcountry South Carolina']\n",
      "\n",
      "Cluster 17\n",
      "[u'Cambria (California)', u'Salinas', u'Monterey County', u'Buellton', u'Ventura County', u'Lompoc', u'San Simeon', u'Guadalupe (California)', u'Maricopa', u'Oceano', u'Buttonwillow', u'Santa Ynez', u'Kern County', u'Central Coast (California)', u'Pacific Grove', u'Carpinteria', u'McKittrick', u'Santa Cruz County', u'Carmel (California)', u'Ojai', u'Montecito', u'Carmel Valley', u'Santa Barbara County', u'Kings County', u'Avila Beach', u'Monterey Bay', u'Goleta', u'Grover Beach', u'Pismo Beach', u'Fresno County', u'San Luis Obispo County', u'Moss Landing', u'South Bay', u'San Benito County', u'Tehachapi', u'Soledad', u'Monterey (California)', u'McFarland', u'Seaside (California)', u'Limestone (Illinois)', u'Morro Bay']\n",
      "\n",
      "Cluster 18\n",
      "[u'Badlands National Park', u'Acadia National Park', u'Ozark National Scenic Riverways', u'Inyo County', u'Chesapeake and Ohio Canal National Historical Park', u'Mount Rushmore National Memorial', u'Canaveral National Seashore', u'Assateague Island', u'Fire Island National Seashore', u'Saguaro National Park', u'Congaree National Park', u'Kenai Fjords National Park', u'Cuyahoga Valley National Park', u'Cahokia Mounds State Historic Site', u'Lava Beds National Monument', u'Zion National Park', u'Theodore Roosevelt National Park', u'Katmai National Park', u'Mount St. Helens', u'Land Between the Lakes National Recreation Area', u'Boundary Waters', u'Guadalupe Mountains National Park', u'Mono Lake', u'Eastern Oregon', u'Cumberland Gap National Historical Park', u'Cape Cod National Seashore', u'Denali National Park', u'Great Sand Dunes National Park', u'Santa Monica Mountains National Recreation Area', u'City of Rocks National Reserve', u'Big Basin Redwoods State Park', u'Okefenokee National Wildlife Refuge', u'Biscayne National Park', u'Isle Royale National Park', u'Olympic National Park', u'Point Reyes National Seashore', u'Joshua Tree National Park', u'Mount Whitney', u'Casa Grande Ruins National Monument', u'Mount Rainier National Park', u'Yellowstone Country', u'Monument Valley', u'Mammoth Cave National Park', u'Crater Lake National Park', u'Great Smoky Mountains National Park', u'Santa Fe National Forest', u'White Mountain National Forest', u'Canyonlands National Park', u'Sequoia and Kings Canyon National Parks', u'Glacier Bay National Park', u'Jewel Cave National Monument', u'United States National Parks', u'Great Basin National Park', u'Everglades National Park', u'Rocky Mountain National Park', u'Pinnacles National Park', u'Bandelier National Monument', u'Carlsbad Caverns National Park', u'Channel Islands National Park', u'Arches National Park', u'Grand Teton National Park', u'Timpanogos Cave National Monument', u'Lyndon B. Johnson National Historical Park', u'Shenandoah National Park', u'Jemez Mountains', u'Gulf Islands National Seashore', u'Bryce Canyon National Park', u'Mojave National Preserve', u'Tucson', u'Craters of the Moon National Monument', u'Buffalo National River', u'Four Corners', u'Redwood National Park', u'White Sands National Monument', u'Valles Caldera National Preserve', u'Shades State Park', u'Dinosaur National Monument', u'Green Mountains', u'Northwest New Mexico', u'Death Valley National Park', u'Palo Duro Canyon', u'Sleeping Bear Dunes National Lakeshore', u'Carrizo Plain National Monument', u'Apalachicola National Forest', u'North Central New Mexico', u'Oroville (California)', u'Gates of the Arctic National Park', u'Black Canyon of the Gunnison National Park', u'Lassen Volcanic National Park', u'Petrified Forest National Park', u'Sangre de Cristo Mountains', u'Gateway National Recreation Area', u'Salton Sea', u'Chiricahua National Monument', u'Devils Tower National Monument', u'Big Sur', u'Capitol Reef National Park', u'Black Hills National Forest', u'North Cascades National Park', u'Grand Canyon', u'Letchworth State Park', u'Mesa Verde National Park', u'Natural Bridges National Monument', u'Yellowstone National Park', u'Coral Pink Sand Dunes State Park', u'Chaco Culture National Historical Park', u'Ketchikan', u'Yosemite National Park', u'Indiana Dunes National Lakeshore', u'Agua Fria National Monument', u'Oregon Caves National Monument', u'El Malpais National Monument']\n",
      "\n",
      "Cluster 19\n",
      "[u'Clayton (New Mexico)', u'Brown County State Park', u'Charlestown State Park', u'Jefferson County (Ohio)', u'Turkey Run State Park', u'Clifty Falls State Park']\n",
      "\n",
      "Cluster 20\n",
      "[u'Goshen', u'Elkhart']\n",
      "\n",
      "Cluster 21\n",
      "[u'Whidbey Island', u'Manchester (Washington)', u'Waldron Island', u\"Ebey's Landing National Historical Reserve\", u'Olympic Peninsula', u'Kingston (Washington)', u'Belfair', u'Southworth (Washington)', u'Kitsap Peninsula', u'San Juan Islands', u'Bainbridge Island', u'Stuart Island', u'Poulsbo', u'Fox Island (Washington)', u'Brownsville (Washington)', u'Puget Sound', u'Purdy (Washington)', u'Port Gamble', u'Hansville (Washington)', u'Westport (Washington)', u'Olalla (Washington)', u'Indianola (Washington)', u'Gig Harbor', u'Port Orchard', u'Key Center', u'Home (Washington)', u'Seabeck (Washington)', u'Bremerton', u'Moclips', u'Union (Washington)', u'Lakebay']\n",
      "\n",
      "Cluster 22\n",
      "[u'Amenia (New York)', u'Scarsdale', u'Poughkeepsie', u'Dutchess County', u'Meriden (Connecticut)', u'Katonah', u'Irvington', u'Rockland County', u'Peekskill', u'Sleepy Hollow', u'Cortlandt', u'Kingston (New York)', u'Port Chester', u'Hyde Park (New York)', u'Chappaqua', u'Dobbs Ferry', u'Kinderhook', u'Tarrytown', u'Pleasantville (New York)', u'Elmsford', u'Croton-on-Hudson', u'Briarcliff Manor', u'Yorktown Heights', u'Ulster County', u'Orange County (New York)', u'Cold Spring', u'Beacon', u'Yonkers', u'Hastings-on-Hudson', u'Brookfield (Connecticut)', u'Somers']\n",
      "\n",
      "Cluster 23\n",
      "[u'Bluemont', u'Guerneville', u'Kensington', u'Mountlake Terrace', u'Greenwood (Indiana)', u'Sun Lakes-Dry Falls State Park', u'Forestville', u'Eastsound', u'Sunriver (Oregon)', u'Hickory', u'Grand Marais', u'Tiburon', u'Independence (Kansas)', u'Pampa', u'Wailuku', u'Stuart', u'Wasco', u'Chester (New York)', u'Rural Montgomery County', u'Brookings-Harbor', u'Paonia', u'Lincoln City', u'Vista', u'Pacifica', u'Callahan (California)', u'Frostproof', u'Cornwall (Connecticut)', u'Kapolei', u'Brattleboro', u'Weaverville (California)', u'Julian', u'Windsor (New York)', u'Princeton (North Carolina)', u'Silverdale (Washington)', u'Corrales', u'Laurel (Delaware)', u'Spearfish', u'Benton Harbor-Saint Joseph', u'Junction City (California)', u'Hermantown', u'Somers (Connecticut)', u'Depoe Bay', u'Roseau (Minnesota)', u'Port Washington (Wisconsin)', u'Childs', u'Elma', u'Dunsmuir', u'Palo Cedro', u'Conway (Arkansas)', u'Broken Arrow', u'Houghton-Hancock', u'Sherman (Texas)', u'Dundee (Florida)', u'Asheboro', u'Quanah', u'Bokoshe', u'Bixby', u'Quincy (California)', u'Etna (California)', u'Arrow Rock', u'Oatman', u'Monroe (North Carolina)', u'Washington (Illinois)', u'Freedom (Wisconsin)', u'White Center', u'Spring Green', u'Dorothy', u'Manassas', u'Myrtle Point', u'Marin Headlands', u'Delafield', u'Granville (Massachusetts)', u'Taft', u'Leelanau Peninsula', u'Rugby (North Dakota)', u'Warren (Ohio)', u'Franklin Park', u'Babb', u'Newport (Oregon)', u'Boardman', u'Duck', u'Gillette', u'Burton (Texas)', u'Grants Pass', u'Hell (Michigan)', u'Winterset', u'Palmer Lake', u'Keene (New Hampshire)', u'Bristol (Maine)', u'Sedro-Woolley', u'Grand Isle County', u'Plaquemines Parish', u'Rockaway Beach (Missouri)', u'Springdale (Utah)', u'Spencer (Iowa)', u'Beloit', u'Marshfield (Massachusetts)']\n",
      "\n",
      "Cluster 24\n",
      "[u'Warren County (New Jersey)', u'Nampa', u'St. Louis (Michigan)', u'Brookhaven (town, New York)', u'Osceola County (Florida)', u'Minnetonka', u'Burbank', u'Waterbury', u'Saratoga Springs', u'Danville (Illinois)', u'Salina (Kansas)', u'Chesapeake', u'Cicero', u'Brownsville (Texas)', u'Indio', u'Fort Worth', u'Waukesha', u'Evanston', u'Mount Vernon (Virginia)', u'Oberlin', u'Swarthmore', u'Cannon Falls', u'Arlington Heights', u'Cheyenne', u'Mesa', u'Polk County (Florida)', u'Frederick', u'Trenton', u'Delaware County (Pennsylvania)', u'Tybee Island', u'North Fork', u'Andover (Massachusetts)', u'Ardmore (Pennsylvania)', u'Victorville', u'Middlesex County (New Jersey)', u'East St. Louis', u'Delano', u'Mishawaka', u'Garrison', u'Gresham', u'Culpeper', u'Texarkana', u'Meadowlands', u'Vancouver (Washington)', u'Columbia (Maryland)', u'Calexico', u'Lafayette (Indiana)', u'Oxford (Ohio)', u'Elyria (Ohio)', u'Wichita', u'East Hampton', u'Beltsville', u'Syracuse (New York)', u'Cuyahoga Falls', u'Sunnyvale', u'Chico (California)', u'Woodbridge (Virginia)', u'Bettendorf', u'King of Prussia', u'Dover (New Hampshire)', u'Rhinelander', u'Port Angeles', u'Greenville (North Carolina)', u'Kalamazoo', u'Gurnee', u'Mountain View (California)', u'Prescott', u'Evergreen Park (Illinois)', u'Colma', u'Jefferson City', u'Rehoboth', u'Alliance (Ohio)', u'White River Junction', u'Millbrae', u'Merced', u'Oregon City', u'White Bear Lake', u'Woodstock (Illinois)', u'Linden (New Jersey)', u'Plano', u'Largo (Florida)', u'Tillamook', u'Provo', u'Fredericksburg (Virginia)', u'Long Beach', u'Issaquah', u'Wareham (Massachusetts)', u'Pleasanton', u'Northern Oregon Coast', u'Olympia (Washington)', u'Bay Shore', u'Minot', u'West Valley City', u'Potsdam (New York)', u'Louisville', u'Denton', u'Orem', u'Van Wert (Ohio)', u'Grapevine', u'Leesburg', u'Momence', u'Richmond (Indiana)', u'Sterling (Virginia)', u'Alma', u'Robinson Township', u'Stillwater (Oklahoma)', u'Kent (Ohio)', u'Cambridge (Massachusetts)', u'Santa Clara (California)', u'Antioch (California)', u'Shoreline', u'Middleton (Massachusetts)', u'Mansfield (Texas)', u'Mount Vernon (Washington)', u'Durham (New Hampshire)', u'Kansas City (Kansas)', u'Vero Beach', u'Cedar Rapids', u'Milford (New Hampshire)', u'Columbia Heights-Fridley', u'Hyannis', u'Rock Island', u'Hudson (New Hampshire)', u'Hampton Roads', u'Cary', u'South Orange', u'Independence (Missouri)', u'Oakley', u'Yountville', u'National Harbor', u'Roanoke', u'Eagan', u'Ogunquit', u'University Park', u'Johnson City (Tennessee)', u'Lynchburg', u'Pasco', u'Everett (Washington)', u'Castro Valley', u'Louisville (Ohio)', u'Bellows Falls', u'Winchester (Massachusetts)', u'Medina (Ohio)', u'Richfield (Minnesota)', u'Burien', u'Allentown', u'Glen Burnie', u'Michigan City', u'Moline', u'Tallahassee', u'Schenectady', u'Hermann', u'Stanton', u'Santa Clarita', u'Topeka', u'Hutchinson (Kansas)', u'Chino', u'Elizabethtown (Pennsylvania)', u'Loveland (Ohio)', u'Odon', u'Visalia', u'Lakeview (Oregon)', u'Shelbyville (Kentucky)', u'King County', u'Greenbelt', u'Belzoni', u'Hanover (New Hampshire)', u'Saint Paul', u'Newark (California)', u'Mount Vernon (New York)', u'Stark County (Ohio)', u'Sacramento Valley', u'San Ramon', u'Bellevue', u'Des Plaines', u'California Wine Country', u'Covington (Kentucky)', u'Green Bay', u'York (Pennsylvania)', u'Manteno', u'Altoona (Pennsylvania)', u'Rose Valley (Pennsylvania)', u'East Stroudsburg', u'SeaTac']\n",
      "\n",
      "Cluster 25\n",
      "[u'Stonewall (Texas)', u'Lanai', u'Plattsburgh', u'Clovis (New Mexico)', u'Libertyville', u'Western Nevada', u'Minuteman Missile National Historic Site', u'Mountainair', u'Gatlinburg', u'Monteagle', u'Okeechobee', u'Jamestown (California)', u'Connellsville', u'Window Rock', u'Channel Islands (California)', u'Mississippi Delta', u'Cherokee', u'New Braunfels', u'Weaverville (North Carolina)', u'Shreveport', u'Fairlee (Vermont)', u'Buena Park', u'Southeast New Mexico', u'Bisbee', u'Stroud (Oklahoma)', u'Winnemucca', u'Hollister (California)', u'Magdalena', u'Jupiter', u'Central Utah', u'Los Lunas', u'Alamogordo', u'Fredericksburg (Texas)', u'Deadwood', u'Crescent City', u'Chatham (Massachusetts)', u'San Angelo', u'Custer', u'Sturgis', u'Navajo Nation', u'Oakhurst', u'Sheridan', u'Espa\\xf1ola (New Mexico)', u'Western Finger Lakes', u'Hudson (New York)', u'Cape Canaveral', u'North Coast (California)', u'Lima (Ohio)', u'Sun Valley (Idaho)', u'Leavenworth (Washington)', u'Thermopolis', u'Cripple Creek', u'Brookhaven (Mississippi)', u'Black Hawk', u'Ontario (California)', u'Pocatello', u'Hannibal', u'Illinois Driftless Area', u'Ithaca (Michigan)', u'Somerset (Massachusetts)', u'Makawao', u'Humboldt County', u'Baker (California)', u'Joliet', u'Ellenville', u'Eastern Finger Lakes', u'Mojave Desert', u'Jekyll Island', u'Shelby (Ohio)', u'Blythe', u'Titusville (Florida)', u'Glenrio', u'Forks', u'Laredo', u'Avon Park', u'Williamsport', u'Tuolumne County', u'Boulder City', u'Lake County (Indiana)', u'Midland (Texas)', u'Southeast Arizona', u'Cortez', u'Sanford (Florida)', u'Santa Maria (California)', u'Little Diomede', u'North Shore (Minnesota)', u'Roswell (New Mexico)', u'Lahaina', u'Charleston (West Virginia)', u'Northeast New Mexico', u'Niagara Frontier', u'Florence (Alabama)', u'Del Rio', u'Deming', u'Winslow (Arizona)', u'Tucumcari', u'Colorado National Monument', u'Mount Pleasant (Michigan)', u'Kayenta', u\"O'Neill\", u'Mesquite (Nevada)', u'Canyon Country', u'St. Ignace', u'Early United States history', u'Pagosa Springs', u'San Juan Capistrano', u'Skagway', u'Florissant Fossil Beds National Monument', u'Mojave', u'Trinity County', u'Rosamond', u'Moorhead', u'Farmington (New Mexico)', u'Coldfoot', u'Melbourne (Florida)', u'Erie Region', u'Upper Peninsula', u'Circle', u'Great Plains', u'Rockport (Massachusetts)', u'Red Wing', u'Barstow', u'Syracuse (Indiana)', u'Vega (Texas)', u'Pyramid Lake', u'Warren (Arkansas)', u'Ukiah', u'Chattanooga', u'Safford (Arizona)', u'Northern Arizona', u'Sumas', u'Western Utah', u'Wenatchee', u'Anaktuvuk Pass', u'Le Claire', u'Shamokin', u'Solvang', u'Pullman', u'Georgetown (Colorado)', u'Hot Springs (Arkansas)', u'Wall (South Dakota)', u'Northtowns', u'Kahului', u'McClellan', u'Point Roberts', u'Holbrook (Arizona)', u'North Bay (Bay Area)', u'Sierra Vista', u'Henderson', u'Monahans', u'Primm', u'Capital District', u'Pictured Rocks National Lakeshore', u'Kerhonkson', u'Las Vegas (New Mexico)', u'Laramie', u'Rapid City', u'Florida Gold Coast', u'Deadhorse', u'Cedar City', u'Oxford (Mississippi)', u'Belen', u'Truth or Consequences', u'Lehigh Valley', u'Morenci (Arizona)', u'Cassadaga (Florida)', u'Rachel', u'Fort Davis', u'West Memphis', u'Jackpot', u'Angle Inlet', u'Raton', u'Port Aransas', u'Las Cruces', u'San Bernardino', u'Findlay', u'Newport Beach', u'Natchez', u'Fredonia (Arizona)', u'Nogales (Arizona)', u'Virginia City (Nevada)', u'Wells (Nevada)', u'Carson City', u'Cuba (New Mexico)', u'Van Nuys', u'Trinidad (California)', u'Laughlin', u'Butte', u'Kerrville', u'Amboy', u'Livermore', u'Phillipsburg (New Jersey)', u'Newington', u'Palouse (Washington)', u'Truckee', u'Marfa', u'Rochester (Michigan)', u'West Central Florida', u'Williston (North Dakota)', u'Cambridge (Maryland)', u'Presidio', u'Fairfield County (Ohio)', u'Sharon (Connecticut)', u'Alexandria (Louisiana)', u'Arctic Alaska', u'Beaufort (South Carolina)', u'Borger', u'Mulberry (Florida)', u'Organ Pipe Cactus National Monument', u'Ontario (Ohio)', u'Pojoaque', u'Dickinson', u'Garberville', u'Acadiana', u'Pueblo', u'Bishop', u'Bernalillo', u'Anza-Borrego Desert State Park', u'Northern Ohio River Region', u'Gallup', u'Kenner', u'Riverside County', u'Tiffin', u'Mercer Island', u'Ely (Nevada)', u'Emerald Bay State Park', u'Big Bend Country', u'Midway (Kentucky)', u'Southwest New Mexico', u'Cumberland (Rhode Island)', u'Union City (New Jersey)', u'Council Bluffs', u'Virginia City (Montana)', u'Macon (Georgia)', u'Odessa (Texas)', u'Socorro', u'Auburn (California)', u'Kilgore', u'Putnam County (New York)', u'Huntington Beach', u'Kingman', u'North Carolina Mountains', u'Lake Worth', u'Staunton (Virginia)', u'Billings', u'Burlington (Washington)', u'Bemidji', u'Silver City']\n",
      "\n",
      "Cluster 26\n",
      "[u'Custer Ghost Town']\n",
      "\n",
      "Cluster 27\n",
      "[u'Owensboro', u'Campbellsville (Kentucky)', u'Benton (Kentucky)', u'Clarksville (Indiana)', u'Jeffersonville (Indiana)', u'Russellville (Kentucky)', u'Hodgenville', u'New Harmony', u'Cave City', u'Murray (Kentucky)', u'Brownsville (Kentucky)', u'Calvert City', u'Franklin (Kentucky)', u'Brandenburg (Kentucky)', u'Bedford (Indiana)', u'Jasper (Indiana)', u'Vincennes', u'Henderson (Kentucky)', u'Murfreesboro', u'Columbus (Indiana)', u'Madison (Indiana)', u'Hartford (Kentucky)', u'Terre Haute', u'Corydon', u'Bowling Green (Kentucky)', u'Grand Rivers', u'Scottsville (Kentucky)', u'Elizabethtown (Kentucky)', u'New Albany', u'Evansville', u'Aurora (Kentucky)', u'Fort Knox', u'Gilbertsville', u'Glasgow (Kentucky)']\n"
     ]
    }
   ],
   "source": [
    "start = time.time()\n",
    "doc_vectors = model.docvecs.doctag_syn0\n",
    "num_clusters = 10\n",
    "\n",
    "# Initalize a k-means object and use it to extract centroids\n",
    "print(\"Running GMM\")\n",
    "g = mixture.GMM(n_components=28)\n",
    "#kmeans_clustering = g()\n",
    "g.fit( doc_vectors )\n",
    "idx = g.predict(doc_vectors)\n",
    "\n",
    "# Get the end time and print how long the process took\n",
    "end = time.time()\n",
    "elapsed = end - start\n",
    "print(\"Time taken for K Means clustering: \", elapsed, \"seconds.\")\n",
    "\n",
    "\n",
    "# Create a Word / Index dictionary, mapping each vocabulary word to\n",
    "# a cluster number\n",
    "word_centroid_map = dict(zip( model.docvecs.index2doctag, idx ))\n",
    "\n",
    "# Print the first ten clusters\n",
    "for cluster in xrange(0,28):\n",
    "    #\n",
    "    # Print the cluster number\n",
    "    print(\"\\nCluster %d\" % cluster)\n",
    "    #\n",
    "    # Find all of the words for that cluster number, and print them out\n",
    "    words = []\n",
    "    for i in xrange(0,len(word_centroid_map.values())):\n",
    "        if( word_centroid_map.values()[i] == cluster ):\n",
    "            words.append(word_centroid_map.keys()[i])\n",
    "    print(words)"
   ]
  },
  {
   "cell_type": "code",
   "execution_count": 191,
   "metadata": {
    "collapsed": false,
    "scrolled": false
   },
   "outputs": [
    {
     "name": "stdout",
     "output_type": "stream",
     "text": [
      "\n",
      "Cluster 0\n",
      "[(u'menu', 0.5720971822738647), (u'delicious', 0.5710393190383911), (u'restaurant', 0.5624308586120605), (u'lunch', 0.5568984150886536), (u'atmosphere', 0.5358323454856873), (u'breakfast', 0.5322791337966919), (u'variety', 0.52189040184021), (u'selection', 0.5217148065567017), (u'sandwiches', 0.5205617547035217), (u'gourmet', 0.5198789238929749)]\n",
      "\n",
      "Cluster 1\n",
      "[(u'ranked', 0.4021759033203125), (u'magazine', 0.3552449941635132), (u'miracle', 0.3487483561038971), (u'primetime', 0.345687597990036), (u'personality', 0.33944496512413025), (u'_florida', 0.33841365575790405), (u'westin', 0.3239818215370178), (u'jacuzzi', 0.3158218264579773), (u'indoor', 0.31304097175598145), (u'rated', 0.3111187815666199)]\n",
      "\n",
      "Cluster 2\n",
      "[(u'neighborhoods', 0.5106140971183777), (u'iselin', 0.4820122718811035), (u'dodgy', 0.4748816192150116), (u'jerseycommons', 0.46724969148635864), (u'neighboring', 0.45965832471847534), (u'crime', 0.451408714056015), (u'muggings', 0.44978398084640503), (u'nj', 0.44756388664245605), (u'neighborhood', 0.4460926651954651), (u'manhattanville', 0.44149112701416016)]\n",
      "\n",
      "Cluster 3\n",
      "[(u'generally', 0.5292679071426392), (u'crime', 0.5049384832382202), (u'especially', 0.49468889832496643), (u'tourists', 0.4902311861515045), (u're', 0.4867442548274994), (u'neighborhoods', 0.4814439117908478), (u'common', 0.4787764251232147), (u'always', 0.4784317910671234), (u'although', 0.4755217432975769), (u'safe', 0.47212594747543335)]\n",
      "\n",
      "Cluster 4\n",
      "[(u'boat', 0.5285789966583252), (u'beaches', 0.5267183184623718), (u'boats', 0.5262702703475952), (u'marinas', 0.5006334185600281), (u'rent', 0.4685223400592804), (u'surfboards', 0.4677625298500061), (u'sunbathe', 0.46654629707336426), (u'enjoy', 0.455867737531662), (u'docks', 0.4548600912094116), (u'cruises', 0.4506472647190094)]\n",
      "\n",
      "Cluster 5\n",
      "[(u'brodhead', 0.6509259939193726), (u'portion', 0.5434088110923767), (u'paddock', 0.5422406196594238), (u'suburban', 0.539910614490509), (u'connecting', 0.5384212732315063), (u'enters', 0.5171729922294617), (u'connects', 0.5128466486930847), (u'wi', 0.486371785402298), (u'terminating', 0.479835569858551), (u'metra', 0.47609829902648926)]\n",
      "\n",
      "Cluster 6\n",
      "[(u'became', 0.5262101292610168), (u'built', 0.5130407810211182), (u'today', 0.5083171725273132), (u'founded', 0.5049747824668884), (u'settled', 0.4986572861671448), (u'incorporated', 0.49608299136161804), (u'railroad', 0.48735636472702026), (u'farming', 0.487152099609375), (u'began', 0.4859180450439453), (u'settler', 0.4828936457633972)]\n",
      "\n",
      "Cluster 7\n",
      "[(u'abingdon', 0.6417580842971802), (u'ashe', 0.6378167867660522), (u'va', 0.5160610675811768), (u'tn', 0.48677653074264526), (u'nc', 0.4251300096511841), (u'engineered', 0.4224794805049896), (u'closest', 0.39518553018569946), (u'tri', 0.38787615299224854), (u'turnpike', 0.3770495057106018), (u'exits', 0.37289851903915405)]\n",
      "\n",
      "Cluster 8\n",
      "[(u'rt', 0.5325130224227905), (u'take', 0.5144543051719666), (u'easiest', 0.506882905960083), (u'ri', 0.5055403113365173), (u'pottstown', 0.4881989061832428), (u'turnpike', 0.47809284925460815), (u'exit', 0.4727591574192047), (u'taking', 0.4717191457748413), (u'_rhode_island', 0.4704967737197876), (u'closest', 0.4627498984336853)]\n",
      "\n",
      "Cluster 9\n",
      "[(u'illinoiscommons', 0.5014365315437317), (u'pa', 0.47935229539871216), (u'pike', 0.46888813376426697), (u'inn', 0.46387889981269836), (u'closest', 0.45702415704727173), (u'breakfast', 0.4516122341156006), (u'sashabaw', 0.44831573963165283), (u'grill', 0.4482163190841675), (u'minutes', 0.4457390308380127), (u'homemade', 0.44219309091567993)]\n",
      "\n",
      "Cluster 10\n",
      "[(u'seldovia', 0.36288395524024963), (u'tides', 0.3413843810558319), (u'roadside', 0.32507407665252686), (u'cannonville', 0.32472169399261475), (u'prohibited', 0.31793755292892456), (u'couple', 0.3159783184528351), (u'laundromat', 0.31300264596939087), (u'claus', 0.3114181458950043), (u'retrieve', 0.3106272220611572), (u'rusty', 0.30845439434051514)]\n",
      "\n",
      "Cluster 11\n",
      "[(u'latrines', 0.5907386541366577), (u'campsites', 0.5851346254348755), (u'flush', 0.5777589082717896), (u'picnic', 0.577609658241272), (u'primitive', 0.5702875852584839), (u'camping', 0.5667970180511475), (u'campground', 0.561299204826355), (u'toilets', 0.5580625534057617), (u'swimming', 0.5460841655731201), (u'hookups', 0.5431286096572876)]\n",
      "\n",
      "Cluster 12\n",
      "[(u'ski', 0.583964467048645), (u'skiing', 0.5705342292785645), (u'snowshoeing', 0.5305549502372742), (u'snowmobiling', 0.5234687328338623), (u'rafting', 0.5106271505355835), (u'biking', 0.5066540241241455), (u'snowboarding', 0.49308159947395325), (u'gondola', 0.488819420337677), (u'climbing', 0.4834863841533661), (u'tubing', 0.4790496230125427)]\n",
      "\n",
      "Cluster 13\n",
      "[(u'fm', 0.44435369968414307), (u'publication', 0.4345743656158447), (u'talk', 0.42311161756515503), (u'language', 0.38709747791290283), (u'inroads', 0.3746436834335327), (u'urban', 0.3708033561706543), (u'marketing', 0.36648643016815186), (u'religious', 0.36196231842041016), (u'ads', 0.35540419816970825), (u'word', 0.35320764780044556)]\n",
      "\n",
      "Cluster 14\n",
      "[(u'southborough', 0.48968368768692017), (u'westborough', 0.4648386836051941), (u'northborough', 0.43653440475463867), (u'transit', 0.43418216705322266), (u'mbta', 0.42696455121040344), (u'boonton', 0.4256177544593811), (u'neighboring', 0.41378670930862427), (u'chain', 0.4112602174282074), (u'riverline', 0.4094366431236267), (u'lechmere', 0.4055497646331787)]\n",
      "\n",
      "Cluster 15\n",
      "[(u'neighboring', 0.510061502456665), (u'shopping', 0.5012532472610474), (u'suburb', 0.4947050213813782), (u'suburban', 0.4914419949054718), (u'neighborhoods', 0.48257651925086975), (u'options', 0.47309815883636475), (u'residential', 0.4708496630191803), (u'ont', 0.4667118489742279), (u'malls', 0.46663910150527954), (u'bus', 0.4655112326145172)]\n",
      "\n",
      "Cluster 16\n",
      "[(u'hwy', 0.4388881325721741), (u'whiteface', 0.4363539516925812), (u'gaapproximately', 0.4320240616798401), (u'illinoiscommons', 0.42971205711364746), (u'sc', 0.41761794686317444), (u'adirondack', 0.41735973954200745), (u'cedarville', 0.41679733991622925), (u'wikipedia', 0.41534045338630676), (u'ny', 0.4089634120464325), (u'autoroute', 0.4044288992881775)]\n",
      "\n",
      "Cluster 17\n",
      "[(u'hearst', 0.5718140006065369), (u'moonstone', 0.5074160099029541), (u'borromeo', 0.4898861050605774), (u'monarch', 0.47525954246520996), (u'carmelo', 0.4632396996021271), (u'coastline', 0.462271124124527), (u'remote', 0.46207043528556824), (u'butterflies', 0.4555889368057251), (u'seabirds', 0.4538429379463196), (u'tycoon', 0.4516923427581787)]\n",
      "\n",
      "Cluster 18\n",
      "[(u'backcountry', 0.6301895976066589), (u'campgrounds', 0.5739971995353699), (u'rattlesnakes', 0.5278863906860352), (u'hikers', 0.5208370685577393), (u'visitor', 0.5184036493301392), (u'elevations', 0.51214599609375), (u'campsites', 0.5060021877288818), (u'trailheads', 0.5037845969200134), (u'entrance', 0.5027613639831543), (u'permit', 0.49693936109542847)]\n",
      "\n",
      "Cluster 19\n",
      "[(u'campsites', 0.47450491786003113), (u'showers', 0.44896411895751953), (u'picnic', 0.43653807044029236), (u'toilets', 0.4330030083656311), (u'campground', 0.40992870926856995), (u'shelters', 0.4076031446456909), (u'flush', 0.40124088525772095), (u'camping', 0.3959343433380127), (u'steamy', 0.3885454535484314), (u'mudslides', 0.3836666941642761)]\n",
      "\n",
      "Cluster 20\n",
      "[(u'pbs', 0.4598020911216736), (u'interurban', 0.4145066738128662), (u'sbn', 0.3830670118331909), (u'cw', 0.36258143186569214), (u'ucat', 0.35345330834388733), (u'standstill', 0.3486500382423401), (u'rand', 0.3467106819152832), (u'modal', 0.3434954285621643), (u'newspaper', 0.33664989471435547), (u'primetime', 0.3328514099121094)]\n",
      "\n",
      "Cluster 21\n",
      "[(u'penrose', 0.5614458918571472), (u'seals', 0.5353796482086182), (u'paddler', 0.5202814340591431), (u'joemma', 0.5164604783058167), (u'colvos', 0.5117505192756653), (u'peninsulas', 0.49973025918006897), (u'launching', 0.4858400225639343), (u'kitsaps', 0.4856633245944977), (u'removed', 0.48020273447036743), (u'coastline', 0.46989351511001587)]\n",
      "\n",
      "Cluster 22\n",
      "[(u'internationals', 0.6118484735488892), (u'laguardia', 0.5798720121383667), (u'livery', 0.557794451713562), (u'stewart', 0.5403662919998169), (u'pinch', 0.5253866910934448), (u'cars', 0.5056414604187012), (u'exorbitant', 0.4963594973087311), (u'direct', 0.4958243668079376), (u'ucat', 0.4904266893863678), (u'fares', 0.48530569672584534)]\n",
      "\n",
      "Cluster 23\n",
      "[(u'pretty', 0.45879390835762024), (u'get', 0.4570983648300171), (u'hwy', 0.4496132433414459), (u'goes', 0.44835972785949707), (u'really', 0.44687148928642273), (u'nearest', 0.4460047483444214), (u'couple', 0.4433215856552124), (u'll', 0.43210360407829285), (u'intersection', 0.42662879824638367), (u'walking', 0.42117840051651)]\n",
      "\n",
      "Cluster 24\n",
      "[(u'amtrak', 0.6171292066574097), (u'transit', 0.6158660650253296), (u'commuter', 0.6082020998001099), (u'bus', 0.593185544013977), (u'buses', 0.5856820344924927), (u'rail', 0.5805826187133789), (u'runs', 0.5749995708465576), (u'greyhound', 0.5689491033554077), (u'routes', 0.5655186176300049), (u'authority', 0.5631210803985596)]\n",
      "\n",
      "Cluster 25\n",
      "[(u'nearest', 0.5254680514335632), (u'interstate', 0.47441211342811584), (u'highway', 0.4731290638446808), (u'destinations', 0.471650093793869), (u'connecting', 0.468767911195755), (u'highways', 0.46858954429626465), (u'closest', 0.46767351031303406), (u'prudhoe', 0.4615083932876587), (u'accessed', 0.4548037350177765), (u'amtrak', 0.4544474482536316)]\n",
      "\n",
      "Cluster 26\n",
      "[(u'challis', 0.7316938042640686), (u'bonanza', 0.5319324731826782), (u'yankee', 0.4926186800003052), (u'freighters', 0.3335375487804413), (u'dredge', 0.3198348879814148), (u'breathe', 0.31829118728637695), (u'panning', 0.31722766160964966), (u'forestry', 0.314575731754303), (u'submitted', 0.31104832887649536), (u'mines', 0.30567896366119385)]\n",
      "\n",
      "Cluster 27\n",
      "[(u'overlaid', 0.7680612802505493), (u'overlain', 0.7630213499069214), (u'digit', 0.7372198104858398), (u'telephone', 0.6743794083595276), (u'overlay', 0.667421817779541), (u'dialed', 0.6352460980415344), (u'omitting', 0.6154309511184692), (u'landline', 0.6140903234481812), (u'seven', 0.6030386686325073), (u'code', 0.586712121963501)]\n"
     ]
    }
   ],
   "source": [
    "for cluster in xrange(0,28):\n",
    "    #\n",
    "    # Print the cluster number\n",
    "    print(\"\\nCluster %d\" % cluster)\n",
    "    #\n",
    "    # Find all of the words for that cluster number, and print them out\n",
    "    words = []\n",
    "    for i in xrange(0,len(word_centroid_map.values())):\n",
    "        if( word_centroid_map.values()[i] == cluster ):\n",
    "            words.append(model.docvecs[word_centroid_map.keys()[i]])\n",
    "            \n",
    "            \n",
    "    print(model.most_similar(words))"
   ]
  },
  {
   "cell_type": "code",
   "execution_count": null,
   "metadata": {
    "collapsed": true
   },
   "outputs": [],
   "source": []
  }
 ],
 "metadata": {
  "kernelspec": {
   "display_name": "Python 2",
   "language": "python",
   "name": "python2"
  },
  "language_info": {
   "codemirror_mode": {
    "name": "ipython",
    "version": 2
   },
   "file_extension": ".py",
   "mimetype": "text/x-python",
   "name": "python",
   "nbconvert_exporter": "python",
   "pygments_lexer": "ipython2",
   "version": "2.7.11"
  }
 },
 "nbformat": 4,
 "nbformat_minor": 0
}
