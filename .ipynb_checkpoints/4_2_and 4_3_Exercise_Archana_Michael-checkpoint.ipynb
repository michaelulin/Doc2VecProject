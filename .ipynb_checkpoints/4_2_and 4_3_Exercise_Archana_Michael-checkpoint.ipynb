{
 "cells": [
  {
   "cell_type": "markdown",
   "metadata": {},
   "source": [
    "4.2 Exercise\n",
    "======"
   ]
  },
  {
   "cell_type": "markdown",
   "metadata": {},
   "source": [
    "For these exercises, we will apply the MaxEnt (a.k.a. Logistic Regression) algorithm to a corpus of NYT articles to classify from which section the article came.\n",
    "\n",
    "1. Read the articles.pkl file using the read_pickle function in pandas. Look at the raw data and conduct EDA to understand the structure of your data. The `content` column is the text of the article. The `section_name` is the section (e.g.,'Sports', 'U.S.', 'Business Day', 'World', ...).\n",
    "\n",
    "2. Use the Scikit-Learn's [CountVectorizer](http://scikit-learn.org/stable/modules/generated/sklearn.feature_extraction.text.CountVectorizer.html) to turn the content of the news stories into a document-term matrix. \n",
    "\n",
    "3. Use [Logistic Regression](http://scikit-learn.org/stable/modules/linear_model.html#logistic-regression). Use `solver = 'lbfgs'`."
   ]
  },
  {
   "cell_type": "markdown",
   "metadata": {
    "collapsed": true
   },
   "source": [
    "##. 1\n"
   ]
  },
  {
   "cell_type": "code",
   "execution_count": 98,
   "metadata": {
    "collapsed": true
   },
   "outputs": [],
   "source": [
    "import pandas as pd\n",
    "from sklearn.feature_extraction.text import CountVectorizer\n",
    "from sklearn.cross_validation import train_test_split\n",
    "from sklearn.metrics import classification_report \n",
    "from sklearn.decomposition import NMF,LatentDirichletAllocation\n",
    "import matplotlib.pyplot as plt\n",
    "import numpy as np\n",
    "%matplotlib inline"
   ]
  },
  {
   "cell_type": "code",
   "execution_count": 15,
   "metadata": {
    "collapsed": false
   },
   "outputs": [
    {
     "data": {
      "text/html": [
       "<div>\n",
       "<table border=\"1\" class=\"dataframe\">\n",
       "  <thead>\n",
       "    <tr style=\"text-align: right;\">\n",
       "      <th></th>\n",
       "      <th>document_type</th>\n",
       "      <th>web_url</th>\n",
       "      <th>lead_paragraph</th>\n",
       "      <th>abstract</th>\n",
       "      <th>snippet</th>\n",
       "      <th>news_desk</th>\n",
       "      <th>word_count</th>\n",
       "      <th>source</th>\n",
       "      <th>section_name</th>\n",
       "      <th>subsection_name</th>\n",
       "      <th>_id</th>\n",
       "      <th>pub_date</th>\n",
       "      <th>print_page</th>\n",
       "      <th>headline</th>\n",
       "      <th>content</th>\n",
       "    </tr>\n",
       "  </thead>\n",
       "  <tbody>\n",
       "    <tr>\n",
       "      <th>0</th>\n",
       "      <td>article</td>\n",
       "      <td>http://www.nytimes.com/2013/10/03/sports/footb...</td>\n",
       "      <td>You would think that in a symmetric zero-sum s...</td>\n",
       "      <td>None</td>\n",
       "      <td>You would think that in a symmetric zero-sum s...</td>\n",
       "      <td>Sports</td>\n",
       "      <td>347</td>\n",
       "      <td>The New York Times</td>\n",
       "      <td>Sports</td>\n",
       "      <td>Pro Football</td>\n",
       "      <td>524d4e3a38f0d8198974001f</td>\n",
       "      <td>2013-10-03T00:00:00Z</td>\n",
       "      <td>None</td>\n",
       "      <td>Week 5 Probabilities: Why Offense Is More Impo...</td>\n",
       "      <td>the original goal building model football fore...</td>\n",
       "    </tr>\n",
       "    <tr>\n",
       "      <th>1</th>\n",
       "      <td>article</td>\n",
       "      <td>http://www.nytimes.com/2013/10/03/us/new-immig...</td>\n",
       "      <td>House Democrats on Wednesday unveiled an immig...</td>\n",
       "      <td>House Democrats unveil immigration bill that p...</td>\n",
       "      <td>House Democrats on Wednesday unveiled an immig...</td>\n",
       "      <td>National</td>\n",
       "      <td>83</td>\n",
       "      <td>The New York Times</td>\n",
       "      <td>U.S.</td>\n",
       "      <td>None</td>\n",
       "      <td>524cf71338f0d8198973ff7b</td>\n",
       "      <td>2013-10-03T00:00:00Z</td>\n",
       "      <td>21</td>\n",
       "      <td>New Immigration Bill Put Forward</td>\n",
       "      <td>house unveiled immigration bill provides path ...</td>\n",
       "    </tr>\n",
       "    <tr>\n",
       "      <th>2</th>\n",
       "      <td>article</td>\n",
       "      <td>http://www.nytimes.com/2013/10/03/us/arizona-j...</td>\n",
       "      <td>A federal judge on Wednesday ordered the appoi...</td>\n",
       "      <td>Federal Judge Murray Snow orders the appointme...</td>\n",
       "      <td>A federal judge on Wednesday ordered the appoi...</td>\n",
       "      <td>National</td>\n",
       "      <td>160</td>\n",
       "      <td>The New York Times</td>\n",
       "      <td>U.S.</td>\n",
       "      <td>None</td>\n",
       "      <td>524cf50e38f0d8198973ff79</td>\n",
       "      <td>2013-10-03T00:00:00Z</td>\n",
       "      <td>21</td>\n",
       "      <td>Arizona: Judge Orders Monitor to Oversee Maric...</td>\n",
       "      <td>federal judge wednesday ordered appointment in...</td>\n",
       "    </tr>\n",
       "    <tr>\n",
       "      <th>3</th>\n",
       "      <td>article</td>\n",
       "      <td>http://www.nytimes.com/2013/10/03/us/texas-sta...</td>\n",
       "      <td>Texas has turned to a compounding pharmacy to ...</td>\n",
       "      <td>Documents show that Texas, nation's most activ...</td>\n",
       "      <td>Texas has turned to a compounding pharmacy to ...</td>\n",
       "      <td>National</td>\n",
       "      <td>112</td>\n",
       "      <td>The New York Times</td>\n",
       "      <td>U.S.</td>\n",
       "      <td>None</td>\n",
       "      <td>524cf39a38f0d8198973ff78</td>\n",
       "      <td>2013-10-03T00:00:00Z</td>\n",
       "      <td>21</td>\n",
       "      <td>Texas: State Bought Execution Drugs From a Com...</td>\n",
       "      <td>texas nation’s active death-penalty state turn...</td>\n",
       "    </tr>\n",
       "    <tr>\n",
       "      <th>4</th>\n",
       "      <td>article</td>\n",
       "      <td>http://www.nytimes.com/2013/10/03/sports/tenni...</td>\n",
       "      <td>Rafael Nadal, aiming to end Novak Djokovic’s r...</td>\n",
       "      <td>None</td>\n",
       "      <td>Rafael Nadal, aiming to end Novak Djokovic’s r...</td>\n",
       "      <td>Sports</td>\n",
       "      <td>49</td>\n",
       "      <td>The New York Times</td>\n",
       "      <td>Sports</td>\n",
       "      <td>Tennis</td>\n",
       "      <td>524cf28b38f0d8198973ff73</td>\n",
       "      <td>2013-10-03T00:00:00Z</td>\n",
       "      <td>14</td>\n",
       "      <td>Nadal on Track for No. 1 Spot</td>\n",
       "      <td>rafael nadal aiming end novak djokovic’s run 1...</td>\n",
       "    </tr>\n",
       "  </tbody>\n",
       "</table>\n",
       "</div>"
      ],
      "text/plain": [
       "  document_type                                            web_url  \\\n",
       "0       article  http://www.nytimes.com/2013/10/03/sports/footb...   \n",
       "1       article  http://www.nytimes.com/2013/10/03/us/new-immig...   \n",
       "2       article  http://www.nytimes.com/2013/10/03/us/arizona-j...   \n",
       "3       article  http://www.nytimes.com/2013/10/03/us/texas-sta...   \n",
       "4       article  http://www.nytimes.com/2013/10/03/sports/tenni...   \n",
       "\n",
       "                                      lead_paragraph  \\\n",
       "0  You would think that in a symmetric zero-sum s...   \n",
       "1  House Democrats on Wednesday unveiled an immig...   \n",
       "2  A federal judge on Wednesday ordered the appoi...   \n",
       "3  Texas has turned to a compounding pharmacy to ...   \n",
       "4  Rafael Nadal, aiming to end Novak Djokovic’s r...   \n",
       "\n",
       "                                            abstract  \\\n",
       "0                                               None   \n",
       "1  House Democrats unveil immigration bill that p...   \n",
       "2  Federal Judge Murray Snow orders the appointme...   \n",
       "3  Documents show that Texas, nation's most activ...   \n",
       "4                                               None   \n",
       "\n",
       "                                             snippet news_desk word_count  \\\n",
       "0  You would think that in a symmetric zero-sum s...    Sports        347   \n",
       "1  House Democrats on Wednesday unveiled an immig...  National         83   \n",
       "2  A federal judge on Wednesday ordered the appoi...  National        160   \n",
       "3  Texas has turned to a compounding pharmacy to ...  National        112   \n",
       "4  Rafael Nadal, aiming to end Novak Djokovic’s r...    Sports         49   \n",
       "\n",
       "               source section_name subsection_name                       _id  \\\n",
       "0  The New York Times       Sports    Pro Football  524d4e3a38f0d8198974001f   \n",
       "1  The New York Times         U.S.            None  524cf71338f0d8198973ff7b   \n",
       "2  The New York Times         U.S.            None  524cf50e38f0d8198973ff79   \n",
       "3  The New York Times         U.S.            None  524cf39a38f0d8198973ff78   \n",
       "4  The New York Times       Sports          Tennis  524cf28b38f0d8198973ff73   \n",
       "\n",
       "               pub_date print_page  \\\n",
       "0  2013-10-03T00:00:00Z       None   \n",
       "1  2013-10-03T00:00:00Z         21   \n",
       "2  2013-10-03T00:00:00Z         21   \n",
       "3  2013-10-03T00:00:00Z         21   \n",
       "4  2013-10-03T00:00:00Z         14   \n",
       "\n",
       "                                            headline  \\\n",
       "0  Week 5 Probabilities: Why Offense Is More Impo...   \n",
       "1                   New Immigration Bill Put Forward   \n",
       "2  Arizona: Judge Orders Monitor to Oversee Maric...   \n",
       "3  Texas: State Bought Execution Drugs From a Com...   \n",
       "4                      Nadal on Track for No. 1 Spot   \n",
       "\n",
       "                                             content  \n",
       "0  the original goal building model football fore...  \n",
       "1  house unveiled immigration bill provides path ...  \n",
       "2  federal judge wednesday ordered appointment in...  \n",
       "3  texas nation’s active death-penalty state turn...  \n",
       "4  rafael nadal aiming end novak djokovic’s run 1...  "
      ]
     },
     "execution_count": 15,
     "metadata": {},
     "output_type": "execute_result"
    }
   ],
   "source": [
    "\n",
    "\n",
    "nyt = pd.read_pickle(\"data/articles.pkl\")\n",
    "nyt.head()\n"
   ]
  },
  {
   "cell_type": "code",
   "execution_count": 16,
   "metadata": {
    "collapsed": false
   },
   "outputs": [
    {
     "name": "stdout",
     "output_type": "stream",
     "text": [
      "<class 'pandas.core.frame.DataFrame'>\n",
      "Int64Index: 1405 entries, 0 to 1404\n",
      "Data columns (total 15 columns):\n",
      "document_type      1405 non-null object\n",
      "web_url            1405 non-null object\n",
      "lead_paragraph     1405 non-null object\n",
      "abstract           1001 non-null object\n",
      "snippet            1405 non-null object\n",
      "news_desk          1405 non-null object\n",
      "word_count         1405 non-null object\n",
      "source             1405 non-null object\n",
      "section_name       1405 non-null object\n",
      "subsection_name    954 non-null object\n",
      "_id                1405 non-null object\n",
      "pub_date           1405 non-null object\n",
      "print_page         1379 non-null object\n",
      "headline           1405 non-null object\n",
      "content            1405 non-null object\n",
      "dtypes: object(15)\n",
      "memory usage: 175.6+ KB\n"
     ]
    }
   ],
   "source": [
    "nyt.columns\n",
    "nyt.info()"
   ]
  },
  {
   "cell_type": "code",
   "execution_count": 17,
   "metadata": {
    "collapsed": false
   },
   "outputs": [
    {
     "data": {
      "text/plain": [
       "section_name\n",
       "Arts            176\n",
       "Books             1\n",
       "Business Day    209\n",
       "Magazine          2\n",
       "Opinion         224\n",
       "Real Estate       1\n",
       "Sports          340\n",
       "Travel            2\n",
       "U.S.            190\n",
       "World           260\n",
       "dtype: int64"
      ]
     },
     "execution_count": 17,
     "metadata": {},
     "output_type": "execute_result"
    }
   ],
   "source": [
    "nyt[['section_name','content']].head()\n",
    "#plt.figure()\n",
    "#nyt['section_name'].hist(by = nyt['section_name'])\n",
    "nyt.groupby('section_name').size()\n"
   ]
  },
  {
   "cell_type": "code",
   "execution_count": 18,
   "metadata": {
    "collapsed": false
   },
   "outputs": [],
   "source": [
    "drop_features = ['Books','Magazine','Real Estate','Travel']\n",
    "nyt_feature_dropped = nyt[-nyt['section_name'].isin(drop_features)]\n",
    "\n",
    "labels = nyt_feature_dropped.section_name\n",
    "features = nyt_feature_dropped.content\n",
    "\n",
    "vect = CountVectorizer(stop_words=\"english\", max_features = 5000)\n",
    "x_features = vect.fit_transform(features)\n",
    "\n",
    "\n",
    "\n"
   ]
  },
  {
   "cell_type": "code",
   "execution_count": 19,
   "metadata": {
    "collapsed": false
   },
   "outputs": [
    {
     "data": {
      "text/plain": [
       "1399"
      ]
     },
     "execution_count": 19,
     "metadata": {},
     "output_type": "execute_result"
    }
   ],
   "source": [
    "len(labels)"
   ]
  },
  {
   "cell_type": "code",
   "execution_count": 20,
   "metadata": {
    "collapsed": false
   },
   "outputs": [],
   "source": [
    "X_train,X_test,y_train,y_test = train_test_split(x_features,labels,test_size =0.3)"
   ]
  },
  {
   "cell_type": "code",
   "execution_count": 21,
   "metadata": {
    "collapsed": false
   },
   "outputs": [],
   "source": [
    "from sklearn import linear_model\n",
    "#ny_model = linear_model.LogisticRegression(solver='lbfgs')\n",
    "ny_model = linear_model.LogisticRegression()"
   ]
  },
  {
   "cell_type": "code",
   "execution_count": 22,
   "metadata": {
    "collapsed": false
   },
   "outputs": [
    {
     "data": {
      "text/plain": [
       "LogisticRegression(C=1.0, class_weight=None, dual=False, fit_intercept=True,\n",
       "          intercept_scaling=1, max_iter=100, multi_class='ovr', n_jobs=1,\n",
       "          penalty='l2', random_state=None, solver='liblinear', tol=0.0001,\n",
       "          verbose=0, warm_start=False)"
      ]
     },
     "execution_count": 22,
     "metadata": {},
     "output_type": "execute_result"
    }
   ],
   "source": [
    "ny_model.fit(X_train,y_train)"
   ]
  },
  {
   "cell_type": "code",
   "execution_count": 23,
   "metadata": {
    "collapsed": false
   },
   "outputs": [
    {
     "name": "stdout",
     "output_type": "stream",
     "text": [
      "              precision    recall  f1-score   support\n",
      "\n",
      "        Arts       0.86      0.92      0.89        61\n",
      "Business Day       0.82      0.76      0.79        67\n",
      "     Opinion       0.82      0.84      0.83        56\n",
      "      Sports       0.97      0.96      0.96       100\n",
      "        U.S.       0.78      0.65      0.71        55\n",
      "       World       0.84      0.94      0.88        81\n",
      "\n",
      " avg / total       0.86      0.86      0.86       420\n",
      "\n"
     ]
    }
   ],
   "source": [
    "target_names = sorted(list(set(labels)))\n",
    "print classification_report(y_test,ny_model.predict(X_test),target_names = target_names)\n"
   ]
  },
  {
   "cell_type": "code",
   "execution_count": 25,
   "metadata": {
    "collapsed": false
   },
   "outputs": [
    {
     "name": "stdout",
     "output_type": "stream",
     "text": [
      "              precision    recall  f1-score   support\n",
      "\n",
      "        Arts       0.91      0.85      0.88        61\n",
      "Business Day       0.86      0.70      0.77        70\n",
      "     Opinion       0.82      0.74      0.78        66\n",
      "      Sports       0.91      0.99      0.95       100\n",
      "        U.S.       0.61      0.78      0.68        49\n",
      "       World       0.89      0.91      0.90        74\n",
      "\n",
      " avg / total       0.85      0.84      0.84       420\n",
      "\n"
     ]
    }
   ],
   "source": [
    "vect = CountVectorizer(stop_words=\"english\", max_features = 5000)\n",
    "x_features = vect.fit_transform(features)\n",
    "X_train,X_test,y_train,y_test = train_test_split(x_features,labels,test_size =0.3)\n",
    "ny_model = linear_model.LogisticRegression(solver='lbfgs')\n",
    "ny_model.fit(X_train,y_train)\n",
    "target_names = sorted(list(set(labels)))\n",
    "print classification_report(y_test,ny_model.predict(X_test),target_names = target_names)\n"
   ]
  },
  {
   "cell_type": "markdown",
   "metadata": {},
   "source": [
    "Optional:\n",
    "----\n",
    "\n",
    "1. Compare results to NLTK's [Maximum Entropy](http://www.nltk.org/_modules/nltk/classify/maxent.html) classifier (see [HOWTO](http://www.nltk.org/howto/classify.html) for help)\n",
    "2. Compare results to [Naïve Bayes](http://scikit-learn.org/stable/modules/naive_bayes.html) (either [Multinomial](http://scikit-learn.org/stable/modules/generated/sklearn.naive_bayes.MultinomialNB.html) or [Bernoulli](http://scikit-learn.org/stable/modules/generated/sklearn.naive_bayes.BernoulliNB.html))\n",
    "3. Compare results to Scikit-Learn's [Linear SVM](http://scikit-learn.org/stable/modules/generated/sklearn.svm.LinearSVC.html) (see [documentation](http://scikit-learn.org/stable/modules/svm.html) for details on how it works)"
   ]
  },
  {
   "cell_type": "markdown",
   "metadata": {},
   "source": [
    "4.3 Exercises\n",
    "===="
   ]
  },
  {
   "cell_type": "markdown",
   "metadata": {},
   "source": [
    "Topic modeling New York Times articles \n",
    "-----\n",
    "\n",
    "For this assignment, we will apply the NMF algorithm to a corpus of NYT articles to discover latent topics.  The NYT sections (topics) are great, but we don't know how they relate to patterns in article content.  Let us see what insights we can mine out of our corpus!  We will be starting with our bag of words matrix. Use the same articles we have been using all along now.\n",
    "\n",
    "Preliminaries (from last class session)\n",
    "--------\n",
    "1. Read the articles.pkl file using the read_pickle function in pandas. Look at the result and understand the structure of your data. Once you are comfortable with the data, store the 'content' series you read in, as this is what we will be working with for the rest of the assignment.\n",
    "\n",
    "2 . Use the [CountVectorizer](http://scikit-learn.org/stable/modules/generated/sklearn.feature_extraction.text.CountVectorizer.html) from scikit-learn (or Tfidf) to turn the content of the news stories into a document-term matrix.  Choose a reasonable value (like 5000) for max_features when initializing the vectorizer.\n",
    "\n",
    "\n",
    "3 . Use the get_feature_names method of your vectorizer to store the word represented by each column of your document-term matrix. "
   ]
  },
  {
   "cell_type": "code",
   "execution_count": 31,
   "metadata": {
    "collapsed": false
   },
   "outputs": [
    {
     "name": "stdout",
     "output_type": "stream",
     "text": [
      "<type 'list'>\n",
      "[u'000', u'10', u'100', u'10th', u'11', u'11th', u'12', u'120', u'13', u'130']\n"
     ]
    }
   ],
   "source": [
    "vector_features = vect.get_feature_names()\n",
    "print type(vector_features)\n"
   ]
  },
  {
   "cell_type": "markdown",
   "metadata": {},
   "source": [
    "Scikit-learn NMF\n",
    "------\n",
    "\n",
    "1. Use the scikit-learn NMF algorithm to compute the [Non-Negative Matrix factorization](http://scikit-learn.org/stable/auto_examples/applications/topics_extraction_with_nmf_lda.html) of our documents. Explore what \"topics\" are returned. "
   ]
  },
  {
   "cell_type": "code",
   "execution_count": 56,
   "metadata": {
    "collapsed": false
   },
   "outputs": [],
   "source": [
    "nmf = NMF(n_components=10, random_state=1, alpha=0, l1_ratio=0)\n",
    "W = nmf.fit_transform(x_features)\n",
    "H = nmf.components_\n"
   ]
  },
  {
   "cell_type": "markdown",
   "metadata": {},
   "source": [
    "2 . Can you add a title to each latent topic representing the words it contains?"
   ]
  },
  {
   "cell_type": "code",
   "execution_count": 57,
   "metadata": {
    "collapsed": false
   },
   "outputs": [
    {
     "name": "stdout",
     "output_type": "stream",
     "text": [
      "Topic #0:\n",
      "said year day official case time court people decision limit added player like lot don right know wednesday think going want interview contribution news ms police area committee event week law conference building friday tuesday candidate asked university old used school came justice 000 thing monday say video group sunday\n",
      "Topic #1:\n",
      "game season team year player time yankee league run play win point yard hit start second rivera like playoff week home inning won coach field sunday giant series end going touchdown 10 left played fan right make career final day red ball good victory baseball injury pettitte got football way\n",
      "Topic #2:\n",
      "republican house government health law care party president obama senate shutdown congress democrat federal vote insurance conservative budget leader washington representative senator debt american white boehner political reid plan time act obamacare spending state member shut speaker going people affordable new tax week don exchange limit cruz say coverage tea\n",
      "Topic #3:\n",
      "gun child firearm death year law state accidental time shooting said accident old safe adult boy age killed son family father school storage data technology trigger rifle case number medical homicide right home control safety study went 14 researcher mother statistic health lucas center victim north ohio owner shot federal\n",
      "Topic #4:\n",
      "new york like ms city executive art director president time company world people year agency work series group station medium way music network video post million vice make office museum chief say opera life creative center dance joined site woman marketing long ballet brand advertising night street week thing web\n",
      "Topic #5:\n",
      "mr year party political state like case work leader court said member night later music official minister fallon right time public reid mail campaign judge prime perry country john month election come michael make week called far crime conservative word way told white prosecutor news governor man dalli interview best\n",
      "Topic #6:\n",
      "iran rouhani nuclear mr obama iranian netanyahu united president israel state nation new sanction program american speech israeli minister leader said diplomatic meeting week country weapon world north hassan negotiation america prime threat syria korea assembly deal york tehran address general diplomacy issue hard foreign power washington west international uranium\n",
      "Topic #7:\n",
      "percent year government market company million state country month bank economy price rate 000 economic policy sale european oil debt china home growth increase business energy united financial billion euro analyst recent like september world bond car cost investor federal time europe say according global 10 american higher need research\n",
      "Topic #8:\n",
      "work sewing worker job company student people new airtex said course like american factory program force machine pay ms textile college business year industry minnesota coalition miller woman school chinese day training making immigrant state manufacturing industrial health manufacturer hour time center labor wanted mr production group employee think home\n",
      "Topic #9:\n",
      "united government syria state attack weapon chemical security official country american group nation syrian international people force military war al killed council russia iraq foreign member rebel kenya shabab general assad resolution president team mall region militant including world terrorist peace somalia qaeda organization site kurdish nairobi use power statement\n"
     ]
    }
   ],
   "source": [
    "def print_top_words(model, feature_names, n_top_words):\n",
    "    for topic_idx, topic in enumerate(model.components_):\n",
    "        print \"Topic #%d:\" % topic_idx\n",
    "        print \" \".join([feature_names[i] for i in topic.argsort()[:-n_top_words - 1:-1]])\n",
    "          \n",
    "print_top_words(nmf, vector_features, 50)"
   ]
  },
  {
   "cell_type": "markdown",
   "metadata": {},
   "source": [
    "3 .  Now that you have hopefully labeled the latent features with what topics they represent, explore a few articles strongest latent features.  Do these make sense given the article? You will have to go back to the raw data you read in to do this."
   ]
  },
  {
   "cell_type": "code",
   "execution_count": 95,
   "metadata": {
    "collapsed": true
   },
   "outputs": [],
   "source": [
    "custom_labels = ['us_news','sports','us_government','guns','ny_news','elections','iran','economy','labor','terrorism']\n"
   ]
  },
  {
   "cell_type": "code",
   "execution_count": 64,
   "metadata": {
    "collapsed": false
   },
   "outputs": [
    {
     "data": {
      "text/plain": [
       "5000"
      ]
     },
     "execution_count": 64,
     "metadata": {},
     "output_type": "execute_result"
    }
   ],
   "source": [
    "len(nmf.components_[0])"
   ]
  },
  {
   "cell_type": "code",
   "execution_count": 63,
   "metadata": {
    "collapsed": false
   },
   "outputs": [
    {
     "data": {
      "text/plain": [
       "1399"
      ]
     },
     "execution_count": 63,
     "metadata": {},
     "output_type": "execute_result"
    }
   ],
   "source": [
    "len(W)"
   ]
  },
  {
   "cell_type": "code",
   "execution_count": 96,
   "metadata": {
    "collapsed": true
   },
   "outputs": [],
   "source": [
    "feat = np.array(features)"
   ]
  },
  {
   "cell_type": "code",
   "execution_count": 97,
   "metadata": {
    "collapsed": false
   },
   "outputs": [
    {
     "name": "stdout",
     "output_type": "stream",
     "text": [
      "TOPIC:  us_news\n",
      "mccalla ala. the supreme court’s citizen united decision reshaped american politics striking limit i\n",
      "washington president obama admonished house republican tuesday quit fighting three-year-old health c\n",
      "washington if symbol tuesday america’s pent-up frustration gridlocked political system score aging w\n",
      "greenburgh n.y. tyson chandler celebrated 31st birthday wednesday retreating side basket knicks’ tra\n",
      "khartoum sudan the worst week violent unrest central sudan seen year resulted arrest 700 people gove\n",
      "minneapolis osmo vanska resigned tuesday music director minnesota orchestra response orchestra’s ann\n",
      "TOPIC:  sports\n",
      "twenty month ago eli manning giant won super bowl lucas oil field indianapolis home stadium all-pro \n",
      "year ago would hard imagine pittsburgh division series 2013 a 20 losing season row bad enough pirate\n",
      "arlington tex the first person david price looked pitching tampa bay ray playoff third baseman evan \n",
      "pittsburgh it natural cincinnati red first playoff game pnc park they opener 2001 decade risen falle\n",
      "durham n.c. jason kidd logged 50,111 minute court 19 season professional basketball player it impres\n",
      "cleveland in brief time land week tampa bay ray won three game three city another trip come they min\n",
      "TOPIC:  us_government\n",
      "washington president obama admonished house republican tuesday quit fighting three-year-old health c\n",
      "washington flurry last-minute move house senate white house late monday failed break bitter budget s\n",
      "washington they fleeting moment cable television their closed-door run-in speaker john a. boehner sp\n",
      "washington in first meeting since budget impasse shuttered many federal operation president obama to\n",
      "this spring missouri chamber commerce urged state legislature accept federal government’s plan expan\n",
      "alexandria va. with 170,000 federal employee virginia 30 percent economy northern virginia dependent\n",
      "TOPIC:  guns\n",
      "the .45-caliber pistol killed lucas heagren memorial day last year ohio home temporarily hidden couc\n",
      "clarksville ark the slim black 9-millimeter handgun school superintendent david hopkins selected tea\n",
      "last tuesday day aaron alexis killed 12 people washington navy yard rick warren wife kay gave length\n",
      "to editor “children gun the hidden toll” “bearing arms” series front page sept. 29 brought back pain\n",
      "washington president obama sunday eulogized 12 victim navy yard shooting lamented called “creeping r\n",
      "perhaps point gun enthusiast gun control advocate agree firearm kept hand criminal insane supplying \n",
      "TOPIC:  ny_news\n",
      "for commuter traveler new york city’s pennsylvania station disaster almost anyone pass tell the nati\n",
      "account guaranteed rate chicago residential mortgage company named olson minneapolis first agency re\n",
      "adap.tv san mateo calif. part aol network unit aol opened office tokyo don albert joined adswizz san\n",
      "account under armour baltimore selected droga5 new york part droga5 lead agency create campaign wome\n",
      "sponsorship spending cause marketing expected total 1.78 billion year according ieg chicago 4.8 perc\n",
      "two company mainstay legacy medium expanding presence online video producing original web series fol\n",
      "TOPIC:  elections\n",
      "in 2004 jimmy fallon leaving night six-year run creating sketch character sharing desk tina fey lorn\n",
      "washington it enough senator harry reid dismiss republican offer “vexatious” “kid’s stuff” “one cock\n",
      "arnold i. burn top justice department official president ronald reagan resigned protest others viewe\n",
      "alexandria va. with 170,000 federal employee virginia 30 percent economy northern virginia dependent\n",
      "united nation prime minister benjamin netanyahu israel sought shred credibility iran’s new president\n",
      "houston rick perry first governor try lure job state others done decade often discretion sometimes g\n",
      "TOPIC:  iran\n",
      "united nation prime minister benjamin netanyahu israel sought shred credibility iran’s new president\n",
      "washington neither president obama prime minister benjamin netanyahu israel mentioned hassan rouhani\n",
      "washington the international agreement destroy syria’s stockpile chemical weapon put diplomacy back \n",
      "during aggressive speech united nation tuesday prime minister benjamin netanyahu israel used sarcasm\n",
      "in softening western stance iran france’s foreign minister said monday iran could included certain c\n",
      "washington a obama administration embarks highly visible diplomatic overture iran white house offici\n",
      "TOPIC:  economy\n",
      "detroit sale new car truck cooled considerably september fewer selling day month generally weaker de\n",
      "global investor reacted calmly tuesday government shut washington wall street stock trading higher f\n",
      "the housing market one main driver economic recovery continues gain strength despite drag rising mor\n",
      "home price rising rapidly much talk entering another national bubble in fact according s. p./case-sh\n",
      "hong kong the asian development bank lowered growth forecast emerging nation region wednesday called\n",
      "washington company placed slightly order august long-lasting manufactured good stepping demand car t\n",
      "TOPIC:  labor\n",
      "minneapolis it past quitting time new textile factory reason work floor looked desolate under high c\n",
      "philadelphia lyn kirshenbaum understands president obama congressional republican keep exchanging ro\n",
      "five year ago start-up called liazon began offering business new way provide health insurance employ\n",
      "the time invited reader ask eilene zimmerman you’re bos blogger question job hunting ms. zimmerman w\n",
      "following president obama’s remark white house briefing room monday afternoon transcribed federal ne\n",
      "this interview robin d. richards chief careerarc group connects employer job seeker conducted conden\n",
      "TOPIC:  terrorism\n",
      "beirut lebanon an advance team organization charged destroying syria’s chemical weapon stockpile arr\n",
      "damascus syria after week threat negotiation syria’s chemical weapon stockpile advance team internat\n",
      "baghdad several explosion suicide bomber struck heart iraq’s northern kurdish region sunday setting \n",
      "united nation locked disagreement syrian government access united nation missed opportunity six mont\n",
      "united nation the five permanent member united nation security council agreed resolution require syr\n",
      "washington senior obama administration official said friday united state encouraged initial inventor\n"
     ]
    }
   ],
   "source": [
    "for topic in range(W.shape[1]):\n",
    "    #max_t = np.argmax(W[:,topic])\n",
    "    print \"TOPIC: \",custom_labels[topic]\n",
    "    #print features[max_t][0:150]\n",
    "    \n",
    "    for t in range(6):\n",
    "        n = int(-1-t)\n",
    "        max_2t = W[:,topic].argsort()[n]\n",
    "        print feat[max_2t][0:100]"
   ]
  },
  {
   "cell_type": "markdown",
   "metadata": {},
   "source": [
    "4 . How do the NYT sections compare to the topics from the unsupervised learning?  What are the differences?  And why do you think these exist?"
   ]
  },
  {
   "cell_type": "code",
   "execution_count": null,
   "metadata": {
    "collapsed": true
   },
   "outputs": [],
   "source": [
    "The grouping of NYtimes is based on sections."
   ]
  },
  {
   "cell_type": "markdown",
   "metadata": {},
   "source": [
    "Scikit-learn LDA\n",
    "------\n",
    "\n",
    "Use [Scikit-learn's LDA](http://scikit-learn.org/stable/modules/generated/sklearn.decomposition.LatentDirichletAllocation.html) to find topics. Experiment with the number of topics. How does these topics compare to the labeled data and NMF."
   ]
  },
  {
   "cell_type": "code",
   "execution_count": 101,
   "metadata": {
    "collapsed": false
   },
   "outputs": [],
   "source": [
    "lda = LatentDirichletAllocation(n_topics=10, random_state=1)\n",
    "W = lda.fit_transform(x_features)\n",
    "H = lda.components_\n",
    "\n"
   ]
  },
  {
   "cell_type": "code",
   "execution_count": 102,
   "metadata": {
    "collapsed": false
   },
   "outputs": [
    {
     "name": "stdout",
     "output_type": "stream",
     "text": [
      "Topic #0:\n",
      "party said mr rivera yankee political election year right government pettitte conservative leader like ms want vote merkel democrat way long member time candidate girardi left rodriguez coalition people parliament minister end won politics cruz jeter power social german europe germany country democratic campaign cano come dawn voter group center\n",
      "Topic #1:\n",
      "said city people year car church 000 plant building energy water area police land flight station state carbon official gas climate power resident mile sunday taylor train long sea hour iraq community pakistan killed home deep change place electric pope like coal local island large new fuel world neighborhood airport\n",
      "Topic #2:\n",
      "game season said team run yard league time play hit year win second sunday week inning player field point home touchdown start giant left quarterback injury 10 right playoff ball coach victory end smith red lead loss series fan won yankee final ryan ray wild career record scored seven going\n",
      "Topic #3:\n",
      "mr said united iran state official government president american nation security attack nuclear syria military rouhani weapon country group obama international force war year general iranian new israel week chemical al people leader foreign minister syrian program russia killed world member time netanyahu including meeting peace police council tuesday muslim\n",
      "Topic #4:\n",
      "mr said year people child school like work new art life ms time family woman gun university day world student museum old way death son say job american center public home city father young don book make mother told man men study wrote college town national state number interview community\n",
      "Topic #5:\n",
      "mr new music ms work like york song editor dance opera band sept 2013 performance ballet orchestra city year way festival piece time program world album night concert director make sound artist theater set company word org production stage met voice dancer event center street opening oct come singer love\n",
      "Topic #6:\n",
      "said year percent government mr state country market china company new million bank month court oil united rate economic economy case price european policy 000 billion chinese worker financial judge recent official cost day growth increase business according public people pay world analyst global chief week federal home union say\n",
      "Topic #7:\n",
      "said team year player game season cup new race like time day ve think going thing world sport club play league good played goal got coach make won long don lot event minute playing point way come know city second fan want guy tour match old san championship really week\n",
      "Topic #8:\n",
      "republican mr health government law house said care state federal president obama shutdown congress washington senate new insurance american democrat senator people plan year act limit time vote budget debt say white political affordable right employee party court spending exchange representative leader week administration tax make work clinton conservative program\n",
      "Topic #9:\n",
      "said new company mr year like executive million time series network business site web group television week nbc video online brand agency say viewer york medium 000 people cbs chief service make night president news fox sale episode internet 10 campaign bad abc office deal advertising customer best 30 consumer\n"
     ]
    }
   ],
   "source": [
    "print_top_words(lda,vector_features, 50)"
   ]
  },
  {
   "cell_type": "code",
   "execution_count": 104,
   "metadata": {
    "collapsed": true
   },
   "outputs": [],
   "source": [
    "custom_labels_lda = ['international','policy','sports','middle_east','daily_life','AE','economy','sports','US_Politics','AE']\n"
   ]
  },
  {
   "cell_type": "code",
   "execution_count": 105,
   "metadata": {
    "collapsed": false
   },
   "outputs": [
    {
     "name": "stdout",
     "output_type": "stream",
     "text": [
      "TOPIC:  international\n",
      "rome for outside italy assumed era silvio berlusconi latest crisis ordered five party’s minister coa\n",
      "london prime minister david cameron delivered blistering attack labour party leader ed miliband left\n",
      "brian cashman spoke 50 minute 31 second annual end-of-season news conference tuesday unusually long \n",
      "london when chancellor angela merkel won stunning third term germany’s election week emerged fray pi\n",
      "london jobless briton could forced community work keep unemployment payment britain’s top economics \n",
      "berlin chancellor angela merkel took step monday form new government day scored stunning personal tr\n",
      "TOPIC:  policy\n",
      "baghdad several explosion suicide bomber struck heart iraq’s northern kurdish region sunday setting \n",
      "when bmw i3 finally roll year europe next year north america undoubtedly turn head also different de\n",
      "san francisco the biggest problem solar panel wind turbine produce energy time so solution battery a\n",
      "historical moment life ocean hand fishery committee european parliament wrangle proposed legislation\n",
      "washington the obama administration’s potentially pathbreaking proposal carbon emission limit new po\n",
      "baghdad several explosion suicide bomber struck heart iraq’s northern kurdish region sunday setting \n",
      "TOPIC:  sports\n",
      "twenty month ago eli manning giant won super bowl lucas oil field indianapolis home stadium all-pro \n",
      "year ago would hard imagine pittsburgh division series 2013 a 20 losing season row bad enough pirate\n",
      "arlington tex the first person david price looked pitching tampa bay ray playoff third baseman evan \n",
      "cleveland in brief time land week tampa bay ray won three game three city another trip come they min\n",
      "welcome fantasy football quarter turn philip river top five fantasy quarterback joique bell almost t\n",
      "cornerback terence newman returned fumble 58 yard touchdown minute 47 second left cincinnati rallied\n",
      "TOPIC:  middle_east\n",
      "united nation prime minister benjamin netanyahu israel sought shred credibility iran’s new president\n",
      "washington neither president obama prime minister benjamin netanyahu israel mentioned hassan rouhani\n",
      "washington the international agreement destroy syria’s stockpile chemical weapon put diplomacy back \n",
      "beirut lebanon an advance team organization charged destroying syria’s chemical weapon stockpile arr\n",
      "in softening western stance iran france’s foreign minister said monday iran could included certain c\n",
      "washington two senior marine corp general ordered take early retirement found responsible error judg\n",
      "TOPIC:  daily_life\n",
      "the .45-caliber pistol killed lucas heagren memorial day last year ohio home temporarily hidden couc\n",
      "minneapolis it past quitting time new textile factory reason work floor looked desolate under high c\n",
      "onibury england near england’s border wale school onibury four classroom six teacher 58 pupil on tue\n",
      "leonard j. kerpelman baltimore lawyer gadfly successfully argued landmark supreme court case 1963 le\n",
      "albert d. wheelon physicist whose early work satellite c.i.a 1960s helped lay groundwork vast americ\n",
      "ruth patrick pioneer studying health freshwater stream river laid scientific groundwork modern pollu\n",
      "TOPIC:  AE\n",
      "seattle the happily galvanized look pacific northwest ballet’s artist “air twyla triple bill piece t\n",
      "amid fall dance season richly packed significant event across new york dance map single program new \n",
      "when james levine conducted orchestra metropolitan opera triumphant concert carnegie hall may wrote \n",
      "an old-fashioned excellent line thought proposes dance singularly naturally equipped express joy let\n",
      "on wednesday night alan gilbert conducted fifth opening gala concert music director new york philhar\n",
      "richmond va. in music business still talk “lars curse.” it 13 year since metallica’s drummer lars ul\n",
      "TOPIC:  economy\n",
      "global investor reacted calmly tuesday government shut washington wall street stock trading higher f\n",
      "detroit sale new car truck cooled considerably september fewer selling day month generally weaker de\n",
      "the housing market one main driver economic recovery continues gain strength despite drag rising mor\n",
      "the federal reserve confounded bond market last month clinging easy-money policy the federal governm\n",
      "paris the chief executive air france-klm largest foreign shareholder alitalia said wednesday ruled p\n",
      "minneapolis it past quitting time new textile factory reason work floor looked desolate under high c\n",
      "TOPIC:  sports\n",
      "durham n.c. jason kidd logged 50,111 minute court 19 season professional basketball player it impres\n",
      "greenburgh n.y. when beno udrih made n.b.a debut san antonio spur 2004 quickly became apparent teamm\n",
      "greenburgh n.y. it didn’t take long steve mill address primary mission assuming knicks’ top executiv\n",
      "london he tall mean provocative big-game winner and diego da silva costa waiting call could make wor\n",
      "dublin ohio jordan spieth’s mother finished telling reporter son’s unease center attention week’s pr\n",
      "san francisco the loud groan emanate high-tech america’s cup catamaran sail san francisco bay heavy \n",
      "TOPIC:  US_Politics\n",
      "washington flurry last-minute move house senate white house late monday failed break bitter budget s\n",
      "washington president obama admonished house republican tuesday quit fighting three-year-old health c\n",
      "following president obama’s remark white house briefing room monday afternoon transcribed federal ne\n",
      "washington they fleeting moment cable television their closed-door run-in speaker john a. boehner sp\n",
      "this spring missouri chamber commerce urged state legislature accept federal government’s plan expan\n",
      "washington in first meeting since budget impasse shuttered many federal operation president obama to\n",
      "TOPIC:  AE\n",
      "two company mainstay legacy medium expanding presence online video producing original web series fol\n",
      "list winner nominee 2013 primetime emmy award winner denoted bold comedy series “the big bang theory\n",
      "television service delivered via internet company like intel sony could someday transform american w\n",
      "coffee brand coming back consumer humorous campaign suggests second way use creamer the brand maxwel\n",
      "a 10th annual advertising week new york began monday speaker panelist paying good deal attention app\n",
      "in 2004 jimmy fallon leaving night six-year run creating sketch character sharing desk tina fey lorn\n"
     ]
    }
   ],
   "source": [
    "for topic in range(W.shape[1]):\n",
    "    #max_t = np.argmax(W[:,topic])\n",
    "    print \"TOPIC: \",custom_labels_lda[topic]\n",
    "    #print features[max_t][0:150]\n",
    "    \n",
    "    for t in range(6):\n",
    "        n = int(-1-t)\n",
    "        max_2t = W[:,topic].argsort()[n]\n",
    "        print feat[max_2t][0:100]"
   ]
  },
  {
   "cell_type": "code",
   "execution_count": null,
   "metadata": {
    "collapsed": true
   },
   "outputs": [],
   "source": [
    "!pip install -i http://pypi.pediapress.com/simple/ mwlib"
   ]
  },
  {
   "cell_type": "code",
   "execution_count": null,
   "metadata": {
    "collapsed": true
   },
   "outputs": [],
   "source": []
  }
 ],
 "metadata": {
  "kernelspec": {
   "display_name": "Python 2",
   "language": "python",
   "name": "python2"
  },
  "language_info": {
   "codemirror_mode": {
    "name": "ipython",
    "version": 2
   },
   "file_extension": ".py",
   "mimetype": "text/x-python",
   "name": "python",
   "nbconvert_exporter": "python",
   "pygments_lexer": "ipython2",
   "version": "2.7.10"
  }
 },
 "nbformat": 4,
 "nbformat_minor": 0
}
